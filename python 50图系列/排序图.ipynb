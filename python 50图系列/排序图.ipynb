{
 "cells": [
  {
   "cell_type": "code",
   "execution_count": null,
   "metadata": {},
   "outputs": [],
   "source": [
    "plt.rcParams['font.sans-serif'] = ['Simhei']\n",
    "plt.rcParams['axes.unicode_minus'] = False\n"
   ]
  },
  {
   "cell_type": "code",
   "execution_count": null,
   "metadata": {},
   "outputs": [],
   "source": [
    "排序图：对比大小"
   ]
  },
  {
   "cell_type": "code",
   "execution_count": 1,
   "metadata": {},
   "outputs": [],
   "source": [
    "import numpy as np\n",
    "import pandas as pd \n",
    "import matplotlib.pyplot as plt\n",
    "%matplotlib inline"
   ]
  },
  {
   "cell_type": "code",
   "execution_count": null,
   "metadata": {},
   "outputs": [],
   "source": [
    "plt.vlines() #绘制竖线的函数"
   ]
  },
  {
   "cell_type": "code",
   "execution_count": 2,
   "metadata": {},
   "outputs": [],
   "source": [
    "import matplotlib.patches as patches"
   ]
  },
  {
   "cell_type": "code",
   "execution_count": 3,
   "metadata": {},
   "outputs": [],
   "source": [
    "X=[1,2,3,4,5,6]\n",
    "y=[22,31,24,51,19,25]"
   ]
  },
  {
   "cell_type": "code",
   "execution_count": 5,
   "metadata": {},
   "outputs": [
    {
     "data": {
      "text/plain": [
       "([<matplotlib.axis.XTick at 0x1d7fbfcb190>,\n",
       "  <matplotlib.axis.XTick at 0x1d7fbfcb400>,\n",
       "  <matplotlib.axis.XTick at 0x1d7fc2b6250>,\n",
       "  <matplotlib.axis.XTick at 0x1d7fc2dc9d0>,\n",
       "  <matplotlib.axis.XTick at 0x1d7fc2dcee0>,\n",
       "  <matplotlib.axis.XTick at 0x1d7fc2e9430>],\n",
       " [Text(1, 0, '22'),\n",
       "  Text(2, 0, '31'),\n",
       "  Text(3, 0, '24'),\n",
       "  Text(4, 0, '51'),\n",
       "  Text(5, 0, '19'),\n",
       "  Text(6, 0, '25')])"
      ]
     },
     "execution_count": 5,
     "metadata": {},
     "output_type": "execute_result"
    },
    {
     "data": {
      "image/png": "[encoded data removed]",
      "text/plain": [
       "<Figure size 432x288 with 1 Axes>"
      ]
     },
     "metadata": {
      "needs_background": "light"
     },
     "output_type": "display_data"
    }
   ],
   "source": [
    "plt.vlines(x=X,ymin=0,ymax=y,linewidth = 10,colors='g',linestyles = 'solid')\n",
    "plt.xticks(X,y,\n",
    "    rotation=30,\n",
    "    horizontalalignment='right',\n",
    "    fontsize=12)"
   ]
  },
  {
   "cell_type": "code",
   "execution_count": 4,
   "metadata": {},
   "outputs": [
    {
     "data": {
      "image/png": "[encoded data removed]",
      "text/plain": [
       "<Figure size 1280x800 with 1 Axes>"
      ]
     },
     "metadata": {},
     "output_type": "display_data"
    }
   ],
   "source": [
    "\"\"\"plt.vlines(x=X,ymin=0,ymax=y,linewidth = 10,colors='g',linestyles = 'solid')\n",
    "plt.xticks(X,y,\n",
    "    rotation=30,\n",
    "    horizontalalignment='right',\n",
    "    fontsize=12)\"\"\"\n",
    "fig,ax = plt.subplots(figsize=(16,10),facecolor ='white',dpi=80)\n",
    "ax.vlines(x= X,ymin=0,ymax=y,color='firebrick',alpha=0.7,linewidth=20)\n",
    "p1 = patches.Rectangle((0.57,0.03),#长方形所在的左下角坐标\n",
    "                       width=0.33, #长方形的宽\n",
    "                       height=0.07,#长方形的高\n",
    "                       alpha =0.1, #透明度\n",
    "                       facecolor ='green',#矩阵颜色\n",
    "                      transform = fig.transFigure\n",
    "                      )#确保矩形显示在图像最上方\n",
    "p2 = patches.Rectangle((0.124,0.03),\n",
    "                       width = 0.446,height = 0.07,\n",
    "                       alpha =0.1,facecolor='red',\n",
    "                      transform = fig.transFigure\n",
    "                      )\n",
    "fig.add_artist(p1) \n",
    "fig.add_artist(p2)\n",
    "plt.show()"
   ]
  },
  {
   "cell_type": "code",
   "execution_count": null,
   "metadata": {},
   "outputs": [],
   "source": [
    "df_raw = pd.read_csv(\"https://github.com/selva86/datasets/raw/master/mpg_ggplot2.csv\")"
   ]
  },
  {
   "cell_type": "code",
   "execution_count": null,
   "metadata": {},
   "outputs": [],
   "source": [
    "df_raw.head()"
   ]
  },
  {
   "cell_type": "code",
   "execution_count": null,
   "metadata": {},
   "outputs": [],
   "source": [
    "name = [\"汽车制造商\",\"型号名称\",\"发动机排量(L)\",\"制造年份\",\"气缸数量\",\"手动/自动\"\n",
    "              ,\"驱动类型\",\"城市里程/加仑\",\"公路里程/加仑\",\"汽油种类\",\"车辆种类\"]"
   ]
  },
  {
   "cell_type": "code",
   "execution_count": null,
   "metadata": {},
   "outputs": [],
   "source": [
    "#聚合每个品牌的车辆，并求其均值\n",
    "df = df_raw[['cty','manufacturer']].groupby('manufacturer').mean()"
   ]
  },
  {
   "cell_type": "code",
   "execution_count": null,
   "metadata": {},
   "outputs": [],
   "source": [
    "df.sort_values('cty',inplace = True)"
   ]
  },
  {
   "cell_type": "code",
   "execution_count": null,
   "metadata": {},
   "outputs": [],
   "source": [
    "df.head()"
   ]
  },
  {
   "cell_type": "code",
   "execution_count": null,
   "metadata": {},
   "outputs": [],
   "source": [
    "df.reset_index(inplace = True)"
   ]
  },
  {
   "cell_type": "code",
   "execution_count": null,
   "metadata": {},
   "outputs": [],
   "source": [
    "plt.figure(figsize=(16,10))\n",
    "plt.vlines(x=df.index,ymin=0,ymax=df.cty,\n",
    "          color = 'r',alpha=0.5,linewidth=5)"
   ]
  },
  {
   "cell_type": "code",
   "execution_count": null,
   "metadata": {},
   "outputs": [],
   "source": [
    "import matplotlib.patches as patches"
   ]
  },
  {
   "cell_type": "markdown",
   "metadata": {},
   "source": [
    "#### plt.subplots生成两个对象：fig（画布，包括多个子图）  ax（子图对象，呈现在fig上的）"
   ]
  },
  {
   "cell_type": "code",
   "execution_count": null,
   "metadata": {},
   "outputs": [],
   "source": [
    "#facecolor 画布的填充色\n",
    "fig,ax = plt.subplots(figsize=(16,10),facecolor ='white',dpi=80)\n",
    "ax.vlines(x= df.index,ymin=0,ymax=df.cty,color='firebrick',alpha=0.7,linewidth=20)\n"
   ]
  },
  {
   "cell_type": "markdown",
   "metadata": {},
   "source": [
    "#### 为柱状图添加注解 text函数:一次只能添加一个，所以用循环"
   ]
  },
  {
   "cell_type": "code",
   "execution_count": null,
   "metadata": {},
   "outputs": [],
   "source": [
    "fig,ax = plt.subplots(figsize=(16,10),facecolor ='white',dpi=80)\n",
    "ax.vlines(x= df.index,ymin=0,ymax=df.cty,color='firebrick',alpha=0.7,linewidth=20)\n",
    "\n",
    "for i, cty in enumerate(df.cty):\n",
    "    ax.text(i,cty+0.5,round(cty,1),horizontalalignment='center')\n",
    "    # round函数对浮点函数近似取值，保留几位小数\n",
    "    # horizontalalignment 对于规定的坐标轴，文字显示的地方"
   ]
  },
  {
   "cell_type": "markdown",
   "metadata": {},
   "source": [
    "#### 装饰图像"
   ]
  },
  {
   "cell_type": "code",
   "execution_count": null,
   "metadata": {
    "scrolled": true
   },
   "outputs": [],
   "source": [
    "fig,ax = plt.subplots(figsize=(16,10),facecolor ='white',dpi=80)\n",
    "ax.vlines(x= df.index,ymin=0,ymax=df.cty,color='firebrick',alpha=0.7,linewidth=20)\n",
    "\n",
    "for i, cty in enumerate(df.cty):\n",
    "    ax.text(i,cty+0.5,round(cty,1),horizontalalignment='center')\n",
    "    # round函数对浮点函数近似取值，保留几位小数\n",
    "    # horizontalalignment 对于规定的坐标轴，文字显示的地方\n",
    "ax.set_title('城市里程柱状图',fontdict={'size':22})\n",
    "ax.set(ylabel='城市公里/加仑',ylim=(0,30))\n",
    "\n",
    "plt.xticks(df.index,df.manufacturer.str.upper(),\n",
    "           rotation=60,horizontalalignment='right',fontsize=12)"
   ]
  },
  {
   "cell_type": "markdown",
   "metadata": {},
   "source": [
    "### patches"
   ]
  },
  {
   "cell_type": "code",
   "execution_count": null,
   "metadata": {},
   "outputs": [],
   "source": [
    "patches.rectangle 绘制长方形"
   ]
  },
  {
   "cell_type": "code",
   "execution_count": null,
   "metadata": {},
   "outputs": [],
   "source": [
    "import matplotlib.patches as patches"
   ]
  },
  {
   "cell_type": "code",
   "execution_count": null,
   "metadata": {},
   "outputs": [],
   "source": [
    "fig,ax = plt.subplots(figsize=(16,10),facecolor ='white',dpi=80)\n",
    "ax.vlines(x= df.index,ymin=0,ymax=df.cty,color='firebrick',alpha=0.7,linewidth=20)\n",
    "\n",
    "for i, cty in enumerate(df.cty):\n",
    "    ax.text(i,cty+0.5,round(cty,1),horizontalalignment='center')\n",
    "    # round函数对浮点函数近似取值，保留几位小数\n",
    "    # horizontalalignment 对于规定的坐标轴，文字显示的地方\n",
    "ax.set_title('城市里程柱状图',fontdict={'size':22})\n",
    "ax.set(ylabel='城市公里/加仑',ylim=(0,30))\n",
    "\n",
    "plt.xticks(df.index,df.manufacturer.str.upper(),\n",
    "           rotation=60,horizontalalignment='right',fontsize=12)\n",
    "p1 = patches.Rectangle((0.57,-0.005),#长方形所在的左下角坐标\n",
    "                       width=0.33, #长方形的宽\n",
    "                       height=0.13,#长方形的高\n",
    "                       alpha =0.1, #透明度\n",
    "                       facecolor ='green',#矩阵颜色\n",
    "                       transform = fig.transFigure)#确保矩形显示在图像最上方\n",
    "p2 = patches.Rectangle((0.124,-0.005),\n",
    "                       width = 0.446,height = 0.13,\n",
    "                       alpha =0.1,facecolor='red',\n",
    "                      transform = fig.transFigure)#进行对象的转换，fig.transFigure表示\n",
    "                                                #根据矩形所在的位置进行对象转换，以确保举行显示在最上方\n",
    "\"\"\"p3=patches.Rectangle((0.67,0.12),width=0.04,height=0.47,\n",
    "                     alpha=0.1,facecolor='red',\n",
    "                   transform = fig.transFigure)\n",
    "fig.add_artist(p3)\"\"\"\n",
    "#对画布添加对象\n",
    "fig.add_artist(p1) \n",
    "fig.add_artist(p2)\n",
    "plt.show()"
   ]
  },
  {
   "cell_type": "code",
   "execution_count": null,
   "metadata": {},
   "outputs": [],
   "source": [
    "ax.add_patch作用的对象是ax,也就是坐标轴内的范围和标题/坐标轴的名称，但不包含这些背后的画布\n",
    "ax.add_artist 功能同上\n",
    "fig没有add_patch功能\n",
    "fig.add_artist"
   ]
  },
  {
   "cell_type": "code",
   "execution_count": null,
   "metadata": {},
   "outputs": [],
   "source": []
  },
  {
   "cell_type": "code",
   "execution_count": null,
   "metadata": {},
   "outputs": [],
   "source": []
  },
  {
   "cell_type": "code",
   "execution_count": null,
   "metadata": {},
   "outputs": [],
   "source": []
  },
  {
   "cell_type": "code",
   "execution_count": null,
   "metadata": {},
   "outputs": [],
   "source": []
  },
  {
   "cell_type": "code",
   "execution_count": null,
   "metadata": {},
   "outputs": [],
   "source": []
  },
  {
   "cell_type": "code",
   "execution_count": null,
   "metadata": {},
   "outputs": [],
   "source": []
  },
  {
   "cell_type": "code",
   "execution_count": null,
   "metadata": {},
   "outputs": [],
   "source": []
  },
  {
   "cell_type": "code",
   "execution_count": null,
   "metadata": {},
   "outputs": [],
   "source": []
  },
  {
   "cell_type": "code",
   "execution_count": null,
   "metadata": {},
   "outputs": [],
   "source": []
  },
  {
   "cell_type": "code",
   "execution_count": null,
   "metadata": {},
   "outputs": [],
   "source": []
  },
  {
   "cell_type": "code",
   "execution_count": null,
   "metadata": {},
   "outputs": [],
   "source": []
  },
  {
   "cell_type": "code",
   "execution_count": null,
   "metadata": {},
   "outputs": [],
   "source": []
  },
  {
   "cell_type": "code",
   "execution_count": null,
   "metadata": {},
   "outputs": [],
   "source": []
  },
  {
   "cell_type": "code",
   "execution_count": null,
   "metadata": {},
   "outputs": [],
   "source": []
  },
  {
   "cell_type": "code",
   "execution_count": null,
   "metadata": {},
   "outputs": [],
   "source": []
  }
 ],
 "metadata": {
  "kernelspec": {
   "display_name": "Python 3",
   "language": "python",
   "name": "python3"
  },
  "language_info": {
   "codemirror_mode": {
    "name": "ipython",
    "version": 3
   },
   "file_extension": ".py",
   "mimetype": "text/x-python",
   "name": "python",
   "nbconvert_exporter": "python",
   "pygments_lexer": "ipython3",
   "version": "3.8.5"
  }
 },
 "nbformat": 4,
 "nbformat_minor": 4
}
