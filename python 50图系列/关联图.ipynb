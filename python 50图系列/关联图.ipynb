{
 "cells": [
  {
   "cell_type": "code",
   "execution_count": 1,
   "metadata": {},
   "outputs": [],
   "source": [
    "import numpy as np\n",
    "import pandas as pd\n",
    "import matplotlib as mpl\n",
    "import matplotlib.pyplot as plt\n",
    "import seaborn as sns\n",
    "%matplotlib inline"
   ]
  },
  {
   "cell_type": "code",
   "execution_count": 2,
   "metadata": {},
   "outputs": [
    {
     "name": "stderr",
     "output_type": "stream",
     "text": [
      "No handles with labels found to put in legend.\n"
     ]
    },
    {
     "data": {
      "image/png": "[encoded data removed]",
      "text/plain": [
       "<Figure size 800x480 with 1 Axes>"
      ]
     },
     "metadata": {},
     "output_type": "display_data"
    }
   ],
   "source": [
    "X = np.random.randn(10,2)\n",
    "\n",
    "y = np.array([0,1,0,1,1,1,0,1,0,1])\n",
    "\n",
    "plt.figure(figsize=(10,6),dpi = 80,       #图像分辨率\n",
    "             facecolor = 'w',#图像背景颜色\n",
    "             edgecolor = 'k')\n",
    "\n",
    "plt.scatter(X[:,0],X[:,1]\n",
    "            ,s=50\n",
    "            ,c=y #让分类被可视化\n",
    "           )\n",
    "#plt.gca().set(xlim=(),ylim=())#控制横纵坐标范围\n",
    "plt.xticks(fontsize=12)#坐标轴上的标尺的字的大小\n",
    "plt.yticks(fontsize=12)\n",
    "plt.xlabel('data',fontsize=12)#坐标轴的标题和字体大小\n",
    "plt.ylabel('range',fontsize=12)\n",
    "#装饰图形（显示图例）\n",
    "plt.legend()\n",
    "#图形显示\n",
    "plt.show()"
   ]
  },
  {
   "cell_type": "code",
   "execution_count": 3,
   "metadata": {},
   "outputs": [
    {
     "data": {
      "text/plain": [
       "array([[ 1.16715757, -0.88473037],\n",
       "       [-0.77467441,  1.72711224],\n",
       "       [ 2.22625624, -0.90823706],\n",
       "       [ 0.85234193,  1.03200617],\n",
       "       [-0.4648717 ,  0.99345775],\n",
       "       [ 1.02690523, -0.50912856],\n",
       "       [-0.96301665, -0.38778459],\n",
       "       [-0.25235213, -0.6615495 ],\n",
       "       [ 0.01139045,  0.09493298],\n",
       "       [-0.96585224,  1.59069061]])"
      ]
     },
     "execution_count": 3,
     "metadata": {},
     "output_type": "execute_result"
    }
   ],
   "source": [
    "X = np.random.randn(10,2)\n",
    "X"
   ]
  },
  {
   "cell_type": "code",
   "execution_count": null,
   "metadata": {},
   "outputs": [],
   "source": []
  },
  {
   "cell_type": "code",
   "execution_count": null,
   "metadata": {},
   "outputs": [],
   "source": []
  },
  {
   "cell_type": "code",
   "execution_count": null,
   "metadata": {},
   "outputs": [],
   "source": []
  },
  {
   "cell_type": "code",
   "execution_count": null,
   "metadata": {},
   "outputs": [],
   "source": []
  },
  {
   "cell_type": "code",
   "execution_count": null,
   "metadata": {},
   "outputs": [],
   "source": []
  },
  {
   "cell_type": "code",
   "execution_count": null,
   "metadata": {},
   "outputs": [],
   "source": []
  },
  {
   "cell_type": "code",
   "execution_count": null,
   "metadata": {},
   "outputs": [],
   "source": []
  }
 ],
 "metadata": {
  "kernelspec": {
   "display_name": "Python 3",
   "language": "python",
   "name": "python3"
  },
  "language_info": {
   "codemirror_mode": {
    "name": "ipython",
    "version": 3
   },
   "file_extension": ".py",
   "mimetype": "text/x-python",
   "name": "python",
   "nbconvert_exporter": "python",
   "pygments_lexer": "ipython3",
   "version": "3.8.5"
  }
 },
 "nbformat": 4,
 "nbformat_minor": 4
}
