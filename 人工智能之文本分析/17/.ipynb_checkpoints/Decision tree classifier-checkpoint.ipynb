{
 "cells": [
  {
   "cell_type": "code",
   "execution_count": 33,
   "metadata": {},
   "outputs": [],
   "source": [
    "import codecs\n",
    "import re\n",
    "import numpy as np\n",
    "import os\n",
    "from sklearn import tree\n",
    "from sklearn.feature_extraction.text import CountVectorizer\n",
    "from sklearn.feature_extraction.text import TfidfVectorizer\n",
    "from sklearn.metrics import classification_report\n",
    "from sklearn.cross_validation import train_test_split"
   ]
  },
  {
   "cell_type": "code",
   "execution_count": 19,
   "metadata": {},
   "outputs": [
    {
     "name": "stdout",
     "output_type": "stream",
     "text": [
      "﻿刘烨 获 聘 希望 家 爱心 大使 小朋友 开心 互动 新浪 娱乐 讯 中华 希望 树 儿童 救助 基金 组织 成立 旨在 帮助 周边 地区 贫困 家庭 学 儿童 农民工 子女 希望 家 正式 京 落户 举行 希望 家 成立 挂牌 仪式 忙于 宣传 新 电影 让 孤单 著名 演员 刘烨 积极 加入 到 希望 家 活动 中华 希望 树 儿童 救助 基金 爱心 大使 出席 活动 参与 挂牌 仪式 讲述 寓言 故事 送 上 图书 文具 方式 小朋友 进行 爱心 互动 仪式 作为 爱心 大使 刘烨 呼吁 关注 周边 地区 贫困 家庭 学 儿童 农民工 子女 使 贫困 儿童 获得 学前教育 机会 学习 多 知识 活动 刘烨 小朋友 分发 学习 用品 食品 小朋友 讲述 专心致志 寓言 故事 呼吁 多 人 能 参与 到 关 护 贫困 家庭 儿童 行列 来 刘烨 表示 人 父 孩子 互动 感觉 亲切 觉得 儿童 公益 活动 意义 会 不遗余力 支持 恰逢 刘烨 媒体 送 上 祝福 祝 天下 妈妈 节日 快乐 希望 家 活动 结束 刘烨 继续 投入 到 舒淇 主演 新片 让 孤单 宣传 刘烨 舒淇 出演 经历 磨难 收获 幸福 欢喜 冤家 让 孤单 登陆 全国 院线\n",
      "娛樂\n"
     ]
    }
   ],
   "source": [
    "## 讀WordProcss.py斷完的結果 ##\n",
    "cwd = os.getcwd()\n",
    "\n",
    "seg_news = list()\n",
    "category = list()\n",
    "\n",
    "with codecs.open(cwd+'/data/seg.csv','r',encoding='utf-8') as seg_file:\n",
    "    for seg in seg_file.readlines():\n",
    "        line = seg.split(',')\n",
    "        seg_news.append(line[0].strip())\n",
    "        category.append(line[1].strip())\n",
    "\n",
    "print(seg_news[0])\n",
    "print(category[0])"
   ]
  },
  {
   "cell_type": "code",
   "execution_count": 20,
   "metadata": {},
   "outputs": [
    {
     "name": "stdout",
     "output_type": "stream",
     "text": [
      "(500, 5000)\n",
      "----Document 500----\r"
     ]
    }
   ],
   "source": [
    "## 找關鍵字 ##\n",
    "vectorizer = TfidfVectorizer(max_features=5000) #max_features留下的最大特徵數\n",
    "tfidf = vectorizer.fit_transform(seg_news)\n",
    "print(tfidf.shape)\n",
    "\n",
    "words = vectorizer.get_feature_names()\n",
    "\n",
    "data = list() #留下的詞\n",
    "labels = list() #類別\n",
    "\n",
    "## write keyword file ##\n",
    "with codecs.open(cwd+'/data/keyword.csv','w',encoding='utf-8') as kwd:\n",
    "    kwd.write('\\ufeff')\n",
    "    \n",
    "    for i in range(len(seg_news)):\n",
    "        print('----Document %d----' % (i+1),end='\\r')\n",
    "        \n",
    "        keywords = list()\n",
    "        \n",
    "        for j in range(len(words)):\n",
    "            if tfidf[i,j] > 1e-5: \n",
    "                kwd.write(words[j]+' ')\n",
    "                keywords.append(words[j])\n",
    "        kwd.write(','+str(category[i])+'\\r')\n",
    "        data.append(' '.join(keywords))\n",
    "        labels.append(category[i])"
   ]
  },
  {
   "cell_type": "code",
   "execution_count": 62,
   "metadata": {},
   "outputs": [
    {
     "name": "stdout",
     "output_type": "stream",
     "text": [
      "  (0, 4833)\t1\n",
      "  (0, 4527)\t1\n",
      "  (0, 4487)\t1\n",
      "  (0, 4123)\t1\n",
      "  (0, 4104)\t1\n",
      "  (0, 3959)\t1\n",
      "  (0, 3854)\t1\n",
      "  (0, 3462)\t1\n",
      "  (0, 3366)\t1\n",
      "  (0, 3050)\t1\n",
      "  (0, 3043)\t1\n",
      "  (0, 2895)\t1\n",
      "  (0, 2840)\t1\n",
      "  (0, 2747)\t1\n",
      "  (0, 2732)\t1\n",
      "  (0, 2428)\t1\n",
      "  (0, 2289)\t1\n",
      "  (0, 2262)\t1\n",
      "  (0, 2218)\t1\n",
      "  (0, 1691)\t1\n",
      "  (0, 1639)\t1\n",
      "  (0, 1471)\t1\n",
      "  (0, 1419)\t1\n",
      "  (0, 1345)\t1\n",
      "  (0, 1005)\t1\n",
      "  (0, 874)\t1\n",
      "  (0, 791)\t1\n",
      "  (0, 685)\t1\n",
      "  (0, 633)\t1\n",
      "  (0, 585)\t1\n",
      "  (0, 517)\t1\n",
      "  (0, 414)\t1\n",
      "  (0, 298)\t1\n",
      "  (0, 156)\t1\n"
     ]
    }
   ],
   "source": [
    "## 將資料分為訓練與測試 ##\n",
    "data = np.array(data)\n",
    "labels = np.array(labels)\n",
    "\n",
    "x_train, x_test, y_train, y_test = train_test_split(data, labels, test_size=0.1) #test_size測試集比例\n",
    "\n",
    "## 將文本轉為0/1矩陣, 詞出現為1 ##\n",
    "count_vec = CountVectorizer(binary = True)\n",
    "x_train = count_vec.fit_transform(x_train)  \n",
    "x_test  = count_vec.transform(x_test)\n",
    "\n",
    "print(x_train[0])"
   ]
  },
  {
   "cell_type": "code",
   "execution_count": 63,
   "metadata": {},
   "outputs": [
    {
     "data": {
      "text/plain": [
       "DecisionTreeClassifier(class_weight=None, criterion='gini', max_depth=10,\n",
       "            max_features=None, max_leaf_nodes=None,\n",
       "            min_impurity_decrease=0.0, min_impurity_split=None,\n",
       "            min_samples_leaf=1, min_samples_split=2,\n",
       "            min_weight_fraction_leaf=0.0, presort=False, random_state=None,\n",
       "            splitter='best')"
      ]
     },
     "execution_count": 63,
     "metadata": {},
     "output_type": "execute_result"
    }
   ],
   "source": [
    "## start training and precision ##\n",
    "clf=tree.DecisionTreeClassifier(max_depth=10)\n",
    "clf.fit(x_train, y_train)"
   ]
  },
  {
   "cell_type": "code",
   "execution_count": 64,
   "metadata": {},
   "outputs": [
    {
     "data": {
      "text/plain": [
       "'C:\\\\Users\\\\leeys\\\\Desktop\\\\workspace\\\\文本分析/data/tree.svg'"
      ]
     },
     "execution_count": 64,
     "metadata": {},
     "output_type": "execute_result"
    }
   ],
   "source": [
    "# draw tree  ##\n",
    "import graphviz \n",
    "dot_data = tree.export_graphviz(clf, out_file=None,\n",
    "                                feature_names=count_vec.get_feature_names(),)\n",
    "graph = graphviz.Source(dot_data) \n",
    "\n",
    "graph.format = 'svg'\n",
    "graph.render(cwd+\"/data/tree\" ,view=True)"
   ]
  },
  {
   "cell_type": "code",
   "execution_count": 65,
   "metadata": {},
   "outputs": [
    {
     "name": "stdout",
     "output_type": "stream",
     "text": [
      "[[ 7  1  0  1  0]\n",
      " [ 0  7  0  0  0]\n",
      " [ 0  0 11  0  0]\n",
      " [ 0  0  0 12  0]\n",
      " [ 0  0  0  0 11]]\n"
     ]
    }
   ],
   "source": [
    "y_true = y_test\n",
    "y_pred = clf.predict(x_test)\n",
    "\n",
    "from sklearn.metrics import confusion_matrix\n",
    "print(confusion_matrix(y_true, y_pred, labels = ['娛樂','社會','財金','遊戲','體育']))"
   ]
  },
  {
   "cell_type": "code",
   "execution_count": 66,
   "metadata": {},
   "outputs": [
    {
     "name": "stdout",
     "output_type": "stream",
     "text": [
      "             precision    recall  f1-score   support\n",
      "\n",
      "         娛樂       1.00      0.78      0.88         9\n",
      "         社會       0.88      1.00      0.93         7\n",
      "         財金       1.00      1.00      1.00        11\n",
      "         遊戲       0.92      1.00      0.96        12\n",
      "         體育       1.00      1.00      1.00        11\n",
      "\n",
      "avg / total       0.96      0.96      0.96        50\n",
      "\n",
      "--------------------\n",
      "準確率: 0.96\n",
      "準確率: 0.96\n"
     ]
    }
   ],
   "source": [
    "y_pred = clf.predict(x_test) \n",
    "\n",
    "#precision and recall  \n",
    "#precision, recall, thresholds = precision_recall_curve(y_test, clf.predict(x_test))  \n",
    "    \n",
    "print(classification_report(y_test, y_pred , target_names = ['娛樂','社會','財金','遊戲','體育']))\n",
    "print(\"--------------------\")\n",
    "from sklearn.metrics import accuracy_score\n",
    "print('準確率: %.2f' % accuracy_score(y_pred, y_true))\n",
    "print('準確率: %.2f' % np.mean(y_pred == y_true))#預測值與真實值"
   ]
  },
  {
   "cell_type": "code",
   "execution_count": null,
   "metadata": {},
   "outputs": [],
   "source": []
  }
 ],
 "metadata": {
  "kernelspec": {
   "display_name": "Python 3",
   "language": "python",
   "name": "python3"
  },
  "language_info": {
   "codemirror_mode": {
    "name": "ipython",
    "version": 3
   },
   "file_extension": ".py",
   "mimetype": "text/x-python",
   "name": "python",
   "nbconvert_exporter": "python",
   "pygments_lexer": "ipython3",
   "version": "3.6.4"
  }
 },
 "nbformat": 4,
 "nbformat_minor": 2
}
