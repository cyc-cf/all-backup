{
 "cells": [
  {
   "cell_type": "code",
   "execution_count": 1,
   "metadata": {},
   "outputs": [
    {
     "name": "stderr",
     "output_type": "stream",
     "text": [
      "C:\\Users\\leeys\\Anaconda3\\lib\\site-packages\\sklearn\\cross_validation.py:41: DeprecationWarning: This module was deprecated in version 0.18 in favor of the model_selection module into which all the refactored classes and functions are moved. Also note that the interface of the new CV iterators are different from that of this module. This module will be removed in 0.20.\n",
      "  \"This module will be removed in 0.20.\", DeprecationWarning)\n"
     ]
    }
   ],
   "source": [
    "import os\n",
    "import numpy as np\n",
    "import scipy as sp\n",
    "import codecs\n",
    "from sklearn import tree\n",
    "from matplotlib import pyplot\n",
    "from sklearn.cross_validation import train_test_split  \n",
    "from sklearn.feature_extraction.text import  CountVectorizer  \n",
    "from sklearn.metrics import precision_recall_curve\n",
    "from sklearn.metrics import classification_report\n",
    "from numpy import *"
   ]
  },
  {
   "cell_type": "code",
   "execution_count": 13,
   "metadata": {},
   "outputs": [
    {
     "name": "stdout",
     "output_type": "stream",
     "text": [
      "C:\\Users\\leeys\\Desktop\\workspace\\文本分析\\data\\keyword_CSCorp.csv\n"
     ]
    }
   ],
   "source": [
    "cwd = os.getcwd()\n",
    "file_dir = cwd + \"\\\\data\\\\keyword_CSCorp.csv\"\n",
    "print(file_dir)"
   ]
  },
  {
   "cell_type": "code",
   "execution_count": 29,
   "metadata": {},
   "outputs": [
    {
     "name": "stdout",
     "output_type": "stream",
     "text": [
      "改善 非常 => 0\n",
      "1954\n"
     ]
    }
   ],
   "source": [
    "##讀檔\n",
    "data = [] #評論\n",
    "labels = [] #正負評標籤\n",
    "\n",
    "with codecs.open(file_dir, \"r\", encoding='utf-8') as file:\n",
    "    for line in file.readlines():\n",
    "        line=line.strip().split(',')\n",
    "        data.append(line[0].strip())\n",
    "        labels.append(line[1].strip())\n",
    "\n",
    "print(data[0] + ' => ' + labels[0])\n",
    "\n",
    "print(len(data))"
   ]
  },
  {
   "cell_type": "code",
   "execution_count": 41,
   "metadata": {},
   "outputs": [
    {
     "name": "stdout",
     "output_type": "stream",
     "text": [
      "  (0, 3177)\t1\n",
      "  (0, 2279)\t1\n",
      "  (0, 2197)\t1\n",
      "  (0, 2189)\t1\n",
      "  (0, 2149)\t1\n",
      "  (0, 2003)\t1\n",
      "  (0, 1527)\t1\n",
      "  (0, 1221)\t1\n",
      "  (0, 1143)\t1\n",
      "  (0, 1091)\t1\n",
      "  (0, 1011)\t1\n",
      "  (0, 605)\t1\n",
      "  (0, 180)\t1\n",
      "  (0, 21)\t1\n"
     ]
    }
   ],
   "source": [
    "count_vec = CountVectorizer(binary = True) #關鍵詞01矩陣(sklearn 物件)\n",
    "\n",
    "x_train, x_test, y_train, y_test= train_test_split(data, labels, test_size=0.2)#training:0.8;test:0.2  \n",
    "\n",
    "x_train = count_vec.fit_transform(x_train) #將評論轉為關鍵詞01矩陣(是否出現)\n",
    "x_test  = count_vec.transform(x_test) #將評論轉為關鍵詞01矩陣(是否出現)\n",
    "\n",
    "print(x_train[0])"
   ]
  },
  {
   "cell_type": "code",
   "execution_count": 43,
   "metadata": {},
   "outputs": [
    {
     "data": {
      "text/plain": [
       "DecisionTreeClassifier(class_weight=None, criterion='gini', max_depth=10,\n",
       "            max_features=None, max_leaf_nodes=None,\n",
       "            min_impurity_decrease=0.001, min_impurity_split=None,\n",
       "            min_samples_leaf=1, min_samples_split=2,\n",
       "            min_weight_fraction_leaf=0.0, presort=False, random_state=None,\n",
       "            splitter='best')"
      ]
     },
     "execution_count": 43,
     "metadata": {},
     "output_type": "execute_result"
    }
   ],
   "source": [
    "clf=tree.DecisionTreeClassifier(max_depth=10,min_impurity_decrease=0.001)\n",
    "clf.fit(x_train, y_train)"
   ]
  },
  {
   "cell_type": "code",
   "execution_count": 45,
   "metadata": {},
   "outputs": [
    {
     "data": {
      "text/plain": [
       "'C:\\\\Users\\\\leeys\\\\Desktop\\\\workspace\\\\文本分析/data/tree.svg'"
      ]
     },
     "execution_count": 45,
     "metadata": {},
     "output_type": "execute_result"
    }
   ],
   "source": [
    "# draw tree  ##\n",
    "import graphviz \n",
    "dot_data = tree.export_graphviz(clf, out_file=None,\n",
    "                                feature_names=count_vec.get_feature_names(),)\n",
    "graph = graphviz.Source(dot_data) \n",
    "\n",
    "graph.format = 'svg'\n",
    "graph.render(cwd+\"/data/tree\" ,view=True)"
   ]
  },
  {
   "cell_type": "code",
   "execution_count": 46,
   "metadata": {},
   "outputs": [
    {
     "name": "stdout",
     "output_type": "stream",
     "text": [
      "[[150  38]\n",
      " [ 64 139]]\n"
     ]
    }
   ],
   "source": [
    "y_true = y_test\n",
    "y_pred = clf.predict(x_test)\n",
    "\n",
    "from sklearn.metrics import confusion_matrix\n",
    "print(confusion_matrix(y_true, y_pred, labels = ['0','1']))"
   ]
  },
  {
   "cell_type": "code",
   "execution_count": 47,
   "metadata": {},
   "outputs": [
    {
     "name": "stdout",
     "output_type": "stream",
     "text": [
      "             precision    recall  f1-score   support\n",
      "\n",
      "          0       0.70      0.80      0.75       188\n",
      "          1       0.79      0.68      0.73       203\n",
      "\n",
      "avg / total       0.74      0.74      0.74       391\n",
      "\n",
      "--------------------\n",
      "準確率: 0.74\n",
      "準確率: 0.74\n"
     ]
    }
   ],
   "source": [
    "y_pred = clf.predict(x_test) \n",
    "\n",
    "#precision and recall  \n",
    "#precision, recall, thresholds = precision_recall_curve(y_test, clf.predict(x_test))  \n",
    "    \n",
    "print(classification_report(y_true, y_pred , target_names = ['0','1']))\n",
    "print(\"--------------------\")\n",
    "from sklearn.metrics import accuracy_score\n",
    "print('準確率: %.2f' % accuracy_score(y_true, y_pred))\n",
    "print('準確率: %.2f' % np.mean(y_true == y_pred))#預測值與真實值"
   ]
  }
 ],
 "metadata": {
  "kernelspec": {
   "display_name": "Python 3",
   "language": "python",
   "name": "python3"
  },
  "language_info": {
   "codemirror_mode": {
    "name": "ipython",
    "version": 3
   },
   "file_extension": ".py",
   "mimetype": "text/x-python",
   "name": "python",
   "nbconvert_exporter": "python",
   "pygments_lexer": "ipython3",
   "version": "3.6.4"
  }
 },
 "nbformat": 4,
 "nbformat_minor": 2
}
