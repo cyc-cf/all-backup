{
 "cells": [
  {
   "cell_type": "code",
   "execution_count": 5,
   "metadata": {},
   "outputs": [
    {
     "name": "stdout",
     "output_type": "stream",
     "text": [
      "C:\\Users\\leeys\\Desktop\\workspace\\文本分析\\data\\Demo5Files\n"
     ]
    }
   ],
   "source": [
    "import os\n",
    "\n",
    "cwd = os.getcwd()\n",
    "Data_Folder = cwd + '\\data\\Demo5Files'\n",
    "\n",
    "print(Data_Folder)"
   ]
  },
  {
   "cell_type": "code",
   "execution_count": 6,
   "metadata": {},
   "outputs": [
    {
     "name": "stdout",
     "output_type": "stream",
     "text": [
      "C:\\Users\\leeys\\Desktop\\workspace\\文本分析\\data\\Demo5Files\\国际\\2.txt\n",
      "C:\\Users\\leeys\\Desktop\\workspace\\文本分析\\data\\Demo5Files\\国际\\3.txt\n",
      "C:\\Users\\leeys\\Desktop\\workspace\\文本分析\\data\\Demo5Files\\娱乐\\1.txt\n",
      "C:\\Users\\leeys\\Desktop\\workspace\\文本分析\\data\\Demo5Files\\社会\\4.txt\n",
      "C:\\Users\\leeys\\Desktop\\workspace\\文本分析\\data\\Demo5Files\\社会\\5.txt\n"
     ]
    }
   ],
   "source": [
    "from os import walk # 文件走訪\n",
    "from os.path import join # 路徑合併\n",
    "\n",
    "file_list = list()\n",
    "\n",
    "for root, dirs, files in walk(Data_Folder):\n",
    "    for file in files:\n",
    "        file = join(root, file)\n",
    "        print(file)\n",
    "        file_list.append(file)"
   ]
  },
  {
   "cell_type": "code",
   "execution_count": 7,
   "metadata": {},
   "outputs": [
    {
     "name": "stdout",
     "output_type": "stream",
     "text": [
      "['美国国防部发言人威廉斯说，伊拉克仍持续将五艘共约载有万桶原油的超级油轮，与距科威特海岸五公里处的海岛石油转运站的原油倾入北波斯湾。美国和沙特阿拉伯军方说，伊拉克已连续第四天将原油倾入波斯湾。威廉斯说，伊拉克故意将油漏出波斯湾。伊拉克则指控，漏油是因多国部队轰炸两艘油轮而引起。环保专家说，一场环保灾难已经发生。', '波斯湾战事引发原油外泄后，波斯湾沙特阿拉伯海岸，廿六日平静的海面，闪着发亮的层层油污，大批被原油覆身的海鸟，停在海岸，因油污而寸步难行，无法展翅起飞，生态灾难令人怵目惊心。廿六日晚间，原油已流往科威特巿南方一百廿公里附近的卡夫吉。', '继吉田荣作和织田裕二之后，日本演艺圈又多了一个难得的男偶像明星，那就是加势大周。只要在日本有看过可囗可乐广告的观众朋友一定对他留下了深刻的印象。其实在拍这支广告前他已经在模特儿行业中待过一阵子了，但是机运一直不是很好。好的人才老天是不会埋没的，可囗可乐这支广告终于使他变成了日本家喻户晓的人物。广告的魅力之大可想而知！', '新世航一号渔船上的我国籍船员绰号「黑道」游闻道和「白道」吕姓少年，在喋血案之前，因不堪船上干部凌虐，曾跳海逃生后被救起，并被船长强迫立下「悔过书」。项目人员指出，游闻道、吕政道跳海被救起的隔日，即发生喋血案，因此两事件应有某种程度的关联性。', '侦办新世航渔船喋血案的项目人员指出，渔船上的厨师刘宪助经初步调查，可能是船上唯一未参与两次喋血案的人员。且刘宪助后来补记的「新世航日记」对整个案情的侦办上有重要的参考价值。']\n",
      "['国际', '国际', '娱乐', '社会', '社会']\n"
     ]
    }
   ],
   "source": [
    "import codecs        \n",
    "\n",
    "## load news ##\n",
    "all_news = list()\n",
    "category = list()\n",
    "\n",
    "for file in file_list:\n",
    "    with codecs.open(file, 'r', encoding='utf-8') as news:\n",
    "        all_news.append(news.read())\n",
    "        category.append(file.split('\\\\')[-2]) #-2為類別層  ex:XXX/娛樂/0.txt  \n",
    "\n",
    "print(all_news)\n",
    "print(category)"
   ]
  },
  {
   "cell_type": "code",
   "execution_count": 8,
   "metadata": {},
   "outputs": [
    {
     "name": "stdout",
     "output_type": "stream",
     "text": [
      "Full Mode: 承德/承德市/市长/长江/长江大桥/大桥\n",
      "Default Mode: 承德市/长江大桥\n",
      "承德/承德市/长江/大桥/长江大桥\n"
     ]
    }
   ],
   "source": [
    "import jieba\n",
    "\n",
    "seg_list = jieba.cut(\"承德市长江大桥\", cut_all=True, HMM=False) # 全模式\n",
    "print(\"Full Mode: \" + \"/\".join(seg_list))\n",
    "\n",
    "seg_list = jieba.cut(\"承德市长江大桥\", cut_all=False, HMM=True) # HMM(默认)模式\n",
    "print(\"Default Mode: \" + \"/\".join(seg_list))  \n",
    "\n",
    "seg_list = jieba.cut_for_search(\"承德市长江大桥\", HMM=True)  # 搜索引擎模式\n",
    "print(\"/\".join(seg_list))"
   ]
  },
  {
   "cell_type": "code",
   "execution_count": 10,
   "metadata": {},
   "outputs": [
    {
     "name": "stdout",
     "output_type": "stream",
     "text": [
      "['美国国防部 发言人 威廉斯 说 ， 伊拉克 仍 持续 将 五艘 共 约 载有 万桶 原油 的 超级 油轮 ， 与 距 科威特 海岸 五公里 处 的 海岛 石油 转运站 的 原油 倾入 北 波斯湾 。 美国 和 沙特阿拉伯 军方 说 ， 伊拉克 已 连续 第四天 将 原油 倾入 波斯湾 。 威廉斯 说 ， 伊拉克 故意 将 油 漏出 波斯湾 。 伊拉克 则 指控 ， 漏油 是 因 多国部队 轰炸 两艘 油轮 而 引起 。 环保 专家 说 ， 一场 环保 灾难 已经 发生 。', '波斯湾 战事 引发 原油 外泄 后 ， 波斯湾 沙特阿拉伯 海岸 ， 廿六日 平静 的 海面 ， 闪着 发亮 的 层层 油污 ， 大批 被 原油 覆身 的 海鸟 ， 停 在 海岸 ， 因 油污 而 寸步难行 ， 无法 展翅 起飞 ， 生态灾难 令人 怵目惊心 。 廿六日 晚间 ， 原油 已 流往 科威特 巿 南方 一百 廿 公里 附近 的 卡夫 吉 。', '继吉田荣作 和 织田裕二 之后 ， 日本 演艺圈 又 多 了 一个 难得 的 男 偶像 明星 ， 那 就是 加势 大周 。 只要 在 日本 有 看过 可 囗 可乐 广告 的 观众 朋友 一定 对 他 留下 了 深刻 的 印象 。 其实 在 拍 这支 广告 前 他 已经 在 模特儿 行业 中待 过 一阵子 了 ， 但是 机运 一直 不是 很 好 。 好 的 人才 老天 是 不会 埋没 的 ， 可 囗 可乐 这支 广告 终于 使 他 变成 了 日本 家喻户晓 的 人物 。 广告 的 魅力 之大 可想而知 ！', '新世航 一号 渔船 上 的 我 国籍 船员 绰号 「 黑道 」 游闻道 和 「 白 道 」 吕姓 少年 ， 在 喋血 案 之前 ， 因 不堪 船上 干部 凌虐 ， 曾 跳海 逃生 后 被 救起 ， 并 被 船长 强迫 立下 「 悔过书 」 。 项目 人员 指出 ， 游闻道 、 吕政道 跳海 被 救起 的 隔日 ， 即 发生 喋血 案 ， 因此 两 事件 应有 某种程度 的 关联性 。', '侦办 新世航 渔船 喋血 案 的 项目 人员 指出 ， 渔船 上 的 厨师 刘宪助经 初步 调查 ， 可能 是 船上 唯一 未 参与 两次 喋血 案 的 人员 。 且 刘宪助 后来 补记 的 「 新世航 日记 」 对 整个 案情 的 侦办 上 有 重要 的 参考价值 。']\n"
     ]
    }
   ],
   "source": [
    "import jieba\n",
    "\n",
    "## word segmentation ##\n",
    "words_list = list()\n",
    "\n",
    "for i in range(len(all_news)):\n",
    "    word = list()\n",
    "    line = all_news[i]\n",
    "    \n",
    "    result = jieba.cut(str(line)) # HMM(默认)模式\n",
    "    \n",
    "    for w in result:\n",
    "        word.append(w)\n",
    "    \n",
    "    words_list.append(' '.join(word))\n",
    "    \n",
    "print(words_list)"
   ]
  },
  {
   "cell_type": "code",
   "execution_count": 11,
   "metadata": {},
   "outputs": [
    {
     "name": "stdout",
     "output_type": "stream",
     "text": [
      "['美国国防部 发言人 威廉斯 说 ， 伊拉克 仍 持续 将 五艘 共 约 载有 万桶 原油 的 超级 油轮 ， 与 距 科威特 海岸 五公里 处 的 海岛 石油 转运站 的 原油 倾入 北波斯湾 。 美国 和 沙特阿拉伯 军方 说 ， 伊拉克 已 连续 第四天 将 原油 倾入 波斯湾 。 威廉斯 说 ， 伊拉克 故意 将 油 漏出 波斯湾 。 伊拉克 则 指控 ， 漏油 是 因 多国部队 轰炸 两艘 油轮 而 引起 。 环保 专家 说 ， 一场 环保 灾难 已经 发生 。', '波斯湾 战事 引发 原油 外泄 后 ， 波斯湾 沙特阿拉伯 海岸 ， 廿六日 平静 的 海面 ， 闪着 发亮 的 层层 油污 ， 大批 被 原油 覆身 的 海鸟 ， 停 在 海岸 ， 因 油污 而 寸步难行 ， 无法 展翅起飞 ， 生态灾难 令人 怵目惊心 。 廿六日 晚间 ， 原油 已 流往 科威特 巿 南方 一百廿公里 附近 的 卡夫吉 。', '继 吉田荣作 和 织田裕二 之后 ， 日本 演艺圈 又 多 了 一个 难得 的 男 偶像 明星 ， 那 就是 加势大周 。 只要 在 日本 有 看过 可囗可乐 广告 的 观众 朋友 一定 对 他 留下 了 深刻 的 印象 。 其实 在 拍 这支 广告 前 他 已经 在 模特儿 行业 中待 过 一阵子 了 ， 但是 机运 一直 不是 很 好 。 好 的 人才 老天 是 不会 埋没 的 ， 可囗可乐 这支 广告 终于 使 他 变成 了 日本 家喻户晓 的 人物 。 广告 的 魅力 之大 可想而知 ！', '新世航一号 渔船 上 的 我 国籍 船员 绰号 「 黑道 」 游闻道 和 「 白道 」 吕姓 少年 ， 在 喋血案 之前 ， 因 不堪 船上 干部 凌虐 ， 曾 跳海 逃生 后 被 救起 ， 并 被 船长 强迫 立下 「 悔过书 」 。 项目 人员 指出 ， 游闻道 、 吕政道 跳海 被 救起 的 隔日 ， 即 发生 喋血案 ， 因此 两 事件 应有 某种程度 的 关联性 。', '侦办 新世航 渔船 喋血案 的 项目 人员 指出 ， 渔船 上 的 厨师 刘宪助 经 初步 调查 ， 可能 是 船上 唯一 未 参与 两次 喋血案 的 人员 。 且 刘宪助 后来 补记 的 「 新世航日记 」 对 整个 案情 的 侦办 上 有 重要 的 参考价值 。']\n"
     ]
    }
   ],
   "source": [
    "import jieba\n",
    "\n",
    "jieba.add_word('吉田荣作')\n",
    "\n",
    "## load user dictionary ##\n",
    "user_dict_path = cwd + '\\\\data\\\\userdict.txt'\n",
    "jieba.load_userdict(user_dict_path)\n",
    "\n",
    "## word segmentation ##\n",
    "words_list = list()\n",
    "\n",
    "for i in range(len(all_news)):\n",
    "    word = list()\n",
    "    line = all_news[i]\n",
    "    \n",
    "    result = jieba.cut(str(line)) # HMM(默认)模式\n",
    "    \n",
    "    for w in result:\n",
    "        word.append(w)\n",
    "    \n",
    "    words_list.append(' '.join(word))\n",
    "    \n",
    "print(words_list)"
   ]
  },
  {
   "cell_type": "code",
   "execution_count": 12,
   "metadata": {},
   "outputs": [
    {
     "name": "stdout",
     "output_type": "stream",
     "text": [
      "['美国国防部 发言人 威廉斯 伊拉克 持续 五艘 载有 万桶 原油 超级 油轮 科威特 海岸 五公里 海岛 石油 转运站 原油 倾入 北波斯湾 美国 沙特阿拉伯 军方 伊拉克 连续 第四天 原油 倾入 波斯湾 威廉斯 伊拉克 油 漏出 波斯湾 伊拉克 指控 漏油 多国部队 轰炸 两艘 油轮 环保 专家 一场 环保 灾难 发生', '波斯湾 战事 引发 原油 外泄 波斯湾 沙特阿拉伯 海岸 廿六日 平静 海面 闪着 发亮 层层 油污 原油 覆身 海鸟 停 海岸 油污 寸步难行 展翅起飞 生态灾难 令人 怵目惊心 廿六日 晚间 原油 流往 科威特 巿 南方 一百廿公里 卡夫吉', '继 吉田荣作 织田裕二 日本 演艺圈 男 偶像 明星 加势大周 日本 看过 可囗可乐 广告 观众 朋友 留下 深刻 印象 拍 这支 广告 前 模特儿 行业 中 一阵子 机运 人才 老天 埋没 可囗可乐 这支 广告 终于 日本 家喻户晓 人物 广告 魅力 之大 可想而知', '新世航一号 渔船 国籍 船员 绰号 「 黑道 游闻道 「 白道 吕姓 少年 喋血案 不堪 船上 干部 凌虐 跳海 逃生 救起 船长 强迫 立下 「 悔过书 项目 人员 指出 游闻道 吕政道 跳海 救起 发生 喋血案 两 事件 应有 某种程度 关联性', '侦办 新世航 渔船 喋血案 项目 人员 指出 渔船 厨师 刘宪助 初步 调查 船上 唯一 未 参与 两次 喋血案 人员 刘宪助 补记 「 新世航日记 案情 侦办 参考价值']\n"
     ]
    }
   ],
   "source": [
    "import jieba\n",
    "\n",
    "## load user dictionary ##\n",
    "user_dict_path = cwd + '\\\\data\\\\userdict.txt'\n",
    "jieba.load_userdict(user_dict_path)\n",
    "    \n",
    "## load stop words ##\n",
    "stop_words_path = cwd + '\\\\data\\\\stop_words.txt'\n",
    "\n",
    "stop_words = set()\n",
    "\n",
    "with open(stop_words_path,'r',encoding='utf-8') as sw:\n",
    "    [stop_words.add(line.strip()) for line in sw.readlines()] #list Comprehension\n",
    "\n",
    "stop_words.add('，');\n",
    "stop_words.add('。');\n",
    "stop_words.add('说');\n",
    "stop_words.add('约');\n",
    "stop_words.add('处');\n",
    "\n",
    "jieba.suggest_freq(('中', '待'), True)\n",
    "\n",
    "## word segmentation ##\n",
    "words_list = list()\n",
    "\n",
    "for i in range(len(all_news)):\n",
    "    word = list()\n",
    "    line = all_news[i]\n",
    "    \n",
    "    result = jieba.cut(str(line)) #HMM(默认)模式\n",
    "    \n",
    "    for w in result:\n",
    "        if w not in stop_words:\n",
    "            word.append(w)\n",
    "    \n",
    "    words_list.append(' '.join(word))\n",
    "    \n",
    "print(words_list)"
   ]
  },
  {
   "cell_type": "code",
   "execution_count": 11,
   "metadata": {},
   "outputs": [
    {
     "name": "stdout",
     "output_type": "stream",
     "text": [
      "Doc 0 :\n",
      "伊拉克    \t0.67947\n",
      "倾入     \t0.51397\n",
      "威廉斯    \t0.44509\n",
      "原油     \t0.44472\n",
      "油轮     \t0.41724\n",
      "波斯湾    \t0.38134\n",
      "环保     \t0.28759\n",
      "五公里    \t0.27205\n",
      "北波斯湾   \t0.25989\n",
      "漏油     \t0.24482\n",
      "\n",
      "Doc 1 :\n",
      "廿六日    \t0.69186\n",
      "油污     \t0.64986\n",
      "原油     \t0.61991\n",
      "波斯湾    \t0.53156\n",
      "海岸     \t0.43232\n",
      "生态灾难   \t0.38794\n",
      "怵目惊心   \t0.38794\n",
      "覆身     \t0.36227\n",
      "展翅起飞   \t0.36227\n",
      "一百廿公里  \t0.36227\n",
      "\n",
      "Doc 2 :\n",
      "广告     \t0.81919\n",
      "可囗可乐   \t0.66415\n",
      "这支     \t0.43423\n",
      "日本     \t0.41718\n",
      "机运     \t0.33636\n",
      "吉田荣作   \t0.33208\n",
      "织田裕二   \t0.33208\n",
      "加势大周   \t0.33208\n",
      "演艺圈    \t0.29563\n",
      "模特儿    \t0.28583\n",
      "\n",
      "Doc 3 :\n",
      "游闻道    \t0.68313\n",
      "喋血案    \t0.68313\n",
      "跳海     \t0.68313\n",
      "救起     \t0.57940\n",
      "凌虐     \t0.35755\n",
      "新世航一号  \t0.34156\n",
      "吕姓     \t0.34156\n",
      "吕政道    \t0.34156\n",
      "悔过书    \t0.32176\n",
      "白道     \t0.31304\n",
      "\n",
      "Doc 4 :\n",
      "喋血案    \t0.99623\n",
      "刘宪助    \t0.99623\n",
      "侦办     \t0.95857\n",
      "渔船     \t0.75024\n",
      "补记     \t0.52143\n",
      "新世航    \t0.49812\n",
      "新世航日记  \t0.49812\n",
      "人员     \t0.46592\n",
      "案情     \t0.38488\n",
      "厨师     \t0.37972\n",
      "\n"
     ]
    }
   ],
   "source": [
    "import jieba.analyse as analyse\n",
    "\n",
    "for i in range(len(words_list)):\n",
    "    print('Doc ' + str(i) + ' :')\n",
    "    for key,value in analyse.extract_tags(words_list[i], 10, withWeight=True):\n",
    "        print('%-7s\\t%7.5f' % (key, value))\n",
    "    print()"
   ]
  },
  {
   "cell_type": "code",
   "execution_count": 13,
   "metadata": {
    "scrolled": true
   },
   "outputs": [
    {
     "name": "stdout",
     "output_type": "stream",
     "text": [
      "美国国防部 发言人 威廉斯 伊拉克 持续 五艘 载有 万桶 原油 超级 油轮 科威特 海岸 五公里 海岛 石油 转运站 原油 倾入 北波斯湾 美国 沙特阿拉伯 军方 伊拉克 连续 第四天 原油 倾入 波斯湾 威廉斯 伊拉克 油 漏出 波斯湾 伊拉克 指控 漏油 多国部队 轰炸 两艘 油轮 环保 专家 一场 环保 灾难 发生\n",
      "47\n",
      "----------------------------------------\n",
      "4\n",
      "4\n",
      "----------------------------------------\n",
      "0.6794698195704347\n",
      "0.44471537386108695\n"
     ]
    }
   ],
   "source": [
    "print(words_list[0])\n",
    "print(len(words_list[0].split(' ')))\n",
    "print(\"-\" * 40)\n",
    "\n",
    "print(len([s for s in words_list[0].split(' ') if '伊拉克' == s]))\n",
    "print(words_list[0].split(' ').count('伊拉克'))\n",
    "print(\"-\" * 40)\n",
    "\n",
    "print(words_list[0].split(' ').count('伊拉克') / (len(words_list[0].split(' '))-1) * 7.81390292506)\n",
    "print(words_list[0].split(' ').count('原油') / (len(words_list[0].split(' '))-1) * 6.81896906587)"
   ]
  },
  {
   "cell_type": "code",
   "execution_count": 14,
   "metadata": {},
   "outputs": [
    {
     "name": "stdout",
     "output_type": "stream",
     "text": [
      "继 吉田荣作 织田裕二 日本 演艺圈 男 偶像 明星 加势大周 日本 看过 可囗可乐 广告 观众 朋友 留下 深刻 印象 拍 这支 广告 前 模特儿 行业 中 一阵子 机运 人才 老天 埋没 可囗可乐 这支 广告 终于 日本 家喻户晓 人物 广告 魅力 之大 可想而知\n",
      "41\n",
      "----------------------------------------\n",
      "4\n",
      "4\n",
      "----------------------------------------\n",
      "0.8191910815944444\n"
     ]
    }
   ],
   "source": [
    "print(words_list[2])\n",
    "print(len(words_list[2].split(' ')))\n",
    "print(\"-\" * 40)\n",
    "\n",
    "print(len([s for s in words_list[2].split(' ') if '广告' == s]))\n",
    "print(words_list[2].split(' ').count('广告'))\n",
    "print(\"-\" * 40)\n",
    "\n",
    "print(words_list[2].split(' ').count('广告') / (len(words_list[2].split(' '))-5) * 7.37271973435)"
   ]
  },
  {
   "cell_type": "code",
   "execution_count": 12,
   "metadata": {},
   "outputs": [
    {
     "name": "stdout",
     "output_type": "stream",
     "text": [
      "Doc 0 :\n",
      "伊拉克    \t0.63787\n",
      "倾入     \t0.48250\n",
      "威廉斯    \t0.41784\n",
      "原油     \t0.41749\n",
      "油轮     \t0.39170\n",
      "波斯湾    \t0.35799\n",
      "环保     \t0.26998\n",
      "五公里    \t0.25540\n",
      "北波斯湾   \t0.24397\n",
      "漏油     \t0.22983\n",
      "\n",
      "Doc 1 :\n",
      "廿六日    \t0.63421\n",
      "油污     \t0.59570\n",
      "原油     \t0.56825\n",
      "波斯湾    \t0.48727\n",
      "海岸     \t0.39630\n",
      "生态灾难   \t0.35561\n",
      "怵目惊心   \t0.35561\n",
      "覆身     \t0.33208\n",
      "展翅起飞   \t0.33208\n",
      "一百廿公里  \t0.33208\n",
      "\n",
      "Doc 2 :\n",
      "广告     \t0.60185\n",
      "可囗可乐   \t0.48795\n",
      "这支     \t0.31903\n",
      "日本     \t0.30650\n",
      "机运     \t0.24712\n",
      "吉田荣作   \t0.24397\n",
      "织田裕二   \t0.24397\n",
      "加势大周   \t0.24397\n",
      "演艺圈    \t0.21720\n",
      "模特儿    \t0.21000\n",
      "\n",
      "Doc 3 :\n",
      "游闻道    \t0.62920\n",
      "喋血案    \t0.62920\n",
      "跳海     \t0.62920\n",
      "救起     \t0.53366\n",
      "凌虐     \t0.32933\n",
      "新世航一号  \t0.31460\n",
      "吕姓     \t0.31460\n",
      "吕政道    \t0.31460\n",
      "悔过书    \t0.29636\n",
      "白道     \t0.28832\n",
      "\n",
      "Doc 4 :\n",
      "喋血案    \t0.85391\n",
      "刘宪助    \t0.85391\n",
      "侦办     \t0.82163\n",
      "渔船     \t0.64306\n",
      "补记     \t0.44694\n",
      "新世航    \t0.42696\n",
      "新世航日记  \t0.42696\n",
      "人员     \t0.39936\n",
      "案情     \t0.32990\n",
      "厨师     \t0.32547\n",
      "\n"
     ]
    }
   ],
   "source": [
    "import jieba.analyse as analyse\n",
    "\n",
    "for i in range(len(all_news)):\n",
    "    print('Doc ' + str(i) + ' :')\n",
    "    for key,value in analyse.extract_tags(all_news[i], 10, withWeight=True):\n",
    "        print('%-7s\\t%7.5f' % (key, value))\n",
    "    print()"
   ]
  }
 ],
 "metadata": {
  "kernelspec": {
   "display_name": "Python 3",
   "language": "python",
   "name": "python3"
  },
  "language_info": {
   "codemirror_mode": {
    "name": "ipython",
    "version": 3
   },
   "file_extension": ".py",
   "mimetype": "text/x-python",
   "name": "python",
   "nbconvert_exporter": "python",
   "pygments_lexer": "ipython3",
   "version": "3.6.4"
  }
 },
 "nbformat": 4,
 "nbformat_minor": 2
}
