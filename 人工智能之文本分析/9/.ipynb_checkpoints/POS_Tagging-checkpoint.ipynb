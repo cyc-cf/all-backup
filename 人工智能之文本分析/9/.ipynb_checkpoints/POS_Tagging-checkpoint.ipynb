{
 "cells": [
  {
   "cell_type": "code",
   "execution_count": 1,
   "metadata": {},
   "outputs": [
    {
     "name": "stdout",
     "output_type": "stream",
     "text": [
      "C:\\Users\\leeys\\Desktop\\workspace\\文本分析\\data\\Demo5Files\n"
     ]
    }
   ],
   "source": [
    "import os\n",
    "\n",
    "cwd = os.getcwd()\n",
    "Data_Folder = cwd + '\\data\\Demo5Files'\n",
    "\n",
    "print(Data_Folder)"
   ]
  },
  {
   "cell_type": "code",
   "execution_count": 2,
   "metadata": {},
   "outputs": [
    {
     "name": "stdout",
     "output_type": "stream",
     "text": [
      "C:\\Users\\leeys\\Desktop\\workspace\\文本分析\\data\\Demo5Files\\国际\\2.txt\n",
      "C:\\Users\\leeys\\Desktop\\workspace\\文本分析\\data\\Demo5Files\\国际\\3.txt\n",
      "C:\\Users\\leeys\\Desktop\\workspace\\文本分析\\data\\Demo5Files\\娱乐\\1.txt\n",
      "C:\\Users\\leeys\\Desktop\\workspace\\文本分析\\data\\Demo5Files\\社会\\4.txt\n",
      "C:\\Users\\leeys\\Desktop\\workspace\\文本分析\\data\\Demo5Files\\社会\\5.txt\n"
     ]
    }
   ],
   "source": [
    "from os import walk # 文件走訪\n",
    "from os.path import join # 路徑合併\n",
    "\n",
    "file_list = list()\n",
    "\n",
    "for root, dirs, files in walk(Data_Folder):\n",
    "    for file in files:\n",
    "        file = join(root, file)\n",
    "        print(file)\n",
    "        file_list.append(file)"
   ]
  },
  {
   "cell_type": "code",
   "execution_count": 3,
   "metadata": {},
   "outputs": [
    {
     "name": "stdout",
     "output_type": "stream",
     "text": [
      "['美国国防部发言人威廉斯说，伊拉克仍持续将五艘共约载有万桶原油的超级油轮，与距科威特海岸五公里处的海岛石油转运站的原油倾入北波斯湾。美国和沙特阿拉伯军方说，伊拉克已连续第四天将原油倾入波斯湾。威廉斯说，伊拉克故意将油漏出波斯湾。伊拉克则指控，漏油是因多国部队轰炸两艘油轮而引起。环保专家说，一场环保灾难已经发生。', '波斯湾战事引发原油外泄后，波斯湾沙特阿拉伯海岸，廿六日平静的海面，闪着发亮的层层油污，大批被原油覆身的海鸟，停在海岸，因油污而寸步难行，无法展翅起飞，生态灾难令人怵目惊心。廿六日晚间，原油已流往科威特巿南方一百廿公里附近的卡夫吉。', '继吉田荣作和织田裕二之后，日本演艺圈又多了一个难得的男偶像明星，那就是加势大周。只要在日本有看过可囗可乐广告的观众朋友一定对他留下了深刻的印象。其实在拍这支广告前他已经在模特儿行业中待过一阵子了，但是机运一直不是很好。好的人才老天是不会埋没的，可囗可乐这支广告终于使他变成了日本家喻户晓的人物。广告的魅力之大可想而知！', '新世航一号渔船上的我国籍船员绰号「黑道」游闻道和「白道」吕姓少年，在喋血案之前，因不堪船上干部凌虐，曾跳海逃生后被救起，并被船长强迫立下「悔过书」。项目人员指出，游闻道、吕政道跳海被救起的隔日，即发生喋血案，因此两事件应有某种程度的关联性。', '侦办新世航渔船喋血案的项目人员指出，渔船上的厨师刘宪助经初步调查，可能是船上唯一未参与两次喋血案的人员。且刘宪助后来补记的「新世航日记」对整个案情的侦办上有重要的参考价值。']\n",
      "['国际', '国际', '娱乐', '社会', '社会']\n"
     ]
    }
   ],
   "source": [
    "import codecs        \n",
    "\n",
    "## load news ##\n",
    "all_news = list()\n",
    "category = list()\n",
    "\n",
    "for file in file_list:\n",
    "    with codecs.open(file, 'r', encoding='utf-8') as news:\n",
    "        all_news.append(news.read())\n",
    "        category.append(file.split('\\\\')[-2]) #-2為類別層  ex:XXX/娛樂/0.txt  \n",
    "\n",
    "print(all_news)\n",
    "print(category)"
   ]
  },
  {
   "cell_type": "code",
   "execution_count": 4,
   "metadata": {},
   "outputs": [
    {
     "name": "stderr",
     "output_type": "stream",
     "text": [
      "Building prefix dict from the default dictionary ...\n",
      "Loading model from cache C:\\Users\\leeys\\AppData\\Local\\Temp\\jieba.cache\n",
      "Loading model cost 2.358 seconds.\n",
      "Prefix dict has been built succesfully.\n"
     ]
    },
    {
     "name": "stdout",
     "output_type": "stream",
     "text": [
      "承德市/ns 长江大桥/ns \n"
     ]
    }
   ],
   "source": [
    "import jieba\n",
    "import jieba.posseg as pseg\n",
    "\n",
    "seg_POS_list = pseg.cut(\"承德市长江大桥\")\n",
    "\n",
    "for w,s in seg_POS_list:\n",
    "    print(w + '/' + s + ' ', end = '')\n",
    "    \n",
    "print()"
   ]
  },
  {
   "cell_type": "code",
   "execution_count": 5,
   "metadata": {},
   "outputs": [
    {
     "name": "stdout",
     "output_type": "stream",
     "text": [
      "美国国防部/nt 发言人/l 威廉斯/nrt 说/v ，/x 伊拉克/nrt 仍/zg 持续/vd 将/d 五艘/m 共/d 约/d 载有/b 万桶/m 原油/n 的/uj 超级/b 油轮/n ，/x 与/p 距/n 科威特/nr 海岸/s 五公里/m 处/n 的/uj 海岛/ns 石油/n 转运站/n 的/uj 原油/n 倾入/v 北/ns 波斯湾/ns 。/x 美国/ns 和/c 沙特阿拉伯/ns 军方/n 说/v ，/x 伊拉克/nrt 已/d 连续/a 第四天/m 将/d 原油/n 倾入/v 波斯湾/ns 。/x 威廉斯/nrt 说/v ，/x 伊拉克/nrt 故意/d 将油/n 漏出/v 波斯湾/ns 。/x 伊拉克/nrt 则/d 指控/vn ，/x 漏油/n 是/v 因/c 多国部队/n 轰炸/v 两艘/m 油轮/n 而/c 引起/v 。/x 环保/j 专家/n 说/v ，/x 一场/m 环保/j 灾难/n 已经/d 发生/v 。/x \n",
      "----------------------------------------\n",
      "波斯湾/ns 战事/n 引发/v 原油/n 外泄/v 后/f ，/x 波斯湾/ns 沙特阿拉伯/ns 海岸/s ，/x 廿六日/m 平静/a 的/uj 海面/n ，/x 闪/v 着/uz 发亮/v 的/uj 层层/n 油污/n ，/x 大批/m 被/p 原油/n 覆身/v 的/uj 海鸟/n ，/x 停/v 在/p 海岸/s ，/x 因/p 油污/n 而/c 寸步难行/i ，/x 无法/n 展翅/v 起飞/v ，/x 生态灾难/l 令人/nrt 怵目惊心/i 。/x 廿六日/m 晚间/t ，/x 原油/n 已/d 流往/vn 科威特/nr 巿/zg 南方/f 一百/m 廿/m 公里/q 附近/f 的/uj 卡夫/nrt 吉/nr 。/x \n",
      "----------------------------------------\n",
      "继/vg 吉田荣/nr 作/v 和/c 织田裕二/ns 之后/f ，/x 日本/ns 演艺圈/n 又/d 多/m 了/ul 一个/m 难得/d 的/uj 男/n 偶像/n 明星/nr ，/x 那/r 就是/d 加势/n 大周/n 。/x 只要/c 在/p 日本/ns 有/v 看过/v 可/v 囗/zg 可乐/a 广告/n 的/uj 观众/n 朋友/n 一定/d 对/p 他/r 留下/v 了/ul 深刻/d 的/uj 印象/n 。/x 其实/d 在/p 拍/v 这/r 支/v 广告/n 前/f 他/r 已经/d 在/p 模特儿/n 行业/n 中/f 待/v 过/ug 一阵子/m 了/ul ，/x 但是/c 机运/n 一直/d 不是/c 很/d 好/a 。/x 好/a 的/uj 人才/n 老天/t 是/v 不会/v 埋没/v 的/uj ，/x 可/v 囗/zg 可乐/a 这/r 支/v 广告/n 终于/d 使/v 他/r 变成/v 了/ul 日本/ns 家喻户晓/i 的/uj 人物/n 。/x 广告/n 的/uj 魅力/n 之/u 大/a 可想而知/l ！/x \n",
      "----------------------------------------\n",
      "新世航/nz 一号/m 渔船/n 上/f 的/uj 我/r 国籍/n 船员/n 绰号/n 「/x 黑道/n 」/x 游闻/n 道/q 和/c 「/x 白/a 道/q 」/x 吕姓/nr 少年/m ，/x 在/p 喋血/v 案/n 之前/f ，/x 因/p 不堪/v 船上/s 干部/n 凌虐/v ，/x 曾/d 跳海/v 逃生/v 后/f 被/p 救起/v ，/x 并/c 被/p 船长/n 强迫/a 立下/d 「/x 悔过书/i 」/x 。/x 项目/n 人员/n 指出/v ，/x 游闻/n 道/q 、/x 吕政/nr 道/q 跳海/v 被/p 救起/v 的/uj 隔日/b ，/x 即/v 发生/v 喋血/v 案/n ，/x 因此/c 两/m 事件/n 应有/v 某种程度/v 的/uj 关联性/n 。/x \n",
      "----------------------------------------\n",
      "侦办/v 新世航/nz 渔船/n 喋血/v 案/ng 的/uj 项目/n 人员/n 指出/v ，/x 渔船/n 上/f 的/uj 厨师/n 刘宪助/nr 经/n 初步/d 调查/vn ，/x 可能/v 是/v 船上/s 唯一/b 未/d 参与/v 两次/m 喋血/v 案/ng 的/uj 人员/n 。/x 且/c 刘宪助/nr 后来/t 补记/n 的/uj 「/x 新世航/nz 日记/n 」/x 对/p 整个/b 案情/n 的/uj 侦办/v 上/f 有/v 重要/a 的/uj 参考价值/n 。/x \n",
      "----------------------------------------\n"
     ]
    }
   ],
   "source": [
    "import jieba\n",
    "\n",
    "## word segmentation ##\n",
    "words_list = list()\n",
    "\n",
    "for i in range(len(all_news)):\n",
    "    word = list()\n",
    "    line = all_news[i]\n",
    "    \n",
    "    result = pseg.cut(str(line)) \n",
    "    \n",
    "    for w,s in result:\n",
    "        print(w + '/' + s, end=' ')\n",
    "        word.append(w)\n",
    "    \n",
    "    words_list.append(word)\n",
    "    \n",
    "    print()\n",
    "    print('-' * 40)"
   ]
  },
  {
   "cell_type": "code",
   "execution_count": 6,
   "metadata": {},
   "outputs": [
    {
     "name": "stdout",
     "output_type": "stream",
     "text": [
      "美国国防部/nt 发言人/l 威廉斯/nrt 说/v ，/x 伊拉克/nrt 仍/zg 持续/vd 将/d 五艘/m 共/d 约/d 载有/b 万桶/m 原油/n 的/uj 超级/b 油轮/n ，/x 与/p 距/n 科威特/nr 海岸/s 五公里/m 处/n 的/uj 海岛/ns 石油/n 转运站/n 的/uj 原油/n 倾入/v 北波斯湾/ns 。/x 美国/ns 和/c 沙特阿拉伯/ns 军方/n 说/v ，/x 伊拉克/nrt 已/d 连续/a 第四天/m 将/d 原油/n 倾入/v 波斯湾/ns 。/x 威廉斯/nrt 说/v ，/x 伊拉克/nrt 故意/d 将油/n 漏出/v 波斯湾/ns 。/x 伊拉克/nrt 则/d 指控/vn ，/x 漏油/n 是/v 因/c 多国部队/n 轰炸/v 两艘/m 油轮/n 而/c 引起/v 。/x 环保/j 专家/n 说/v ，/x 一场/m 环保/j 灾难/n 已经/d 发生/v 。/x \n",
      "----------------------------------------\n",
      "波斯湾/ns 战事/n 引发/v 原油/n 外泄/v 后/f ，/x 波斯湾/ns 沙特阿拉伯/ns 海岸/s ，/x 廿六日/m 平静/a 的/uj 海面/n ，/x 闪/v 着/uz 发亮/v 的/uj 层层/n 油污/n ，/x 大批/m 被/p 原油/n 覆身/v 的/uj 海鸟/n ，/x 停/v 在/p 海岸/s ，/x 因/p 油污/n 而/c 寸步难行/i ，/x 无法/n 展翅起飞/i ，/x 生态灾难/l 令人/nrt 怵目惊心/i 。/x 廿六日/m 晚间/t ，/x 原油/n 已/d 流往/vn 科威特/nr 巿/zg 南方/f 一百廿公里/m 附近/f 的/uj 卡夫吉/ns 。/x \n",
      "----------------------------------------\n",
      "继/v 吉田荣作/nr 和/c 织田裕二/ns 之后/f ，/x 日本/ns 演艺圈/n 又/d 多/m 了/ul 一个/m 难得/d 的/uj 男/n 偶像/n 明星/nr ，/x 那/r 就是/d 加势大周/nr 。/x 只要/c 在/p 日本/ns 有/v 看过/v 可囗可乐/nz 广告/n 的/uj 观众/n 朋友/n 一定/d 对/p 他/r 留下/v 了/ul 深刻/d 的/uj 印象/n 。/x 其实/d 在/p 拍/v 这/r 支/v 广告/n 前/f 他/r 已经/d 在/p 模特儿/n 行业/n 中/f 待/v 过/ug 一阵子/m 了/ul ，/x 但是/c 机运/n 一直/d 不是/c 很/d 好/a 。/x 好/a 的/uj 人才/n 老天/t 是/v 不会/v 埋没/v 的/uj ，/x 可囗可乐/nz 这/r 支/v 广告/n 终于/d 使/v 他/r 变成/v 了/ul 日本/ns 家喻户晓/i 的/uj 人物/n 。/x 广告/n 的/uj 魅力/n 之/u 大/a 可想而知/l ！/x \n",
      "----------------------------------------\n",
      "新世航一号/nz 渔船/n 上/f 的/uj 我/r 国籍/n 船员/n 绰号/n 「/x 黑道/n 」/x 游闻道/nr 和/c 「/x 白道/n 」/x 吕姓/nr 少年/m ，/x 在/p 喋血案/n 之前/f ，/x 因/p 不堪/v 船上/s 干部/n 凌虐/v ，/x 曾/d 跳海/v 逃生/v 后/f 被/p 救起/v ，/x 并/c 被/p 船长/n 强迫/a 立下/d 「/x 悔过书/i 」/x 。/x 项目/n 人员/n 指出/v ，/x 游闻道/nr 、/x 吕政道/nr 跳海/v 被/p 救起/v 的/uj 隔日/b ，/x 即/v 发生/v 喋血案/n ，/x 因此/c 两/m 事件/n 应有/v 某种程度/v 的/uj 关联性/n 。/x \n",
      "----------------------------------------\n",
      "侦办/v 新世航/nz 渔船/n 喋血案/n 的/uj 项目/n 人员/n 指出/v ，/x 渔船/n 上/f 的/uj 厨师/n 刘宪助/nr 经/n 初步/d 调查/vn ，/x 可能/v 是/v 船上/s 唯一/b 未/d 参与/v 两次/m 喋血案/n 的/uj 人员/n 。/x 且/zg 刘宪助/nr 后来/t 补记/n 的/uj 「/x 新世航日记/nz 」/x 对/p 整个/b 案情/n 的/uj 侦办/v 上/f 有/v 重要/a 的/uj 参考价值/n 。/x \n",
      "----------------------------------------\n"
     ]
    }
   ],
   "source": [
    "import jieba\n",
    "\n",
    "jieba.add_word('吉田荣作', tag='nr')\n",
    "\n",
    "## load user dictionary ##\n",
    "user_dict_path = cwd + '\\\\data\\\\userdict_p.txt'\n",
    "jieba.load_userdict(user_dict_path)\n",
    "\n",
    "## word segmentation ##\n",
    "words_list = list()\n",
    "\n",
    "for i in range(len(all_news)):\n",
    "    word = list()\n",
    "    line = all_news[i]\n",
    "    \n",
    "    result = pseg.cut(str(line)) \n",
    "    \n",
    "    for w,s in result:\n",
    "        print(w + '/' + s, end=' ')\n",
    "        word.append(w)\n",
    "    \n",
    "    words_list.append(word)\n",
    "    \n",
    "    print()\n",
    "    print('-' * 40)"
   ]
  },
  {
   "cell_type": "code",
   "execution_count": 7,
   "metadata": {},
   "outputs": [
    {
     "name": "stdout",
     "output_type": "stream",
     "text": [
      "美国国防部/nt 威廉斯/nrt 伊拉克/nrt 原油/n 油轮/n 科威特/nr 海岛/ns 石油/n 转运站/n 原油/n 北波斯湾/ns 美国/ns 沙特阿拉伯/ns 军方/n 伊拉克/nrt 原油/n 波斯湾/ns 威廉斯/nrt 伊拉克/nrt 将油/n 波斯湾/ns 伊拉克/nrt 漏油/n 多国部队/n 油轮/n 专家/n 灾难/n \n",
      "----------------------------------------\n",
      "波斯湾/ns 战事/n 原油/n 波斯湾/ns 沙特阿拉伯/ns 海面/n 层层/n 油污/n 原油/n 海鸟/n 油污/n 令人/nrt 原油/n 科威特/nr 卡夫吉/ns \n",
      "----------------------------------------\n",
      "吉田荣作/nr 织田裕二/ns 日本/ns 演艺圈/n 男/n 偶像/n 明星/nr 加势大周/nr 日本/ns 可囗可乐/nz 广告/n 观众/n 朋友/n 印象/n 广告/n 模特儿/n 行业/n 机运/n 人才/n 可囗可乐/nz 广告/n 日本/ns 人物/n 广告/n 魅力/n \n",
      "----------------------------------------\n",
      "新世航一号/nz 渔船/n 国籍/n 船员/n 绰号/n 黑道/n 游闻道/nr 白道/n 吕姓/nr 喋血案/n 干部/n 船长/n 项目/n 人员/n 游闻道/nr 吕政道/nr 喋血案/n 事件/n 关联性/n \n",
      "----------------------------------------\n",
      "新世航/nz 渔船/n 喋血案/n 项目/n 人员/n 渔船/n 厨师/n 刘宪助/nr 喋血案/n 人员/n 刘宪助/nr 补记/n 新世航日记/nz 案情/n 参考价值/n \n",
      "----------------------------------------\n"
     ]
    }
   ],
   "source": [
    "import jieba\n",
    "\n",
    "## load user dictionary ##\n",
    "user_dict_path = cwd + '\\\\data\\\\userdict_p.txt'\n",
    "jieba.load_userdict(user_dict_path)\n",
    "    \n",
    "## load stop words ##\n",
    "stop_words_path = cwd + '\\\\data\\\\stop_words.txt'\n",
    "\n",
    "stop_words = set()\n",
    "\n",
    "with open(stop_words_path,'r',encoding='utf-8') as sw:\n",
    "    [stop_words.add(line.strip()) for line in sw.readlines()] #list Comprehension\n",
    "\n",
    "stop_words.add('，');\n",
    "stop_words.add('。');\n",
    "stop_words.add('说');\n",
    "stop_words.add('约');\n",
    "stop_words.add('处');\n",
    "\n",
    "jieba.suggest_freq(('中', '待'), True)\n",
    "\n",
    "# subject = ['ng','n','nr','ns','nt','nz','ag','a','ad','an','d','dg','e','v','vg','vd','vn','x']\n",
    "\n",
    "## word segmentation ##\n",
    "words_list = list()\n",
    "\n",
    "for i in range(len(all_news)):\n",
    "    word = list()\n",
    "    line = all_news[i]\n",
    "    \n",
    "    result = pseg.cut(str(line)) \n",
    "    \n",
    "    for w,s in result:\n",
    "        if w not in stop_words and s[0] == 'n':\n",
    "            word.append(w)\n",
    "            print(w + '/' + s, end=' ')\n",
    "    \n",
    "    words_list.append(' '.join(word))\n",
    "    \n",
    "    print()\n",
    "    print('-' * 40)"
   ]
  },
  {
   "cell_type": "code",
   "execution_count": 8,
   "metadata": {},
   "outputs": [
    {
     "name": "stdout",
     "output_type": "stream",
     "text": [
      "Doc 0 :\n",
      "伊拉克    \t1.20214\n",
      "威廉斯    \t0.78747\n",
      "原油     \t0.78680\n",
      "油轮     \t0.73820\n",
      "波斯湾    \t0.67468\n",
      "北波斯湾   \t0.45980\n",
      "漏油     \t0.43314\n",
      "多国部队   \t0.41405\n",
      "转运站    \t0.40788\n",
      "美国国防部  \t0.38656\n",
      "\n",
      "Doc 1 :\n",
      "油污     \t1.42968\n",
      "原油     \t1.36379\n",
      "波斯湾    \t1.16944\n",
      "卡夫吉    \t0.79698\n",
      "海鸟     \t0.67293\n",
      "科威特    \t0.59871\n",
      "沙特阿拉伯  \t0.58632\n",
      "层层     \t0.55226\n",
      "战事     \t0.53930\n",
      "海面     \t0.50642\n",
      "\n",
      "Doc 2 :\n",
      "广告     \t1.22879\n",
      "可囗可乐   \t0.99623\n",
      "日本     \t0.62577\n",
      "机运     \t0.50454\n",
      "吉田荣作   \t0.49812\n",
      "织田裕二   \t0.49812\n",
      "加势大周   \t0.49812\n",
      "演艺圈    \t0.44344\n",
      "模特儿    \t0.42874\n",
      "偶像     \t0.38488\n",
      "\n",
      "Doc 3 :\n",
      "游闻道    \t1.25840\n",
      "喋血案    \t1.25840\n",
      "新世航一号  \t0.62920\n",
      "吕姓     \t0.62920\n",
      "吕政道    \t0.62920\n",
      "白道     \t0.57664\n",
      "黑道     \t0.56014\n",
      "关联性    \t0.53490\n",
      "船员     \t0.48519\n",
      "渔船     \t0.47383\n",
      "\n",
      "Doc 4 :\n",
      "喋血案    \t1.59397\n",
      "刘宪助    \t1.59397\n",
      "渔船     \t1.20038\n",
      "补记     \t0.83429\n",
      "新世航    \t0.79698\n",
      "新世航日记  \t0.79698\n",
      "人员     \t0.74547\n",
      "案情     \t0.61582\n",
      "厨师     \t0.60755\n",
      "参考价值   \t0.60019\n",
      "\n"
     ]
    }
   ],
   "source": [
    "import jieba.analyse as analyse\n",
    "\n",
    "for i in range(len(words_list)):\n",
    "    print('Doc ' + str(i) + ' :')\n",
    "    for key,value in analyse.extract_tags(words_list[i], 10, withWeight=True):\n",
    "        print('%-7s\\t%7.5f' % (key, value))\n",
    "    print()"
   ]
  },
  {
   "cell_type": "code",
   "execution_count": 9,
   "metadata": {},
   "outputs": [
    {
     "name": "stdout",
     "output_type": "stream",
     "text": [
      "Doc 0 :\n",
      "伊拉克    \t1.15762\n",
      "威廉斯    \t0.75830\n",
      "原油     \t0.75766\n",
      "油轮     \t0.71086\n",
      "波斯湾    \t0.64969\n",
      "北波斯湾   \t0.44277\n",
      "将油     \t0.44277\n",
      "漏油     \t0.41710\n",
      "多国部队   \t0.39871\n",
      "转运站    \t0.39277\n",
      "\n",
      "Doc 1 :\n",
      "油污     \t1.34033\n",
      "原油     \t1.27856\n",
      "波斯湾    \t1.09635\n",
      "卡夫吉    \t0.74717\n",
      "海鸟     \t0.63088\n",
      "科威特    \t0.56129\n",
      "沙特阿拉伯  \t0.54967\n",
      "层层     \t0.51774\n",
      "战事     \t0.50560\n",
      "海面     \t0.47476\n",
      "\n",
      "Doc 2 :\n",
      "广告     \t1.22879\n",
      "可囗可乐   \t0.99623\n",
      "日本     \t0.62577\n",
      "机运     \t0.50454\n",
      "吉田荣作   \t0.49812\n",
      "织田裕二   \t0.49812\n",
      "加势大周   \t0.49812\n",
      "演艺圈    \t0.44344\n",
      "模特儿    \t0.42874\n",
      "偶像     \t0.38488\n",
      "\n",
      "Doc 3 :\n",
      "游闻道    \t1.25840\n",
      "喋血案    \t1.25840\n",
      "新世航一号  \t0.62920\n",
      "吕姓     \t0.62920\n",
      "吕政道    \t0.62920\n",
      "白道     \t0.57664\n",
      "黑道     \t0.56014\n",
      "关联性    \t0.53490\n",
      "船员     \t0.48519\n",
      "渔船     \t0.47383\n",
      "\n",
      "Doc 4 :\n",
      "喋血案    \t1.59397\n",
      "刘宪助    \t1.59397\n",
      "渔船     \t1.20038\n",
      "补记     \t0.83429\n",
      "新世航    \t0.79698\n",
      "新世航日记  \t0.79698\n",
      "人员     \t0.74547\n",
      "案情     \t0.61582\n",
      "厨师     \t0.60755\n",
      "参考价值   \t0.60019\n",
      "\n"
     ]
    }
   ],
   "source": [
    "import jieba.analyse as analyse\n",
    "\n",
    "for i in range(len(all_news)):\n",
    "    print('Doc ' + str(i) + ' :')\n",
    "    for key,value in analyse.extract_tags(all_news[i], 10, withWeight=True, allowPOS=('n', 'nr', 'nrt', 'ns', 'nt', 'nz')):\n",
    "        print('%-7s\\t%7.5f' % (key, value))\n",
    "    print()"
   ]
  },
  {
   "cell_type": "code",
   "execution_count": null,
   "metadata": {},
   "outputs": [],
   "source": []
  }
 ],
 "metadata": {
  "kernelspec": {
   "display_name": "Python 3",
   "language": "python",
   "name": "python3"
  },
  "language_info": {
   "codemirror_mode": {
    "name": "ipython",
    "version": 3
   },
   "file_extension": ".py",
   "mimetype": "text/x-python",
   "name": "python",
   "nbconvert_exporter": "python",
   "pygments_lexer": "ipython3",
   "version": "3.6.4"
  }
 },
 "nbformat": 4,
 "nbformat_minor": 2
}
