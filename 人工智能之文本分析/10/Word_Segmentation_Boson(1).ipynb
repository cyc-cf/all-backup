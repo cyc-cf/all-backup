{
 "cells": [
  {
   "cell_type": "code",
   "execution_count": 1,
   "metadata": {},
   "outputs": [
    {
     "name": "stdout",
     "output_type": "stream",
     "text": [
      "C:\\Users\\leeys\\Desktop\\workspace\\文本分析\\data\\Demo5Files\n"
     ]
    }
   ],
   "source": [
    "import os\n",
    "\n",
    "cwd = os.getcwd()\n",
    "Data_Folder = cwd + '\\data\\Demo5Files'\n",
    "\n",
    "print(Data_Folder)"
   ]
  },
  {
   "cell_type": "code",
   "execution_count": 2,
   "metadata": {},
   "outputs": [
    {
     "name": "stdout",
     "output_type": "stream",
     "text": [
      "C:\\Users\\leeys\\Desktop\\workspace\\文本分析\\data\\Demo5Files\\国际\\2.txt\n",
      "C:\\Users\\leeys\\Desktop\\workspace\\文本分析\\data\\Demo5Files\\国际\\3.txt\n",
      "C:\\Users\\leeys\\Desktop\\workspace\\文本分析\\data\\Demo5Files\\娱乐\\1.txt\n",
      "C:\\Users\\leeys\\Desktop\\workspace\\文本分析\\data\\Demo5Files\\社会\\4.txt\n",
      "C:\\Users\\leeys\\Desktop\\workspace\\文本分析\\data\\Demo5Files\\社会\\5.txt\n"
     ]
    }
   ],
   "source": [
    "from os import walk # 文件走訪\n",
    "from os.path import join # 路徑合併\n",
    "\n",
    "file_list = list()\n",
    "\n",
    "for root, dirs, files in walk(Data_Folder):\n",
    "    for file in files:\n",
    "        file = join(root, file)\n",
    "        print(file)\n",
    "        file_list.append(file)"
   ]
  },
  {
   "cell_type": "code",
   "execution_count": 3,
   "metadata": {},
   "outputs": [
    {
     "name": "stdout",
     "output_type": "stream",
     "text": [
      "['美国国防部发言人威廉斯说，伊拉克仍持续将五艘共约载有万桶原油的超级油轮，与距科威特海岸五公里处的海岛石油转运站的原油倾入北波斯湾。美国和沙特阿拉伯军方说，伊拉克已连续第四天将原油倾入波斯湾。威廉斯说，伊拉克故意将油漏出波斯湾。伊拉克则指控，漏油是因多国部队轰炸两艘油轮而引起。环保专家说，一场环保灾难已经发生。', '波斯湾战事引发原油外泄后，波斯湾沙特阿拉伯海岸，廿六日平静的海面，闪着发亮的层层油污，大批被原油覆身的海鸟，停在海岸，因油污而寸步难行，无法展翅起飞，生态灾难令人怵目惊心。廿六日晚间，原油已流往科威特巿南方一百廿公里附近的卡夫吉。', '继吉田荣作和织田裕二之后，日本演艺圈又多了一个难得的男偶像明星，那就是加势大周。只要在日本有看过可囗可乐广告的观众朋友一定对他留下了深刻的印象。其实在拍这支广告前他已经在模特儿行业中待过一阵子了，但是机运一直不是很好。好的人才老天是不会埋没的，可囗可乐这支广告终于使他变成了日本家喻户晓的人物。广告的魅力之大可想而知！', '新世航一号渔船上的我国籍船员绰号「黑道」游闻道和「白道」吕姓少年，在喋血案之前，因不堪船上干部凌虐，曾跳海逃生后被救起，并被船长强迫立下「悔过书」。项目人员指出，游闻道、吕政道跳海被救起的隔日，即发生喋血案，因此两事件应有某种程度的关联性。', '侦办新世航渔船喋血案的项目人员指出，渔船上的厨师刘宪助经初步调查，可能是船上唯一未参与两次喋血案的人员。且刘宪助后来补记的「新世航日记」对整个案情的侦办上有重要的参考价值。']\n",
      "['国际', '国际', '娱乐', '社会', '社会']\n"
     ]
    }
   ],
   "source": [
    "import codecs        \n",
    "\n",
    "## load news ##\n",
    "all_news = list()\n",
    "category = list()\n",
    "\n",
    "for file in file_list:\n",
    "    with codecs.open(file, 'r', encoding='utf-8') as news:\n",
    "        all_news.append(news.read())\n",
    "        category.append(file.split('\\\\')[-2]) #-2為類別層  ex:XXX/娛樂/0.txt  \n",
    "\n",
    "print(all_news)\n",
    "print(category)"
   ]
  },
  {
   "cell_type": "code",
   "execution_count": 67,
   "metadata": {},
   "outputs": [
    {
     "name": "stdout",
     "output_type": "stream",
     "text": [
      "[{'word': ['承德市', '长江', '大桥'], 'tag': ['ns', 'ns', 'n']}]\n",
      "['承德市', '长江', '大桥']\n",
      "['ns', 'ns', 'n']\n",
      "承德市/ns 长江/ns 大桥/n \n",
      "承德市/ns 长江/ns 大桥/n\n"
     ]
    }
   ],
   "source": [
    "from bosonnlp import BosonNLP\n",
    "\n",
    "words_list = list()\n",
    "\n",
    "nlp = BosonNLP('g8lQg9Mv.25818.fAbbwt6TYhh8') # 使用token\n",
    "result = nlp.tag('承德市长江大桥')\n",
    "\n",
    "print(result)\n",
    "print(result[0]['word'])\n",
    "print(result[0]['tag'])\n",
    "\n",
    "for i in range(len(result[0]['word'])):\n",
    "    print(result[0]['word'][i] + '/' + result[0]['tag'][i], end=' ')\n",
    "print()\n",
    "\n",
    "print(' '.join([a + '/' + b for a, b in zip(result[0]['word'], result[0]['tag'])]))"
   ]
  },
  {
   "cell_type": "code",
   "execution_count": 5,
   "metadata": {},
   "outputs": [
    {
     "name": "stdout",
     "output_type": "stream",
     "text": [
      "499991\n",
      "['美国 国防部 发言人 威廉斯 说 ， 伊拉克 仍 持续 将 五 艘 共 约 载有 万 桶 原油 的 超级 油轮 ， 与 距 科威特 海岸 五 公里 处 的 海岛 石油 转运站 的 原油 倾 入 北 波斯湾 。 美国 和 沙特阿拉伯 军方 说 ， 伊拉克 已 连续 第四 天 将 原油 倾 入 波斯湾 。 威廉斯 说 ， 伊拉克 故意 将 油 漏 出 波斯湾 。 伊拉克 则 指控 ， 漏油 是 因 多 国 部队 轰炸 两 艘 油轮 而 引起 。 环保 专家 说 ， 一 场 环保 灾难 已经 发生 。', '波斯湾 战事 引发 原油 外泄 后 ， 波斯湾 沙特阿拉伯 海岸 ， 廿六 日 平静 的 海面 ， 闪 着 发亮 的 层层 油污 ， 大批 被 原油 覆 身 的 海鸟 ， 停 在 海岸 ， 因 油污 而 寸步难行 ， 无法 展翅 起飞 ， 生态 灾难 令 人 怵 目 惊 心 。 廿六 日 晚间 ， 原油 已 流 往 科威特 巿 南方 一百 廿 公里 附近 的 卡夫吉 。', '继 吉田荣作 和 织田裕二 之后 ， 日本 演艺圈 又 多 了 一个 难得 的 男 偶像 明星 ， 那 就 是 加 势 大 周 。 只要 在 日本 有 看 过 可囗 可乐 广告 的 观众 朋友 一定 对 他 留下 了 深刻 的 印象 。 其实 在 拍 这 支 广告 前 他 已经 在 模特儿 行业 中 待 过 一阵子 了 ， 但是 机运 一直 不 是 很 好 。 好 的 人才 老天 是 不 会 埋没 的 ， 可囗 可乐 这 支 广告 终于 使 他 变成 了 日本 家喻户晓 的 人物 。 广告 的 魅力 之 大 可想而知 ！', '新 世航 一 号 渔船 上 的 我国 籍 船员 绰号 「 黑道 」 游闻道 和 「 白道 」 吕 姓 少年 ， 在 喋 血案 之前 ， 因 不堪 船上 干部 凌虐 ， 曾 跳 海 逃生 后 被 救起 ， 并 被 船长 强迫 立 下 「 悔 过 书 」 。 项目 人员 指出 ， 游闻道 、 吕政道 跳 海 被 救起 的 隔日 ， 即 发生 喋 血案 ， 因此 两 事件 应有 某种 程度 的 关联性 。', '侦办 新世航 渔船 喋 血案 的 项目 人员 指出 ， 渔船 上 的 厨师 刘宪助 经 初步 调查 ， 可能 是 船上 唯一 未 参与 两 次 喋 血案 的 人员 。 且 刘宪助 后来 补 记 的 「 新世航 日记 」 对 整个 案情 的 侦办 上 有 重要 的 参考 价值 。']\n"
     ]
    }
   ],
   "source": [
    "from bosonnlp import BosonNLP\n",
    "import requests\n",
    "\n",
    "tokens = ['g8lQg9Mv.25818.fAbbwt6TYhh8',\n",
    "          'Xrzs7xvr.26748.xUoREj5Sgifi',\n",
    "          'ySsYfLMS.26746.MrODj8fAYeQu',\n",
    "          'DOeszme9.26747.xg3lcXi7Jun4',\n",
    "          '8EP496lI.26743.mNK0Tk6Rpk5F',\n",
    "          'qiVsBy45.26744.9-U4aaXH2yEs',\n",
    "          'VQhpIMCp.26745.54QuPLs-LBkE',] #boson api token\n",
    "\n",
    "# Check Usage Time\n",
    "HEADERS = {'X-Token': tokens[0]}\n",
    "RATE_LIMIT_URL = 'http://api.bosonnlp.com/application/rate_limit_status.json'\n",
    "result = requests.get(RATE_LIMIT_URL, headers=HEADERS).json()\n",
    "canUseTime = result['limits']['tag']['count-limit-remaining']\n",
    "print(canUseTime)\n",
    "\n",
    "## Word Segmentation\n",
    "words_list = list()\n",
    "\n",
    "nlp = BosonNLP(tokens[0]) #使用token\n",
    "result = nlp.tag(all_news)\n",
    "\n",
    "for seg in result:\n",
    "    word = list()\n",
    "    \n",
    "    for w in seg['word']:\n",
    "        word.append(w)\n",
    "    \n",
    "    words_list.append(' '.join(word))\n",
    "\n",
    "print(words_list)"
   ]
  },
  {
   "cell_type": "code",
   "execution_count": 69,
   "metadata": {},
   "outputs": [
    {
     "name": "stdout",
     "output_type": "stream",
     "text": [
      "499900\n",
      "['美国 国防部 发言人 威廉斯 伊拉克 持续 艘 载有 万 桶 原油 超级 油轮 科威特 海岸 公里 海岛 石油 转运站 原油 倾 入 北 波斯湾 美国 沙特阿拉伯 军方 伊拉克 连续 第四 天 原油 倾 入 波斯湾 威廉斯 伊拉克 油 漏 波斯湾 伊拉克 指控 漏油 国 部队 轰炸 两 艘 油轮 环保 专家 场 环保 灾难 发生', '波斯湾 战事 引发 原油 外泄 波斯湾 沙特阿拉伯 海岸 廿六 日 平静 海面 闪 发亮 层层 油污 原油 覆 身 海鸟 停 海岸 油污 寸步难行 展翅 起飞 生态 灾难 令 怵 目 惊 心 廿六 日 晚间 原油 流 科威特 巿 南方 一百 廿 公里 卡夫吉', '继 吉田荣作 织田裕二 日本 演艺圈 男 偶像 明星 加 势 周 日本 可囗 可乐 广告 观众 朋友 留下 深刻 印象 拍 支 广告 前 模特儿 行业 中 一阵子 机运 人才 老天 埋没 可囗 可乐 支 广告 终于 日本 家喻户晓 人物 广告 魅力 可想而知', '新 世航 号 渔船 我国 籍 船员 绰号 「 黑道 游闻道 「 白道 吕 姓 少年 喋 血案 不堪 船上 干部 凌虐 跳 海 逃生 救起 船长 强迫 「 悔 书 项目 人员 指出 游闻道 吕政道 跳 海 救起 发生 喋 血案 两 事件 应有 某种 程度 关联性', '侦办 新世航 渔船 喋 血案 项目 人员 指出 渔船 厨师 刘宪助 初步 调查 船上 唯一 未 参与 两 次 喋 血案 人员 刘宪助 补 记 「 新世航 日记 案情 侦办 参考 价值']\n"
     ]
    }
   ],
   "source": [
    "from bosonnlp import BosonNLP\n",
    "import requests\n",
    "\n",
    "## load stop words ##\n",
    "stop_words_path = cwd + '\\\\data\\\\stop_words.txt'\n",
    "\n",
    "stop_words = set()\n",
    "\n",
    "with open(stop_words_path,'r',encoding='utf-8') as sw:\n",
    "    [stop_words.add(line.strip()) for line in sw.readlines()] #list Comprehension\n",
    "\n",
    "stop_words.add('，');\n",
    "stop_words.add('。');\n",
    "stop_words.add('说');\n",
    "stop_words.add('约');\n",
    "stop_words.add('处');\n",
    "\n",
    "\n",
    "tokens = ['g8lQg9Mv.25818.fAbbwt6TYhh8',\n",
    "          'Xrzs7xvr.26748.xUoREj5Sgifi',\n",
    "          'ySsYfLMS.26746.MrODj8fAYeQu',\n",
    "          'DOeszme9.26747.xg3lcXi7Jun4',\n",
    "          '8EP496lI.26743.mNK0Tk6Rpk5F',\n",
    "          'qiVsBy45.26744.9-U4aaXH2yEs',\n",
    "          'VQhpIMCp.26745.54QuPLs-LBkE',] #boson api token\n",
    "\n",
    "# Check Usage Time\n",
    "HEADERS = {'X-Token': tokens[0]}\n",
    "RATE_LIMIT_URL = 'http://api.bosonnlp.com/application/rate_limit_status.json'\n",
    "result = requests.get(RATE_LIMIT_URL, headers=HEADERS).json()\n",
    "canUseTime = result['limits']['tag']['count-limit-remaining']\n",
    "print(canUseTime)\n",
    "\n",
    "## Word Segmentation\n",
    "words_list = list()\n",
    "\n",
    "nlp = BosonNLP(tokens[0]) #使用token\n",
    "result = nlp.tag(all_news)\n",
    "\n",
    "for seg in result:\n",
    "    word = list()\n",
    "    \n",
    "    for w in seg['word']:\n",
    "        if w not in stop_words:\n",
    "            word.append(w)\n",
    "    \n",
    "    words_list.append(' '.join(word))\n",
    "\n",
    "print(words_list)"
   ]
  },
  {
   "cell_type": "code",
   "execution_count": 70,
   "metadata": {},
   "outputs": [
    {
     "name": "stdout",
     "output_type": "stream",
     "text": [
      "499895\n",
      "美国/ns 国防部/n 发言人/n 威廉斯/nrf 伊拉克/ns 原油/n 油轮/n 科威特/ns 海岸/n 海岛/n 石油/n 转运站/n 原油/n 波斯湾/ns 美国/ns 沙特阿拉伯/ns 军方/n 伊拉克/ns 原油/n 波斯湾/ns 威廉斯/nrf 伊拉克/ns 油/n 波斯湾/ns 伊拉克/ns 漏油/n 国/n 部队/n 油轮/n 环保/n 专家/n 环保/n 灾难/n \n",
      "----------------------------------------\n",
      "波斯湾/ns 战事/n 原油/n 波斯湾/ns 沙特阿拉伯/ns 海岸/n 海面/n 油污/n 原油/n 身/n 海鸟/n 海岸/n 油污/n 生态/n 灾难/n 目/n 心/n 原油/n 科威特/ns 巿/n 廿/n 卡夫吉/nrf \n",
      "----------------------------------------\n",
      "吉田荣作/nrf 织田裕二/nrf 日本/ns 演艺圈/n 偶像/n 明星/n 势/n 周/n 日本/ns 可囗/n 可乐/nz 广告/n 观众/n 朋友/n 印象/n 广告/n 模特儿/n 行业/n 机运/n 人才/n 老天/n 可囗/nz 可乐/n 广告/n 日本/ns 人物/n 广告/n 魅力/n \n",
      "----------------------------------------\n",
      "世航/n 渔船/n 我国/n 籍/n 船员/n 绰号/n 黑道/n 游闻道/ns 白道/n 吕/nr1 姓/n 少年/n 喋/n 血案/n 干部/n 凌虐/nr 海/n 船长/n 书/n 项目/n 人员/n 游闻道/ns 吕政道/ns 海/n 喋/n 血案/n 事件/n 程度/n 关联性/n \n",
      "----------------------------------------\n",
      "新世航/nz 渔船/n 喋/n 血案/n 项目/n 人员/n 渔船/n 厨师/n 刘宪助/nr 喋/n 血案/n 人员/n 刘宪助/nr 新世航/n 日记/n 案情/n 侦办/n 参考/n 价值/n \n",
      "----------------------------------------\n",
      "['美国 国防部 发言人 威廉斯 伊拉克 原油 油轮 科威特 海岸 海岛 石油 转运站 原油 波斯湾 美国 沙特阿拉伯 军方 伊拉克 原油 波斯湾 威廉斯 伊拉克 油 波斯湾 伊拉克 漏油 国 部队 油轮 环保 专家 环保 灾难', '波斯湾 战事 原油 波斯湾 沙特阿拉伯 海岸 海面 油污 原油 身 海鸟 海岸 油污 生态 灾难 目 心 原油 科威特 巿 廿 卡夫吉', '吉田荣作 织田裕二 日本 演艺圈 偶像 明星 势 周 日本 可囗 可乐 广告 观众 朋友 印象 广告 模特儿 行业 机运 人才 老天 可囗 可乐 广告 日本 人物 广告 魅力', '世航 渔船 我国 籍 船员 绰号 黑道 游闻道 白道 吕 姓 少年 喋 血案 干部 凌虐 海 船长 书 项目 人员 游闻道 吕政道 海 喋 血案 事件 程度 关联性', '新世航 渔船 喋 血案 项目 人员 渔船 厨师 刘宪助 喋 血案 人员 刘宪助 新世航 日记 案情 侦办 参考 价值']\n"
     ]
    }
   ],
   "source": [
    "from bosonnlp import BosonNLP\n",
    "import requests\n",
    "\n",
    "## load stop words ##\n",
    "stop_words_path = cwd + '\\\\data\\\\stop_words.txt'\n",
    "\n",
    "stop_words = set()\n",
    "\n",
    "with open(stop_words_path,'r',encoding='utf-8') as sw:\n",
    "    [stop_words.add(line.strip()) for line in sw.readlines()] #list Comprehension\n",
    "\n",
    "stop_words.add('，');\n",
    "stop_words.add('。');\n",
    "stop_words.add('说');\n",
    "stop_words.add('约');\n",
    "stop_words.add('处');\n",
    "\n",
    "\n",
    "tokens = ['g8lQg9Mv.25818.fAbbwt6TYhh8',\n",
    "          'Xrzs7xvr.26748.xUoREj5Sgifi',\n",
    "          'ySsYfLMS.26746.MrODj8fAYeQu',\n",
    "          'DOeszme9.26747.xg3lcXi7Jun4',\n",
    "          '8EP496lI.26743.mNK0Tk6Rpk5F',\n",
    "          'qiVsBy45.26744.9-U4aaXH2yEs',\n",
    "          'VQhpIMCp.26745.54QuPLs-LBkE',] #boson api token\n",
    "\n",
    "# Check Usage Time\n",
    "HEADERS = {'X-Token': tokens[0]}\n",
    "RATE_LIMIT_URL = 'http://api.bosonnlp.com/application/rate_limit_status.json'\n",
    "result = requests.get(RATE_LIMIT_URL, headers=HEADERS).json()\n",
    "canUseTime = result['limits']['tag']['count-limit-remaining']\n",
    "print(canUseTime)\n",
    "\n",
    "## Word Segmentation\n",
    "words_list = list()\n",
    "\n",
    "nlp = BosonNLP(tokens[0]) #使用token\n",
    "result = nlp.tag(all_news)\n",
    "\n",
    "# subject = ['ng','n','nr','ns','nt','nz','ag','a','ad','an','d','dg','e','v','vg','vd','vn','x']\n",
    "\n",
    "for seg in result:\n",
    "    word = list()\n",
    "    \n",
    "    for w,s in zip(seg['word'],seg['tag']):\n",
    "        if w not in stop_words and s[0] == 'n':\n",
    "            word.append(w)\n",
    "            print(w + '/' + s, end=' ')\n",
    "    \n",
    "    words_list.append(' '.join(word))\n",
    "    print()\n",
    "    print('-' * 40)\n",
    "\n",
    "print(words_list)"
   ]
  },
  {
   "cell_type": "code",
   "execution_count": 71,
   "metadata": {},
   "outputs": [
    {
     "name": "stdout",
     "output_type": "stream",
     "text": [
      "[{'word': ['承德市', '长江', '大桥'], 'tag': ['ns', 'ns', 'n']}]\n",
      "['承德市', '长江', '大桥']\n",
      "['ns', 'ns', 'n']\n",
      "承德市/ns 长江/ns 大桥/n \n",
      "承德市/ns 长江/ns 大桥/n\n",
      "['美国', '国防部', '发言人', '威廉斯', '说', '，', '伊拉克', '持续', '将', '五', '艘', '共', '约', '载有', '万', '桶', '原油', '的', '超级', '油轮', '，', '与', '距', '科威特', '海岸', '五', '公里', '处', '的', '海岛', '石油', '转运站', '的', '原油', '倾', '入', '北', '波斯湾', '。']\n",
      "['ns', 'n', 'n', 'nrf', 'v', 'wd', 'ns', 'vi', 'p', 'm', 'q', 'd', 'v', 'v', 'm', 'q', 'n', 'ude', 'b', 'n', 'wd', 'p', 'p', 'ns', 'n', 'm', 'q', 'n', 'ude', 'n', 'n', 'n', 'ude', 'n', 'vi', 'v', 'f', 'ns', 'wj']\n",
      "[[0, 2, 'org_name'], [2, 3, 'job_title'], [3, 4, 'person_name'], [6, 7, 'location'], [23, 28, 'location'], [36, 38, 'location']]\n",
      "美国国防部         \torg_name\n",
      "发言人           \tjob_title\n",
      "威廉斯           \tperson_name\n",
      "伊拉克           \tlocation\n",
      "科威特海岸五公里处     \tlocation\n",
      "北波斯湾          \tlocation\n"
     ]
    }
   ],
   "source": [
    "from bosonnlp import BosonNLP\n",
    "\n",
    "words_list = list()\n",
    "\n",
    "nlp = BosonNLP('g8lQg9Mv.25818.fAbbwt6TYhh8') # 使用token\n",
    "result = nlp.tag('承德市长江大桥')\n",
    "\n",
    "print(result)\n",
    "print(result[0]['word'])\n",
    "print(result[0]['tag'])\n",
    "\n",
    "for i in range(len(result[0]['word'])):\n",
    "    print(result[0]['word'][i] + '/' + result[0]['tag'][i], end=' ')\n",
    "print()\n",
    "\n",
    "print(' '.join([a + '/' + b for a, b in zip(result[0]['word'], result[0]['tag'])]))\n",
    "\n",
    "# sensitivity (int 默认为 3) – 准确率与召回率之间的平衡， 设置成 1 能找到更多的实体，设置成 5 能以更高的精度寻找实体。\n",
    "sentence = '美国国防部发言人威廉斯说，伊拉克持续将五艘共约载有万桶原油的超级油轮，与距科威特海岸五公里处的海岛石油转运站的原油倾入北波斯湾。'\n",
    "result = nlp.ner(sentence, sensitivity = 2)\n",
    "\n",
    "print(result[0]['word'])\n",
    "print(result[0]['tag'])\n",
    "print(result[0]['entity'])\n",
    "\n",
    "\n",
    "for s, e, entity in result[0]['entity']:\n",
    "    print('%-14s\\t%s' % (''.join(result[0]['word'][s:e]), entity))"
   ]
  },
  {
   "cell_type": "code",
   "execution_count": null,
   "metadata": {},
   "outputs": [],
   "source": []
  }
 ],
 "metadata": {
  "kernelspec": {
   "display_name": "Python 3",
   "language": "python",
   "name": "python3"
  },
  "language_info": {
   "codemirror_mode": {
    "name": "ipython",
    "version": 3
   },
   "file_extension": ".py",
   "mimetype": "text/x-python",
   "name": "python",
   "nbconvert_exporter": "python",
   "pygments_lexer": "ipython3",
   "version": "3.6.4"
  }
 },
 "nbformat": 4,
 "nbformat_minor": 2
}
