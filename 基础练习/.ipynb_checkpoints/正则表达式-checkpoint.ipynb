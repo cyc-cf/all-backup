{
 "cells": [
  {
   "cell_type": "code",
   "execution_count": 1,
   "metadata": {},
   "outputs": [],
   "source": [
    "import re"
   ]
  },
  {
   "cell_type": "code",
   "execution_count": 2,
   "metadata": {},
   "outputs": [],
   "source": [
    "s='都是分开了对加油简介事故大叔记性差倒萨的有'"
   ]
  },
  {
   "cell_type": "code",
   "execution_count": 3,
   "metadata": {},
   "outputs": [
    {
     "data": {
      "text/plain": [
       "<re.Match object; span=(5, 12), match='对加油简介事故'>"
      ]
     },
     "execution_count": 3,
     "metadata": {},
     "output_type": "execute_result"
    }
   ],
   "source": [
    "x = re.search(r'对(.*?)事故',s)\n",
    "x"
   ]
  },
  {
   "cell_type": "code",
   "execution_count": null,
   "metadata": {},
   "outputs": [],
   "source": [
    "x.group(1)"
   ]
  },
  {
   "cell_type": "code",
   "execution_count": 1,
   "metadata": {},
   "outputs": [
    {
     "data": {
      "text/plain": [
       "6"
      ]
     },
     "execution_count": 1,
     "metadata": {},
     "output_type": "execute_result"
    }
   ],
   "source": [
    "sor=[1,2,3,5,6,7]\n",
    "len(sor)"
   ]
  },
  {
   "cell_type": "code",
   "execution_count": 2,
   "metadata": {},
   "outputs": [
    {
     "data": {
      "text/plain": [
       "2"
      ]
     },
     "execution_count": 2,
     "metadata": {},
     "output_type": "execute_result"
    }
   ],
   "source": [
    "sor[1]"
   ]
  },
  {
   "cell_type": "code",
   "execution_count": 1,
   "metadata": {},
   "outputs": [],
   "source": [
    "import requests\n",
    "import pandas as pd\n",
    "import re\n",
    "import os\n",
    "import time\n",
    "from bs4 import BeautifulSoup"
   ]
  },
  {
   "cell_type": "code",
   "execution_count": 17,
   "metadata": {},
   "outputs": [
    {
     "data": {
      "text/plain": [
       "[{'_id': '吊钻杆下钻台时下放速度过快砸伤手指事故&#xD;点击数：4967&#xD;发表时间：20年11月12日',\n",
       "  'title': '/images/hot.gif\"'},\n",
       " {'_id': '用钢丝绳作绳套吊钻杆上钻台伤人事故&#xD;点击数：4552&#xD;发表时间：20年11月12日',\n",
       "  'title': '/images/hot.gif\"'},\n",
       " {'_id': '盲目操作被套管撞击致伤事故&#xD;点击数：4732&#xD;发表时间：20年11月12日',\n",
       "  'title': '/images/hot.gif\"'},\n",
       " {'_id': '套管堆放超高致人受伤事故&#xD;点击数：4301&#xD;发表时间：20年11月12日',\n",
       "  'title': '/images/hot.gif\"'},\n",
       " {'_id': '安装立管时绳套打滑砸伤一人事故&#xD;点击数：4130&#xD;发表时间：20年11月12日',\n",
       "  'title': '/images/hot.gif\"'},\n",
       " {'_id': '拆井架时违章操作致人摔伤&#xD;点击数：4140&#xD;发表时间：20年11月12日',\n",
       "  'title': '/images/hot.gif\"'},\n",
       " {'_id': '未戴安全帽撞伤头部&#xD;点击数：1755&#xD;发表时间：20年11月12日',\n",
       "  'title': '/images/hot.gif\"'},\n",
       " {'_id': '砸伤脚趾骨事故&#xD;点击数：9750&#xD;发表时间：20年04月06日',\n",
       "  'title': '/images/hot.gif\"'},\n",
       " {'_id': '车高速棒料 飞出打在脸部致伤&#xD;点击数：5246&#xD;发表时间：20年04月06日',\n",
       "  'title': '/images/hot.gif\"'},\n",
       " {'_id': '伸缩梁砸伤事故&#xD;点击数：4833&#xD;发表时间：20年04月06日',\n",
       "  'title': '/images/hot.gif\"'},\n",
       " {'_id': '拇指砸伤事故&#xD;点击数：6033&#xD;发表时间：20年04月06日',\n",
       "  'title': '/images/hot.gif\"'},\n",
       " {'_id': '焊接伸缩梁工伤事故&#xD;点击数：4990&#xD;发表时间：20年04月06日',\n",
       "  'title': '/images/hot.gif\"'},\n",
       " {'_id': '吊装起重事故&#xD;点击数：8079&#xD;发表时间：20年04月06日',\n",
       "  'title': '/images/hot.gif\"'},\n",
       " {'_id': '滚落的废钢将其砸伤&#xD;点击数：1169&#xD;发表时间：20年04月06日',\n",
       "  'title': '/images/hot.gif\"'},\n",
       " {'_id': '天车掉下槽钢险些伤人的隐患事故&#xD;点击数：1237&#xD;发表时间：20年04月06日',\n",
       "  'title': '/images/hot.gif\"'}]"
      ]
     },
     "execution_count": 17,
     "metadata": {},
     "output_type": "execute_result"
    }
   ],
   "source": [
    "url = 'http://www.safehoo.com/Case/'\n",
    "headers = {\n",
    "        'Cookie':'UM_distinctid=1784ded06e1ae4-07a28a5ae96d69-416d2310-13c680-1784ded06e29b2;  CNZZDATA1254435984=1164384084-1616211641-nul1%7C1616211641;cfduid=d108ba1322724f4b3520d69fd1ecd52 b31618911278;ASP.NET_SessionId=u141lcq5ye0kqcixij4nt0im;Hm_ lvt_c1ab114862618ab1c8ff0afaede5a797=1618911279',\n",
    "        'User-Agent':'Mozilla/5.0 (Windows NT 10.0;WOW64) AppleWebKit/537.36 (KHTML,like Gecko) Chrome/84.0.4147.89 Safari/537.36 SLBrowser/7.0.0.4071 SLBChan/30',\n",
    "        'Referrer':'http://www.safehoo.com/Case/'\n",
    "        }\n",
    "html = requests.get(url,headers=headers)\n",
    "html.encoding = html.apparent_encoding\n",
    "\n",
    "urllst = 'http://www.safehoo.com/Case/Case/Hit/'\n",
    "html = requests.get(urllst,headers=headers)\n",
    "html.encoding = html.apparent_encoding\n",
    "pattern = re.compile(r'<a href=\"(.*?)\" target=\"_blank\" title=\"标题：(.*?)\">.*?</a><img src=\"(.*?) alt=\"热门内容\">')\n",
    "info = re.findall(pattern, html.text)\n",
    "datals = []\n",
    "for i in info:\n",
    "    dic = {}\n",
    "    dic['_id'] = i[1]\n",
    "    dic['title'] = i[2]\n",
    "    url_ = i[0]\n",
    "    detail_url = filter_url(url_)\n",
    "    #dic['detail_url'] = detail_url\n",
    "    #dic['contents'] = get_content(detail_url)\n",
    "    datals.append(dic)\n",
    "datals"
   ]
  },
  {
   "cell_type": "code",
   "execution_count": 14,
   "metadata": {},
   "outputs": [],
   "source": [
    "def get_url():\n",
    "    \n",
    "    urllst = 'http://www.safehoo.com/Case/Case/Hit/'\n",
    "       \n",
    "    return urllst\n",
    "    \n",
    "def get_data(urllst):\n",
    "    html = requests.get(urllst,headers=headers)\n",
    "    html.encoding = html.apparent_encoding\n",
    "    pattern = re.compile(r'<a href=\"(.*?)\" target=\"_blank\" title=\"标题：(.*?)\">.*?</a><img src=\"(.*?) alt=\"热门内容\">')\n",
    "    info = re.findall(pattern, html.text)\n",
    "    datals = []\n",
    "    for i in info:\n",
    "        dic = {}\n",
    "        dic['_id'] = i[1]\n",
    "        dic['title'] = i[2]\n",
    "        dic['read_num'] = i[3]\n",
    "        dic['upload_time'] = i[4]\n",
    "        url_ = i[0]\n",
    "        detail_url = filter_url(url_)\n",
    "        dic['detail_url'] = detail_url\n",
    "        dic['contents'] = get_content(detail_url)\n",
    "        datals.append(dic)\n",
    "    return datals\n",
    "\n",
    "def filter_url(url_):\n",
    "    base_path = url_.split('/')[-2]\n",
    "    detail_url = os.path.join('http://www.safehoo.com/Case/Case/Hit/', base_path)\n",
    "\n",
    "\n",
    "def get_content(detail_url):\n",
    "    html = requests.get(url,headers=headers)\n",
    "    html.encoding=html.apparent_encoding\n",
    "    soup = BeautifulSoup(html.text,'lxml')\n",
    "    contents = soup.find('div', class_=\"c_content_text\").text\n",
    "    contents =  re.sub(r'/s+',contents)\n",
    "    return contents"
   ]
  },
  {
   "cell_type": "code",
   "execution_count": null,
   "metadata": {},
   "outputs": [],
   "source": []
  },
  {
   "cell_type": "code",
   "execution_count": null,
   "metadata": {},
   "outputs": [],
   "source": []
  },
  {
   "cell_type": "code",
   "execution_count": null,
   "metadata": {},
   "outputs": [],
   "source": []
  },
  {
   "cell_type": "code",
   "execution_count": null,
   "metadata": {},
   "outputs": [],
   "source": []
  },
  {
   "cell_type": "code",
   "execution_count": null,
   "metadata": {},
   "outputs": [],
   "source": []
  },
  {
   "cell_type": "code",
   "execution_count": null,
   "metadata": {},
   "outputs": [],
   "source": []
  },
  {
   "cell_type": "code",
   "execution_count": null,
   "metadata": {},
   "outputs": [],
   "source": []
  },
  {
   "cell_type": "code",
   "execution_count": null,
   "metadata": {},
   "outputs": [],
   "source": []
  },
  {
   "cell_type": "code",
   "execution_count": null,
   "metadata": {},
   "outputs": [],
   "source": []
  },
  {
   "cell_type": "code",
   "execution_count": null,
   "metadata": {},
   "outputs": [],
   "source": []
  },
  {
   "cell_type": "code",
   "execution_count": null,
   "metadata": {},
   "outputs": [],
   "source": []
  },
  {
   "cell_type": "code",
   "execution_count": null,
   "metadata": {},
   "outputs": [],
   "source": []
  },
  {
   "cell_type": "code",
   "execution_count": null,
   "metadata": {},
   "outputs": [],
   "source": []
  },
  {
   "cell_type": "code",
   "execution_count": null,
   "metadata": {},
   "outputs": [],
   "source": []
  },
  {
   "cell_type": "code",
   "execution_count": null,
   "metadata": {},
   "outputs": [],
   "source": []
  },
  {
   "cell_type": "code",
   "execution_count": null,
   "metadata": {},
   "outputs": [],
   "source": []
  },
  {
   "cell_type": "code",
   "execution_count": null,
   "metadata": {},
   "outputs": [],
   "source": []
  },
  {
   "cell_type": "code",
   "execution_count": null,
   "metadata": {},
   "outputs": [],
   "source": []
  },
  {
   "cell_type": "code",
   "execution_count": null,
   "metadata": {},
   "outputs": [],
   "source": []
  }
 ],
 "metadata": {
  "kernelspec": {
   "display_name": "Python 3",
   "language": "python",
   "name": "python3"
  },
  "language_info": {
   "codemirror_mode": {
    "name": "ipython",
    "version": 3
   },
   "file_extension": ".py",
   "mimetype": "text/x-python",
   "name": "python",
   "nbconvert_exporter": "python",
   "pygments_lexer": "ipython3",
   "version": "3.8.5"
  }
 },
 "nbformat": 4,
 "nbformat_minor": 4
}
