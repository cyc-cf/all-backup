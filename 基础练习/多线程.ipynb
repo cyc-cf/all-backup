{
 "cells": [
  {
   "cell_type": "markdown",
   "metadata": {},
   "source": [
    "# 多线程  多进程\n",
    "\n",
    "- 进程：程序运行的状态\n",
    "    - 包含地址空间、内存、数据栈等\n",
    "    - 每个进程有自己完全独立的运行环境，多进程共享数据是一个问题。\n",
    "- 线程：一个进程的独立运行片段\n",
    "    - 一个进程可以有多个线程\n",
    "    - 轻量化的进程\n",
    "    - 一个进程的多个线程之间共享数据和上下文运行环境\n",
    "    - 共享互斥问题\n",
    "    \n",
    "- 全局解释器锁（GIL）\n",
    "    - python的执行时有python虚拟机进行控制\n",
    "    - 在主循环中只能有一个控制线程在执行\n"
   ]
  },
  {
   "cell_type": "code",
   "execution_count": null,
   "metadata": {},
   "outputs": [],
   "source": [
    "# 多线程：提高同一时间资源的利用率\n"
   ]
  },
  {
   "cell_type": "markdown",
   "metadata": {},
   "source": [
    "- python包\n",
    "    - _thread:不好用\n",
    "    - threading：同行的包"
   ]
  },
  {
   "cell_type": "code",
   "execution_count": 18,
   "metadata": {},
   "outputs": [],
   "source": [
    "# 案例1\n",
    "'''\n",
    "利用time生成两个函数\n",
    "'''\n",
    "import time\n",
    "\n",
    "def loop1():\n",
    "    # ctime得到当前时间\n",
    "    print('Start loop 1 at :',time.ctime())\n",
    "    \n",
    "    time.sleep(3)\n",
    "    print('End loop 1 at :',time.ctime())"
   ]
  },
  {
   "cell_type": "code",
   "execution_count": 19,
   "metadata": {},
   "outputs": [],
   "source": [
    "\n",
    "def loop2():\n",
    "    # ctime得到当前时间\n",
    "    print('Start loop 2 at :',time.ctime())\n",
    "    \n",
    "    time.sleep(1)\n",
    "    print('End loop 2 at :',time.ctime())"
   ]
  },
  {
   "cell_type": "code",
   "execution_count": 7,
   "metadata": {},
   "outputs": [],
   "source": [
    "#单线程\n",
    "def main():\n",
    "    print('starting at:',time.ctime())\n",
    "    loop1()\n",
    "    loop2()\n",
    "    print('All done at:',time.ctime())"
   ]
  },
  {
   "cell_type": "code",
   "execution_count": 10,
   "metadata": {},
   "outputs": [
    {
     "name": "stdout",
     "output_type": "stream",
     "text": [
      "starting at: Sat Aug  7 10:17:28 2021\n",
      "Start loop 1 at : Sat Aug  7 10:17:28 2021\n",
      "End loop 1 at : Sat Aug  7 10:17:31 2021\n",
      "Start loop 2 at : Sat Aug  7 10:17:31 2021\n",
      "End loop 2 at : Sat Aug  7 10:17:32 2021\n",
      "All done at: Sat Aug  7 10:17:32 2021\n"
     ]
    }
   ],
   "source": [
    "if __name__ == '__main__':\n",
    "    main()"
   ]
  },
  {
   "cell_type": "code",
   "execution_count": 20,
   "metadata": {},
   "outputs": [],
   "source": [
    "# 多线程：该案例一共有三个线程，其中有一个主线程，使用_thread\n",
    "import _thread as thread\n",
    "\n",
    "def main():\n",
    "    print('starting at:',time.ctime())\n",
    "    # 启动一个新的线程：函数名，参数列表\n",
    "    thread.start_new_thread(loop1,())\n",
    "    # 启动一个新的线程\n",
    "    thread.start_new_thread(loop2,())\n",
    "    \n",
    "    print('All done at:',time.ctime())"
   ]
  },
  {
   "cell_type": "code",
   "execution_count": 23,
   "metadata": {},
   "outputs": [
    {
     "name": "stdout",
     "output_type": "stream",
     "text": [
      "starting at: Sat Aug  7 11:09:39 2021\n",
      "All done at: Sat Aug  7 11:09:39 2021\n",
      "Start loop 2 at : Sat Aug  7 11:09:39 2021\n",
      "Start loop 1 at : Sat Aug  7 11:09:39 2021\n",
      "End loop 2 at : Sat Aug  7 11:09:40 2021\n",
      "End loop 1 at : Sat Aug  7 11:09:42 2021\n"
     ]
    }
   ],
   "source": [
    "if __name__ == '__main__':\n",
    "        main()\n",
    "#     while True:\n",
    "#         time.sleep(1)"
   ]
  },
  {
   "cell_type": "code",
   "execution_count": null,
   "metadata": {},
   "outputs": [],
   "source": [
    "# 主线程不会等多线程"
   ]
  },
  {
   "cell_type": "code",
   "execution_count": null,
   "metadata": {},
   "outputs": [],
   "source": [
    "#所有线程共享一个日志"
   ]
  },
  {
   "cell_type": "code",
   "execution_count": 24,
   "metadata": {},
   "outputs": [
    {
     "name": "stdout",
     "output_type": "stream",
     "text": [
      "starting at: Sat Aug  7 11:20:10 2021\n",
      "All done at: Sat Aug  7 11:20:10 2021\n",
      "Start loop 1 at : Sat Aug  7 11:20:10 2021\n",
      "我是参数, 王老大\n",
      "Start loop 2 at : Sat Aug  7 11:20:10 2021\n",
      "我是参数, 张三 和参数 李四\n",
      "End loop 2 at : Sat Aug  7 11:20:12 2021\n",
      "End loop 1 at : Sat Aug  7 11:20:14 2021\n"
     ]
    }
   ],
   "source": [
    "# 案例2：多线程，传参数\n",
    "import time\n",
    "import _thread as thread\n",
    "\n",
    "def loop1(in1):\n",
    "    # ctime得到当前时间\n",
    "    print('Start loop 1 at :',time.ctime())\n",
    "    print('我是参数,',in1)\n",
    "    time.sleep(4)\n",
    "    print('End loop 1 at :',time.ctime())\n",
    "    \n",
    "    \n",
    "def loop2(in1,in2):\n",
    "    # ctime得到当前时间\n",
    "    print('Start loop 2 at :',time.ctime())\n",
    "    print('我是参数,',in1,'和参数',in2)\n",
    "    time.sleep(2)\n",
    "    print('End loop 2 at :',time.ctime())\n",
    "    \n",
    "def main():\n",
    "    print('starting at:',time.ctime())\n",
    "    # 启动一个新的线程：函数名，参数列表\n",
    "    thread.start_new_thread(loop1,('王老大',))# 一个参数注意后面要加一个逗号才是元组\n",
    "    # 启动一个新的线程\n",
    "    thread.start_new_thread(loop2,('张三','李四'))\n",
    "    \n",
    "    print('All done at:',time.ctime())\n",
    "    \n",
    "if __name__ == '__main__':\n",
    "        main()"
   ]
  },
  {
   "cell_type": "markdown",
   "metadata": {},
   "source": [
    "# threading的使用\n",
    "    - 直接利用threading.Thread生成Thread实例\n",
    "        1. t = threading.Thread(target = xxx,args=(xxx,))#target只能是函数名，args是函数的参数，若为一个参数需要加个逗号\n",
    "        2. t.start():启动多线程\n",
    "        3. t.join():等待多线程执行完成\n",
    "    - 守护线程：daemon\n",
    "        - 如果在程序中将子线程设置为守护线程，则子线程会在主线程结束时自动退出\n",
    "        - 一般认为，守护线程不重要或不允许离开主线程独立运行\n",
    "        - 守护线程能否有效果与环境相关，notebook执行守护线程无效，这与大环境有关，可以用pycharm执行\n",
    "    - 线程常用属性\n",
    "        - threading.currentThread:返回当前线程的变量\n",
    "        - threading.enumerate:返回一个包含正在运行的线程的list，正在运行的线程指的是线程启动后，结束前的状态\n",
    "        - threading.activeCount:返回正在运行的线程数量，效果跟len(threading.enumerate)相同\n",
    "        - thr.setName:给线程设置名字\n",
    "        - thr.getName:得到线程的名字"
   ]
  },
  {
   "cell_type": "code",
   "execution_count": 26,
   "metadata": {},
   "outputs": [
    {
     "name": "stdout",
     "output_type": "stream",
     "text": [
      "starting at: Sat Aug  7 11:41:47 2021\n",
      "Start loop 1 at : Sat Aug  7 11:41:47 2021\n",
      "我是参数, 王老大\n",
      "Start loop 2 at : Sat Aug  7 11:41:47 2021\n",
      "我是参数, 张三 和参数 李四\n",
      "All done at: Sat Aug  7 11:41:47 2021\n",
      "End loop 2 at : Sat Aug  7 11:41:49 2021\n",
      "End loop 1 at : Sat Aug  7 11:41:51 2021\n"
     ]
    }
   ],
   "source": [
    "# 案例04\n",
    "import time\n",
    "import threading\n",
    "\n",
    "def loop1(in1):\n",
    "    # ctime得到当前时间\n",
    "    print('Start loop 1 at :',time.ctime())\n",
    "    print('我是参数,',in1)\n",
    "    time.sleep(4)\n",
    "    print('End loop 1 at :',time.ctime())\n",
    "    \n",
    "    \n",
    "def loop2(in1,in2):\n",
    "    # ctime得到当前时间\n",
    "    print('Start loop 2 at :',time.ctime())\n",
    "    print('我是参数,',in1,'和参数',in2)\n",
    "    time.sleep(2)\n",
    "    print('End loop 2 at :',time.ctime())\n",
    "    \n",
    "def main():\n",
    "    print('starting at:',time.ctime())\n",
    "    # 启动一个新的线程：函数名，参数列表\n",
    "    t1 = threading.Thread(target=loop1,args=('王老大',))# 一个参数注意后面要加一个逗号才是元组\n",
    "    t1.start()\n",
    "    # 启动一个新的线程\n",
    "    t2 = threading.Thread(target=loop2,args=('张三','李四'))\n",
    "    t2.start()\n",
    "    \n",
    "    print('All done at:',time.ctime())\n",
    "    \n",
    "if __name__ == '__main__':\n",
    "        main()"
   ]
  },
  {
   "cell_type": "code",
   "execution_count": 27,
   "metadata": {},
   "outputs": [
    {
     "name": "stdout",
     "output_type": "stream",
     "text": [
      "starting at: Sat Aug  7 14:27:09 2021\n",
      "Start loop 1 at : Sat Aug  7 14:27:09 2021\n",
      "我是参数, 王老大\n",
      "Start loop 2 at : Sat Aug  7 14:27:09 2021\n",
      "我是参数, 张三 和参数 李四\n",
      "End loop 2 at : Sat Aug  7 14:27:11 2021\n",
      "End loop 1 at : Sat Aug  7 14:27:13 2021\n",
      "All done at: Sat Aug  7 14:27:13 2021\n"
     ]
    }
   ],
   "source": [
    "# 案例5 放入join\n",
    "import time\n",
    "import threading\n",
    "\n",
    "def loop1(in1):\n",
    "    # ctime得到当前时间\n",
    "    print('Start loop 1 at :',time.ctime())\n",
    "    print('我是参数,',in1)\n",
    "    time.sleep(4)\n",
    "    print('End loop 1 at :',time.ctime())\n",
    "    \n",
    "    \n",
    "def loop2(in1,in2):\n",
    "    # ctime得到当前时间\n",
    "    print('Start loop 2 at :',time.ctime())\n",
    "    print('我是参数,',in1,'和参数',in2)\n",
    "    time.sleep(2)\n",
    "    print('End loop 2 at :',time.ctime())\n",
    "    \n",
    "def main():\n",
    "    print('starting at:',time.ctime())\n",
    "    # 启动一个新的线程：函数名，参数列表\n",
    "    t1 = threading.Thread(target=loop1,args=('王老大',))# 一个参数注意后面要加一个逗号才是元组\n",
    "    t1.start()\n",
    "    \n",
    "    # 启动一个新的线程\n",
    "    t2 = threading.Thread(target=loop2,args=('张三','李四'))\n",
    "    t2.start()\n",
    "    t1.join()\n",
    "    t2.join() #执行完之后才能继续main函数下面的程序\n",
    "    \n",
    "    print('All done at:',time.ctime())\n",
    "    \n",
    "if __name__ == '__main__':\n",
    "        main()"
   ]
  },
  {
   "cell_type": "code",
   "execution_count": 28,
   "metadata": {},
   "outputs": [
    {
     "name": "stdout",
     "output_type": "stream",
     "text": [
      "main thread\n",
      "start fun\n",
      "Main thread end\n",
      "end fun\n"
     ]
    }
   ],
   "source": [
    "#案例6\n",
    "import time \n",
    "import threading\n",
    "def fun():\n",
    "    print('start fun')\n",
    "    time.sleep(2)\n",
    "    print('end fun')\n",
    "# 主线程\n",
    "print('main thread')\n",
    "#分支\n",
    "t1 =  threading.Thread(target=fun,args=())\n",
    "t1.start()\n",
    "\n",
    "time.sleep(1)\n",
    "print('Main thread end')"
   ]
  },
  {
   "cell_type": "code",
   "execution_count": null,
   "metadata": {},
   "outputs": [],
   "source": [
    "#  主线程结束了之后，子线程仍继续运行（非守护线程）"
   ]
  },
  {
   "cell_type": "code",
   "execution_count": 30,
   "metadata": {},
   "outputs": [
    {
     "name": "stdout",
     "output_type": "stream",
     "text": [
      "main thread\n",
      "start fun\n",
      "Main thread end\n",
      "end fun\n"
     ]
    }
   ],
   "source": [
    "#案例7\n",
    "import time \n",
    "import threading\n",
    "def fun():\n",
    "    print('start fun')\n",
    "    time.sleep(2)\n",
    "    print('end fun')\n",
    "# 主线程\n",
    "print('main thread')\n",
    "#分支\n",
    "t1 =  threading.Thread(target=fun,args=())\n",
    "# 设置守护线程的方法，必须在start之间设置，否则无效\n",
    "t1.setDaemon(True)#守护线程\n",
    "t1.start()\n",
    "\n",
    "time.sleep(1)\n",
    "print('Main thread end')"
   ]
  },
  {
   "cell_type": "code",
   "execution_count": 34,
   "metadata": {},
   "outputs": [
    {
     "name": "stdout",
     "output_type": "stream",
     "text": [
      "starting at: Sat Aug  7 16:14:19 2021\n",
      "Start loop 1 at : Sat Aug  7 16:14:19 2021\n",
      "Start loop 2 at : Sat Aug  7 16:14:19 2021\n",
      "Start loop 3 at : Sat Aug  7 16:14:19 2021\n",
      "End loop 2 at : Sat Aug  7 16:14:20 2021\n",
      "正在运行的线程名字是：MainThread\n",
      "正在运行的线程名字是：Thread-4\n",
      "正在运行的线程名字是：Thread-5\n",
      "正在运行的线程名字是：IPythonHistorySavingThread\n",
      "正在运行的线程名字是：Thread-3\n",
      "正在运行的线程名字是：THR_1\n",
      "正在运行的线程名字是：THR_3\n",
      "正在运行的子线程数量为：7\n",
      "All done at: Sat Aug  7 16:14:22 2021\n",
      "End loop 3 at : Sat Aug  7 16:14:24 2021\n",
      "End loop 1 at : Sat Aug  7 16:14:25 2021\n"
     ]
    }
   ],
   "source": [
    "# 案例8\n",
    "import time\n",
    "import threading\n",
    "\n",
    "def loop1():\n",
    "    # ctime得到当前时间\n",
    "    print('Start loop 1 at :',time.ctime())\n",
    "\n",
    "    time.sleep(6)\n",
    "    print('End loop 1 at :',time.ctime())\n",
    "    \n",
    "    \n",
    "def loop2():\n",
    "    # ctime得到当前时间\n",
    "    print('Start loop 2 at :',time.ctime())\n",
    "\n",
    "    time.sleep(1)\n",
    "    print('End loop 2 at :',time.ctime())\n",
    "    \n",
    "def loop3():\n",
    "    print('Start loop 3 at :',time.ctime())\n",
    "    time.sleep(5)\n",
    "    print('End loop 3 at :',time.ctime())\n",
    "\n",
    "def main():\n",
    "    print('starting at:',time.ctime())\n",
    "    # 启动一个新的线程：函数名，参数列表\n",
    "    t1 = threading.Thread(target=loop1,args=())# 一个参数注意后面要加一个逗号才是元组\n",
    "    t1.setName('THR_1')\n",
    "    t1.start()\n",
    "    \n",
    "    # 启动一个新的线程\n",
    "    t2 = threading.Thread(target=loop2,args=())\n",
    "    t2.setName('THR_2')\n",
    "    t2.start()\n",
    "   \n",
    "    t3 = threading.Thread(target=loop3,args=())\n",
    "    t3.setName('THR_3')\n",
    "    t3.start()\n",
    "    \n",
    "    time.sleep(3)\n",
    "    \n",
    "    for thr in threading.enumerate():\n",
    "        print('正在运行的线程名字是：{0}'.format(thr.getName()))\n",
    "        \n",
    "    print('正在运行的子线程数量为：{0}'.format(threading.activeCount()))\n",
    "    \n",
    "    print('All done at:',time.ctime())\n",
    "    \n",
    "if __name__ == '__main__':\n",
    "        main()\n",
    "        \n",
    "        \n",
    "        \n",
    "# 应该有三个线程"
   ]
  },
  {
   "cell_type": "code",
   "execution_count": null,
   "metadata": {},
   "outputs": [],
   "source": [
    "- 直接继承threading.Thread\n",
    "    - 直接继承Thread\n",
    "    - 重写run函数\n",
    "    - 类实例可以直接运行"
   ]
  },
  {
   "cell_type": "code",
   "execution_count": null,
   "metadata": {},
   "outputs": [],
   "source": [
    "# 子类继承thread的用法\n"
   ]
  },
  {
   "cell_type": "code",
   "execution_count": null,
   "metadata": {},
   "outputs": [],
   "source": []
  },
  {
   "cell_type": "code",
   "execution_count": null,
   "metadata": {},
   "outputs": [],
   "source": []
  },
  {
   "cell_type": "code",
   "execution_count": null,
   "metadata": {},
   "outputs": [],
   "source": []
  },
  {
   "cell_type": "code",
   "execution_count": null,
   "metadata": {},
   "outputs": [],
   "source": []
  },
  {
   "cell_type": "code",
   "execution_count": null,
   "metadata": {},
   "outputs": [],
   "source": []
  },
  {
   "cell_type": "code",
   "execution_count": null,
   "metadata": {},
   "outputs": [],
   "source": []
  },
  {
   "cell_type": "code",
   "execution_count": null,
   "metadata": {},
   "outputs": [],
   "source": []
  },
  {
   "cell_type": "code",
   "execution_count": null,
   "metadata": {},
   "outputs": [],
   "source": []
  },
  {
   "cell_type": "code",
   "execution_count": null,
   "metadata": {},
   "outputs": [],
   "source": []
  },
  {
   "cell_type": "code",
   "execution_count": null,
   "metadata": {},
   "outputs": [],
   "source": []
  },
  {
   "cell_type": "code",
   "execution_count": null,
   "metadata": {},
   "outputs": [],
   "source": []
  },
  {
   "cell_type": "code",
   "execution_count": null,
   "metadata": {},
   "outputs": [],
   "source": []
  },
  {
   "cell_type": "code",
   "execution_count": null,
   "metadata": {},
   "outputs": [],
   "source": []
  },
  {
   "cell_type": "code",
   "execution_count": null,
   "metadata": {},
   "outputs": [],
   "source": []
  },
  {
   "cell_type": "code",
   "execution_count": null,
   "metadata": {},
   "outputs": [],
   "source": []
  },
  {
   "cell_type": "code",
   "execution_count": null,
   "metadata": {},
   "outputs": [],
   "source": []
  }
 ],
 "metadata": {
  "kernelspec": {
   "display_name": "Python 3",
   "language": "python",
   "name": "python3"
  },
  "language_info": {
   "codemirror_mode": {
    "name": "ipython",
    "version": 3
   },
   "file_extension": ".py",
   "mimetype": "text/x-python",
   "name": "python",
   "nbconvert_exporter": "python",
   "pygments_lexer": "ipython3",
   "version": "3.8.5"
  }
 },
 "nbformat": 4,
 "nbformat_minor": 4
}
