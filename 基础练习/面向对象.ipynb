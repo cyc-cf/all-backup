{
 "cells": [
  {
   "cell_type": "markdown",
   "metadata": {},
   "source": [
    "- 抽象名词-类 class\n",
    "- 具象-实例，对象\n",
    "- 抽象到具象的过程就是实例化"
   ]
  },
  {
   "cell_type": "code",
   "execution_count": null,
   "metadata": {},
   "outputs": [],
   "source": [
    "- OOP 面向对象编程\n",
    "- OOA 面向分析\n",
    "- OOD 面向设计\n",
    "- OOI 面向对象实现"
   ]
  },
  {
   "cell_type": "code",
   "execution_count": null,
   "metadata": {},
   "outputs": [],
   "source": [
    "class one:\n",
    "    pass\n",
    "class two():\n",
    "    pass\n",
    "class three(object):\n",
    "    pass"
   ]
  },
  {
   "cell_type": "code",
   "execution_count": 2,
   "metadata": {},
   "outputs": [],
   "source": [
    "class teacher(object):\n",
    "    name = '老师'\n",
    "    age = 18\n",
    "    #函数\n",
    "    #self表示函数需要一个参数，在被实例调用的时候 ，实例作为第一个参数传进去调用\n",
    "    def teaching(self):   \n",
    "        print('上课。。。。')    "
   ]
  },
  {
   "cell_type": "code",
   "execution_count": 3,
   "metadata": {},
   "outputs": [
    {
     "name": "stdout",
     "output_type": "stream",
     "text": [
      "老师\n"
     ]
    }
   ],
   "source": [
    "# 实例化\n",
    "liudana = teacher()# 实例化一个对象\n",
    "print(liudana.name)"
   ]
  },
  {
   "cell_type": "code",
   "execution_count": 4,
   "metadata": {},
   "outputs": [
    {
     "name": "stdout",
     "output_type": "stream",
     "text": [
      "liudan\n"
     ]
    }
   ],
   "source": [
    "liudana.name = 'liudan'\n",
    "print(liudana.name)"
   ]
  },
  {
   "cell_type": "code",
   "execution_count": 6,
   "metadata": {},
   "outputs": [
    {
     "name": "stdout",
     "output_type": "stream",
     "text": [
      "上课。。。。\n"
     ]
    }
   ],
   "source": [
    "liudana.teaching()  #用实例化的对象调用函数（功能）"
   ]
  },
  {
   "cell_type": "code",
   "execution_count": 8,
   "metadata": {},
   "outputs": [],
   "source": [
    "class teacher(object):\n",
    "    name = '老师'\n",
    "    age = 18\n",
    "    def intro(self):\n",
    "        print('My name is {}'.format(self.name))#self是teacher的一个实例，示例可以调用\n",
    "        \n",
    "        \n",
    "        \n",
    "dada = teacher()\n",
    "dada.name = 'dadw'\n"
   ]
  },
  {
   "cell_type": "code",
   "execution_count": null,
   "metadata": {},
   "outputs": [],
   "source": [
    "实例调用类中的函数：实例作为一个参数放进函数中执行,有self是为了调用该函数\n",
    "类调用类中的函数：不会将类作为第一个参数执行，所以少一个参数，需要将参数放进去"
   ]
  },
  {
   "cell_type": "code",
   "execution_count": 11,
   "metadata": {},
   "outputs": [
    {
     "name": "stdout",
     "output_type": "stream",
     "text": [
      "My name is dadw\n"
     ]
    }
   ],
   "source": [
    "#第一种：类名调用类中的函数（实例函数）\n",
    "teacher.intro(dada)\n",
    "#第二种：实例调用类中的函数\n",
    "dada.intro()"
   ]
  },
  {
   "cell_type": "code",
   "execution_count": null,
   "metadata": {},
   "outputs": [],
   "source": [
    "# 类中的函数\n",
    "    - 构造函数：提前做的准备工作，构造实例的时候被第一个调用的\n",
    "    "
   ]
  },
  {
   "cell_type": "code",
   "execution_count": 7,
   "metadata": {},
   "outputs": [
    {
     "name": "stdout",
     "output_type": "stream",
     "text": [
      "My name is 刘大拿\n"
     ]
    }
   ],
   "source": [
    "class teacher(object):\n",
    "#     name = '老师'   #类的名称和年龄\n",
    "#     age = 18\n",
    "    def intro(self):\n",
    "        print('My name is {}'.format(self.name))#self是teacher的一个实例，示例可以调用\n",
    "        \n",
    "\n",
    "    #构造函数：前后有双下划线，必须要有参数，至少有一个self\n",
    "    def __init__(self,name,age):   #构造函数不能返回任何东西，是做初始化的工作\n",
    "        self.name = name\n",
    "        self.age = age      # 实例的名字和年龄 \n",
    "\n",
    "        \n",
    "dana = teacher('刘大拿',19)\n",
    "dana.intro()"
   ]
  },
  {
   "cell_type": "code",
   "execution_count": null,
   "metadata": {},
   "outputs": [],
   "source": [
    "# 实例属性\n",
    "# 类属性"
   ]
  },
  {
   "cell_type": "code",
   "execution_count": null,
   "metadata": {},
   "outputs": [],
   "source": [
    "# OOP函数分类\n",
    "    - 普通函数\n",
    "    - 实例函数\n",
    "    - 类函数\n",
    "    - 静态函数"
   ]
  },
  {
   "cell_type": "code",
   "execution_count": 8,
   "metadata": {},
   "outputs": [],
   "source": [
    "class tuling(object):\n",
    "    name = '一个学校'\n",
    "    age = 3\n",
    "    \n",
    "    #有self是为了调用该函数，没有self是可以直接输出的\n",
    "    def hw():   # 普通函数\n",
    "        print('hello world 1')\n",
    "   \n",
    "    def hw2(name = '王'):   #普通函数\n",
    "        print('hello world {}'.format(name))\n",
    "   \n",
    "    #实例函数\n",
    "    def hw3(self):\n",
    "        print('Hello world {}'.format(self.name))\n",
    "      \n",
    "    \n",
    "    @classmethod  #下面定义的函数是一个类函数,至少需要一个参数\n",
    "    def hw4(cls): #至少需要一个参数，默认参数，默认传，把类当作第一个参数传进来\n",
    "        print('hello world class {}'.format(cls.name))\n",
    "    \n",
    "    #静态函数不允许关于实例的内容了\n",
    "    @staticmethod  #静态函数一般不需要放参数\n",
    "    def hw5():\n",
    "        print('hello')"
   ]
  },
  {
   "cell_type": "code",
   "execution_count": 9,
   "metadata": {},
   "outputs": [],
   "source": [
    "tl = tuling()"
   ]
  },
  {
   "cell_type": "code",
   "execution_count": 13,
   "metadata": {},
   "outputs": [
    {
     "name": "stdout",
     "output_type": "stream",
     "text": [
      "hello world 1\n"
     ]
    }
   ],
   "source": [
    "#类调用\n",
    "tuling.hw()"
   ]
  },
  {
   "cell_type": "code",
   "execution_count": 14,
   "metadata": {},
   "outputs": [
    {
     "name": "stdout",
     "output_type": "stream",
     "text": [
      "hello world 王\n"
     ]
    }
   ],
   "source": [
    "#类调用\n",
    "tuling.hw2()"
   ]
  },
  {
   "cell_type": "code",
   "execution_count": 15,
   "metadata": {},
   "outputs": [
    {
     "name": "stdout",
     "output_type": "stream",
     "text": [
      "hello world <__main__.tuling object at 0x00000198B0DFA220>\n"
     ]
    }
   ],
   "source": [
    "# 实例可以调用类函数：将实例作为参数传入，\n",
    "tl.hw2()"
   ]
  },
  {
   "cell_type": "code",
   "execution_count": 17,
   "metadata": {},
   "outputs": [
    {
     "name": "stdout",
     "output_type": "stream",
     "text": [
      "hello\n"
     ]
    }
   ],
   "source": [
    "tuling.hw5()"
   ]
  },
  {
   "cell_type": "code",
   "execution_count": null,
   "metadata": {},
   "outputs": [],
   "source": [
    "# 实例调用/类调用  实例函数\n"
   ]
  },
  {
   "cell_type": "code",
   "execution_count": null,
   "metadata": {},
   "outputs": [],
   "source": [
    "#类调用静态函数，一般不用实例调用静态函数"
   ]
  },
  {
   "cell_type": "code",
   "execution_count": null,
   "metadata": {},
   "outputs": [],
   "source": [
    "# 静态函数 类函数区别\n",
    "静态函数都只有一份，静态区存放静态函数，所有的函数参数都需要调用\n",
    "\n",
    "一般的用类函数来做类似Java里面工厂函数的功能"
   ]
  },
  {
   "cell_type": "markdown",
   "metadata": {},
   "source": [
    "# OOP的三大特性\n",
    "继承、封装、多态"
   ]
  },
  {
   "cell_type": "code",
   "execution_count": null,
   "metadata": {},
   "outputs": [],
   "source": [
    "# 封装\n",
    "public, protected, private"
   ]
  },
  {
   "cell_type": "code",
   "execution_count": 20,
   "metadata": {},
   "outputs": [
    {
     "name": "stdout",
     "output_type": "stream",
     "text": [
      "内部名称 dana\n",
      "内部年龄 18\n"
     ]
    }
   ],
   "source": [
    "class teacher():\n",
    "    name ='老师'\n",
    "    __age = 18  #前面接两个下划线表示私有private（只能在类里面使用）\n",
    "    def __init__(self,name='dana',age=18):\n",
    "        self.name = name\n",
    "        self.__age = age\n",
    "    def print_info(self):\n",
    "        print('内部名称',self.name)\n",
    "        print('内部年龄',self.__age)\n",
    "\n",
    "dana = teacher()\n",
    "#print(dana.__age)#在类外使用了\n",
    "dana.print_info()"
   ]
  },
  {
   "cell_type": "code",
   "execution_count": 24,
   "metadata": {},
   "outputs": [
    {
     "name": "stdout",
     "output_type": "stream",
     "text": [
      "18\n"
     ]
    }
   ],
   "source": [
    "dana = teacher()\n",
    "#name mangling:__age -->_teacher__age\n",
    "#改名可用：单下划线 类名 双下划线 age\n",
    "print(dana._teacher__age)"
   ]
  },
  {
   "cell_type": "code",
   "execution_count": null,
   "metadata": {},
   "outputs": [],
   "source": [
    "def teacher(object):\n",
    "    pass\n",
    "def mathteacher(teacher):# 从老师类继承的\n",
    "    pass"
   ]
  },
  {
   "cell_type": "code",
   "execution_count": null,
   "metadata": {},
   "outputs": [],
   "source": [
    "# 继承的查找\n",
    "#"
   ]
  },
  {
   "cell_type": "code",
   "execution_count": null,
   "metadata": {},
   "outputs": [],
   "source": [
    "# _单下划线是protected  ，外部不可用，子类可用\n",
    "# __双下划线是private，外部不可用，子类也不可用"
   ]
  },
  {
   "cell_type": "code",
   "execution_count": null,
   "metadata": {},
   "outputs": [],
   "source": [
    "super() 表示父类"
   ]
  },
  {
   "cell_type": "code",
   "execution_count": null,
   "metadata": {},
   "outputs": [],
   "source": [
    "super().worker()  调用父类的worker()函数\n"
   ]
  },
  {
   "cell_type": "code",
   "execution_count": 28,
   "metadata": {},
   "outputs": [
    {
     "name": "stdout",
     "output_type": "stream",
     "text": [
      "I am init in 鳄鱼 noname\n"
     ]
    }
   ],
   "source": [
    "# 继承调用父类的构造函数\n",
    "class animal():\n",
    "    pass\n",
    "class paxingani(animal):\n",
    "    pass\n",
    "class croc(paxingani):\n",
    "    def __init__(self,name='noname'):\n",
    "        print('I am init in 鳄鱼',name)\n",
    "        \n",
    "# 实例化的时候，自动调用了构造函数      \n",
    "# 首先看自己是否有构造函数，有的话用自己的函数，\n",
    "kaka = croc()"
   ]
  },
  {
   "cell_type": "code",
   "execution_count": 29,
   "metadata": {},
   "outputs": [
    {
     "name": "stdout",
     "output_type": "stream",
     "text": [
      "I am init in 鳄鱼 noname\n"
     ]
    }
   ],
   "source": [
    "# 继承调用父类的构造函数\n",
    "class animal():\n",
    "    pass\n",
    "class paxingani(animal):\n",
    "    def __init__(self,name='noname'):\n",
    "        print('I am init in 鳄鱼',name)\n",
    "class croc(paxingani):\n",
    "    pass\n",
    "        \n",
    "# 实例化的时候，自动调用了构造函数      \n",
    "# 首先看自己是否有构造函数，有的话用自己的函数，\n",
    "kaka = croc()"
   ]
  },
  {
   "cell_type": "code",
   "execution_count": null,
   "metadata": {},
   "outputs": [],
   "source": [
    "# 继承调用父类的构造函数\n",
    "class animal():\n",
    "    pass\n",
    "class paxingani(animal):\n",
    "    pass\n",
    "class croc(paxingani):\n",
    "    pass\n",
    "        \n",
    "# 实例化的时候，自动调用了构造函数      \n",
    "# 首先看自己是否有构造函数，有的话用自己的函数，\n",
    "kaka = croc()"
   ]
  },
  {
   "cell_type": "code",
   "execution_count": 31,
   "metadata": {},
   "outputs": [
    {
     "ename": "TypeError",
     "evalue": "__init__() missing 1 required positional argument: 'name'",
     "output_type": "error",
     "traceback": [
      "\u001b[1;31m---------------------------------------------------------------------------\u001b[0m",
      "\u001b[1;31mTypeError\u001b[0m                                 Traceback (most recent call last)",
      "\u001b[1;32m<ipython-input-31-fe9c0d67dcba>\u001b[0m in \u001b[0;36m<module>\u001b[1;34m\u001b[0m\n\u001b[0;32m     10\u001b[0m \u001b[1;31m# 实例化的时候，自动调用了构造函数\u001b[0m\u001b[1;33m\u001b[0m\u001b[1;33m\u001b[0m\u001b[1;33m\u001b[0m\u001b[0m\n\u001b[0;32m     11\u001b[0m \u001b[1;31m# 首先看自己是否有构造函数，有的话用自己的函数，\u001b[0m\u001b[1;33m\u001b[0m\u001b[1;33m\u001b[0m\u001b[1;33m\u001b[0m\u001b[0m\n\u001b[1;32m---> 12\u001b[1;33m \u001b[0mkaka\u001b[0m \u001b[1;33m=\u001b[0m \u001b[0mcroc\u001b[0m\u001b[1;33m(\u001b[0m\u001b[1;33m)\u001b[0m\u001b[1;33m\u001b[0m\u001b[1;33m\u001b[0m\u001b[0m\n\u001b[0m",
      "\u001b[1;31mTypeError\u001b[0m: __init__() missing 1 required positional argument: 'name'"
     ]
    }
   ],
   "source": [
    "# 继承调用父类的构造函数\n",
    "class animal():\n",
    "    def __init__(self,name):\n",
    "        print('I am init in 鳄鱼',name)\n",
    "class paxingani(animal):\n",
    "    pass\n",
    "class croc(paxingani):\n",
    "    pass\n",
    "        \n",
    "# 实例化的时候，自动调用了构造函数      \n",
    "# 首先看自己是否有构造函数，有的话用自己的函数，没有调用父类的\n",
    "kaka = croc()"
   ]
  },
  {
   "cell_type": "code",
   "execution_count": null,
   "metadata": {},
   "outputs": [],
   "source": [
    "# 自己有构造函数，但是想调用父类的构造函数\n",
    "super(父类名称 , self（当作自己的实例）).__init__('参数')"
   ]
  },
  {
   "cell_type": "code",
   "execution_count": null,
   "metadata": {},
   "outputs": [],
   "source": [
    "父类.__init__(self,'ddd')"
   ]
  },
  {
   "cell_type": "code",
   "execution_count": 3,
   "metadata": {},
   "outputs": [
    {
     "name": "stdout",
     "output_type": "stream",
     "text": [
      "I am init in 鳄鱼 ddd\n",
      "I am 大鳄鱼 \n"
     ]
    }
   ],
   "source": [
    "# 继承调用父类的构造函数\n",
    "class animal():\n",
    "    def __init__(self,name):\n",
    "        print('I am init in 鳄鱼',name)\n",
    "class paxingani(animal):\n",
    "    pass\n",
    "class croc(paxingani):\n",
    "    def __init__(self):\n",
    "        # 自己有构造函数，但是想调用父类的构造函数\n",
    "        # 法一：\n",
    "        super(croc,self).__init__('ddd')\n",
    "        # 法二：animal.__init__(self,'ddd')\n",
    "        print('I am 大鳄鱼 ')\n",
    "# 实例化的时候，自动调用了构造函数      \n",
    "# 首先看自己是否有构造函数，有的话用自己的函数，没有调用父类的\n",
    "kaka = croc()"
   ]
  },
  {
   "cell_type": "code",
   "execution_count": null,
   "metadata": {},
   "outputs": [],
   "source": []
  },
  {
   "cell_type": "code",
   "execution_count": null,
   "metadata": {},
   "outputs": [],
   "source": []
  },
  {
   "cell_type": "code",
   "execution_count": null,
   "metadata": {},
   "outputs": [],
   "source": []
  },
  {
   "cell_type": "code",
   "execution_count": null,
   "metadata": {},
   "outputs": [],
   "source": []
  },
  {
   "cell_type": "code",
   "execution_count": null,
   "metadata": {},
   "outputs": [],
   "source": []
  },
  {
   "cell_type": "code",
   "execution_count": null,
   "metadata": {},
   "outputs": [],
   "source": []
  },
  {
   "cell_type": "code",
   "execution_count": null,
   "metadata": {},
   "outputs": [],
   "source": []
  },
  {
   "cell_type": "code",
   "execution_count": null,
   "metadata": {},
   "outputs": [],
   "source": [
    " "
   ]
  },
  {
   "cell_type": "code",
   "execution_count": null,
   "metadata": {},
   "outputs": [],
   "source": []
  },
  {
   "cell_type": "code",
   "execution_count": null,
   "metadata": {},
   "outputs": [],
   "source": []
  },
  {
   "cell_type": "code",
   "execution_count": null,
   "metadata": {},
   "outputs": [],
   "source": []
  },
  {
   "cell_type": "code",
   "execution_count": null,
   "metadata": {},
   "outputs": [],
   "source": []
  },
  {
   "cell_type": "code",
   "execution_count": null,
   "metadata": {},
   "outputs": [],
   "source": []
  },
  {
   "cell_type": "code",
   "execution_count": null,
   "metadata": {},
   "outputs": [],
   "source": []
  }
 ],
 "metadata": {
  "kernelspec": {
   "display_name": "Python 3",
   "language": "python",
   "name": "python3"
  },
  "language_info": {
   "codemirror_mode": {
    "name": "ipython",
    "version": 3
   },
   "file_extension": ".py",
   "mimetype": "text/x-python",
   "name": "python",
   "nbconvert_exporter": "python",
   "pygments_lexer": "ipython3",
   "version": "3.8.5"
  }
 },
 "nbformat": 4,
 "nbformat_minor": 4
}
