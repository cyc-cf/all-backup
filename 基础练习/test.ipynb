{
 "cells": [
  {
   "cell_type": "code",
   "execution_count": 10,
   "metadata": {},
   "outputs": [],
   "source": [
    "import pandas as pd\n",
    "import numpy as np\n",
    "from sklearn.cluster import KMeans\n",
    "import matplotlib.pyplot as plt"
   ]
  },
  {
   "cell_type": "code",
   "execution_count": 13,
   "metadata": {},
   "outputs": [
    {
     "name": "stderr",
     "output_type": "stream",
     "text": [
      "No handles with labels found to put in legend.\n",
      "D:\\Anaconda\\lib\\site-packages\\matplotlib\\backends\\backend_agg.py:238: RuntimeWarning: Glyph 33539 missing from current font.\n",
      "  font.set_text(s, 0.0, flags=flags)\n",
      "D:\\Anaconda\\lib\\site-packages\\matplotlib\\backends\\backend_agg.py:238: RuntimeWarning: Glyph 22260 missing from current font.\n",
      "  font.set_text(s, 0.0, flags=flags)\n",
      "D:\\Anaconda\\lib\\site-packages\\matplotlib\\backends\\backend_agg.py:201: RuntimeWarning: Glyph 33539 missing from current font.\n",
      "  font.set_text(s, 0, flags=flags)\n",
      "D:\\Anaconda\\lib\\site-packages\\matplotlib\\backends\\backend_agg.py:201: RuntimeWarning: Glyph 22260 missing from current font.\n",
      "  font.set_text(s, 0, flags=flags)\n"
     ]
    },
    {
     "data": {
      "image/png": "[encoded data removed]",
      "text/plain": [
       "<Figure size 640x320 with 1 Axes>"
      ]
     },
     "metadata": {},
     "output_type": "display_data"
    }
   ],
   "source": [
    "#定义数据\n",
    "x1 = np.random.randn(10,2)\n",
    "x2 = np.array([0,1,0,1,1,1,0,1,0,1])\n",
    "#确定画布\n",
    "plt.figure(figsize=(8,4),#图像尺寸\n",
    "    dpi = 80,       #图像分辨率\n",
    "    facecolor = 'w',#图像背景颜色\n",
    "    edgecolor = 'k')#图像边框颜色\n",
    "#绘图\n",
    "plt.scatter(x1[:,0],x1[:,1],\n",
    "        s=50,\n",
    "        c=x2)#对于多个颜色需要使用循环\n",
    "         #图例label = 'Positive'\n",
    "#对已有图像进行装饰\n",
    "#plt.gca().set(xlim=(),ylim=())#控制横纵坐标范围\n",
    "plt.xticks(fontsize=12)#坐标轴上的标尺的字的大小\n",
    "plt.yticks(fontsize=12)\n",
    "plt.xlabel('数据',fontsize=12)#坐标轴的标题和字体大小\n",
    "plt.xlabel('范围',fontsize=12)\n",
    "#装饰图形（显示图例）\n",
    "plt.legend()\n",
    "#图形显示\n",
    "plt.show()"
   ]
  },
  {
   "cell_type": "code",
   "execution_count": 11,
   "metadata": {},
   "outputs": [
    {
     "name": "stderr",
     "output_type": "stream",
     "text": [
      "No handles with labels found to put in legend.\n"
     ]
    },
    {
     "data": {
      "image/png": "[encoded data removed]",
      "text/plain": [
       "<Figure size 800x480 with 1 Axes>"
      ]
     },
     "metadata": {},
     "output_type": "display_data"
    }
   ],
   "source": [
    "X = np.random.randn(10,2)\n",
    "\n",
    "y = np.array([0,1,0,1,1,1,0,1,0,1])\n",
    "\n",
    "plt.figure(figsize=(10,6),dpi = 80,       #图像分辨率\n",
    "             facecolor = 'w',#图像背景颜色\n",
    "             edgecolor = 'k')\n",
    "\n",
    "plt.scatter(X[:,0],X[:,1]\n",
    "            ,s=50\n",
    "            ,c=y #让分类被可视化\n",
    "           )\n",
    "#plt.gca().set(xlim=(),ylim=())#控制横纵坐标范围\n",
    "plt.xticks(fontsize=12)#坐标轴上的标尺的字的大小\n",
    "plt.yticks(fontsize=12)\n",
    "plt.xlabel('data',fontsize=12)#坐标轴的标题和字体大小\n",
    "plt.ylabel('range',fontsize=12)\n",
    "#装饰图形（显示图例）\n",
    "plt.legend()\n",
    "#图形显示\n",
    "plt.show()"
   ]
  },
  {
   "cell_type": "code",
   "execution_count": 14,
   "metadata": {},
   "outputs": [
    {
     "ename": "TypeError",
     "evalue": "hlines() missing 3 required positional arguments: 'y', 'xmin', and 'xmax'",
     "output_type": "error",
     "traceback": [
      "\u001b[1;31m---------------------------------------------------------------------------\u001b[0m",
      "\u001b[1;31mTypeError\u001b[0m                                 Traceback (most recent call last)",
      "\u001b[1;32m<ipython-input-14-6d2a1c0069a9>\u001b[0m in \u001b[0;36m<module>\u001b[1;34m\u001b[0m\n\u001b[1;32m----> 1\u001b[1;33m \u001b[0mplt\u001b[0m\u001b[1;33m.\u001b[0m\u001b[0mhlines\u001b[0m\u001b[1;33m(\u001b[0m\u001b[1;33m)\u001b[0m \u001b[1;31m#水平条形图\u001b[0m\u001b[1;33m\u001b[0m\u001b[1;33m\u001b[0m\u001b[0m\n\u001b[0m\u001b[0;32m      2\u001b[0m \u001b[0mplt\u001b[0m\u001b[1;33m.\u001b[0m\u001b[0mvlines\u001b[0m\u001b[1;33m(\u001b[0m\u001b[1;33m)\u001b[0m \u001b[1;31m#竖直条形图\u001b[0m\u001b[1;33m\u001b[0m\u001b[1;33m\u001b[0m\u001b[0m\n\u001b[0;32m      3\u001b[0m \u001b[1;33m\u001b[0m\u001b[0m\n\u001b[0;32m      4\u001b[0m \u001b[0mcolors\u001b[0m\u001b[1;33m=\u001b[0m\u001b[1;33m[\u001b[0m\u001b[1;34m'Red'\u001b[0m\u001b[1;33m,\u001b[0m\u001b[1;34m'Blue'\u001b[0m\u001b[1;33m]\u001b[0m\u001b[1;33m\u001b[0m\u001b[1;33m\u001b[0m\u001b[0m\n\u001b[0;32m      5\u001b[0m \u001b[1;31m#颜色用列表生成式生成\u001b[0m\u001b[1;33m\u001b[0m\u001b[1;33m\u001b[0m\u001b[1;33m\u001b[0m\u001b[0m\n",
      "\u001b[1;31mTypeError\u001b[0m: hlines() missing 3 required positional arguments: 'y', 'xmin', and 'xmax'"
     ]
    }
   ],
   "source": [
    "plt.hlines() #水平条形图\n",
    "plt.vlines() #竖直条形图\n",
    "\n",
    "colors=['Red','Blue']\n",
    "#颜色用列表生成式生成\n",
    "plt.hlines(y=range(10),\n",
    "    xmin=0,xmax=x,\n",
    "    linewidth=3,\n",
    "    color=colors,\n",
    "    alpha=0.5)\n",
    "plt.grid(linestyle='--',alpha=0.5) # 配置网格线"
   ]
  },
  {
   "cell_type": "code",
   "execution_count": 2,
   "metadata": {},
   "outputs": [
    {
     "ename": "NameError",
     "evalue": "name 'plt' is not defined",
     "output_type": "error",
     "traceback": [
      "\u001b[1;31m---------------------------------------------------------------------------\u001b[0m",
      "\u001b[1;31mNameError\u001b[0m                                 Traceback (most recent call last)",
      "\u001b[1;32m<ipython-input-2-4d5b2db973e2>\u001b[0m in \u001b[0;36m<module>\u001b[1;34m\u001b[0m\n\u001b[0;32m      1\u001b[0m \u001b[0mX\u001b[0m\u001b[1;33m=\u001b[0m\u001b[1;33m[\u001b[0m\u001b[1;36m1\u001b[0m\u001b[1;33m,\u001b[0m\u001b[1;36m2\u001b[0m\u001b[1;33m,\u001b[0m\u001b[1;36m3\u001b[0m\u001b[1;33m,\u001b[0m\u001b[1;36m4\u001b[0m\u001b[1;33m,\u001b[0m\u001b[1;36m5\u001b[0m\u001b[1;33m,\u001b[0m\u001b[1;36m6\u001b[0m\u001b[1;33m]\u001b[0m\u001b[1;33m\u001b[0m\u001b[1;33m\u001b[0m\u001b[0m\n\u001b[0;32m      2\u001b[0m \u001b[0my\u001b[0m\u001b[1;33m=\u001b[0m\u001b[1;33m[\u001b[0m\u001b[1;36m22\u001b[0m\u001b[1;33m,\u001b[0m\u001b[1;36m31\u001b[0m\u001b[1;33m,\u001b[0m\u001b[1;36m24\u001b[0m\u001b[1;33m,\u001b[0m\u001b[1;36m51\u001b[0m\u001b[1;33m,\u001b[0m\u001b[1;36m19\u001b[0m\u001b[1;33m,\u001b[0m\u001b[1;36m25\u001b[0m\u001b[1;33m]\u001b[0m\u001b[1;33m\u001b[0m\u001b[1;33m\u001b[0m\u001b[0m\n\u001b[1;32m----> 3\u001b[1;33m plt.vlines(x=X,ymin=0,ymax=y,\n\u001b[0m\u001b[0;32m      4\u001b[0m \u001b[0mlinewidth\u001b[0m\u001b[1;33m=\u001b[0m\u001b[1;36m10\u001b[0m\u001b[1;33m,\u001b[0m\u001b[1;33m\u001b[0m\u001b[1;33m\u001b[0m\u001b[0m\n\u001b[0;32m      5\u001b[0m \u001b[0mcolors\u001b[0m\u001b[1;33m=\u001b[0m\u001b[1;34m'g'\u001b[0m\u001b[1;33m,\u001b[0m\u001b[1;33m\u001b[0m\u001b[1;33m\u001b[0m\u001b[0m\n",
      "\u001b[1;31mNameError\u001b[0m: name 'plt' is not defined"
     ]
    }
   ],
   "source": [
    "X=[1,2,3,4,5,6]\n",
    "y=[22,31,24,51,19,25]\n",
    "plt.vlines(x=X,ymin=0,ymax=y,\n",
    "linewidth=10,\n",
    "colors='g',\n",
    "linestyles='solid') #调节线型\n",
    "plt.xticks(X,y,\n",
    "rotation=30,  #坐标旋转角度\n",
    "horizontalalignment='right',  #坐标位置\n",
    "fontsize=12)"
   ]
  },
  {
   "cell_type": "code",
   "execution_count": 37,
   "metadata": {},
   "outputs": [
    {
     "name": "stdout",
     "output_type": "stream",
     "text": [
      "Expenses:7754.66\n",
      "['北京', '上海', '广东']\n",
      "Expenses:5113.54\n",
      "['天津', '江苏', '浙江', '福建', '湖南', '广西', '海南', '重庆', '四川', '云南', '西藏']\n",
      "Expenses:3827.87\n",
      "['河北', '山西', '内蒙古', '辽宁', '吉林', '黑龙江', '安徽', '江西', '山东', '河南', '湖北', '贵州', '陕西', '甘肃', '青海', '宁夏', '新疆']\n"
     ]
    }
   ],
   "source": [
    "if __name__ == '__main__':\n",
    "    data,cityName = loadData('city.txt')\n",
    "    km = KMeans(n_clusters = 3)\n",
    "    label = km.fit_predict(data)#进行聚类计算，计算簇中心以及为簇分配序号\n",
    "    expenses = np.sum(km.cluster_centers_,axis=1)  #聚类中心点的数值加和，也就是平均消费水平\n",
    "    CityCluster = [[],[],[]]   #按label分成设定的簇\n",
    "    for i in range(len(cityName)):\n",
    "        CityCluster[label[i]].append(cityName[i])#每个簇的城市输出\n",
    "    for  i in range(len(CityCluster)):\n",
    "        print('Expenses:%.2f' % expenses[i])\n",
    "        print(CityCluster[i])"
   ]
  },
  {
   "cell_type": "code",
   "execution_count": 36,
   "metadata": {},
   "outputs": [],
   "source": [
    "def loadData(filePath):\n",
    "    fr = open(filePath,'r+',encoding='UTF-8')   #r+ 读写打开一个文本文件\n",
    "    lines = fr.readlines()    #.readlines（）一次读取整个文件，.readline（）一次读取一行\n",
    "    retData = []      #存储城市的各项消费信息\n",
    "    retCityName =[]   #存储城市名称\n",
    "    for line in lines:\n",
    "        items = line.strip().split(',')\n",
    "        retCityName.append(items[0])\n",
    "        retData.append([float(items[i]) for i in range(1,len(items))])\n",
    "    return retData,retCityName"
   ]
  },
  {
   "cell_type": "code",
   "execution_count": null,
   "metadata": {},
   "outputs": [],
   "source": []
  },
  {
   "cell_type": "code",
   "execution_count": null,
   "metadata": {},
   "outputs": [],
   "source": []
  },
  {
   "cell_type": "code",
   "execution_count": null,
   "metadata": {},
   "outputs": [],
   "source": []
  },
  {
   "cell_type": "code",
   "execution_count": null,
   "metadata": {},
   "outputs": [],
   "source": []
  },
  {
   "cell_type": "code",
   "execution_count": null,
   "metadata": {},
   "outputs": [],
   "source": []
  },
  {
   "cell_type": "code",
   "execution_count": null,
   "metadata": {},
   "outputs": [],
   "source": []
  },
  {
   "cell_type": "code",
   "execution_count": null,
   "metadata": {},
   "outputs": [],
   "source": []
  },
  {
   "cell_type": "code",
   "execution_count": null,
   "metadata": {},
   "outputs": [],
   "source": []
  },
  {
   "cell_type": "code",
   "execution_count": null,
   "metadata": {},
   "outputs": [],
   "source": []
  },
  {
   "cell_type": "code",
   "execution_count": null,
   "metadata": {},
   "outputs": [],
   "source": []
  }
 ],
 "metadata": {
  "kernelspec": {
   "display_name": "Python 3",
   "language": "python",
   "name": "python3"
  },
  "language_info": {
   "codemirror_mode": {
    "name": "ipython",
    "version": 3
   },
   "file_extension": ".py",
   "mimetype": "text/x-python",
   "name": "python",
   "nbconvert_exporter": "python",
   "pygments_lexer": "ipython3",
   "version": "3.8.5"
  }
 },
 "nbformat": 4,
 "nbformat_minor": 4
}
