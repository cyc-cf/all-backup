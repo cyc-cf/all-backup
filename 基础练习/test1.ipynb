{
 "cells": [
  {
   "cell_type": "code",
   "execution_count": null,
   "metadata": {},
   "outputs": [],
   "source": [
    "# dsaf\n",
    "# fdgfa"
   ]
  },
  {
   "cell_type": "code",
   "execution_count": null,
   "metadata": {},
   "outputs": [],
   "source": [
    "afdd`"
   ]
  },
  {
   "cell_type": "markdown",
   "metadata": {},
   "source": [
    "# 变量\n",
    "# 变量类型"
   ]
  },
  {
   "cell_type": "code",
   "execution_count": 1,
   "metadata": {},
   "outputs": [
    {
     "data": {
      "text/plain": [
       "True"
      ]
     },
     "execution_count": 1,
     "metadata": {},
     "output_type": "execute_result"
    }
   ],
   "source": [
    "a = 100\n",
    "isinstance(a,int)"
   ]
  },
  {
   "cell_type": "code",
   "execution_count": 2,
   "metadata": {},
   "outputs": [
    {
     "data": {
      "text/plain": [
       "11000"
      ]
     },
     "execution_count": 2,
     "metadata": {},
     "output_type": "execute_result"
    }
   ],
   "source": [
    "11000"
   ]
  },
  {
   "cell_type": "code",
   "execution_count": 3,
   "metadata": {},
   "outputs": [
    {
     "name": "stdout",
     "output_type": "stream",
     "text": [
      "100 4 64 256\n"
     ]
    }
   ],
   "source": [
    "#进制转换：转十进制\n",
    "a=100\n",
    "b = 0b100\n",
    "c = 0o100\n",
    "d = 0x100\n",
    "print(a,int(b),int(c),int(d))"
   ]
  },
  {
   "cell_type": "code",
   "execution_count": 4,
   "metadata": {},
   "outputs": [
    {
     "name": "stdout",
     "output_type": "stream",
     "text": [
      "0b1100100\n"
     ]
    }
   ],
   "source": [
    "#转二进制\n",
    "print(bin(a))"
   ]
  },
  {
   "cell_type": "code",
   "execution_count": 6,
   "metadata": {},
   "outputs": [
    {
     "name": "stdout",
     "output_type": "stream",
     "text": [
      "0x64\n"
     ]
    }
   ],
   "source": [
    "print(hex(a))"
   ]
  },
  {
   "cell_type": "code",
   "execution_count": 8,
   "metadata": {},
   "outputs": [
    {
     "name": "stdout",
     "output_type": "stream",
     "text": [
      "0.5 3.0\n"
     ]
    }
   ],
   "source": [
    "# 小数\n",
    "a =.5\n",
    "b=3.\n",
    "\n",
    "print(a,b)"
   ]
  },
  {
   "cell_type": "code",
   "execution_count": 9,
   "metadata": {},
   "outputs": [
    {
     "name": "stdout",
     "output_type": "stream",
     "text": [
      "30000000000.0\n"
     ]
    }
   ],
   "source": [
    "#科学计数法\n",
    "a = 3.e10\n",
    "print(a)"
   ]
  },
  {
   "cell_type": "code",
   "execution_count": 12,
   "metadata": {},
   "outputs": [
    {
     "name": "stdout",
     "output_type": "stream",
     "text": [
      "(100+13j) 23j\n",
      "(100+36j)\n"
     ]
    }
   ],
   "source": [
    "#复数\n",
    "a =100+13j\n",
    "b=23j\n",
    "\n",
    "print(a,b)\n",
    "print(a+b)"
   ]
  },
  {
   "cell_type": "code",
   "execution_count": 14,
   "metadata": {},
   "outputs": [
    {
     "name": "stdout",
     "output_type": "stream",
     "text": [
      "101 100\n"
     ]
    }
   ],
   "source": [
    "a = 100+True   # True为1，False为0\n",
    "b = 100+False\n",
    "print(a,b)"
   ]
  },
  {
   "cell_type": "code",
   "execution_count": 15,
   "metadata": {},
   "outputs": [
    {
     "name": "stdout",
     "output_type": "stream",
     "text": [
      "True\n"
     ]
    }
   ],
   "source": [
    "a = bool(-1009)   #c除了0之外，所有值都为真\n",
    "print(a)"
   ]
  },
  {
   "cell_type": "code",
   "execution_count": null,
   "metadata": {},
   "outputs": [],
   "source": [
    "bool-->int-->float-->complex(即str)  \n",
    "#正向可转，逆向需要强转"
   ]
  },
  {
   "cell_type": "code",
   "execution_count": null,
   "metadata": {},
   "outputs": [],
   "source": [
    "(空串、None、0) 的布尔值为False"
   ]
  },
  {
   "cell_type": "code",
   "execution_count": null,
   "metadata": {},
   "outputs": [],
   "source": [
    "#转义字符\n",
    "    windows系统：\\r\\n 换行\n",
    "    linux系统：\\n 换行"
   ]
  },
  {
   "cell_type": "markdown",
   "metadata": {},
   "source": [
    "# 字符串格式化\n",
    "   - Format\n",
    "   - % :插入内容\n",
    "   -f-format"
   ]
  },
  {
   "cell_type": "code",
   "execution_count": null,
   "metadata": {},
   "outputs": [],
   "source": [
    "%s   插入字符串\n",
    "%d   插入整数"
   ]
  },
  {
   "cell_type": "code",
   "execution_count": 1,
   "metadata": {},
   "outputs": [
    {
     "name": "stdout",
     "output_type": "stream",
     "text": [
      "我爱li 100 年\n"
     ]
    }
   ],
   "source": [
    "s = '我爱%s %d 年' \n",
    "print(s%('li',100))"
   ]
  },
  {
   "cell_type": "code",
   "execution_count": 14,
   "metadata": {},
   "outputs": [
    {
     "name": "stdout",
     "output_type": "stream",
     "text": [
      "青年说：                中国加油,中国必胜\n",
      "青年说：123.245,中国必胜\n"
     ]
    }
   ],
   "source": [
    "s = '中国加油'\n",
    "d = 123.2449\n",
    "print('青年说：%-20s,中国必胜'%s)  #最小宽度输出，不够用空格填充；- 默认靠左\n",
    "print('青年说：%5.3f,中国必胜'%d) #5个整数3个小数"
   ]
  },
  {
   "cell_type": "code",
   "execution_count": 30,
   "metadata": {},
   "outputs": [
    {
     "name": "stdout",
     "output_type": "stream",
     "text": [
      "我们是背景图铃学院    ，我们的校训是===========================我爱陈,哈哈\n"
     ]
    }
   ],
   "source": [
    "s = '我们是{:10}，我们的校训是{:=>30},哈哈'# 默认靠左，>靠右，<靠左。=填充\n",
    "print(s.format('背景图铃学院','我爱陈'))"
   ]
  },
  {
   "cell_type": "code",
   "execution_count": 7,
   "metadata": {},
   "outputs": [
    {
     "name": "stdout",
     "output_type": "stream",
     "text": [
      "我爱陈100年\n"
     ]
    }
   ],
   "source": [
    "# format\n",
    "s = '我爱{}{}年'.format('陈', 100)\n",
    "print(s)"
   ]
  },
  {
   "cell_type": "code",
   "execution_count": 6,
   "metadata": {},
   "outputs": [
    {
     "name": "stdout",
     "output_type": "stream",
     "text": [
      "我爱100陈年\n"
     ]
    }
   ],
   "source": [
    "s = '我爱{1}{0}年'.format('陈', 100)\n",
    "print(s)"
   ]
  },
  {
   "cell_type": "code",
   "execution_count": 8,
   "metadata": {},
   "outputs": [
    {
     "name": "stdout",
     "output_type": "stream",
     "text": [
      "我叫撒大大,年龄19\n"
     ]
    }
   ],
   "source": [
    "# f -字符串格式化 \n",
    "name='撒大大'\n",
    "age = 19\n",
    "height=166\n",
    "\n",
    "s = f\"我叫{name},年龄{age}\"\n",
    "print(s)"
   ]
  },
  {
   "cell_type": "markdown",
   "metadata": {},
   "source": [
    "# 运算符和表达式"
   ]
  },
  {
   "cell_type": "markdown",
   "metadata": {},
   "source": [
    "### 算术运算符"
   ]
  },
  {
   "cell_type": "code",
   "execution_count": 31,
   "metadata": {},
   "outputs": [
    {
     "name": "stdout",
     "output_type": "stream",
     "text": [
      "1.5\n"
     ]
    }
   ],
   "source": [
    "++ --  //\n",
    "所有数学运算符，python都支持（都在math包中）\n",
    "print(3/2)"
   ]
  },
  {
   "cell_type": "code",
   "execution_count": 33,
   "metadata": {},
   "outputs": [
    {
     "name": "stdout",
     "output_type": "stream",
     "text": [
      "4\n",
      "16\n"
     ]
    }
   ],
   "source": [
    "#// 取整数\n",
    "#% 余数\n",
    "print(9//2)\n",
    "print(2**4)"
   ]
  },
  {
   "cell_type": "code",
   "execution_count": 34,
   "metadata": {},
   "outputs": [
    {
     "name": "stdout",
     "output_type": "stream",
     "text": [
      "16.0\n"
     ]
    }
   ],
   "source": [
    "import math\n",
    "print(math.pow(2,4))"
   ]
  },
  {
   "cell_type": "markdown",
   "metadata": {},
   "source": [
    "### 字符串运算符"
   ]
  },
  {
   "cell_type": "code",
   "execution_count": 35,
   "metadata": {},
   "outputs": [
    {
     "name": "stdout",
     "output_type": "stream",
     "text": [
      "eqweqqqw\n"
     ]
    }
   ],
   "source": [
    "a= 'eqweq'\n",
    "b='qqw'\n",
    "print(a+b)"
   ]
  },
  {
   "cell_type": "markdown",
   "metadata": {},
   "source": [
    "### 比较运算符"
   ]
  },
  {
   "cell_type": "code",
   "execution_count": 36,
   "metadata": {},
   "outputs": [
    {
     "name": "stdout",
     "output_type": "stream",
     "text": [
      "True\n"
     ]
    }
   ],
   "source": [
    "a = [1,2,3,4,5]\n",
    "aa =4\n",
    "print(aa in a)"
   ]
  },
  {
   "cell_type": "code",
   "execution_count": 38,
   "metadata": {},
   "outputs": [
    {
     "name": "stdout",
     "output_type": "stream",
     "text": [
      "True\n"
     ]
    }
   ],
   "source": [
    "a = 1\n",
    "b = 1\n",
    "print( a is b )"
   ]
  },
  {
   "cell_type": "code",
   "execution_count": 39,
   "metadata": {},
   "outputs": [
    {
     "name": "stdout",
     "output_type": "stream",
     "text": [
      "False\n"
     ]
    }
   ],
   "source": [
    "a = 10000\n",
    "b = 10000\n",
    "print( a is b )# 判断a是否为b"
   ]
  },
  {
   "cell_type": "code",
   "execution_count": 40,
   "metadata": {},
   "outputs": [
    {
     "name": "stdout",
     "output_type": "stream",
     "text": [
      "True\n"
     ]
    }
   ],
   "source": [
    "print(a == b)# 等于判断的值"
   ]
  },
  {
   "cell_type": "markdown",
   "metadata": {},
   "source": [
    "# 位运算"
   ]
  },
  {
   "cell_type": "markdown",
   "metadata": {},
   "source": [
    "# 三大结构\n",
    "- 顺序\n",
    "- 分支\n",
    "- 循环"
   ]
  },
  {
   "cell_type": "code",
   "execution_count": 41,
   "metadata": {},
   "outputs": [
    {
     "name": "stdout",
     "output_type": "stream",
     "text": [
      "12\n"
     ]
    },
    {
     "data": {
      "text/plain": [
       "'12'"
      ]
     },
     "execution_count": 41,
     "metadata": {},
     "output_type": "execute_result"
    }
   ],
   "source": [
    "input()# input将所有输入的内容都转化为字符串"
   ]
  },
  {
   "cell_type": "code",
   "execution_count": null,
   "metadata": {},
   "outputs": [],
   "source": [
    "a = [1,2,3,4,5]\n",
    "for _ in a:   #_表示循环语句中不需要用到变量，只需要重复输出即可"
   ]
  },
  {
   "cell_type": "code",
   "execution_count": null,
   "metadata": {},
   "outputs": [],
   "source": [
    "continue #直接执行下一次循环"
   ]
  },
  {
   "cell_type": "markdown",
   "metadata": {},
   "source": [
    "# 内置函数"
   ]
  },
  {
   "cell_type": "markdown",
   "metadata": {},
   "source": [
    "### 函数参数\n",
    "- 普通参数\n",
    "- 默认参数\n",
    "- 关键字\n",
    "- 收集参数"
   ]
  },
  {
   "cell_type": "code",
   "execution_count": 44,
   "metadata": {},
   "outputs": [
    {
     "name": "stdout",
     "output_type": "stream",
     "text": [
      "my name is 六大那,i am 18years old.\n"
     ]
    }
   ],
   "source": [
    "# 普通参数:位置参数\n",
    "def intro(name,age):在这里插入代码片\n",
    "    info =f\"my name is {name},i am {age}years old.\"\n",
    "    print(info)\n",
    "intro('六大那',18)"
   ]
  },
  {
   "cell_type": "code",
   "execution_count": 54,
   "metadata": {},
   "outputs": [
    {
     "name": "stdout",
     "output_type": "stream",
     "text": [
      "I am liu,我爱zhang\n"
     ]
    }
   ],
   "source": [
    "# 默认参数\n",
    "def intro(me,lover='wang'):\n",
    "    print(f'I am {me},我爱{lover}')\n",
    "    \n",
    "intro('liu','zhang') "
   ]
  },
  {
   "cell_type": "code",
   "execution_count": 49,
   "metadata": {},
   "outputs": [
    {
     "name": "stdout",
     "output_type": "stream",
     "text": [
      "I am {me},我爱{lover}\n"
     ]
    }
   ],
   "source": [
    "intro('liu','wang')"
   ]
  },
  {
   "cell_type": "code",
   "execution_count": 62,
   "metadata": {},
   "outputs": [
    {
     "name": "stdout",
     "output_type": "stream",
     "text": [
      "I am liu,我爱zhang\n"
     ]
    }
   ],
   "source": [
    "# 关键字参数:命名\n",
    "def intro(me,lover):\n",
    "    print(f'I am {me},我爱{lover}')\n",
    "    \n",
    "intro(me='liu',lover='zhang') "
   ]
  },
  {
   "cell_type": "code",
   "execution_count": 61,
   "metadata": {},
   "outputs": [
    {
     "name": "stdout",
     "output_type": "stream",
     "text": [
      "我爱sd\n"
     ]
    }
   ],
   "source": [
    "s = '我爱{}'.format('sd')\n",
    "print(s)"
   ]
  },
  {
   "cell_type": "code",
   "execution_count": 65,
   "metadata": {},
   "outputs": [
    {
     "name": "stdout",
     "output_type": "stream",
     "text": [
      "my name is 六,i am 17\n",
      "('我喜欢',)\n"
     ]
    }
   ],
   "source": [
    "# 收集普通参数：不确定有多少参数\n",
    "def intro(name,age,*args):#给出最小参数\n",
    "                            # *args:元组形式\n",
    "    info = f\"my name is {name},i am {age}\"\n",
    "    print(info)\n",
    "    print(args)\n",
    "\n",
    "intro('六','17','我喜欢')"
   ]
  },
  {
   "cell_type": "code",
   "execution_count": null,
   "metadata": {},
   "outputs": [],
   "source": [
    "def intro(name,age,**kargs):# 收集关键字参数，字典形式"
   ]
  },
  {
   "cell_type": "code",
   "execution_count": null,
   "metadata": {},
   "outputs": [],
   "source": [
    "# 参数位置\n",
    "普通参数  默认参数  普通参数收集参数  关键字参数收集参数"
   ]
  },
  {
   "cell_type": "code",
   "execution_count": 66,
   "metadata": {},
   "outputs": [
    {
     "name": "stdout",
     "output_type": "stream",
     "text": [
      "Help on built-in function sorted in module builtins:\n",
      "\n",
      "sorted(iterable, /, *, key=None, reverse=False)\n",
      "    Return a new list containing all items from the iterable in ascending order.\n",
      "    \n",
      "    A custom key function can be supplied to customize the sort order, and the\n",
      "    reverse flag can be set to request the result in descending order.\n",
      "\n"
     ]
    }
   ],
   "source": [
    "help(sorted)#函数签名"
   ]
  },
  {
   "cell_type": "markdown",
   "metadata": {},
   "source": [
    "# 内置函数\n",
    "- range函数\n",
    "- zip()函数\n",
    "- 其他内置函数\n",
    "    - 数据类型转换相关内置函数\n",
    "        - int\n",
    "        - float\n",
    "        - bool\n",
    "        - complex\n",
    "        - str\n",
    "        - list\n",
    "        - tuple\n",
    "        - dict\n",
    "        - set\n",
    "    - 变量相关函数\n",
    "        - id():获取ID标识\n",
    "        - type()\n",
    "        - print()\n",
    "        - input()\n",
    "        - isinstance()：检测是否为指定的数据类型\n",
    "    - 数学相关函数\n",
    "    - 进制相关函数\n",
    "        - bin\n",
    "        - int\n",
    "        - oct:八进制\n",
    "        - hex\n",
    "    - ascii码\n",
    "        - ord（）:将字符转为ascii码\n",
    "        - chr（）:将ASCII转为字符\n",
    "- 高阶函数\n",
    "    - sorted()\n",
    "    - map()\n",
    "    - reduce()\n",
    "    - filter()"
   ]
  },
  {
   "cell_type": "markdown",
   "metadata": {},
   "source": [
    "# 内置数据结构:数据的表示形式\n",
    "    - list\n",
    "    - set\n",
    "    - dict\n",
    "    - tuple"
   ]
  },
  {
   "cell_type": "markdown",
   "metadata": {},
   "source": [
    "### list\n",
    "- 数据可以重复\n",
    "- 可切片操作\n",
    "- 嵌套的用列表生成式（多维转一维）\n",
    "- 字符串用分割（split）或者先转字符串再分割\n",
    "- 删除\n",
    "    - del：用索引删除\n",
    "    - remove：直接删除内容\n",
    "    - pop："
   ]
  },
  {
   "cell_type": "code",
   "execution_count": null,
   "metadata": {},
   "outputs": [],
   "source": [
    "# list 列表:数据可以重复，列表中什么都可以放，通过下标操作\n",
    "L1 = list()\n",
    "L2 = []"
   ]
  },
  {
   "cell_type": "code",
   "execution_count": 70,
   "metadata": {},
   "outputs": [
    {
     "name": "stdout",
     "output_type": "stream",
     "text": [
      "[4, 5, 6, 7]\n"
     ]
    }
   ],
   "source": [
    "#切片操作\n",
    "L3 =[2,3,4,5,6,7,8,9]\n",
    "L4 =L3[2:6]\n",
    "print(L4)"
   ]
  },
  {
   "cell_type": "code",
   "execution_count": null,
   "metadata": {},
   "outputs": [],
   "source": [
    "# 嵌套"
   ]
  },
  {
   "cell_type": "code",
   "execution_count": 72,
   "metadata": {},
   "outputs": [
    {
     "name": "stdout",
     "output_type": "stream",
     "text": [
      "1 --- 2\n",
      "3 --- 5\n",
      "ad --- adh\n"
     ]
    }
   ],
   "source": [
    "a =[[1,2],[3,5],['ad','adh']]\n",
    "for k,v in a:\n",
    "    print(k,'---',v)"
   ]
  },
  {
   "cell_type": "code",
   "execution_count": null,
   "metadata": {},
   "outputs": [],
   "source": [
    "# 列表生成式"
   ]
  },
  {
   "cell_type": "code",
   "execution_count": 73,
   "metadata": {},
   "outputs": [],
   "source": [
    "a =[2,3,4,5,6,7,8,9]\n",
    "del a[2]# 原地删除"
   ]
  },
  {
   "cell_type": "code",
   "execution_count": 74,
   "metadata": {},
   "outputs": [
    {
     "data": {
      "text/plain": [
       "[2, 3, 5, 6, 7, 8, 9]"
      ]
     },
     "execution_count": 74,
     "metadata": {},
     "output_type": "execute_result"
    }
   ],
   "source": [
    "a"
   ]
  },
  {
   "cell_type": "code",
   "execution_count": 75,
   "metadata": {},
   "outputs": [
    {
     "data": {
      "text/plain": [
       "[2, 3, 5, 6, 7, 8, 9, 3, 4, 7, 8, 9, 0, 2]"
      ]
     },
     "execution_count": 75,
     "metadata": {},
     "output_type": "execute_result"
    }
   ],
   "source": [
    "b=[3,4,7,8,9,0,2]\n",
    "a+b"
   ]
  },
  {
   "cell_type": "code",
   "execution_count": 79,
   "metadata": {},
   "outputs": [
    {
     "name": "stdout",
     "output_type": "stream",
     "text": [
      "i\n",
      " \n",
      "l\n",
      "o\n",
      "v\n",
      "e\n",
      " \n",
      "b\n",
      "e\n",
      "i\n",
      "j\n",
      "i\n",
      "n\n",
      "g\n"
     ]
    },
    {
     "data": {
      "text/plain": [
       "[2, 3, 5, 6, 7, 8, 9]"
      ]
     },
     "execution_count": 79,
     "metadata": {},
     "output_type": "execute_result"
    }
   ],
   "source": [
    "s = 'i love beijing'\n",
    "for i in s:\n",
    "    print(i)\n"
   ]
  },
  {
   "cell_type": "code",
   "execution_count": 85,
   "metadata": {},
   "outputs": [
    {
     "data": {
      "text/plain": [
       "['i', 'love', 'beijing']"
      ]
     },
     "execution_count": 85,
     "metadata": {},
     "output_type": "execute_result"
    }
   ],
   "source": [
    "a = list(s)\n",
    "a"
   ]
  },
  {
   "cell_type": "code",
   "execution_count": 84,
   "metadata": {},
   "outputs": [],
   "source": [
    "s = s.split(' ')"
   ]
  },
  {
   "cell_type": "code",
   "execution_count": null,
   "metadata": {},
   "outputs": [],
   "source": [
    "s.remove(555)  #删除数字\n",
    "del s[3]   #根据所应删除"
   ]
  },
  {
   "cell_type": "markdown",
   "metadata": {},
   "source": [
    "### 内置数据结构- dict  set  tuple"
   ]
  },
  {
   "cell_type": "code",
   "execution_count": 2,
   "metadata": {},
   "outputs": [
    {
     "data": {
      "text/plain": [
       "[2, 7, 3, 4]"
      ]
     },
     "execution_count": 2,
     "metadata": {},
     "output_type": "execute_result"
    }
   ],
   "source": [
    "L = [4,3,7,2]\n",
    "L.reverse()# 倒转\n",
    "L"
   ]
  },
  {
   "cell_type": "markdown",
   "metadata": {},
   "source": [
    "#### 函数"
   ]
  },
  {
   "cell_type": "code",
   "execution_count": 3,
   "metadata": {},
   "outputs": [],
   "source": [
    "L.sort()# 排序\n",
    "L.sort(reverse = True)# 从小到大排序\n",
    "L.reverse()# 倒转"
   ]
  },
  {
   "cell_type": "code",
   "execution_count": 4,
   "metadata": {},
   "outputs": [
    {
     "data": {
      "text/plain": [
       "[2, 3, 4, 7]"
      ]
     },
     "execution_count": 4,
     "metadata": {},
     "output_type": "execute_result"
    }
   ],
   "source": [
    "L"
   ]
  },
  {
   "cell_type": "markdown",
   "metadata": {},
   "source": [
    "### tuple\n",
    "    - 不可更改的列表\n",
    "    - 可进行切片操作（同列表）\n",
    "    - 没有元组生成式"
   ]
  },
  {
   "cell_type": "code",
   "execution_count": null,
   "metadata": {},
   "outputs": [],
   "source": [
    "t = []       #列表\n",
    "t = list()   #列表\n",
    "t = ()       #元组  \n",
    "t = tuple()  #元组\n",
    "t = set()    #集合\n",
    "t = {1}      #集合\n",
    "t = {}       #字典"
   ]
  },
  {
   "cell_type": "code",
   "execution_count": null,
   "metadata": {},
   "outputs": [],
   "source": [
    "t = tuple()\n",
    "t = list()"
   ]
  },
  {
   "cell_type": "code",
   "execution_count": null,
   "metadata": {},
   "outputs": [],
   "source": [
    "t = (1)  #整数\n",
    "t = (1,)  #元组\n",
    "t = 1,   #元组\n",
    "t = 1,2,3,4 #元组\n"
   ]
  },
  {
   "cell_type": "code",
   "execution_count": null,
   "metadata": {},
   "outputs": [],
   "source": [
    "#元组\n",
    "L = [4,3,7,2]\n",
    "t =tuple(L)"
   ]
  },
  {
   "cell_type": "code",
   "execution_count": null,
   "metadata": {},
   "outputs": [],
   "source": [
    "# 元组生成式\n"
   ]
  },
  {
   "cell_type": "markdown",
   "metadata": {},
   "source": [
    "### set\n",
    "    - 无重复，无序，无索引，无切片\n",
    "    - 集合元素要求可哈希（运算可得出一个值）\n",
    "    - in ,not in    (for i in s:)\n",
    "    - 集合生成式：{i for i in range(10) if i%2 == 0}\n",
    "    操作\n",
    "        - s.add\n",
    "        - s.clear\n",
    "        - s.remove\n",
    "        - s.discard     #删除\n",
    "        - s.pop       # 随机删除\n",
    "    交差并补集   \n",
    "        - s.intersection(s1)   #交集  s&s1\n",
    "        - s.intersecton_update(s1)   #求交集并更新\n",
    "        - s.difference(s1)    #差集  s-s1\n",
    "        - s.union(s1)      #并集  s|s1\n",
    "        - s^s1           #补集\n",
    "        - s1.issubset(s)    #是否为子集\n",
    "        - s1.issuperset(s)   #是否为超集\n",
    "    冰冻集合（froenset(1,2,3)）"
   ]
  },
  {
   "cell_type": "code",
   "execution_count": 8,
   "metadata": {},
   "outputs": [
    {
     "data": {
      "text/plain": [
       "{1, 2, 3, 4, 5}"
      ]
     },
     "execution_count": 8,
     "metadata": {},
     "output_type": "execute_result"
    }
   ],
   "source": [
    "#s = set()  #空集合\n",
    "s ={1,2,3,4,5,5,5,5,5}\n",
    "s"
   ]
  },
  {
   "cell_type": "code",
   "execution_count": 11,
   "metadata": {},
   "outputs": [
    {
     "data": {
      "text/plain": [
       "{1}"
      ]
     },
     "execution_count": 11,
     "metadata": {},
     "output_type": "execute_result"
    }
   ],
   "source": [
    "s = {1}#集合\n",
    "s"
   ]
  },
  {
   "cell_type": "code",
   "execution_count": 12,
   "metadata": {},
   "outputs": [
    {
     "data": {
      "text/plain": [
       "True"
      ]
     },
     "execution_count": 12,
     "metadata": {},
     "output_type": "execute_result"
    }
   ],
   "source": [
    "s ={1,2,3}\n",
    "sa = 1\n",
    "sa in s"
   ]
  },
  {
   "cell_type": "code",
   "execution_count": null,
   "metadata": {},
   "outputs": [],
   "source": [
    "### 字典\n",
    "    - 操作：\n",
    "        - d = {}\n",
    "        - d = dict{}\n",
    "        - d = dict(one=1,two=2)\n",
    "        - d = dict({'one':1,'two':2})\n",
    "        - d = dict([(1,'one'),('one',1)])\n",
    "        - d.keys()    #键\n",
    "        - d.values()  # 值\n",
    "        - d.items()  # 键值对\n",
    "    - 基本操作\n",
    "        - d.get('zzz',1)  #若没有该键，默认返回空;也可以返回固定的值\n",
    "    - 字典生成式： {k:v for k,v in d.items() }\n",
    "    - 组成字典\n",
    "        - L1 = [i for i in range(100,1100,100)]\n",
    "        - L2 = ['KEY-'+str(i) for i in range(10)]\n",
    "        - a = {k:v for k,v in zip(L2,L1)}\n",
    "        - a\n",
    "    - 生成初级字典\n",
    "        - kys = ['I','love','zyl']\n",
    "        - d = dict.fromkeys(kys,0)\n",
    "        - d"
   ]
  },
  {
   "cell_type": "code",
   "execution_count": null,
   "metadata": {},
   "outputs": [],
   "source": [
    "d = {}\n",
    "d = dict{}\n",
    "d = dict(one=1,two=2)\n",
    "d = dict({'one':1,'two':2})\n",
    "d = dict([(1,'one'),('one',1)])"
   ]
  },
  {
   "cell_type": "code",
   "execution_count": 13,
   "metadata": {},
   "outputs": [],
   "source": [
    "d ={'one':1,'two':2,'three':3}"
   ]
  },
  {
   "cell_type": "code",
   "execution_count": 14,
   "metadata": {},
   "outputs": [
    {
     "name": "stdout",
     "output_type": "stream",
     "text": [
      "one\n",
      "two\n",
      "three\n"
     ]
    }
   ],
   "source": [
    "for i in d:\n",
    "    print(i)  #默认遍历key值"
   ]
  },
  {
   "cell_type": "code",
   "execution_count": 15,
   "metadata": {},
   "outputs": [
    {
     "name": "stdout",
     "output_type": "stream",
     "text": [
      "one\n",
      "two\n",
      "three\n"
     ]
    }
   ],
   "source": [
    "for i in d.keys():\n",
    "    print(i) "
   ]
  },
  {
   "cell_type": "code",
   "execution_count": 16,
   "metadata": {},
   "outputs": [
    {
     "name": "stdout",
     "output_type": "stream",
     "text": [
      "1\n",
      "2\n",
      "3\n"
     ]
    }
   ],
   "source": [
    "for i in d.values():\n",
    "    print(i) "
   ]
  },
  {
   "cell_type": "code",
   "execution_count": 19,
   "metadata": {},
   "outputs": [
    {
     "name": "stdout",
     "output_type": "stream",
     "text": [
      "one 1\n",
      "two 2\n",
      "three 3\n"
     ]
    }
   ],
   "source": [
    "for k,v in d.items():\n",
    "    print(k,v) "
   ]
  },
  {
   "cell_type": "code",
   "execution_count": 21,
   "metadata": {},
   "outputs": [
    {
     "name": "stdout",
     "output_type": "stream",
     "text": [
      "None\n"
     ]
    }
   ],
   "source": [
    "a =d.get('zz')# 若没有该键，默认返回空;也可以返回固定的值\n",
    "print(a)"
   ]
  },
  {
   "cell_type": "code",
   "execution_count": 23,
   "metadata": {},
   "outputs": [
    {
     "data": {
      "text/plain": [
       "199"
      ]
     },
     "execution_count": 23,
     "metadata": {},
     "output_type": "execute_result"
    }
   ],
   "source": [
    "a =d.get('zz',199)\n",
    "a"
   ]
  },
  {
   "cell_type": "code",
   "execution_count": null,
   "metadata": {},
   "outputs": [],
   "source": [
    "# 组成字典"
   ]
  },
  {
   "cell_type": "code",
   "execution_count": 29,
   "metadata": {},
   "outputs": [
    {
     "data": {
      "text/plain": [
       "{'KEY-0': 100,\n",
       " 'KEY-1': 200,\n",
       " 'KEY-2': 300,\n",
       " 'KEY-3': 400,\n",
       " 'KEY-4': 500,\n",
       " 'KEY-5': 600,\n",
       " 'KEY-6': 700,\n",
       " 'KEY-7': 800,\n",
       " 'KEY-8': 900,\n",
       " 'KEY-9': 1000}"
      ]
     },
     "execution_count": 29,
     "metadata": {},
     "output_type": "execute_result"
    }
   ],
   "source": [
    "L1 = [i for i in range(100,1100,100)]\n",
    "L2 = ['KEY-'+str(i) for i in range(10)]\n",
    "a = {k:v for k,v in zip(L2,L1)}\n",
    "a"
   ]
  },
  {
   "cell_type": "code",
   "execution_count": 32,
   "metadata": {},
   "outputs": [
    {
     "data": {
      "text/plain": [
       "{'I': 0, 'love': 0, 'zyl': 0}"
      ]
     },
     "execution_count": 32,
     "metadata": {},
     "output_type": "execute_result"
    }
   ],
   "source": [
    "kys = ['I','love','zyl']\n",
    "d = dict.fromkeys(kys,0)\n",
    "d"
   ]
  },
  {
   "cell_type": "code",
   "execution_count": null,
   "metadata": {},
   "outputs": [],
   "source": []
  },
  {
   "cell_type": "code",
   "execution_count": null,
   "metadata": {},
   "outputs": [],
   "source": []
  },
  {
   "cell_type": "code",
   "execution_count": null,
   "metadata": {},
   "outputs": [],
   "source": []
  },
  {
   "cell_type": "code",
   "execution_count": null,
   "metadata": {},
   "outputs": [],
   "source": []
  },
  {
   "cell_type": "code",
   "execution_count": null,
   "metadata": {},
   "outputs": [],
   "source": []
  },
  {
   "cell_type": "code",
   "execution_count": null,
   "metadata": {},
   "outputs": [],
   "source": []
  },
  {
   "cell_type": "code",
   "execution_count": null,
   "metadata": {},
   "outputs": [],
   "source": []
  },
  {
   "cell_type": "code",
   "execution_count": null,
   "metadata": {},
   "outputs": [],
   "source": []
  },
  {
   "cell_type": "code",
   "execution_count": null,
   "metadata": {},
   "outputs": [],
   "source": []
  },
  {
   "cell_type": "code",
   "execution_count": null,
   "metadata": {},
   "outputs": [],
   "source": []
  },
  {
   "cell_type": "code",
   "execution_count": null,
   "metadata": {},
   "outputs": [],
   "source": []
  },
  {
   "cell_type": "code",
   "execution_count": null,
   "metadata": {},
   "outputs": [],
   "source": []
  },
  {
   "cell_type": "code",
   "execution_count": null,
   "metadata": {},
   "outputs": [],
   "source": []
  }
 ],
 "metadata": {
  "kernelspec": {
   "display_name": "Python 3",
   "language": "python",
   "name": "python3"
  },
  "language_info": {
   "codemirror_mode": {
    "name": "ipython",
    "version": 3
   },
   "file_extension": ".py",
   "mimetype": "text/x-python",
   "name": "python",
   "nbconvert_exporter": "python",
   "pygments_lexer": "ipython3",
   "version": "3.8.5"
  }
 },
 "nbformat": 4,
 "nbformat_minor": 4
}
