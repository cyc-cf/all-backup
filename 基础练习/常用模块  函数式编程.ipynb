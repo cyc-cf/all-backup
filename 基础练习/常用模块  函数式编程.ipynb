{
 "cells": [
  {
   "cell_type": "markdown",
   "metadata": {},
   "source": [
    "# 常用模块\n",
    "- calendar\n",
    "- time\n",
    "- datetime\n",
    "- timeit\n",
    "- os\n",
    "- shutil\n",
    "- zip\n",
    "- math\n",
    "- string\n"
   ]
  },
  {
   "cell_type": "code",
   "execution_count": 1,
   "metadata": {},
   "outputs": [
    {
     "data": {
      "text/plain": [
       "4"
      ]
     },
     "execution_count": 1,
     "metadata": {},
     "output_type": "execute_result"
    }
   ],
   "source": [
    "import calendar\n",
    "# 获取指定年份之间的闰年个数\n",
    "calendar.leapdays(2001,2019)"
   ]
  },
  {
   "cell_type": "code",
   "execution_count": 3,
   "metadata": {},
   "outputs": [
    {
     "name": "stdout",
     "output_type": "stream",
     "text": [
      "     March 2018\n",
      "Mo Tu We Th Fr Sa Su\n",
      "          1  2  3  4\n",
      " 5  6  7  8  9 10 11\n",
      "12 13 14 15 16 17 18\n",
      "19 20 21 22 23 24 25\n",
      "26 27 28 29 30 31\n",
      "\n"
     ]
    }
   ],
   "source": [
    "# month()  获取某个月的日历字符串\n",
    "# calendar.month(年,月)\n",
    "# 月日历的字符串\n",
    "\n",
    "m3 = calendar.month(2018,3)\n",
    "print(m3)"
   ]
  },
  {
   "cell_type": "code",
   "execution_count": null,
   "metadata": {},
   "outputs": [],
   "source": [
    "# monthrange()  获取一个月的周几开始\n",
    "# calendar.monthrange(年,月)\n",
    "# 元组（周几开始，总天数）\n",
    "# 周默认的是0-6 周一到周日"
   ]
  },
  {
   "cell_type": "code",
   "execution_count": null,
   "metadata": {},
   "outputs": [],
   "source": []
  },
  {
   "cell_type": "markdown",
   "metadata": {},
   "source": [
    "# 函数式编程"
   ]
  },
  {
   "cell_type": "markdown",
   "metadata": {},
   "source": [
    "### 基于lambda盐酸的一种编程方式\n",
    "    - 程序中只有函数\n",
    "    - 函数可以作为参数，同样可以作为返回值\n",
    "    - 纯函数编程语言：LISP  Haskell\n",
    "- python函数式编程只是借鉴函数式编程的一些特点，可以理解成一般函数一般python\n",
    "    - 高阶函数\n",
    "    - 返回函数\n",
    "    - 匿名函数\n",
    "    - 装饰器\n",
    "    - 偏函数"
   ]
  },
  {
   "cell_type": "code",
   "execution_count": null,
   "metadata": {},
   "outputs": [],
   "source": [
    "### lambda表达式\n",
    "    - python的匿名函数\n",
    "    - 函数：最大程度复用代码\n",
    "- lambda :一个表达式，函数体相对简单，可以有参数，用逗号隔开\n",
    "    "
   ]
  },
  {
   "cell_type": "code",
   "execution_count": null,
   "metadata": {},
   "outputs": [],
   "source": [
    "# 用法：\n",
    "    - 以lambda开头\n",
    "    - 紧跟一定的参数\n",
    "    - 参数后用冒号隔开，分割函数列表和函数主体\n",
    "    - 没有返回值return"
   ]
  },
  {
   "cell_type": "code",
   "execution_count": 6,
   "metadata": {},
   "outputs": [
    {
     "data": {
      "text/plain": [
       "8900"
      ]
     },
     "execution_count": 6,
     "metadata": {},
     "output_type": "execute_result"
    }
   ],
   "source": [
    "stm = lambda x: 100*x    #一个函数\n",
    "\n",
    "stm(89)"
   ]
  },
  {
   "cell_type": "code",
   "execution_count": 7,
   "metadata": {},
   "outputs": [
    {
     "data": {
      "text/plain": [
       "56"
      ]
     },
     "execution_count": 7,
     "metadata": {},
     "output_type": "execute_result"
    }
   ],
   "source": [
    "#多参数\n",
    "stm = lambda x,y,z:x*10+y*2+z\n",
    "stm(4,5,6)"
   ]
  },
  {
   "cell_type": "code",
   "execution_count": null,
   "metadata": {},
   "outputs": [],
   "source": [
    "# 递归函数"
   ]
  },
  {
   "cell_type": "markdown",
   "metadata": {},
   "source": [
    "### 高阶函数\n",
    "    - 把函数作为参数使用的函数"
   ]
  },
  {
   "cell_type": "code",
   "execution_count": null,
   "metadata": {},
   "outputs": [],
   "source": [
    "# 变量可以赋值\n",
    "a = 100\n",
    "b = a"
   ]
  },
  {
   "cell_type": "code",
   "execution_count": 11,
   "metadata": {},
   "outputs": [
    {
     "name": "stdout",
     "output_type": "stream",
     "text": [
      "aa\n"
     ]
    }
   ],
   "source": [
    "#函数名称是一个变量\n",
    "def funa():\n",
    "    print('aa')\n",
    "    \n",
    "#funa 是一个变量，可以赋值\n",
    "# 赋值\n",
    "funb = funa\n",
    "funb()"
   ]
  },
  {
   "cell_type": "code",
   "execution_count": null,
   "metadata": {},
   "outputs": [],
   "source": [
    "#变量可以被作为参数传入另一个函数中，函数可也以被作为参数传入另一个函数中"
   ]
  },
  {
   "cell_type": "code",
   "execution_count": null,
   "metadata": {},
   "outputs": [],
   "source": [
    "### - 函数名称是变量\n",
    "- funb funa只是名称不一样\n",
    "- 变量可以被作为参数传入另一个函数中，函数可也以被作为参数传入另一个函数中"
   ]
  },
  {
   "cell_type": "code",
   "execution_count": null,
   "metadata": {},
   "outputs": [],
   "source": [
    "## 高阶函数举例\n",
    "funa 是普通函数，返回一个传入数字的1000倍"
   ]
  },
  {
   "cell_type": "code",
   "execution_count": 14,
   "metadata": {},
   "outputs": [
    {
     "name": "stdout",
     "output_type": "stream",
     "text": [
      "900\n",
      "2700\n"
     ]
    }
   ],
   "source": [
    "#高阶函数举例\n",
    "# 法一：\n",
    "def funa(n):\n",
    "    return n*100\n",
    "def funb(n):#返回300倍\n",
    "    return funa(n)*3\n",
    "print(funb(3))\n",
    "\n",
    "#法二：\n",
    "# 写一个高阶函数\n",
    "def func(n,f):\n",
    "    #假定函数是把n放大100倍\n",
    "    return f(n)*3\n",
    "print(func(9,funa))"
   ]
  },
  {
   "cell_type": "markdown",
   "metadata": {},
   "source": [
    "# 系统高阶函数-map(映射功能)，返回map对象\n",
    "-  把集合或列表的元素，每一个元素按照规则进行操作，\n",
    "- 返回值是一个迭代对象"
   ]
  },
  {
   "cell_type": "code",
   "execution_count": 20,
   "metadata": {},
   "outputs": [
    {
     "name": "stdout",
     "output_type": "stream",
     "text": [
      "10\n",
      "20\n",
      "30\n",
      "50\n",
      "40\n",
      "430\n",
      "60\n",
      "50\n"
     ]
    }
   ],
   "source": [
    "def  f(n):\n",
    "    return n*10\n",
    "\n",
    "\n",
    "l1 = [1,2,3,5,4,43,6,5]\n",
    "l3 =map(f,l1)\n",
    "#map类型是一个可迭代结构，可用for循环遍历\n",
    "for i in l3:\n",
    "    print(i)"
   ]
  },
  {
   "cell_type": "markdown",
   "metadata": {},
   "source": [
    "# reduce (函数嵌套)：传入一个函数，函数的功能自己定义\n",
    "\n",
    "- 归并缩减\n",
    "- 把可迭代对象归并为一个结果\n",
    "- 对于函数参数有要求：必须有两个参数，必须有返回值\n",
    "- 需要导入functools包"
   ]
  },
  {
   "cell_type": "code",
   "execution_count": 22,
   "metadata": {},
   "outputs": [
    {
     "data": {
      "text/plain": [
       "21"
      ]
     },
     "execution_count": 22,
     "metadata": {},
     "output_type": "execute_result"
    }
   ],
   "source": [
    "from functools import reduce\n",
    "\n",
    "# 定义一个操作函数\n",
    "def myAdd(x,y):\n",
    "    return x+y\n",
    "#D对于列表执行reduce操作\n",
    "reduce( myAdd,[1,2,3,4,5,6])"
   ]
  },
  {
   "cell_type": "markdown",
   "metadata": {},
   "source": [
    "# filter函数"
   ]
  },
  {
   "cell_type": "code",
   "execution_count": null,
   "metadata": {},
   "outputs": [],
   "source": [
    "过滤函数：对一组数据进行过滤，符合条件的会生成一个新的列表并返回"
   ]
  },
  {
   "cell_type": "markdown",
   "metadata": {},
   "source": [
    "与map比较：\n",
    "- 相同：对列表每一个元素逐一操作\n",
    "- 不同：\n",
    "    - map会生成一个m和原来数据相对应的新队列\n",
    "    - filter只要符合条件的会进入新的数据集合，不符合的删除\n",
    "- 表示形式\n",
    "    - 返回值是一个布尔值\n",
    "    - 调用格式：filter（f，data）,f是过滤函数，data是数据"
   ]
  },
  {
   "cell_type": "code",
   "execution_count": 25,
   "metadata": {},
   "outputs": [
    {
     "data": {
      "text/plain": [
       "<filter at 0x20a5f80a4f0>"
      ]
     },
     "execution_count": 25,
     "metadata": {},
     "output_type": "execute_result"
    }
   ],
   "source": [
    "# filter:返回的是filter可迭代对象\n",
    "#定义函数，有输入\n",
    "def isEven(a):\n",
    "    return a%2==0\n",
    "\n",
    "l =[4,9,5,6,7,34,55,32,53]\n",
    "\n",
    "filter(isEven,l)"
   ]
  },
  {
   "cell_type": "markdown",
   "metadata": {},
   "source": [
    "### 高阶函数-排序\n",
    "    - 把一个序列按照给定算法进行排序\n",
    "    - key参数：在排序前对每一个元素进行key函数运算，可以理解成按照key函数定义的逻辑进行排序\n",
    "    "
   ]
  },
  {
   "cell_type": "code",
   "execution_count": 26,
   "metadata": {},
   "outputs": [
    {
     "name": "stdout",
     "output_type": "stream",
     "text": [
      "Help on built-in function sorted in module builtins:\n",
      "\n",
      "sorted(iterable, /, *, key=None, reverse=False)\n",
      "    Return a new list containing all items from the iterable in ascending order.\n",
      "    \n",
      "    A custom key function can be supplied to customize the sort order, and the\n",
      "    reverse flag can be set to request the result in descending order.\n",
      "\n"
     ]
    }
   ],
   "source": [
    "help(sorted)"
   ]
  },
  {
   "cell_type": "code",
   "execution_count": 29,
   "metadata": {},
   "outputs": [
    {
     "data": {
      "text/plain": [
       "[2, 21, 22, 23, 425, 455, 563]"
      ]
     },
     "execution_count": 29,
     "metadata": {},
     "output_type": "execute_result"
    }
   ],
   "source": [
    "# 排序例子\n",
    "a =[23,455,22,563,21,425,2]\n",
    "al = sorted(a)\n",
    "al"
   ]
  },
  {
   "cell_type": "code",
   "execution_count": 31,
   "metadata": {},
   "outputs": [
    {
     "data": {
      "text/plain": [
       "[-563, -455, 425, 23, 22, 21, 2]"
      ]
     },
     "execution_count": 31,
     "metadata": {},
     "output_type": "execute_result"
    }
   ],
   "source": [
    "#案例2:按照绝对值倒序排序\n",
    "a =[23,-455,22,-563,21,425,2]\n",
    "al = sorted(a,key = abs,reverse = True)\n",
    "al"
   ]
  },
  {
   "cell_type": "code",
   "execution_count": 32,
   "metadata": {},
   "outputs": [
    {
     "name": "stdout",
     "output_type": "stream",
     "text": [
      "['adas', 'bof', 'dada']\n"
     ]
    }
   ],
   "source": [
    "# sorted案例:字符串进行排序\n",
    "astr = ['dada','bof','adas']\n",
    "str1 = sorted(astr)\n",
    "print(str1)\n"
   ]
  },
  {
   "cell_type": "code",
   "execution_count": 47,
   "metadata": {},
   "outputs": [
    {
     "data": {
      "text/plain": [
       "['adas', 'Bof', 'DAAda', 'daada']"
      ]
     },
     "execution_count": 47,
     "metadata": {},
     "output_type": "execute_result"
    }
   ],
   "source": [
    "astr = ['DAAda','daada','Bof','adas']\n",
    "str2 = sorted(astr,key = str.upper)\n",
    "str2"
   ]
  },
  {
   "cell_type": "markdown",
   "metadata": {},
   "source": [
    "## 返回函数\n",
    "- 函数也可以返回具体的值\n",
    "- 也可以返回函数作为结果"
   ]
  },
  {
   "cell_type": "code",
   "execution_count": null,
   "metadata": {},
   "outputs": [],
   "source": [
    "# \n",
    "def myF(a):\n",
    "    print('In')\n",
    "    return None"
   ]
  },
  {
   "cell_type": "code",
   "execution_count": null,
   "metadata": {},
   "outputs": [],
   "source": [
    "#函数作为返回值发挥，被返回的函数再函数体内定义\n",
    "args:参数列表"
   ]
  },
  {
   "cell_type": "code",
   "execution_count": null,
   "metadata": {},
   "outputs": [],
   "source": []
  },
  {
   "cell_type": "code",
   "execution_count": null,
   "metadata": {},
   "outputs": [],
   "source": []
  },
  {
   "cell_type": "code",
   "execution_count": null,
   "metadata": {},
   "outputs": [],
   "source": []
  },
  {
   "cell_type": "code",
   "execution_count": null,
   "metadata": {},
   "outputs": [],
   "source": []
  },
  {
   "cell_type": "code",
   "execution_count": null,
   "metadata": {},
   "outputs": [],
   "source": []
  },
  {
   "cell_type": "code",
   "execution_count": null,
   "metadata": {},
   "outputs": [],
   "source": []
  },
  {
   "cell_type": "code",
   "execution_count": null,
   "metadata": {},
   "outputs": [],
   "source": []
  },
  {
   "cell_type": "code",
   "execution_count": null,
   "metadata": {},
   "outputs": [],
   "source": []
  },
  {
   "cell_type": "code",
   "execution_count": null,
   "metadata": {},
   "outputs": [],
   "source": []
  },
  {
   "cell_type": "code",
   "execution_count": null,
   "metadata": {},
   "outputs": [],
   "source": []
  }
 ],
 "metadata": {
  "kernelspec": {
   "display_name": "Python 3",
   "language": "python",
   "name": "python3"
  },
  "language_info": {
   "codemirror_mode": {
    "name": "ipython",
    "version": 3
   },
   "file_extension": ".py",
   "mimetype": "text/x-python",
   "name": "python",
   "nbconvert_exporter": "python",
   "pygments_lexer": "ipython3",
   "version": "3.8.5"
  }
 },
 "nbformat": 4,
 "nbformat_minor": 4
}
