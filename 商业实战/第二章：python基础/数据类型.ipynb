{
 "cells": [
  {
   "cell_type": "code",
   "execution_count": null,
   "metadata": {},
   "outputs": [],
   "source": [
    "python 包\n",
    "    numpy ：数组、矩阵\n",
    "    scipy ：统计、优化、线性代数、信号、图像处理\n",
    "    pandas：数据框、序列、数据处理、绘图\n",
    "    statsmodel：统计检验、统计建模\n",
    "    scikit-learn：数据变换、机器学习、交叉验证\n",
    "    matplotlib  : 绘图\n",
    "        \n",
    "    seaborn: 高级统计制图包"
   ]
  },
  {
   "cell_type": "code",
   "execution_count": null,
   "metadata": {},
   "outputs": [],
   "source": [
    "python 基础数据类型与表达式\n",
    "    string-字符串 \n",
    "    number-数值类型，包括整数（ Integer ） 不浮点数（float） \n",
    "    bool(True/False)-布尔值 \n",
    "    time/datatime-日期时间 \n",
    "    None-空值 \n",
    "    complex 复数\n",
    "    \n",
    "类型转换"
   ]
  },
  {
   "cell_type": "code",
   "execution_count": null,
   "metadata": {},
   "outputs": [],
   "source": [
    "转义字符   描述\n",
    "#\\\\ 反斜杠符号\n",
    "#\\' 单引号\n",
    "#\\\" 双引号\n",
    "#\\a 响铃\n",
    "#\\b 退格(Backspace)\n",
    "#\\e 转义\n",
    "#\\000   空\n",
    "#\\n 换行\n",
    "#\\v 纵向制表符\n",
    "#\\t 横向制表符\n",
    "#\\r 回车\n",
    "#\\f 换页\n",
    "#\\oyy   八进制数，yy代表的字符，例如：\\o12代表换行\n",
    "#\\xyy   十六进制数，yy代表的字符，例如：\\x0a代表换行"
   ]
  },
  {
   "cell_type": "code",
   "execution_count": null,
   "metadata": {},
   "outputs": [],
   "source": [
    "s = r''  # 不用转义"
   ]
  },
  {
   "cell_type": "code",
   "execution_count": null,
   "metadata": {},
   "outputs": [],
   "source": [
    "字符串连接\n",
    "字符串格式化"
   ]
  },
  {
   "cell_type": "code",
   "execution_count": null,
   "metadata": {},
   "outputs": [],
   "source": [
    "数值型：math模块\n"
   ]
  },
  {
   "cell_type": "code",
   "execution_count": null,
   "metadata": {},
   "outputs": [],
   "source": [
    "布尔型：\n"
   ]
  },
  {
   "cell_type": "code",
   "execution_count": null,
   "metadata": {},
   "outputs": [],
   "source": [
    "时间类型\n",
    "日期是一种数值类型，可加减运算。"
   ]
  },
  {
   "cell_type": "code",
   "execution_count": null,
   "metadata": {},
   "outputs": [],
   "source": [
    "time.strptime('2016-07-20', '%Y-%m-%d')\n",
    "datetime.date(1999,2,10)"
   ]
  },
  {
   "cell_type": "code",
   "execution_count": null,
   "metadata": {},
   "outputs": [],
   "source": [
    "空值 None\n",
    "缺失值 NaN"
   ]
  },
  {
   "cell_type": "code",
   "execution_count": 6,
   "metadata": {},
   "outputs": [
    {
     "name": "stdout",
     "output_type": "stream",
     "text": [
      "None\n"
     ]
    }
   ],
   "source": [
    "print(None)"
   ]
  },
  {
   "cell_type": "markdown",
   "metadata": {},
   "source": [
    "# 2 python 原生态数据结构\n"
   ]
  },
  {
   "cell_type": "markdown",
   "metadata": {},
   "source": [
    "- list:有序集合，增删插入修改、合并列表等。\n",
    "- tuple:不可变的列表，没有增删改的权限。\n",
    "- set:元素不能重复，可进行交差并操作，可以去重\n",
    "- dict:"
   ]
  },
  {
   "cell_type": "code",
   "execution_count": null,
   "metadata": {},
   "outputs": [],
   "source": [
    "# 列表list"
   ]
  },
  {
   "cell_type": "code",
   "execution_count": null,
   "metadata": {},
   "outputs": [],
   "source": [
    "1、切片索引（左含右不含）[::2]\n",
    "2、插入：\n",
    "    - append:每次只能在末尾填入一个元素\n",
    "    - insert:在指定的位置插入元素\n",
    "    - extend:在列表末尾一次性追加另一个序列中的多个值（用新列表扩展原来的列表）\n",
    "    students.append('han') # 添加到尾部\n",
    "    students.extend(['long', 'wan'])# 在尾部添加一个列表\n",
    "    students.insert(1, scores) # 将scores添加到students列表中索引为1的位置\n",
    "3、删除：\n",
    "    - pop：在不指定参数时默认删除末尾元素，也可以指定删除某个位置的元素\n",
    "    - remove:删除指定的元素值\n",
    "    - clear:清空列表元素\n",
    "    - del:删除列表对象\n",
    "        students.pop(1)\n",
    "        students.remove(\"li\")\n",
    "4、列表的函数运算\n",
    "    - copy：复制一个物理对象，不是内存地址，修改复制的列表，原列表不动。\n",
    "    - count：计数；\n",
    "    - index：返回索引位置；\n",
    "    - reverse：倒序排列；\n",
    "    - sort：排序，默认升序排序；"
   ]
  },
  {
   "cell_type": "code",
   "execution_count": 22,
   "metadata": {},
   "outputs": [
    {
     "data": {
      "text/plain": [
       "['ming', 'jun', 'qiang', 'wu']"
      ]
     },
     "execution_count": 22,
     "metadata": {},
     "output_type": "execute_result"
    }
   ],
   "source": [
    "student = [\"ming\", \"jun\", \"qiang\", \"wu\"]\n",
    "student."
   ]
  },
  {
   "cell_type": "code",
   "execution_count": null,
   "metadata": {},
   "outputs": [],
   "source": [
    "# 元组 tuple\n",
    "1、切片索引\n",
    "    - count：计数；\n",
    "    - index：返回索引位置；"
   ]
  },
  {
   "cell_type": "code",
   "execution_count": 23,
   "metadata": {},
   "outputs": [
    {
     "data": {
      "text/plain": [
       "('ming', 'jun', 'qiang', 'wu')"
      ]
     },
     "execution_count": 23,
     "metadata": {},
     "output_type": "execute_result"
    }
   ],
   "source": [
    "studentsTuple = (\"ming\", \"jun\", \"qiang\", \"wu\")\n",
    "studentsTuple"
   ]
  },
  {
   "cell_type": "code",
   "execution_count": 10,
   "metadata": {},
   "outputs": [
    {
     "name": "stdout",
     "output_type": "stream",
     "text": [
      "TypeError\n"
     ]
    }
   ],
   "source": [
    "try:\n",
    "    studentsTuple[1] = 'fu'\n",
    "except TypeError:\n",
    "    print ('TypeError')"
   ]
  },
  {
   "cell_type": "code",
   "execution_count": null,
   "metadata": {},
   "outputs": [],
   "source": [
    "# 集合 set\n",
    "1、操作：\n",
    "    - add\n",
    "    - remove\n",
    "2、交差并集\n",
    "    - 交集：a & b \n",
    "    - 并集：a | b\n",
    "    - 差集：a - b"
   ]
  },
  {
   "cell_type": "code",
   "execution_count": 24,
   "metadata": {},
   "outputs": [
    {
     "name": "stdout",
     "output_type": "stream",
     "text": [
      "{'juan', 'ming', 'li', 'yun', 'hua'}\n"
     ]
    }
   ],
   "source": [
    "students = [\"ming\", \"hua\", \"li\", \"juan\", \"yun\", \"hua\"]\n",
    "studentsSet = set(students)\n",
    "print (studentsSet)"
   ]
  },
  {
   "cell_type": "code",
   "execution_count": null,
   "metadata": {},
   "outputs": [],
   "source": [
    "studentsSet"
   ]
  },
  {
   "cell_type": "code",
   "execution_count": 18,
   "metadata": {},
   "outputs": [
    {
     "name": "stdout",
     "output_type": "stream",
     "text": [
      "a= {'b', 'a', 'c'}\n"
     ]
    }
   ],
   "source": [
    "a = set(\"aabc\")\n",
    "print ('a=', a)"
   ]
  },
  {
   "cell_type": "code",
   "execution_count": 19,
   "metadata": {},
   "outputs": [
    {
     "name": "stdout",
     "output_type": "stream",
     "text": [
      "b= {'m', 'f', 'd', 'c'}\n"
     ]
    }
   ],
   "source": [
    "b = set(\"cdfm\")\n",
    "print ('b=', b)"
   ]
  },
  {
   "cell_type": "code",
   "execution_count": null,
   "metadata": {},
   "outputs": [],
   "source": [
    "# 字典dict"
   ]
  },
  {
   "cell_type": "code",
   "execution_count": null,
   "metadata": {},
   "outputs": [],
   "source": []
  },
  {
   "cell_type": "code",
   "execution_count": 1,
   "metadata": {},
   "outputs": [
    {
     "data": {
      "text/plain": [
       "{'name': 'weiwei', 'home': 'guilin'}"
      ]
     },
     "execution_count": 1,
     "metadata": {},
     "output_type": "execute_result"
    }
   ],
   "source": [
    "k = {\"name\":\"weiwei\", \"home\":\"guilin\"}\n",
    "k"
   ]
  },
  {
   "cell_type": "code",
   "execution_count": 5,
   "metadata": {},
   "outputs": [
    {
     "data": {
      "text/plain": [
       "dict_values(['weiwei', 'guilin'])"
      ]
     },
     "execution_count": 5,
     "metadata": {},
     "output_type": "execute_result"
    }
   ],
   "source": [
    "k.keys()\n",
    "k.values()"
   ]
  },
  {
   "cell_type": "code",
   "execution_count": null,
   "metadata": {},
   "outputs": [],
   "source": [
    "# 类型转换"
   ]
  },
  {
   "cell_type": "code",
   "execution_count": 7,
   "metadata": {},
   "outputs": [
    {
     "data": {
      "text/plain": [
       "['name', 'home']"
      ]
     },
     "execution_count": 7,
     "metadata": {},
     "output_type": "execute_result"
    }
   ],
   "source": [
    "list(k)"
   ]
  },
  {
   "cell_type": "code",
   "execution_count": 8,
   "metadata": {},
   "outputs": [
    {
     "data": {
      "text/plain": [
       "['weiwei', 'guilin']"
      ]
     },
     "execution_count": 8,
     "metadata": {},
     "output_type": "execute_result"
    }
   ],
   "source": [
    "list(k.values())"
   ]
  },
  {
   "cell_type": "code",
   "execution_count": 10,
   "metadata": {},
   "outputs": [
    {
     "data": {
      "text/plain": [
       "{'A': 1, 'B': 2, 'C': 3}"
      ]
     },
     "execution_count": 10,
     "metadata": {},
     "output_type": "execute_result"
    }
   ],
   "source": [
    "# 转换成字典\n",
    "z1 = zip(('A', 'B', 'C'), [1, 2, 3, 4]) \n",
    "dict(z1)"
   ]
  },
  {
   "cell_type": "code",
   "execution_count": null,
   "metadata": {},
   "outputs": [],
   "source": []
  },
  {
   "cell_type": "code",
   "execution_count": null,
   "metadata": {},
   "outputs": [],
   "source": []
  },
  {
   "cell_type": "code",
   "execution_count": null,
   "metadata": {},
   "outputs": [],
   "source": []
  },
  {
   "cell_type": "code",
   "execution_count": null,
   "metadata": {},
   "outputs": [],
   "source": []
  },
  {
   "cell_type": "code",
   "execution_count": null,
   "metadata": {},
   "outputs": [],
   "source": []
  },
  {
   "cell_type": "code",
   "execution_count": null,
   "metadata": {},
   "outputs": [],
   "source": []
  },
  {
   "cell_type": "code",
   "execution_count": null,
   "metadata": {},
   "outputs": [],
   "source": []
  },
  {
   "cell_type": "code",
   "execution_count": null,
   "metadata": {},
   "outputs": [],
   "source": []
  },
  {
   "cell_type": "code",
   "execution_count": null,
   "metadata": {},
   "outputs": [],
   "source": []
  },
  {
   "cell_type": "code",
   "execution_count": null,
   "metadata": {},
   "outputs": [],
   "source": []
  },
  {
   "cell_type": "code",
   "execution_count": null,
   "metadata": {},
   "outputs": [],
   "source": []
  },
  {
   "cell_type": "code",
   "execution_count": null,
   "metadata": {},
   "outputs": [],
   "source": []
  },
  {
   "cell_type": "code",
   "execution_count": null,
   "metadata": {},
   "outputs": [],
   "source": []
  },
  {
   "cell_type": "code",
   "execution_count": null,
   "metadata": {},
   "outputs": [],
   "source": []
  },
  {
   "cell_type": "code",
   "execution_count": null,
   "metadata": {},
   "outputs": [],
   "source": []
  }
 ],
 "metadata": {
  "kernelspec": {
   "display_name": "Python 3",
   "language": "python",
   "name": "python3"
  },
  "language_info": {
   "codemirror_mode": {
    "name": "ipython",
    "version": 3
   },
   "file_extension": ".py",
   "mimetype": "text/x-python",
   "name": "python",
   "nbconvert_exporter": "python",
   "pygments_lexer": "ipython3",
   "version": "3.8.5"
  }
 },
 "nbformat": 4,
 "nbformat_minor": 4
}
