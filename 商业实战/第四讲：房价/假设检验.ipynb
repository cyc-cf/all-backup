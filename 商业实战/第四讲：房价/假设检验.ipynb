{
 "cells": [
  {
   "cell_type": "code",
   "execution_count": null,
   "metadata": {},
   "outputs": [],
   "source": [
    "单样本检验：只关心样本的均值是否等于某个值"
   ]
  },
  {
   "cell_type": "code",
   "execution_count": null,
   "metadata": {},
   "outputs": [],
   "source": [
    "样本均值、标准误、区间"
   ]
  },
  {
   "cell_type": "code",
   "execution_count": null,
   "metadata": {},
   "outputs": [],
   "source": [
    "置信区间\n",
    "拒绝或接受：大（大数定律）中（中心极限定律）小（小概率事件）\n",
    "    中：样本量足够大，则服从正态分布\n",
    "    小：小概率事件在一次事件中是不应该发生的，若发生则应该拒绝，认为其不正确\n",
    "        如果认为两倍标准差之外，就拒绝\n",
    "        "
   ]
  },
  {
   "cell_type": "code",
   "execution_count": null,
   "metadata": {},
   "outputs": [],
   "source": [
    "假设检验步骤：\n",
    "    1.先假设：原假设 备择假设 （只做等于，不做> < ）\n",
    "    2.随意选择显著度α（根据样本量决定，样本量小，显著度要大一点）：样本量< 100个，显著度取10%\n",
    "                        100 - 500，显著度取5%\n",
    "                        500 - 1000，  取1%\n",
    "            2000左右，取千分之一   （样本量再大，显著度就没有意义了）\n",
    "          \n",
    "   对假设要么拒绝，要么接受。 得到的值<5%,拒绝原假设；>5%,接受原假设\n",
    "    3.采集数据\n",
    "    4.得到的数据是增长率，根据增长率可以得到正态分布或其他分布\n",
    "    得到均值分布，看得到的均值和假设的μ的差距有多大。任何两个变量的绝对的差是没有任何意\n",
    "    义的，要看其差值是几倍的样本均值标准误\n",
    "    \n",
    "    \n",
    "    这个值越大，d>2倍的标准误，则在拒绝域\n",
    "    t统计量=差值（样本均值-原假设μ）/样本均值标准误\n",
    "    t越大，差越靠边缘；可以根据t计算概率\n",
    "    再拿概率和α比，若>α则接受原假设，否则拒绝原假设接受备择假设\n",
    "    \n",
    "    "
   ]
  },
  {
   "cell_type": "code",
   "execution_count": 1,
   "metadata": {},
   "outputs": [
    {
     "data": {
      "text/html": [
       "<div>\n",
       "<style scoped>\n",
       "    .dataframe tbody tr th:only-of-type {\n",
       "        vertical-align: middle;\n",
       "    }\n",
       "\n",
       "    .dataframe tbody tr th {\n",
       "        vertical-align: top;\n",
       "    }\n",
       "\n",
       "    .dataframe thead th {\n",
       "        text-align: right;\n",
       "    }\n",
       "</style>\n",
       "<table border=\"1\" class=\"dataframe\">\n",
       "  <thead>\n",
       "    <tr style=\"text-align: right;\">\n",
       "      <th></th>\n",
       "      <th>dis_name</th>\n",
       "      <th>rate</th>\n",
       "    </tr>\n",
       "  </thead>\n",
       "  <tbody>\n",
       "    <tr>\n",
       "      <th>0</th>\n",
       "      <td>东城区甘南小区</td>\n",
       "      <td>0.169747</td>\n",
       "    </tr>\n",
       "    <tr>\n",
       "      <th>1</th>\n",
       "      <td>东城区察慈小区</td>\n",
       "      <td>0.165484</td>\n",
       "    </tr>\n",
       "    <tr>\n",
       "      <th>2</th>\n",
       "      <td>东城区胡家园小区</td>\n",
       "      <td>0.141358</td>\n",
       "    </tr>\n",
       "    <tr>\n",
       "      <th>3</th>\n",
       "      <td>东城区台基厂小区</td>\n",
       "      <td>0.063197</td>\n",
       "    </tr>\n",
       "    <tr>\n",
       "      <th>4</th>\n",
       "      <td>东城区青年湖小区</td>\n",
       "      <td>0.101528</td>\n",
       "    </tr>\n",
       "    <tr>\n",
       "      <th>...</th>\n",
       "      <td>...</td>\n",
       "      <td>...</td>\n",
       "    </tr>\n",
       "    <tr>\n",
       "      <th>145</th>\n",
       "      <td>密云县沿湖小区</td>\n",
       "      <td>0.121524</td>\n",
       "    </tr>\n",
       "    <tr>\n",
       "      <th>146</th>\n",
       "      <td>密云县东菜园小区</td>\n",
       "      <td>0.104666</td>\n",
       "    </tr>\n",
       "    <tr>\n",
       "      <th>147</th>\n",
       "      <td>密云县花园小区</td>\n",
       "      <td>0.137225</td>\n",
       "    </tr>\n",
       "    <tr>\n",
       "      <th>148</th>\n",
       "      <td>开发区鹿鸣苑</td>\n",
       "      <td>0.073119</td>\n",
       "    </tr>\n",
       "    <tr>\n",
       "      <th>149</th>\n",
       "      <td>开发区星岛嘉园</td>\n",
       "      <td>0.048391</td>\n",
       "    </tr>\n",
       "  </tbody>\n",
       "</table>\n",
       "<p>150 rows × 2 columns</p>\n",
       "</div>"
      ],
      "text/plain": [
       "     dis_name      rate\n",
       "0     东城区甘南小区  0.169747\n",
       "1     东城区察慈小区  0.165484\n",
       "2    东城区胡家园小区  0.141358\n",
       "3    东城区台基厂小区  0.063197\n",
       "4    东城区青年湖小区  0.101528\n",
       "..        ...       ...\n",
       "145   密云县沿湖小区  0.121524\n",
       "146  密云县东菜园小区  0.104666\n",
       "147   密云县花园小区  0.137225\n",
       "148    开发区鹿鸣苑  0.073119\n",
       "149   开发区星岛嘉园  0.048391\n",
       "\n",
       "[150 rows x 2 columns]"
      ]
     },
     "execution_count": 1,
     "metadata": {},
     "output_type": "execute_result"
    }
   ],
   "source": [
    "# p检验\n",
    "import os\n",
    "os.chdir(r'E:\\Ajiao\\LiXian\\资料\\技术实详解与商业实战\\280_Ben_八大直播八大案例配套课件\\第四章\\提交-第四讲：统计建模与分析报告-二手房价格分析报告\\脚本\\6inference')\n",
    "\n",
    "import pandas as pd\n",
    "house_price_gr=pd.read_csv(r'house_price_gr.csv',encoding='gbk')\n",
    "house_price_gr"
   ]
  },
  {
   "cell_type": "code",
   "execution_count": 2,
   "metadata": {},
   "outputs": [
    {
     "data": {
      "text/html": [
       "<div>\n",
       "<style scoped>\n",
       "    .dataframe tbody tr th:only-of-type {\n",
       "        vertical-align: middle;\n",
       "    }\n",
       "\n",
       "    .dataframe tbody tr th {\n",
       "        vertical-align: top;\n",
       "    }\n",
       "\n",
       "    .dataframe thead th {\n",
       "        text-align: right;\n",
       "    }\n",
       "</style>\n",
       "<table border=\"1\" class=\"dataframe\">\n",
       "  <thead>\n",
       "    <tr style=\"text-align: right;\">\n",
       "      <th></th>\n",
       "      <th>dis_name</th>\n",
       "      <th>rate</th>\n",
       "    </tr>\n",
       "  </thead>\n",
       "  <tbody>\n",
       "    <tr>\n",
       "      <th>count</th>\n",
       "      <td>150</td>\n",
       "      <td>150.000000</td>\n",
       "    </tr>\n",
       "    <tr>\n",
       "      <th>unique</th>\n",
       "      <td>150</td>\n",
       "      <td>NaN</td>\n",
       "    </tr>\n",
       "    <tr>\n",
       "      <th>top</th>\n",
       "      <td>朝阳区欧陆经典万兴苑南苑</td>\n",
       "      <td>NaN</td>\n",
       "    </tr>\n",
       "    <tr>\n",
       "      <th>freq</th>\n",
       "      <td>1</td>\n",
       "      <td>NaN</td>\n",
       "    </tr>\n",
       "    <tr>\n",
       "      <th>mean</th>\n",
       "      <td>NaN</td>\n",
       "      <td>0.110061</td>\n",
       "    </tr>\n",
       "    <tr>\n",
       "      <th>std</th>\n",
       "      <td>NaN</td>\n",
       "      <td>0.041333</td>\n",
       "    </tr>\n",
       "    <tr>\n",
       "      <th>min</th>\n",
       "      <td>NaN</td>\n",
       "      <td>0.029540</td>\n",
       "    </tr>\n",
       "    <tr>\n",
       "      <th>25%</th>\n",
       "      <td>NaN</td>\n",
       "      <td>0.080027</td>\n",
       "    </tr>\n",
       "    <tr>\n",
       "      <th>50%</th>\n",
       "      <td>NaN</td>\n",
       "      <td>0.104908</td>\n",
       "    </tr>\n",
       "    <tr>\n",
       "      <th>75%</th>\n",
       "      <td>NaN</td>\n",
       "      <td>0.140066</td>\n",
       "    </tr>\n",
       "    <tr>\n",
       "      <th>max</th>\n",
       "      <td>NaN</td>\n",
       "      <td>0.243743</td>\n",
       "    </tr>\n",
       "  </tbody>\n",
       "</table>\n",
       "</div>"
      ],
      "text/plain": [
       "            dis_name        rate\n",
       "count            150  150.000000\n",
       "unique           150         NaN\n",
       "top     朝阳区欧陆经典万兴苑南苑         NaN\n",
       "freq               1         NaN\n",
       "mean             NaN    0.110061\n",
       "std              NaN    0.041333\n",
       "min              NaN    0.029540\n",
       "25%              NaN    0.080027\n",
       "50%              NaN    0.104908\n",
       "75%              NaN    0.140066\n",
       "max              NaN    0.243743"
      ]
     },
     "execution_count": 2,
     "metadata": {},
     "output_type": "execute_result"
    }
   ],
   "source": [
    "#描述性统计\n",
    "house_price_gr.describe(include='all')"
   ]
  },
  {
   "cell_type": "code",
   "execution_count": 3,
   "metadata": {},
   "outputs": [
    {
     "name": "stderr",
     "output_type": "stream",
     "text": [
      "D:\\Anaconda\\lib\\site-packages\\seaborn\\distributions.py:2551: FutureWarning: `distplot` is a deprecated function and will be removed in a future version. Please adapt your code to use either `displot` (a figure-level function with similar flexibility) or `histplot` (an axes-level function for histograms).\n",
      "  warnings.warn(msg, FutureWarning)\n"
     ]
    },
    {
     "data": {
      "text/plain": [
       "<AxesSubplot:xlabel='rate', ylabel='Density'>"
      ]
     },
     "execution_count": 3,
     "metadata": {},
     "output_type": "execute_result"
    },
    {
     "data": {
      "image/png": "[encoded data removed]",
      "text/plain": [
       "<Figure size 432x288 with 1 Axes>"
      ]
     },
     "metadata": {
      "needs_background": "light"
     },
     "output_type": "display_data"
    }
   ],
   "source": [
    "get_ipython().magic('matplotlib inline')\n",
    "import seaborn as sns\n",
    "from scipy import stats\n",
    "\n",
    "sns.distplot(house_price_gr.rate, kde=True, fit=stats.norm) # Histograph"
   ]
  },
  {
   "cell_type": "code",
   "execution_count": 4,
   "metadata": {},
   "outputs": [
    {
     "data": {
      "text/plain": [
       "(0.10337882853175007, 0.11674316487209624)"
      ]
     },
     "execution_count": 4,
     "metadata": {},
     "output_type": "execute_result"
    }
   ],
   "source": [
    "# 置信区间\n",
    "se = house_price_gr.rate.std() / len(house_price_gr) ** 0.5  #计算标准误\n",
    "LB = house_price_gr.rate.mean() - 1.98 * se#上届，百分之95对应的是1.98倍的标准差\n",
    "UB = house_price_gr.rate.mean() + 1.98 * se#下界\n",
    "(LB, UB)\n",
    "#抽取了150个小区的房价增长率，得到增长率均值为11%，95%的置信区间是(0.10337882853175007, 0.11674316487209624)\n",
    "# 样本均值(北京市房价同比增长率)<10.3%的概率不超过2.5%"
   ]
  },
  {
   "cell_type": "code",
   "execution_count": 5,
   "metadata": {},
   "outputs": [
    {
     "name": "stderr",
     "output_type": "stream",
     "text": [
      "<ipython-input-5-a81c48e041f1>:5: UserWarning: Matplotlib is currently using module://ipykernel.pylab.backend_inline, which is a non-GUI backend, so cannot show the figure.\n",
      "  fig.show()\n"
     ]
    },
    {
     "data": {
      "image/png": "[encoded data removed]",
      "text/plain": [
       "<Figure size 432x288 with 1 Axes>"
      ]
     },
     "metadata": {
      "needs_background": "light"
     },
     "output_type": "display_data"
    }
   ],
   "source": [
    "\n",
    "import statsmodels.api as sm\n",
    "from matplotlib import pyplot as plt\n",
    "\n",
    "fig = sm.qqplot(house_price_gr.rate, fit=True, line='45')\n",
    "fig.show()"
   ]
  },
  {
   "cell_type": "code",
   "execution_count": 6,
   "metadata": {},
   "outputs": [
    {
     "data": {
      "text/plain": [
       "(0.10339228338892811, 0.11672971001491825)"
      ]
     },
     "execution_count": 6,
     "metadata": {},
     "output_type": "execute_result"
    }
   ],
   "source": [
    "# 或者使用DescrStatsW\n",
    "d1 = sm.stats.DescrStatsW(house_price_gr.rate)\n",
    "d1.tconfint_mean(0.05) # "
   ]
  },
  {
   "cell_type": "code",
   "execution_count": 7,
   "metadata": {},
   "outputs": [
    {
     "name": "stdout",
     "output_type": "stream",
     "text": [
      "t-statistic=2.9812, p-value=0.0034, df=149.0\n"
     ]
    }
   ],
   "source": [
    "# 两样本t检验\n",
    "d1 = sm.stats.DescrStatsW(house_price_gr.rate)\n",
    "# 根据house_price_gr.rate 数据集，得到统计量d1\n",
    "print('t-statistic=%6.4f, p-value=%6.4f, df=%s' %d1.ttest_mean(0.1))\n",
    "#μ=0.1，检验样本均值和假设的均值 t值=2.98 p值为0.0034 自由度df\n",
    "p值越小越好，原假设永远是相等，希望是不相等，p<α,则拒绝域\n",
    "样本量越大α越小\n",
    "（样本量一般不超过5000）"
   ]
  },
  {
   "cell_type": "code",
   "execution_count": null,
   "metadata": {},
   "outputs": [],
   "source": [
    "综上，根据数据集得到平均的北京市房屋价格的增长率是11%，根据样本得到的北京房屋价格增长率\n",
    "<=10%的概率是0.0017%\n",
    "若不采取措施，到年底不被问责的概率是0.0017%，99%的概率是被问责的（原假设是10%）"
   ]
  },
  {
   "cell_type": "code",
   "execution_count": null,
   "metadata": {},
   "outputs": [],
   "source": [
    "t代表得到的均值和假设的均值的距离是多少倍的标准误，距离越远（t值越大）说明概率越小，p值越小\n"
   ]
  },
  {
   "cell_type": "markdown",
   "metadata": {},
   "source": [
    "# 下一讲"
   ]
  },
  {
   "cell_type": "code",
   "execution_count": null,
   "metadata": {},
   "outputs": [],
   "source": [
    "两变量关系检验方法"
   ]
  },
  {
   "cell_type": "code",
   "execution_count": null,
   "metadata": {},
   "outputs": [],
   "source": []
  },
  {
   "cell_type": "code",
   "execution_count": null,
   "metadata": {},
   "outputs": [],
   "source": []
  },
  {
   "cell_type": "code",
   "execution_count": null,
   "metadata": {},
   "outputs": [],
   "source": []
  },
  {
   "cell_type": "code",
   "execution_count": null,
   "metadata": {},
   "outputs": [],
   "source": []
  },
  {
   "cell_type": "code",
   "execution_count": null,
   "metadata": {},
   "outputs": [],
   "source": []
  },
  {
   "cell_type": "code",
   "execution_count": null,
   "metadata": {},
   "outputs": [],
   "source": []
  },
  {
   "cell_type": "code",
   "execution_count": null,
   "metadata": {},
   "outputs": [],
   "source": []
  },
  {
   "cell_type": "code",
   "execution_count": null,
   "metadata": {},
   "outputs": [],
   "source": []
  },
  {
   "cell_type": "code",
   "execution_count": null,
   "metadata": {},
   "outputs": [],
   "source": []
  },
  {
   "cell_type": "code",
   "execution_count": null,
   "metadata": {},
   "outputs": [],
   "source": []
  },
  {
   "cell_type": "code",
   "execution_count": null,
   "metadata": {},
   "outputs": [],
   "source": []
  },
  {
   "cell_type": "code",
   "execution_count": null,
   "metadata": {},
   "outputs": [],
   "source": []
  },
  {
   "cell_type": "code",
   "execution_count": null,
   "metadata": {},
   "outputs": [],
   "source": []
  },
  {
   "cell_type": "code",
   "execution_count": null,
   "metadata": {},
   "outputs": [],
   "source": []
  }
 ],
 "metadata": {
  "kernelspec": {
   "display_name": "Python 3",
   "language": "python",
   "name": "python3"
  },
  "language_info": {
   "codemirror_mode": {
    "name": "ipython",
    "version": 3
   },
   "file_extension": ".py",
   "mimetype": "text/x-python",
   "name": "python",
   "nbconvert_exporter": "python",
   "pygments_lexer": "ipython3",
   "version": "3.8.5"
  }
 },
 "nbformat": 4,
 "nbformat_minor": 4
}
