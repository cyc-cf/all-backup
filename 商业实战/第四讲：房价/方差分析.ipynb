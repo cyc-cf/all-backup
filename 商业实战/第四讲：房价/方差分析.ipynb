{
 "cells": [
  {
   "cell_type": "code",
   "execution_count": null,
   "metadata": {},
   "outputs": [],
   "source": [
    "一个变量对多分类的影响 ：方差分析\n",
    "\n",
    "教育等级对月均支出是否有影响\n",
    "方差分析原假设：所有教育等级支出是一样的\n",
    "        备择假设：只要有两个教育等级的支出是不一样的"
   ]
  },
  {
   "cell_type": "code",
   "execution_count": null,
   "metadata": {},
   "outputs": [],
   "source": [
    "方差就是变异\n",
    "\n",
    "连续变量有一个变异（），变异分为：\n",
    "    组内变异SSE：sum(（每个观测点 - 各自组内的均值）^2)\n",
    "    组间变异SSM：（每个组的均值-总的均值）；模型能预测出来的组的均值偏离总体均值的情况\n",
    "    总变异（离差平方和）：即方差*（n-1）"
   ]
  },
  {
   "cell_type": "code",
   "execution_count": null,
   "metadata": {},
   "outputs": [],
   "source": [
    "组间代表模型给定的信息（分组信息），组内"
   ]
  },
  {
   "cell_type": "code",
   "execution_count": null,
   "metadata": {},
   "outputs": [],
   "source": [
    "F检验：参数越大越是正态分布，越小越右偏"
   ]
  },
  {
   "cell_type": "code",
   "execution_count": 1,
   "metadata": {},
   "outputs": [],
   "source": [
    "import os\n",
    "os.chdir(r\"E:\\Ajiao\\LiXian\\资料\\技术实详解与商业实战\\280_Ben_八大直播八大案例配套课件\\第四章\\提交-第四讲：统计建模与分析报告-二手房价格分析报告\\脚本\\6inference\")"
   ]
  },
  {
   "cell_type": "code",
   "execution_count": 2,
   "metadata": {},
   "outputs": [
    {
     "data": {
      "text/html": [
       "<div>\n",
       "<style scoped>\n",
       "    .dataframe tbody tr th:only-of-type {\n",
       "        vertical-align: middle;\n",
       "    }\n",
       "\n",
       "    .dataframe tbody tr th {\n",
       "        vertical-align: top;\n",
       "    }\n",
       "\n",
       "    .dataframe thead th {\n",
       "        text-align: right;\n",
       "    }\n",
       "</style>\n",
       "<table border=\"1\" class=\"dataframe\">\n",
       "  <thead>\n",
       "    <tr style=\"text-align: right;\">\n",
       "      <th></th>\n",
       "      <th>dis_name</th>\n",
       "      <th>rate</th>\n",
       "    </tr>\n",
       "  </thead>\n",
       "  <tbody>\n",
       "    <tr>\n",
       "      <th>0</th>\n",
       "      <td>东城区甘南小区</td>\n",
       "      <td>0.169747</td>\n",
       "    </tr>\n",
       "    <tr>\n",
       "      <th>1</th>\n",
       "      <td>东城区察慈小区</td>\n",
       "      <td>0.165484</td>\n",
       "    </tr>\n",
       "    <tr>\n",
       "      <th>2</th>\n",
       "      <td>东城区胡家园小区</td>\n",
       "      <td>0.141358</td>\n",
       "    </tr>\n",
       "    <tr>\n",
       "      <th>3</th>\n",
       "      <td>东城区台基厂小区</td>\n",
       "      <td>0.063197</td>\n",
       "    </tr>\n",
       "    <tr>\n",
       "      <th>4</th>\n",
       "      <td>东城区青年湖小区</td>\n",
       "      <td>0.101528</td>\n",
       "    </tr>\n",
       "  </tbody>\n",
       "</table>\n",
       "</div>"
      ],
      "text/plain": [
       "   dis_name      rate\n",
       "0   东城区甘南小区  0.169747\n",
       "1   东城区察慈小区  0.165484\n",
       "2  东城区胡家园小区  0.141358\n",
       "3  东城区台基厂小区  0.063197\n",
       "4  东城区青年湖小区  0.101528"
      ]
     },
     "execution_count": 2,
     "metadata": {},
     "output_type": "execute_result"
    }
   ],
   "source": [
    "import pandas as pd\n",
    "\n",
    "house_price_gr = pd.read_csv(r'house_price_gr.csv', encoding='gbk')\n",
    "house_price_gr.head()"
   ]
  },
  {
   "cell_type": "code",
   "execution_count": null,
   "metadata": {},
   "outputs": [],
   "source": [
    "单因素方差分析\n",
    "    - statsmodels中的ols，即线性回归"
   ]
  },
  {
   "cell_type": "code",
   "execution_count": 9,
   "metadata": {},
   "outputs": [
    {
     "data": {
      "text/html": [
       "<div>\n",
       "<style scoped>\n",
       "    .dataframe tbody tr th:only-of-type {\n",
       "        vertical-align: middle;\n",
       "    }\n",
       "\n",
       "    .dataframe tbody tr th {\n",
       "        vertical-align: top;\n",
       "    }\n",
       "\n",
       "    .dataframe thead th {\n",
       "        text-align: right;\n",
       "    }\n",
       "</style>\n",
       "<table border=\"1\" class=\"dataframe\">\n",
       "  <thead>\n",
       "    <tr style=\"text-align: right;\">\n",
       "      <th></th>\n",
       "      <th>id</th>\n",
       "      <th>Acc</th>\n",
       "      <th>avg_exp</th>\n",
       "      <th>avg_exp_ln</th>\n",
       "      <th>gender</th>\n",
       "      <th>Age</th>\n",
       "      <th>Income</th>\n",
       "      <th>Ownrent</th>\n",
       "      <th>Selfempl</th>\n",
       "      <th>dist_home_val</th>\n",
       "      <th>dist_avg_income</th>\n",
       "      <th>age2</th>\n",
       "      <th>high_avg</th>\n",
       "      <th>edu_class</th>\n",
       "    </tr>\n",
       "  </thead>\n",
       "  <tbody>\n",
       "    <tr>\n",
       "      <th>0</th>\n",
       "      <td>19</td>\n",
       "      <td>1</td>\n",
       "      <td>1217.03</td>\n",
       "      <td>7.104169</td>\n",
       "      <td>1</td>\n",
       "      <td>40</td>\n",
       "      <td>16.03515</td>\n",
       "      <td>1</td>\n",
       "      <td>1</td>\n",
       "      <td>99.93</td>\n",
       "      <td>15.932789</td>\n",
       "      <td>1600</td>\n",
       "      <td>0.102361</td>\n",
       "      <td>3</td>\n",
       "    </tr>\n",
       "    <tr>\n",
       "      <th>1</th>\n",
       "      <td>5</td>\n",
       "      <td>1</td>\n",
       "      <td>1251.50</td>\n",
       "      <td>7.132098</td>\n",
       "      <td>1</td>\n",
       "      <td>32</td>\n",
       "      <td>15.84750</td>\n",
       "      <td>1</td>\n",
       "      <td>0</td>\n",
       "      <td>49.88</td>\n",
       "      <td>15.796316</td>\n",
       "      <td>1024</td>\n",
       "      <td>0.051184</td>\n",
       "      <td>2</td>\n",
       "    </tr>\n",
       "    <tr>\n",
       "      <th>2</th>\n",
       "      <td>95</td>\n",
       "      <td>0</td>\n",
       "      <td>NaN</td>\n",
       "      <td>NaN</td>\n",
       "      <td>1</td>\n",
       "      <td>36</td>\n",
       "      <td>8.40000</td>\n",
       "      <td>0</td>\n",
       "      <td>0</td>\n",
       "      <td>88.61</td>\n",
       "      <td>7.490000</td>\n",
       "      <td>1296</td>\n",
       "      <td>0.910000</td>\n",
       "      <td>1</td>\n",
       "    </tr>\n",
       "    <tr>\n",
       "      <th>3</th>\n",
       "      <td>86</td>\n",
       "      <td>1</td>\n",
       "      <td>856.57</td>\n",
       "      <td>6.752936</td>\n",
       "      <td>1</td>\n",
       "      <td>41</td>\n",
       "      <td>11.47285</td>\n",
       "      <td>1</td>\n",
       "      <td>0</td>\n",
       "      <td>16.10</td>\n",
       "      <td>11.275632</td>\n",
       "      <td>1681</td>\n",
       "      <td>0.197218</td>\n",
       "      <td>3</td>\n",
       "    </tr>\n",
       "    <tr>\n",
       "      <th>4</th>\n",
       "      <td>50</td>\n",
       "      <td>1</td>\n",
       "      <td>1321.83</td>\n",
       "      <td>7.186772</td>\n",
       "      <td>1</td>\n",
       "      <td>28</td>\n",
       "      <td>13.40915</td>\n",
       "      <td>1</td>\n",
       "      <td>0</td>\n",
       "      <td>100.39</td>\n",
       "      <td>13.346474</td>\n",
       "      <td>784</td>\n",
       "      <td>0.062676</td>\n",
       "      <td>2</td>\n",
       "    </tr>\n",
       "    <tr>\n",
       "      <th>...</th>\n",
       "      <td>...</td>\n",
       "      <td>...</td>\n",
       "      <td>...</td>\n",
       "      <td>...</td>\n",
       "      <td>...</td>\n",
       "      <td>...</td>\n",
       "      <td>...</td>\n",
       "      <td>...</td>\n",
       "      <td>...</td>\n",
       "      <td>...</td>\n",
       "      <td>...</td>\n",
       "      <td>...</td>\n",
       "      <td>...</td>\n",
       "      <td>...</td>\n",
       "    </tr>\n",
       "    <tr>\n",
       "      <th>95</th>\n",
       "      <td>96</td>\n",
       "      <td>0</td>\n",
       "      <td>NaN</td>\n",
       "      <td>NaN</td>\n",
       "      <td>0</td>\n",
       "      <td>22</td>\n",
       "      <td>1.56000</td>\n",
       "      <td>0</td>\n",
       "      <td>0</td>\n",
       "      <td>68.33</td>\n",
       "      <td>1.840000</td>\n",
       "      <td>484</td>\n",
       "      <td>-0.280000</td>\n",
       "      <td>1</td>\n",
       "    </tr>\n",
       "    <tr>\n",
       "      <th>96</th>\n",
       "      <td>43</td>\n",
       "      <td>1</td>\n",
       "      <td>593.92</td>\n",
       "      <td>6.386745</td>\n",
       "      <td>0</td>\n",
       "      <td>30</td>\n",
       "      <td>4.37960</td>\n",
       "      <td>0</td>\n",
       "      <td>0</td>\n",
       "      <td>124.23</td>\n",
       "      <td>5.040632</td>\n",
       "      <td>900</td>\n",
       "      <td>-0.661032</td>\n",
       "      <td>1</td>\n",
       "    </tr>\n",
       "    <tr>\n",
       "      <th>97</th>\n",
       "      <td>60</td>\n",
       "      <td>1</td>\n",
       "      <td>418.78</td>\n",
       "      <td>6.037346</td>\n",
       "      <td>0</td>\n",
       "      <td>21</td>\n",
       "      <td>3.49390</td>\n",
       "      <td>0</td>\n",
       "      <td>0</td>\n",
       "      <td>34.46</td>\n",
       "      <td>3.828842</td>\n",
       "      <td>441</td>\n",
       "      <td>-0.334942</td>\n",
       "      <td>1</td>\n",
       "    </tr>\n",
       "    <tr>\n",
       "      <th>98</th>\n",
       "      <td>28</td>\n",
       "      <td>1</td>\n",
       "      <td>163.18</td>\n",
       "      <td>5.094854</td>\n",
       "      <td>0</td>\n",
       "      <td>22</td>\n",
       "      <td>3.81590</td>\n",
       "      <td>0</td>\n",
       "      <td>0</td>\n",
       "      <td>63.27</td>\n",
       "      <td>3.997789</td>\n",
       "      <td>484</td>\n",
       "      <td>-0.181889</td>\n",
       "      <td>0</td>\n",
       "    </tr>\n",
       "    <tr>\n",
       "      <th>99</th>\n",
       "      <td>94</td>\n",
       "      <td>0</td>\n",
       "      <td>NaN</td>\n",
       "      <td>NaN</td>\n",
       "      <td>0</td>\n",
       "      <td>35</td>\n",
       "      <td>1.50000</td>\n",
       "      <td>0</td>\n",
       "      <td>0</td>\n",
       "      <td>109.16</td>\n",
       "      <td>1.930000</td>\n",
       "      <td>1225</td>\n",
       "      <td>-0.430000</td>\n",
       "      <td>1</td>\n",
       "    </tr>\n",
       "  </tbody>\n",
       "</table>\n",
       "<p>100 rows × 14 columns</p>\n",
       "</div>"
      ],
      "text/plain": [
       "    id  Acc  avg_exp  avg_exp_ln  gender  Age    Income  Ownrent  Selfempl  \\\n",
       "0   19    1  1217.03    7.104169       1   40  16.03515        1         1   \n",
       "1    5    1  1251.50    7.132098       1   32  15.84750        1         0   \n",
       "2   95    0      NaN         NaN       1   36   8.40000        0         0   \n",
       "3   86    1   856.57    6.752936       1   41  11.47285        1         0   \n",
       "4   50    1  1321.83    7.186772       1   28  13.40915        1         0   \n",
       "..  ..  ...      ...         ...     ...  ...       ...      ...       ...   \n",
       "95  96    0      NaN         NaN       0   22   1.56000        0         0   \n",
       "96  43    1   593.92    6.386745       0   30   4.37960        0         0   \n",
       "97  60    1   418.78    6.037346       0   21   3.49390        0         0   \n",
       "98  28    1   163.18    5.094854       0   22   3.81590        0         0   \n",
       "99  94    0      NaN         NaN       0   35   1.50000        0         0   \n",
       "\n",
       "    dist_home_val  dist_avg_income  age2  high_avg  edu_class  \n",
       "0           99.93        15.932789  1600  0.102361          3  \n",
       "1           49.88        15.796316  1024  0.051184          2  \n",
       "2           88.61         7.490000  1296  0.910000          1  \n",
       "3           16.10        11.275632  1681  0.197218          3  \n",
       "4          100.39        13.346474   784  0.062676          2  \n",
       "..            ...              ...   ...       ...        ...  \n",
       "95          68.33         1.840000   484 -0.280000          1  \n",
       "96         124.23         5.040632   900 -0.661032          1  \n",
       "97          34.46         3.828842   441 -0.334942          1  \n",
       "98          63.27         3.997789   484 -0.181889          0  \n",
       "99         109.16         1.930000  1225 -0.430000          1  \n",
       "\n",
       "[100 rows x 14 columns]"
      ]
     },
     "execution_count": 9,
     "metadata": {},
     "output_type": "execute_result"
    }
   ],
   "source": [
    "creditcard= pd.read_csv(r'creditcard_exp.csv', skipinitialspace=True)\n",
    "creditcard"
   ]
  },
  {
   "cell_type": "code",
   "execution_count": 6,
   "metadata": {},
   "outputs": [
    {
     "data": {
      "text/html": [
       "<div>\n",
       "<style scoped>\n",
       "    .dataframe tbody tr th:only-of-type {\n",
       "        vertical-align: middle;\n",
       "    }\n",
       "\n",
       "    .dataframe tbody tr th {\n",
       "        vertical-align: top;\n",
       "    }\n",
       "\n",
       "    .dataframe thead th {\n",
       "        text-align: right;\n",
       "    }\n",
       "</style>\n",
       "<table border=\"1\" class=\"dataframe\">\n",
       "  <thead>\n",
       "    <tr style=\"text-align: right;\">\n",
       "      <th></th>\n",
       "      <th>count</th>\n",
       "      <th>mean</th>\n",
       "      <th>std</th>\n",
       "      <th>min</th>\n",
       "      <th>25%</th>\n",
       "      <th>50%</th>\n",
       "      <th>75%</th>\n",
       "      <th>max</th>\n",
       "    </tr>\n",
       "    <tr>\n",
       "      <th>Acc</th>\n",
       "      <th></th>\n",
       "      <th></th>\n",
       "      <th></th>\n",
       "      <th></th>\n",
       "      <th></th>\n",
       "      <th></th>\n",
       "      <th></th>\n",
       "      <th></th>\n",
       "    </tr>\n",
       "  </thead>\n",
       "  <tbody>\n",
       "    <tr>\n",
       "      <th>0</th>\n",
       "      <td>30.0</td>\n",
       "      <td>3.149333</td>\n",
       "      <td>1.406482</td>\n",
       "      <td>1.5000</td>\n",
       "      <td>2.285000</td>\n",
       "      <td>2.905000</td>\n",
       "      <td>3.807500</td>\n",
       "      <td>8.40000</td>\n",
       "    </tr>\n",
       "    <tr>\n",
       "      <th>1</th>\n",
       "      <td>70.0</td>\n",
       "      <td>7.424706</td>\n",
       "      <td>3.077986</td>\n",
       "      <td>3.4939</td>\n",
       "      <td>5.175662</td>\n",
       "      <td>6.443525</td>\n",
       "      <td>8.494237</td>\n",
       "      <td>16.90015</td>\n",
       "    </tr>\n",
       "  </tbody>\n",
       "</table>\n",
       "</div>"
      ],
      "text/plain": [
       "     count      mean       std     min       25%       50%       75%       max\n",
       "Acc                                                                           \n",
       "0     30.0  3.149333  1.406482  1.5000  2.285000  2.905000  3.807500   8.40000\n",
       "1     70.0  7.424706  3.077986  3.4939  5.175662  6.443525  8.494237  16.90015"
      ]
     },
     "execution_count": 6,
     "metadata": {},
     "output_type": "execute_result"
    }
   ],
   "source": [
    "creditcard['Income'].groupby(creditcard['Acc']).describe()"
   ]
  },
  {
   "cell_type": "code",
   "execution_count": null,
   "metadata": {},
   "outputs": [],
   "source": []
  },
  {
   "cell_type": "code",
   "execution_count": null,
   "metadata": {},
   "outputs": [],
   "source": []
  },
  {
   "cell_type": "code",
   "execution_count": 7,
   "metadata": {},
   "outputs": [
    {
     "data": {
      "text/html": [
       "<div>\n",
       "<style scoped>\n",
       "    .dataframe tbody tr th:only-of-type {\n",
       "        vertical-align: middle;\n",
       "    }\n",
       "\n",
       "    .dataframe tbody tr th {\n",
       "        vertical-align: top;\n",
       "    }\n",
       "\n",
       "    .dataframe thead th {\n",
       "        text-align: right;\n",
       "    }\n",
       "</style>\n",
       "<table border=\"1\" class=\"dataframe\">\n",
       "  <thead>\n",
       "    <tr style=\"text-align: right;\">\n",
       "      <th></th>\n",
       "      <th>edu_class</th>\n",
       "      <th>0</th>\n",
       "      <th>1</th>\n",
       "      <th>2</th>\n",
       "      <th>3</th>\n",
       "    </tr>\n",
       "  </thead>\n",
       "  <tbody>\n",
       "    <tr>\n",
       "      <th rowspan=\"8\" valign=\"top\">avg_exp</th>\n",
       "      <th>count</th>\n",
       "      <td>2.000000</td>\n",
       "      <td>23.000000</td>\n",
       "      <td>23.000000</td>\n",
       "      <td>22.000000</td>\n",
       "    </tr>\n",
       "    <tr>\n",
       "      <th>mean</th>\n",
       "      <td>207.370000</td>\n",
       "      <td>641.937826</td>\n",
       "      <td>973.321304</td>\n",
       "      <td>1422.280909</td>\n",
       "    </tr>\n",
       "    <tr>\n",
       "      <th>std</th>\n",
       "      <td>62.494097</td>\n",
       "      <td>147.577741</td>\n",
       "      <td>229.163196</td>\n",
       "      <td>435.281442</td>\n",
       "    </tr>\n",
       "    <tr>\n",
       "      <th>min</th>\n",
       "      <td>163.180000</td>\n",
       "      <td>418.780000</td>\n",
       "      <td>610.250000</td>\n",
       "      <td>816.030000</td>\n",
       "    </tr>\n",
       "    <tr>\n",
       "      <th>25%</th>\n",
       "      <td>185.275000</td>\n",
       "      <td>525.595000</td>\n",
       "      <td>807.820000</td>\n",
       "      <td>1166.997500</td>\n",
       "    </tr>\n",
       "    <tr>\n",
       "      <th>50%</th>\n",
       "      <td>207.370000</td>\n",
       "      <td>593.920000</td>\n",
       "      <td>959.830000</td>\n",
       "      <td>1343.025000</td>\n",
       "    </tr>\n",
       "    <tr>\n",
       "      <th>75%</th>\n",
       "      <td>229.465000</td>\n",
       "      <td>736.140000</td>\n",
       "      <td>1075.270000</td>\n",
       "      <td>1661.412500</td>\n",
       "    </tr>\n",
       "    <tr>\n",
       "      <th>max</th>\n",
       "      <td>251.560000</td>\n",
       "      <td>987.660000</td>\n",
       "      <td>1472.820000</td>\n",
       "      <td>2430.030000</td>\n",
       "    </tr>\n",
       "  </tbody>\n",
       "</table>\n",
       "</div>"
      ],
      "text/plain": [
       "edu_class               0           1            2            3\n",
       "avg_exp count    2.000000   23.000000    23.000000    22.000000\n",
       "        mean   207.370000  641.937826   973.321304  1422.280909\n",
       "        std     62.494097  147.577741   229.163196   435.281442\n",
       "        min    163.180000  418.780000   610.250000   816.030000\n",
       "        25%    185.275000  525.595000   807.820000  1166.997500\n",
       "        50%    207.370000  593.920000   959.830000  1343.025000\n",
       "        75%    229.465000  736.140000  1075.270000  1661.412500\n",
       "        max    251.560000  987.660000  1472.820000  2430.030000"
      ]
     },
     "execution_count": 7,
     "metadata": {},
     "output_type": "execute_result"
    }
   ],
   "source": [
    "pd.set_option('display.max_columns', None) # 设置显示所有列\n",
    "creditcard.groupby('edu_class')[['avg_exp']].describe().T"
   ]
  },
  {
   "cell_type": "code",
   "execution_count": 8,
   "metadata": {},
   "outputs": [
    {
     "data": {
      "text/html": [
       "<div>\n",
       "<style scoped>\n",
       "    .dataframe tbody tr th:only-of-type {\n",
       "        vertical-align: middle;\n",
       "    }\n",
       "\n",
       "    .dataframe tbody tr th {\n",
       "        vertical-align: top;\n",
       "    }\n",
       "\n",
       "    .dataframe thead th {\n",
       "        text-align: right;\n",
       "    }\n",
       "</style>\n",
       "<table border=\"1\" class=\"dataframe\">\n",
       "  <thead>\n",
       "    <tr style=\"text-align: right;\">\n",
       "      <th></th>\n",
       "      <th>df</th>\n",
       "      <th>sum_sq</th>\n",
       "      <th>mean_sq</th>\n",
       "      <th>F</th>\n",
       "      <th>PR(&gt;F)</th>\n",
       "    </tr>\n",
       "  </thead>\n",
       "  <tbody>\n",
       "    <tr>\n",
       "      <th>C(edu_class)</th>\n",
       "      <td>3.0</td>\n",
       "      <td>8.126056e+06</td>\n",
       "      <td>2.708685e+06</td>\n",
       "      <td>31.825683</td>\n",
       "      <td>7.658362e-13</td>\n",
       "    </tr>\n",
       "    <tr>\n",
       "      <th>Residual</th>\n",
       "      <td>66.0</td>\n",
       "      <td>5.617263e+06</td>\n",
       "      <td>8.511005e+04</td>\n",
       "      <td>NaN</td>\n",
       "      <td>NaN</td>\n",
       "    </tr>\n",
       "  </tbody>\n",
       "</table>\n",
       "</div>"
      ],
      "text/plain": [
       "                df        sum_sq       mean_sq          F        PR(>F)\n",
       "C(edu_class)   3.0  8.126056e+06  2.708685e+06  31.825683  7.658362e-13\n",
       "Residual      66.0  5.617263e+06  8.511005e+04        NaN           NaN"
      ]
     },
     "execution_count": 8,
     "metadata": {},
     "output_type": "execute_result"
    }
   ],
   "source": [
    "# 利用回归模型中的方差分析\n",
    "import statsmodels.api as sm\n",
    "from statsmodels.formula.api import ols\n",
    "# 教育等级对支出是否有作用\n",
    "sm.stats.anova_lm(ols('avg_exp ~ C(edu_class)',data=creditcard).fit())\n",
    "# anova_lm ：方差分析\n",
    "# ols('avg_exp ~ C(edu_class)'：ols(y~C(x)),若为分类变量则前面加上C，连续变量前面不变"
   ]
  },
  {
   "cell_type": "code",
   "execution_count": null,
   "metadata": {},
   "outputs": [],
   "source": [
    "多因素分析"
   ]
  },
  {
   "cell_type": "code",
   "execution_count": null,
   "metadata": {},
   "outputs": [],
   "source": [
    "# In[16]:不考虑交互相\n",
    "\n",
    "sm.stats.anova_lm(ols('avg_exp ~ C(edu_class)+C(gender)',data=creditcard).fit())\n",
    "# In[16]:考虑交互相\n",
    "sm.stats.anova_lm(ols('avg_exp ~ C(edu_class)+C(gender)+C(edu_class)*C(gender)',data=creditcard).fit())\n"
   ]
  },
  {
   "cell_type": "code",
   "execution_count": null,
   "metadata": {},
   "outputs": [],
   "source": [
    "方差分析：检验变量对y是否有预测作用"
   ]
  },
  {
   "cell_type": "markdown",
   "metadata": {},
   "source": [
    "# 相关分析\n",
    "    - 两个连续变量的分析"
   ]
  },
  {
   "cell_type": "code",
   "execution_count": null,
   "metadata": {},
   "outputs": [],
   "source": [
    "判断年收入越高是不是开卡后的月均支出越高"
   ]
  },
  {
   "cell_type": "code",
   "execution_count": null,
   "metadata": {},
   "outputs": [],
   "source": [
    "两个连续变量之间是否有关系：散点图"
   ]
  },
  {
   "cell_type": "code",
   "execution_count": null,
   "metadata": {},
   "outputs": [],
   "source": [
    "判断有无关系：随着一个变量的变化  另一个变量的均值是否在改变"
   ]
  },
  {
   "cell_type": "code",
   "execution_count": null,
   "metadata": {},
   "outputs": [],
   "source": [
    "    - 线性关系：pearson系数\n",
    "    - 有关系且没有拐点：spearman关系\n",
    "    - "
   ]
  },
  {
   "cell_type": "code",
   "execution_count": null,
   "metadata": {},
   "outputs": [],
   "source": [
    "步骤一：画散点图"
   ]
  },
  {
   "cell_type": "code",
   "execution_count": 11,
   "metadata": {},
   "outputs": [
    {
     "data": {
      "text/plain": [
       "<AxesSubplot:xlabel='Income', ylabel='avg_exp'>"
      ]
     },
     "execution_count": 11,
     "metadata": {},
     "output_type": "execute_result"
    },
    {
     "data": {
      "image/png": "[encoded data removed]",
      "text/plain": [
       "<Figure size 432x288 with 1 Axes>"
      ]
     },
     "metadata": {
      "needs_background": "light"
     },
     "output_type": "display_data"
    }
   ],
   "source": [
    "creditcard.plot(x='Income', y='avg_exp', kind='scatter')\n",
    "#当发现散点图有发散的趋势时，首先需要对Y取对数，而且还应该尝试对X也取对数\n",
    "#%%"
   ]
  },
  {
   "cell_type": "code",
   "execution_count": null,
   "metadata": {},
   "outputs": [],
   "source": [
    "creditcard.plot(x='Income', y='avg_exp_ln', kind='scatter')"
   ]
  },
  {
   "cell_type": "code",
   "execution_count": 12,
   "metadata": {},
   "outputs": [
    {
     "data": {
      "text/html": [
       "<div>\n",
       "<style scoped>\n",
       "    .dataframe tbody tr th:only-of-type {\n",
       "        vertical-align: middle;\n",
       "    }\n",
       "\n",
       "    .dataframe tbody tr th {\n",
       "        vertical-align: top;\n",
       "    }\n",
       "\n",
       "    .dataframe thead th {\n",
       "        text-align: right;\n",
       "    }\n",
       "</style>\n",
       "<table border=\"1\" class=\"dataframe\">\n",
       "  <thead>\n",
       "    <tr style=\"text-align: right;\">\n",
       "      <th></th>\n",
       "      <th>avg_exp_ln</th>\n",
       "      <th>Income</th>\n",
       "    </tr>\n",
       "  </thead>\n",
       "  <tbody>\n",
       "    <tr>\n",
       "      <th>avg_exp_ln</th>\n",
       "      <td>1.00000</td>\n",
       "      <td>0.63489</td>\n",
       "    </tr>\n",
       "    <tr>\n",
       "      <th>Income</th>\n",
       "      <td>0.63489</td>\n",
       "      <td>1.00000</td>\n",
       "    </tr>\n",
       "  </tbody>\n",
       "</table>\n",
       "</div>"
      ],
      "text/plain": [
       "            avg_exp_ln   Income\n",
       "avg_exp_ln     1.00000  0.63489\n",
       "Income         0.63489  1.00000"
      ]
     },
     "execution_count": 12,
     "metadata": {},
     "output_type": "execute_result"
    },
    {
     "data": {
      "image/png": "[encoded data removed]",
      "text/plain": [
       "<Figure size 432x288 with 1 Axes>"
      ]
     },
     "metadata": {
      "needs_background": "light"
     },
     "output_type": "display_data"
    }
   ],
   "source": [
    "# 相关性分析:“spearman”,“pearson” 和 \"kendall\"\n",
    "# In[ ]:\n",
    "#import numpy as np\n",
    "#creditcard['Income_ln']=np.log(creditcard['Income'])\n",
    "# In[ ]:相关系数\n",
    "creditcard[['avg_exp_ln', 'Income']].corr(method='pearson')"
   ]
  },
  {
   "cell_type": "code",
   "execution_count": null,
   "metadata": {},
   "outputs": [],
   "source": [
    "当发现散点图，左侧集中，右侧发散==》则其直方图肯定是右偏的函数"
   ]
  },
  {
   "cell_type": "code",
   "execution_count": null,
   "metadata": {},
   "outputs": [],
   "source": [
    "对右偏的函数取对数，让其不再发散"
   ]
  },
  {
   "cell_type": "code",
   "execution_count": null,
   "metadata": {},
   "outputs": [],
   "source": [
    "相关系数|r|越大，两个变量之间相关性乐越强\n",
    "    - <0.3,两个变量之间几乎不存在相关性\n",
    "    \n",
    "相关系数的P值检验没有意义，只需要看|r|"
   ]
  },
  {
   "cell_type": "code",
   "execution_count": null,
   "metadata": {},
   "outputs": [],
   "source": [
    "检验的作用：\n",
    "    "
   ]
  },
  {
   "cell_type": "code",
   "execution_count": null,
   "metadata": {},
   "outputs": [],
   "source": [
    "变量少的时候，直接线性回归\n",
    "变量多的时候，每个X和Y作检验，只保留显著的有意义的变量\n",
    "放入模型备选"
   ]
  },
  {
   "cell_type": "code",
   "execution_count": null,
   "metadata": {},
   "outputs": [],
   "source": [
    "第一步：假设检验筛选"
   ]
  },
  {
   "cell_type": "code",
   "execution_count": null,
   "metadata": {},
   "outputs": [],
   "source": [
    "相关系数的计算：\n",
    "    pearson相关系数功能公式"
   ]
  },
  {
   "cell_type": "markdown",
   "metadata": {},
   "source": [
    "# 答疑"
   ]
  },
  {
   "cell_type": "code",
   "execution_count": null,
   "metadata": {},
   "outputs": [],
   "source": [
    "P值：T越大，P值越小\n",
    "t = (x拔-均值μ)/样本的标准误,\n",
    "样本的标准误=样本的标准差/根号n\n",
    "\n",
    "所以n越大 t越大 p越小"
   ]
  },
  {
   "cell_type": "code",
   "execution_count": null,
   "metadata": {},
   "outputs": [],
   "source": [
    "一般统计学中不处理大样本"
   ]
  },
  {
   "cell_type": "code",
   "execution_count": null,
   "metadata": {},
   "outputs": [],
   "source": []
  },
  {
   "cell_type": "code",
   "execution_count": null,
   "metadata": {},
   "outputs": [],
   "source": []
  },
  {
   "cell_type": "code",
   "execution_count": null,
   "metadata": {},
   "outputs": [],
   "source": []
  },
  {
   "cell_type": "code",
   "execution_count": null,
   "metadata": {},
   "outputs": [],
   "source": []
  },
  {
   "cell_type": "code",
   "execution_count": null,
   "metadata": {},
   "outputs": [],
   "source": []
  },
  {
   "cell_type": "code",
   "execution_count": null,
   "metadata": {},
   "outputs": [],
   "source": []
  },
  {
   "cell_type": "code",
   "execution_count": null,
   "metadata": {},
   "outputs": [],
   "source": []
  },
  {
   "cell_type": "code",
   "execution_count": null,
   "metadata": {},
   "outputs": [],
   "source": []
  },
  {
   "cell_type": "code",
   "execution_count": null,
   "metadata": {},
   "outputs": [],
   "source": []
  },
  {
   "cell_type": "code",
   "execution_count": null,
   "metadata": {},
   "outputs": [],
   "source": []
  },
  {
   "cell_type": "code",
   "execution_count": null,
   "metadata": {},
   "outputs": [],
   "source": []
  },
  {
   "cell_type": "code",
   "execution_count": null,
   "metadata": {},
   "outputs": [],
   "source": []
  },
  {
   "cell_type": "code",
   "execution_count": null,
   "metadata": {},
   "outputs": [],
   "source": []
  },
  {
   "cell_type": "code",
   "execution_count": null,
   "metadata": {},
   "outputs": [],
   "source": []
  },
  {
   "cell_type": "code",
   "execution_count": null,
   "metadata": {},
   "outputs": [],
   "source": []
  }
 ],
 "metadata": {
  "kernelspec": {
   "display_name": "Python 3",
   "language": "python",
   "name": "python3"
  },
  "language_info": {
   "codemirror_mode": {
    "name": "ipython",
    "version": 3
   },
   "file_extension": ".py",
   "mimetype": "text/x-python",
   "name": "python",
   "nbconvert_exporter": "python",
   "pygments_lexer": "ipython3",
   "version": "3.8.5"
  }
 },
 "nbformat": 4,
 "nbformat_minor": 4
}
