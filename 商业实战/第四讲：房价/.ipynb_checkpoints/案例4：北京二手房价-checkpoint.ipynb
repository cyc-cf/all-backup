{
 "cells": [
  {
   "cell_type": "code",
   "execution_count": 1,
   "metadata": {},
   "outputs": [],
   "source": [
    "import pandas as pd \n",
    "import numpy as np\n",
    "import math\n",
    "import matplotlib\n",
    "import matplotlib.pyplot as plt\n",
    "import seaborn as sns\n",
    "import statsmodels.api as sm\n",
    "from numpy import corrcoef,array\n",
    "# from numpy import corrconf,array\n",
    "from statsmodels.formula.api import ols\n",
    "matplotlib.rcParams['axes.unicode_minus']=False\n",
    "plt.rcParams['font.sans-serif']=['SimHei']"
   ]
  },
  {
   "cell_type": "code",
   "execution_count": 2,
   "metadata": {},
   "outputs": [
    {
     "data": {
      "text/html": [
       "<div>\n",
       "<style scoped>\n",
       "    .dataframe tbody tr th:only-of-type {\n",
       "        vertical-align: middle;\n",
       "    }\n",
       "\n",
       "    .dataframe tbody tr th {\n",
       "        vertical-align: top;\n",
       "    }\n",
       "\n",
       "    .dataframe thead th {\n",
       "        text-align: right;\n",
       "    }\n",
       "</style>\n",
       "<table border=\"1\" class=\"dataframe\">\n",
       "  <thead>\n",
       "    <tr style=\"text-align: right;\">\n",
       "      <th></th>\n",
       "      <th>dist</th>\n",
       "      <th>roomnum</th>\n",
       "      <th>halls</th>\n",
       "      <th>AREA</th>\n",
       "      <th>floor</th>\n",
       "      <th>subway</th>\n",
       "      <th>school</th>\n",
       "      <th>price</th>\n",
       "    </tr>\n",
       "  </thead>\n",
       "  <tbody>\n",
       "    <tr>\n",
       "      <th>0</th>\n",
       "      <td>chaoyang</td>\n",
       "      <td>1</td>\n",
       "      <td>0</td>\n",
       "      <td>46.06</td>\n",
       "      <td>middle</td>\n",
       "      <td>1</td>\n",
       "      <td>0</td>\n",
       "      <td>48850</td>\n",
       "    </tr>\n",
       "    <tr>\n",
       "      <th>1</th>\n",
       "      <td>chaoyang</td>\n",
       "      <td>1</td>\n",
       "      <td>1</td>\n",
       "      <td>59.09</td>\n",
       "      <td>middle</td>\n",
       "      <td>1</td>\n",
       "      <td>0</td>\n",
       "      <td>46540</td>\n",
       "    </tr>\n",
       "    <tr>\n",
       "      <th>2</th>\n",
       "      <td>haidian</td>\n",
       "      <td>5</td>\n",
       "      <td>2</td>\n",
       "      <td>278.95</td>\n",
       "      <td>high</td>\n",
       "      <td>1</td>\n",
       "      <td>1</td>\n",
       "      <td>71662</td>\n",
       "    </tr>\n",
       "    <tr>\n",
       "      <th>3</th>\n",
       "      <td>haidian</td>\n",
       "      <td>3</td>\n",
       "      <td>2</td>\n",
       "      <td>207.00</td>\n",
       "      <td>high</td>\n",
       "      <td>1</td>\n",
       "      <td>1</td>\n",
       "      <td>57972</td>\n",
       "    </tr>\n",
       "    <tr>\n",
       "      <th>4</th>\n",
       "      <td>fengtai</td>\n",
       "      <td>2</td>\n",
       "      <td>1</td>\n",
       "      <td>53.32</td>\n",
       "      <td>low</td>\n",
       "      <td>1</td>\n",
       "      <td>1</td>\n",
       "      <td>71268</td>\n",
       "    </tr>\n",
       "    <tr>\n",
       "      <th>...</th>\n",
       "      <td>...</td>\n",
       "      <td>...</td>\n",
       "      <td>...</td>\n",
       "      <td>...</td>\n",
       "      <td>...</td>\n",
       "      <td>...</td>\n",
       "      <td>...</td>\n",
       "      <td>...</td>\n",
       "    </tr>\n",
       "    <tr>\n",
       "      <th>16205</th>\n",
       "      <td>chaoyang</td>\n",
       "      <td>3</td>\n",
       "      <td>1</td>\n",
       "      <td>76.33</td>\n",
       "      <td>middle</td>\n",
       "      <td>1</td>\n",
       "      <td>0</td>\n",
       "      <td>52405</td>\n",
       "    </tr>\n",
       "    <tr>\n",
       "      <th>16206</th>\n",
       "      <td>chaoyang</td>\n",
       "      <td>3</td>\n",
       "      <td>1</td>\n",
       "      <td>76.42</td>\n",
       "      <td>middle</td>\n",
       "      <td>1</td>\n",
       "      <td>0</td>\n",
       "      <td>52343</td>\n",
       "    </tr>\n",
       "    <tr>\n",
       "      <th>16207</th>\n",
       "      <td>chaoyang</td>\n",
       "      <td>2</td>\n",
       "      <td>1</td>\n",
       "      <td>61.79</td>\n",
       "      <td>high</td>\n",
       "      <td>1</td>\n",
       "      <td>0</td>\n",
       "      <td>50170</td>\n",
       "    </tr>\n",
       "    <tr>\n",
       "      <th>16208</th>\n",
       "      <td>chaoyang</td>\n",
       "      <td>1</td>\n",
       "      <td>1</td>\n",
       "      <td>42.89</td>\n",
       "      <td>high</td>\n",
       "      <td>1</td>\n",
       "      <td>0</td>\n",
       "      <td>52693</td>\n",
       "    </tr>\n",
       "    <tr>\n",
       "      <th>16209</th>\n",
       "      <td>fengtai</td>\n",
       "      <td>2</td>\n",
       "      <td>1</td>\n",
       "      <td>89.90</td>\n",
       "      <td>middle</td>\n",
       "      <td>1</td>\n",
       "      <td>0</td>\n",
       "      <td>46719</td>\n",
       "    </tr>\n",
       "  </tbody>\n",
       "</table>\n",
       "<p>16210 rows × 8 columns</p>\n",
       "</div>"
      ],
      "text/plain": [
       "           dist  roomnum  halls    AREA   floor  subway  school  price\n",
       "0      chaoyang        1      0   46.06  middle       1       0  48850\n",
       "1      chaoyang        1      1   59.09  middle       1       0  46540\n",
       "2       haidian        5      2  278.95    high       1       1  71662\n",
       "3       haidian        3      2  207.00    high       1       1  57972\n",
       "4       fengtai        2      1   53.32     low       1       1  71268\n",
       "...         ...      ...    ...     ...     ...     ...     ...    ...\n",
       "16205  chaoyang        3      1   76.33  middle       1       0  52405\n",
       "16206  chaoyang        3      1   76.42  middle       1       0  52343\n",
       "16207  chaoyang        2      1   61.79    high       1       0  50170\n",
       "16208  chaoyang        1      1   42.89    high       1       0  52693\n",
       "16209   fengtai        2      1   89.90  middle       1       0  46719\n",
       "\n",
       "[16210 rows x 8 columns]"
      ]
     },
     "execution_count": 2,
     "metadata": {},
     "output_type": "execute_result"
    }
   ],
   "source": [
    "data = pd.read_csv(r'E:\\Ajiao\\LiXian\\资料\\技术实详解与商业实战\\280_Ben_八大直播八大案例配套课件\\第四章\\sndHsPr.csv')\n",
    "data"
   ]
  },
  {
   "cell_type": "code",
   "execution_count": 3,
   "metadata": {},
   "outputs": [
    {
     "ename": "SyntaxError",
     "evalue": "invalid character in identifier (<ipython-input-3-5e89923316b3>, line 1)",
     "output_type": "error",
     "traceback": [
      "\u001b[1;36m  File \u001b[1;32m\"<ipython-input-3-5e89923316b3>\"\u001b[1;36m, line \u001b[1;32m1\u001b[0m\n\u001b[1;33m    数据：\u001b[0m\n\u001b[1;37m      ^\u001b[0m\n\u001b[1;31mSyntaxError\u001b[0m\u001b[1;31m:\u001b[0m invalid character in identifier\n"
     ]
    }
   ],
   "source": [
    "数据：\n",
    "    区、室 厅 面积 楼层（高层、中层、底层）"
   ]
  },
  {
   "cell_type": "markdown",
   "metadata": {},
   "source": [
    "- qq 图和PP 图来检验某个分布是否符合正态分布，在统计占有一定的地位，在数据分析的时候，直方图已经可以能够描述了"
   ]
  },
  {
   "cell_type": "code",
   "execution_count": 4,
   "metadata": {},
   "outputs": [
    {
     "name": "stdout",
     "output_type": "stream",
     "text": [
      "%d 16210\n"
     ]
    }
   ],
   "source": [
    "print('%d',data.shape[0])\n",
    "# 样本量超过5000，p值就失去意义了\n",
    "# 描述性统计的时候，样本量可以全部用；但是做统计检验和建模的时候是不能全部用样本量的\n",
    "#  "
   ]
  },
  {
   "cell_type": "code",
   "execution_count": 5,
   "metadata": {},
   "outputs": [
    {
     "data": {
      "text/html": [
       "<div>\n",
       "<style scoped>\n",
       "    .dataframe tbody tr th:only-of-type {\n",
       "        vertical-align: middle;\n",
       "    }\n",
       "\n",
       "    .dataframe tbody tr th {\n",
       "        vertical-align: top;\n",
       "    }\n",
       "\n",
       "    .dataframe thead th {\n",
       "        text-align: right;\n",
       "    }\n",
       "</style>\n",
       "<table border=\"1\" class=\"dataframe\">\n",
       "  <thead>\n",
       "    <tr style=\"text-align: right;\">\n",
       "      <th></th>\n",
       "      <th>count</th>\n",
       "      <th>unique</th>\n",
       "      <th>top</th>\n",
       "      <th>freq</th>\n",
       "      <th>mean</th>\n",
       "      <th>std</th>\n",
       "      <th>min</th>\n",
       "      <th>25%</th>\n",
       "      <th>50%</th>\n",
       "      <th>75%</th>\n",
       "      <th>max</th>\n",
       "    </tr>\n",
       "  </thead>\n",
       "  <tbody>\n",
       "    <tr>\n",
       "      <th>dist</th>\n",
       "      <td>16210</td>\n",
       "      <td>6</td>\n",
       "      <td>fengtai</td>\n",
       "      <td>2947</td>\n",
       "      <td>NaN</td>\n",
       "      <td>NaN</td>\n",
       "      <td>NaN</td>\n",
       "      <td>NaN</td>\n",
       "      <td>NaN</td>\n",
       "      <td>NaN</td>\n",
       "      <td>NaN</td>\n",
       "    </tr>\n",
       "    <tr>\n",
       "      <th>roomnum</th>\n",
       "      <td>16210.0</td>\n",
       "      <td>NaN</td>\n",
       "      <td>NaN</td>\n",
       "      <td>NaN</td>\n",
       "      <td>2.166194</td>\n",
       "      <td>0.809907</td>\n",
       "      <td>1.0</td>\n",
       "      <td>2.0</td>\n",
       "      <td>2.0</td>\n",
       "      <td>3.0</td>\n",
       "      <td>5.0</td>\n",
       "    </tr>\n",
       "    <tr>\n",
       "      <th>halls</th>\n",
       "      <td>16210.0</td>\n",
       "      <td>NaN</td>\n",
       "      <td>NaN</td>\n",
       "      <td>NaN</td>\n",
       "      <td>1.221407</td>\n",
       "      <td>0.532048</td>\n",
       "      <td>0.0</td>\n",
       "      <td>1.0</td>\n",
       "      <td>1.0</td>\n",
       "      <td>2.0</td>\n",
       "      <td>3.0</td>\n",
       "    </tr>\n",
       "    <tr>\n",
       "      <th>AREA</th>\n",
       "      <td>16210.0</td>\n",
       "      <td>NaN</td>\n",
       "      <td>NaN</td>\n",
       "      <td>NaN</td>\n",
       "      <td>91.746598</td>\n",
       "      <td>44.000768</td>\n",
       "      <td>30.06</td>\n",
       "      <td>60.0</td>\n",
       "      <td>78.83</td>\n",
       "      <td>110.5175</td>\n",
       "      <td>299.0</td>\n",
       "    </tr>\n",
       "    <tr>\n",
       "      <th>floor</th>\n",
       "      <td>16210</td>\n",
       "      <td>3</td>\n",
       "      <td>middle</td>\n",
       "      <td>5580</td>\n",
       "      <td>NaN</td>\n",
       "      <td>NaN</td>\n",
       "      <td>NaN</td>\n",
       "      <td>NaN</td>\n",
       "      <td>NaN</td>\n",
       "      <td>NaN</td>\n",
       "      <td>NaN</td>\n",
       "    </tr>\n",
       "    <tr>\n",
       "      <th>subway</th>\n",
       "      <td>16210.0</td>\n",
       "      <td>NaN</td>\n",
       "      <td>NaN</td>\n",
       "      <td>NaN</td>\n",
       "      <td>0.827822</td>\n",
       "      <td>0.377546</td>\n",
       "      <td>0.0</td>\n",
       "      <td>1.0</td>\n",
       "      <td>1.0</td>\n",
       "      <td>1.0</td>\n",
       "      <td>1.0</td>\n",
       "    </tr>\n",
       "    <tr>\n",
       "      <th>school</th>\n",
       "      <td>16210.0</td>\n",
       "      <td>NaN</td>\n",
       "      <td>NaN</td>\n",
       "      <td>NaN</td>\n",
       "      <td>0.303085</td>\n",
       "      <td>0.459606</td>\n",
       "      <td>0.0</td>\n",
       "      <td>0.0</td>\n",
       "      <td>0.0</td>\n",
       "      <td>1.0</td>\n",
       "      <td>1.0</td>\n",
       "    </tr>\n",
       "    <tr>\n",
       "      <th>price</th>\n",
       "      <td>16210.0</td>\n",
       "      <td>NaN</td>\n",
       "      <td>NaN</td>\n",
       "      <td>NaN</td>\n",
       "      <td>61151.810919</td>\n",
       "      <td>22293.358147</td>\n",
       "      <td>18348.0</td>\n",
       "      <td>42812.25</td>\n",
       "      <td>57473.0</td>\n",
       "      <td>76099.75</td>\n",
       "      <td>149871.0</td>\n",
       "    </tr>\n",
       "  </tbody>\n",
       "</table>\n",
       "</div>"
      ],
      "text/plain": [
       "           count unique      top  freq          mean           std      min  \\\n",
       "dist       16210      6  fengtai  2947           NaN           NaN      NaN   \n",
       "roomnum  16210.0    NaN      NaN   NaN      2.166194      0.809907      1.0   \n",
       "halls    16210.0    NaN      NaN   NaN      1.221407      0.532048      0.0   \n",
       "AREA     16210.0    NaN      NaN   NaN     91.746598     44.000768    30.06   \n",
       "floor      16210      3   middle  5580           NaN           NaN      NaN   \n",
       "subway   16210.0    NaN      NaN   NaN      0.827822      0.377546      0.0   \n",
       "school   16210.0    NaN      NaN   NaN      0.303085      0.459606      0.0   \n",
       "price    16210.0    NaN      NaN   NaN  61151.810919  22293.358147  18348.0   \n",
       "\n",
       "              25%      50%       75%       max  \n",
       "dist          NaN      NaN       NaN       NaN  \n",
       "roomnum       2.0      2.0       3.0       5.0  \n",
       "halls         1.0      1.0       2.0       3.0  \n",
       "AREA         60.0    78.83  110.5175     299.0  \n",
       "floor         NaN      NaN       NaN       NaN  \n",
       "subway        1.0      1.0       1.0       1.0  \n",
       "school        0.0      0.0       1.0       1.0  \n",
       "price    42812.25  57473.0  76099.75  149871.0  "
      ]
     },
     "execution_count": 5,
     "metadata": {},
     "output_type": "execute_result"
    }
   ],
   "source": [
    "dat0 = data\n",
    "dat0.describe(include='all').T\n",
    "# 竖列是统计量，横列是变量\n",
    "# 连续变量：输出的是百分位数、中位数等\n",
    "# 分类变量：输出的是频次信息"
   ]
  },
  {
   "cell_type": "markdown",
   "metadata": {},
   "source": [
    "### 一、因变量分析（单因素分析）"
   ]
  },
  {
   "cell_type": "code",
   "execution_count": 6,
   "metadata": {
    "scrolled": false
   },
   "outputs": [],
   "source": [
    "#单位面积房价\n",
    "dat0.price=dat0.price/10000 "
   ]
  },
  {
   "cell_type": "code",
   "execution_count": 7,
   "metadata": {},
   "outputs": [
    {
     "data": {
      "text/html": [
       "<div>\n",
       "<style scoped>\n",
       "    .dataframe tbody tr th:only-of-type {\n",
       "        vertical-align: middle;\n",
       "    }\n",
       "\n",
       "    .dataframe tbody tr th {\n",
       "        vertical-align: top;\n",
       "    }\n",
       "\n",
       "    .dataframe thead th {\n",
       "        text-align: right;\n",
       "    }\n",
       "</style>\n",
       "<table border=\"1\" class=\"dataframe\">\n",
       "  <thead>\n",
       "    <tr style=\"text-align: right;\">\n",
       "      <th></th>\n",
       "      <th>dist</th>\n",
       "      <th>roomnum</th>\n",
       "      <th>halls</th>\n",
       "      <th>AREA</th>\n",
       "      <th>floor</th>\n",
       "      <th>subway</th>\n",
       "      <th>school</th>\n",
       "      <th>price</th>\n",
       "    </tr>\n",
       "  </thead>\n",
       "  <tbody>\n",
       "    <tr>\n",
       "      <th>0</th>\n",
       "      <td>朝阳</td>\n",
       "      <td>1</td>\n",
       "      <td>0</td>\n",
       "      <td>46.06</td>\n",
       "      <td>middle</td>\n",
       "      <td>1</td>\n",
       "      <td>0</td>\n",
       "      <td>4.8850</td>\n",
       "    </tr>\n",
       "    <tr>\n",
       "      <th>1</th>\n",
       "      <td>朝阳</td>\n",
       "      <td>1</td>\n",
       "      <td>1</td>\n",
       "      <td>59.09</td>\n",
       "      <td>middle</td>\n",
       "      <td>1</td>\n",
       "      <td>0</td>\n",
       "      <td>4.6540</td>\n",
       "    </tr>\n",
       "    <tr>\n",
       "      <th>2</th>\n",
       "      <td>海淀</td>\n",
       "      <td>5</td>\n",
       "      <td>2</td>\n",
       "      <td>278.95</td>\n",
       "      <td>high</td>\n",
       "      <td>1</td>\n",
       "      <td>1</td>\n",
       "      <td>7.1662</td>\n",
       "    </tr>\n",
       "    <tr>\n",
       "      <th>3</th>\n",
       "      <td>海淀</td>\n",
       "      <td>3</td>\n",
       "      <td>2</td>\n",
       "      <td>207.00</td>\n",
       "      <td>high</td>\n",
       "      <td>1</td>\n",
       "      <td>1</td>\n",
       "      <td>5.7972</td>\n",
       "    </tr>\n",
       "    <tr>\n",
       "      <th>4</th>\n",
       "      <td>丰台</td>\n",
       "      <td>2</td>\n",
       "      <td>1</td>\n",
       "      <td>53.32</td>\n",
       "      <td>low</td>\n",
       "      <td>1</td>\n",
       "      <td>1</td>\n",
       "      <td>7.1268</td>\n",
       "    </tr>\n",
       "  </tbody>\n",
       "</table>\n",
       "</div>"
      ],
      "text/plain": [
       "  dist  roomnum  halls    AREA   floor  subway  school   price\n",
       "0   朝阳        1      0   46.06  middle       1       0  4.8850\n",
       "1   朝阳        1      1   59.09  middle       1       0  4.6540\n",
       "2   海淀        5      2  278.95    high       1       1  7.1662\n",
       "3   海淀        3      2  207.00    high       1       1  5.7972\n",
       "4   丰台        2      1   53.32     low       1       1  7.1268"
      ]
     },
     "execution_count": 7,
     "metadata": {},
     "output_type": "execute_result"
    }
   ],
   "source": [
    "dict1 = {\n",
    "    u'chaoyang':'朝阳',\n",
    "    u'dongcheng':'东城',\n",
    "    u'fengtai':'丰台',\n",
    "    u'haidian':'海淀',\n",
    "    u'shijingshan':'石景山',\n",
    "    u'xicheng':'西城'\n",
    "}\n",
    "dat0.dist = dat0.dist.apply(lambda x : dict1[x])\n",
    "dat0.head()"
   ]
  },
  {
   "cell_type": "markdown",
   "metadata": {},
   "source": [
    "-  步骤一：直方图\n",
    "     - 数据分析中涉及连续变量：必须做直方图"
   ]
  },
  {
   "cell_type": "code",
   "execution_count": 8,
   "metadata": {},
   "outputs": [
    {
     "data": {
      "text/plain": [
       "Text(0, 0.5, '频数')"
      ]
     },
     "execution_count": 8,
     "metadata": {},
     "output_type": "execute_result"
    },
    {
     "data": {
      "image/png": "[encoded data removed]",
      "text/plain": [
       "<Figure size 432x288 with 1 Axes>"
      ]
     },
     "metadata": {
      "needs_background": "light"
     },
     "output_type": "display_data"
    }
   ],
   "source": [
    "dat0.price.hist(bins=20)\n",
    "plt.xlabel('单位面积房价（万元/平方米）')\n",
    "plt.ylabel('频数')"
   ]
  },
  {
   "cell_type": "markdown",
   "metadata": {},
   "source": [
    "- 步骤二：描述性统计分析\n",
    "    - 查看中位数、标准差等"
   ]
  },
  {
   "cell_type": "code",
   "execution_count": 9,
   "metadata": {},
   "outputs": [
    {
     "data": {
      "text/plain": [
       "mean      6.115181\n",
       "median    5.747300\n",
       "std       2.229336\n",
       "Name: price, dtype: float64"
      ]
     },
     "execution_count": 9,
     "metadata": {},
     "output_type": "execute_result"
    }
   ],
   "source": [
    "# 均值、中位数、标准差\n",
    "dat0.price.agg(['mean','median','std'])"
   ]
  },
  {
   "cell_type": "code",
   "execution_count": 10,
   "metadata": {},
   "outputs": [
    {
     "data": {
      "text/plain": [
       "0.25    4.281225\n",
       "0.50    5.747300\n",
       "0.75    7.609975\n",
       "Name: price, dtype: float64"
      ]
     },
     "execution_count": 10,
     "metadata": {},
     "output_type": "execute_result"
    }
   ],
   "source": [
    "# 四分位数\n",
    "dat0.price.quantile([0.25,0.5,0.75])"
   ]
  },
  {
   "cell_type": "code",
   "execution_count": 11,
   "metadata": {},
   "outputs": [
    {
     "data": {
      "text/html": [
       "<div>\n",
       "<style scoped>\n",
       "    .dataframe tbody tr th:only-of-type {\n",
       "        vertical-align: middle;\n",
       "    }\n",
       "\n",
       "    .dataframe tbody tr th {\n",
       "        vertical-align: top;\n",
       "    }\n",
       "\n",
       "    .dataframe thead th {\n",
       "        text-align: right;\n",
       "    }\n",
       "</style>\n",
       "<table border=\"1\" class=\"dataframe\">\n",
       "  <thead>\n",
       "    <tr style=\"text-align: right;\">\n",
       "      <th></th>\n",
       "      <th>dist</th>\n",
       "      <th>roomnum</th>\n",
       "      <th>halls</th>\n",
       "      <th>AREA</th>\n",
       "      <th>floor</th>\n",
       "      <th>subway</th>\n",
       "      <th>school</th>\n",
       "      <th>price</th>\n",
       "    </tr>\n",
       "  </thead>\n",
       "  <tbody>\n",
       "    <tr>\n",
       "      <th>2738</th>\n",
       "      <td>丰台</td>\n",
       "      <td>2</td>\n",
       "      <td>2</td>\n",
       "      <td>100.83</td>\n",
       "      <td>high</td>\n",
       "      <td>0</td>\n",
       "      <td>0</td>\n",
       "      <td>1.8348</td>\n",
       "    </tr>\n",
       "    <tr>\n",
       "      <th>12788</th>\n",
       "      <td>西城</td>\n",
       "      <td>3</td>\n",
       "      <td>1</td>\n",
       "      <td>77.40</td>\n",
       "      <td>low</td>\n",
       "      <td>1</td>\n",
       "      <td>0</td>\n",
       "      <td>14.9871</td>\n",
       "    </tr>\n",
       "  </tbody>\n",
       "</table>\n",
       "</div>"
      ],
      "text/plain": [
       "      dist  roomnum  halls    AREA floor  subway  school    price\n",
       "2738    丰台        2      2  100.83  high       0       0   1.8348\n",
       "12788   西城        3      1   77.40   low       1       0  14.9871"
      ]
     },
     "execution_count": 11,
     "metadata": {},
     "output_type": "execute_result"
    }
   ],
   "source": [
    "#找出最低价格和最高价格对应的是哪个观测值\n",
    "pd.concat([(dat0[dat0.price==min(dat0.price)]),(dat0[dat0.price==max(dat0.price)])])"
   ]
  },
  {
   "cell_type": "markdown",
   "metadata": {},
   "source": [
    "### x的分布情况\n",
    "    - 连续变量找最小值、最大值、众数、中位数、均值\n",
    "    - 分类变量进行频次分析(value_counts)"
   ]
  },
  {
   "cell_type": "code",
   "execution_count": 12,
   "metadata": {},
   "outputs": [
    {
     "name": "stdout",
     "output_type": "stream",
     "text": [
      "dist :\n",
      "                丰台    海淀    朝阳    东城    西城   石景山\n",
      "value_counts  2947  2919  2864  2783  2750  1947\n",
      "------------------------------------------\n",
      "roomnum :\n",
      "                 2     3     1    4    5\n",
      "value_counts  7971  4250  3212  675  102\n",
      "------------------------------------------\n",
      "halls :\n",
      "                  1     2    0   3\n",
      "value_counts  11082  4231  812  85\n",
      "------------------------------------------\n",
      "floor :\n",
      "              middle  high   low\n",
      "value_counts    5580  5552  5078\n",
      "------------------------------------------\n",
      "subway :\n",
      "                  1     0\n",
      "value_counts  13419  2791\n",
      "------------------------------------------\n",
      "school :\n",
      "                  0     1\n",
      "value_counts  11297  4913\n",
      "------------------------------------------\n",
      "AREA:\n",
      "min        30.060000\n",
      "max       299.000000\n",
      "median     78.830000\n",
      "std        44.000768\n",
      "Name: AREA, dtype: float64\n"
     ]
    }
   ],
   "source": [
    "'''\n",
    "根据数据可知，六个自变量有5个是分类变量，1个是连续变量；Y值是price\n",
    "'''\n",
    "for i in range(7):\n",
    "    if i!=3:\n",
    "        print(dat0.columns.values[i],':')\n",
    "        print(dat0[dat0.columns.values[i]].agg(['value_counts']).T)\n",
    "        print('------------------------------------------')\n",
    "    else:\n",
    "        continue\n",
    "print('AREA:')\n",
    "print(dat0.AREA.agg(['min','max','median','std']).T)\n",
    "# 样本量/总样本数>=0.05,样本的数量就不算太少"
   ]
  },
  {
   "cell_type": "markdown",
   "metadata": {},
   "source": [
    "- 分类变量是找频次"
   ]
  },
  {
   "cell_type": "code",
   "execution_count": 13,
   "metadata": {},
   "outputs": [
    {
     "data": {
      "text/plain": [
       "<AxesSubplot:ylabel='dist'>"
      ]
     },
     "execution_count": 13,
     "metadata": {},
     "output_type": "execute_result"
    },
    {
     "data": {
      "image/png": "[encoded data removed]",
      "text/plain": [
       "<Figure size 432x288 with 1 Axes>"
      ]
     },
     "metadata": {},
     "output_type": "display_data"
    }
   ],
   "source": [
    "# 城区变量\n",
    "data.dist.value_counts().plot(kind='pie')"
   ]
  },
  {
   "cell_type": "code",
   "execution_count": 14,
   "metadata": {},
   "outputs": [
    {
     "data": {
      "text/plain": [
       "<AxesSubplot:ylabel='dist'>"
      ]
     },
     "execution_count": 14,
     "metadata": {},
     "output_type": "execute_result"
    },
    {
     "data": {
      "image/png": "[encoded data removed]",
      "text/plain": [
       "<Figure size 432x288 with 1 Axes>"
      ]
     },
     "metadata": {
      "needs_background": "light"
     },
     "output_type": "display_data"
    }
   ],
   "source": [
    "#看每个区的平均的房价为多少\n",
    "data.price.groupby(dat0.dist).mean().sort_values(ascending=True).plot(kind='barh')"
   ]
  },
  {
   "cell_type": "code",
   "execution_count": 15,
   "metadata": {},
   "outputs": [
    {
     "data": {
      "text/plain": [
       "<AxesSubplot:xlabel='dist', ylabel='price'>"
      ]
     },
     "execution_count": 15,
     "metadata": {},
     "output_type": "execute_result"
    },
    {
     "data": {
      "image/png": "[encoded data removed]",
      "text/plain": [
       "<Figure size 432x288 with 1 Axes>"
      ]
     },
     "metadata": {
      "needs_background": "light"
     },
     "output_type": "display_data"
    }
   ],
   "source": [
    "#盒须图\n",
    "sns.boxplot(x='dist',y='price',data=dat0[['dist','price']])"
   ]
  },
  {
   "cell_type": "code",
   "execution_count": 16,
   "metadata": {},
   "outputs": [
    {
     "name": "stderr",
     "output_type": "stream",
     "text": [
      "D:\\Anaconda\\lib\\site-packages\\pandas\\core\\generic.py:5516: SettingWithCopyWarning: \n",
      "A value is trying to be set on a copy of a slice from a DataFrame.\n",
      "Try using .loc[row_indexer,col_indexer] = value instead\n",
      "\n",
      "See the caveats in the documentation: https://pandas.pydata.org/pandas-docs/stable/user_guide/indexing.html#returning-a-view-versus-a-copy\n",
      "  self[name] = value\n",
      "D:\\Anaconda\\lib\\site-packages\\pandas\\core\\arrays\\categorical.py:2630: FutureWarning: The `inplace` parameter in pandas.Categorical.set_categories is deprecated and will be removed in a future version. Removing unused categories will always return a new Categorical object.\n",
      "  res = method(*args, **kwargs)\n"
     ]
    },
    {
     "data": {
      "text/plain": [
       "<AxesSubplot:xlabel='dist', ylabel='price'>"
      ]
     },
     "execution_count": 16,
     "metadata": {},
     "output_type": "execute_result"
    },
    {
     "data": {
      "image/png": "[encoded data removed]",
      "text/plain": [
       "<Figure size 432x288 with 1 Axes>"
      ]
     },
     "metadata": {
      "needs_background": "light"
     },
     "output_type": "display_data"
    }
   ],
   "source": [
    "# 升序的盒须图\n",
    "dat1=dat0[['dist','price']]\n",
    "# 转为分类变量\n",
    "dat1.dist = dat1.dist.astype('category')\n",
    "dat1.dist.cat.set_categories(['石景山','丰台','朝阳','海淀','东城','西城'],inplace=True)\n",
    "sns.boxplot(x='dist',y='price',data=dat1)"
   ]
  },
  {
   "cell_type": "code",
   "execution_count": 16,
   "metadata": {
    "collapsed": true
   },
   "outputs": [
    {
     "ename": "IndentationError",
     "evalue": "unexpected indent (<ipython-input-16-20a11a80c0c1>, line 2)",
     "output_type": "error",
     "traceback": [
      "\u001b[1;36m  File \u001b[1;32m\"<ipython-input-16-20a11a80c0c1>\"\u001b[1;36m, line \u001b[1;32m2\u001b[0m\n\u001b[1;33m    城区的中位数是否相等：若中位数不一样则两个变量是有关系的，所以城区对价格有预测作用，\u001b[0m\n\u001b[1;37m    ^\u001b[0m\n\u001b[1;31mIndentationError\u001b[0m\u001b[1;31m:\u001b[0m unexpected indent\n"
     ]
    }
   ],
   "source": [
    "看城区对价格有无影响\n",
    "    城区的中位数是否相等：若中位数不一样则两个变量是有关系的，所以城区对价格有预测作用，\n",
    "                            可以纳入回归模型中。"
   ]
  },
  {
   "cell_type": "markdown",
   "metadata": {},
   "source": [
    "#### 卧室的数量对价格是否有影响\n"
   ]
  },
  {
   "cell_type": "code",
   "execution_count": null,
   "metadata": {},
   "outputs": [],
   "source": [
    "不同卧室的房价差别不大，"
   ]
  },
  {
   "cell_type": "markdown",
   "metadata": {},
   "source": [
    "#### 地铁房、学区房对价格的影响"
   ]
  },
  {
   "cell_type": "code",
   "execution_count": null,
   "metadata": {},
   "outputs": [],
   "source": []
  },
  {
   "cell_type": "markdown",
   "metadata": {},
   "source": [
    "## 连续变量"
   ]
  },
  {
   "cell_type": "code",
   "execution_count": null,
   "metadata": {},
   "outputs": [],
   "source": [
    "- 连续变量画散点图时：左密集右疏散==》右偏函数\n",
    "- 分类变量作直方图时，右偏"
   ]
  },
  {
   "cell_type": "code",
   "execution_count": null,
   "metadata": {},
   "outputs": [],
   "source": [
    "相关系数\n",
    "    p>0.8 : 强相关\n",
    "    0.5<p<0.8 : 中度相关\n",
    "    p<0.3 : 弱相关或不相关\n",
    "    \n",
    "    作两两变量之间分析的时候，相关系数<0.3，是不考虑的。\n",
    "    做建模的时候或多个变量之间分析的时候或逻辑回归、神经网络的时候，相关系数小于0.3，是要考虑的。"
   ]
  },
  {
   "cell_type": "code",
   "execution_count": null,
   "metadata": {},
   "outputs": [],
   "source": [
    "#  对连续变量自身（AREA）进行分析"
   ]
  },
  {
   "cell_type": "code",
   "execution_count": 17,
   "metadata": {},
   "outputs": [
    {
     "data": {
      "text/plain": [
       "<matplotlib.collections.PathCollection at 0x1b4fed98700>"
      ]
     },
     "execution_count": 17,
     "metadata": {},
     "output_type": "execute_result"
    },
    {
     "data": {
      "image/png": "[encoded data removed]",
      "text/plain": [
       "<Figure size 432x288 with 1 Axes>"
      ]
     },
     "metadata": {
      "needs_background": "light"
     },
     "output_type": "display_data"
    }
   ],
   "source": [
    "datA = dat0[['AREA','price']]\n",
    "plt.scatter(datA.AREA,datA.price,marker='.')"
   ]
  },
  {
   "cell_type": "code",
   "execution_count": 18,
   "metadata": {},
   "outputs": [
    {
     "data": {
      "text/html": [
       "<div>\n",
       "<style scoped>\n",
       "    .dataframe tbody tr th:only-of-type {\n",
       "        vertical-align: middle;\n",
       "    }\n",
       "\n",
       "    .dataframe tbody tr th {\n",
       "        vertical-align: top;\n",
       "    }\n",
       "\n",
       "    .dataframe thead th {\n",
       "        text-align: right;\n",
       "    }\n",
       "</style>\n",
       "<table border=\"1\" class=\"dataframe\">\n",
       "  <thead>\n",
       "    <tr style=\"text-align: right;\">\n",
       "      <th></th>\n",
       "      <th>AREA</th>\n",
       "      <th>price</th>\n",
       "    </tr>\n",
       "  </thead>\n",
       "  <tbody>\n",
       "    <tr>\n",
       "      <th>AREA</th>\n",
       "      <td>1.000000</td>\n",
       "      <td>-0.073955</td>\n",
       "    </tr>\n",
       "    <tr>\n",
       "      <th>price</th>\n",
       "      <td>-0.073955</td>\n",
       "      <td>1.000000</td>\n",
       "    </tr>\n",
       "  </tbody>\n",
       "</table>\n",
       "</div>"
      ],
      "text/plain": [
       "           AREA     price\n",
       "AREA   1.000000 -0.073955\n",
       "price -0.073955  1.000000"
      ]
     },
     "execution_count": 18,
     "metadata": {},
     "output_type": "execute_result"
    }
   ],
   "source": [
    "#pearson相关系数\n",
    "datA[['AREA','price']].corr(method='pearson')"
   ]
  },
  {
   "cell_type": "code",
   "execution_count": 19,
   "metadata": {
    "collapsed": true
   },
   "outputs": [
    {
     "ename": "SyntaxError",
     "evalue": "invalid character in identifier (<ipython-input-19-497a2258f575>, line 1)",
     "output_type": "error",
     "traceback": [
      "\u001b[1;36m  File \u001b[1;32m\"<ipython-input-19-497a2258f575>\"\u001b[1;36m, line \u001b[1;32m1\u001b[0m\n\u001b[1;33m    一、右偏函数对y取对数\u001b[0m\n\u001b[1;37m              ^\u001b[0m\n\u001b[1;31mSyntaxError\u001b[0m\u001b[1;31m:\u001b[0m invalid character in identifier\n"
     ]
    }
   ],
   "source": [
    "一、右偏函数对y取对数"
   ]
  },
  {
   "cell_type": "code",
   "execution_count": 19,
   "metadata": {},
   "outputs": [
    {
     "name": "stderr",
     "output_type": "stream",
     "text": [
      "<ipython-input-19-bf9b75a39bf0>:2: SettingWithCopyWarning: \n",
      "A value is trying to be set on a copy of a slice from a DataFrame.\n",
      "Try using .loc[row_indexer,col_indexer] = value instead\n",
      "\n",
      "See the caveats in the documentation: https://pandas.pydata.org/pandas-docs/stable/user_guide/indexing.html#returning-a-view-versus-a-copy\n",
      "  datA['price_ln'] = np.log(datA['price'])\n"
     ]
    },
    {
     "data": {
      "text/plain": [
       "Text(0, 0.5, '单位面积房价（取对数后）')"
      ]
     },
     "execution_count": 19,
     "metadata": {},
     "output_type": "execute_result"
    },
    {
     "data": {
      "image/png": "[encoded data removed]",
      "text/plain": [
       "<Figure size 576x576 with 1 Axes>"
      ]
     },
     "metadata": {
      "needs_background": "light"
     },
     "output_type": "display_data"
    }
   ],
   "source": [
    "# 对Y取对数\n",
    "datA['price_ln'] = np.log(datA['price'])\n",
    "plt.figure(figsize=(8,8))\n",
    "plt.scatter(datA.AREA,datA.price_ln,marker='.')\n",
    "plt.xlabel('面积（平方米）')\n",
    "plt.ylabel('单位面积房价（取对数后）')\n",
    "\n",
    "#结果类似三角关系，散点结果点仍较密，相关系数比委屈对数前下降了，考虑对x取对数"
   ]
  },
  {
   "cell_type": "code",
   "execution_count": 20,
   "metadata": {},
   "outputs": [
    {
     "data": {
      "text/html": [
       "<div>\n",
       "<style scoped>\n",
       "    .dataframe tbody tr th:only-of-type {\n",
       "        vertical-align: middle;\n",
       "    }\n",
       "\n",
       "    .dataframe tbody tr th {\n",
       "        vertical-align: top;\n",
       "    }\n",
       "\n",
       "    .dataframe thead th {\n",
       "        text-align: right;\n",
       "    }\n",
       "</style>\n",
       "<table border=\"1\" class=\"dataframe\">\n",
       "  <thead>\n",
       "    <tr style=\"text-align: right;\">\n",
       "      <th></th>\n",
       "      <th>AREA</th>\n",
       "      <th>price_ln</th>\n",
       "    </tr>\n",
       "  </thead>\n",
       "  <tbody>\n",
       "    <tr>\n",
       "      <th>AREA</th>\n",
       "      <td>1.000000</td>\n",
       "      <td>-0.058118</td>\n",
       "    </tr>\n",
       "    <tr>\n",
       "      <th>price_ln</th>\n",
       "      <td>-0.058118</td>\n",
       "      <td>1.000000</td>\n",
       "    </tr>\n",
       "  </tbody>\n",
       "</table>\n",
       "</div>"
      ],
      "text/plain": [
       "              AREA  price_ln\n",
       "AREA      1.000000 -0.058118\n",
       "price_ln -0.058118  1.000000"
      ]
     },
     "execution_count": 20,
     "metadata": {},
     "output_type": "execute_result"
    }
   ],
   "source": [
    "#取对数之后的相关系数\n",
    "datA[['AREA','price_ln']].corr(method='pearson')\n",
    "# 散点图结果类似三角关系，散点结果点仍较密，相关系数比未对Y取对数前下降了，考虑对x取对数\n",
    "#一般来说取对数之后，相关系数应该升高"
   ]
  },
  {
   "cell_type": "code",
   "execution_count": 21,
   "metadata": {
    "scrolled": true
   },
   "outputs": [
    {
     "name": "stderr",
     "output_type": "stream",
     "text": [
      "<ipython-input-21-ba8f99385d3e>:1: SettingWithCopyWarning: \n",
      "A value is trying to be set on a copy of a slice from a DataFrame.\n",
      "Try using .loc[row_indexer,col_indexer] = value instead\n",
      "\n",
      "See the caveats in the documentation: https://pandas.pydata.org/pandas-docs/stable/user_guide/indexing.html#returning-a-view-versus-a-copy\n",
      "  datA['AREA_ln'] = np.log(datA['AREA'])\n",
      "<ipython-input-21-ba8f99385d3e>:2: SettingWithCopyWarning: \n",
      "A value is trying to be set on a copy of a slice from a DataFrame.\n",
      "Try using .loc[row_indexer,col_indexer] = value instead\n",
      "\n",
      "See the caveats in the documentation: https://pandas.pydata.org/pandas-docs/stable/user_guide/indexing.html#returning-a-view-versus-a-copy\n",
      "  datA['price_ln'] = np.log(datA['price'])\n"
     ]
    },
    {
     "data": {
      "text/plain": [
       "Text(0, 0.5, '单位面积房价（取对数后）')"
      ]
     },
     "execution_count": 21,
     "metadata": {},
     "output_type": "execute_result"
    },
    {
     "data": {
      "image/png": "[encoded data removed]",
      "text/plain": [
       "<Figure size 576x576 with 1 Axes>"
      ]
     },
     "metadata": {
      "needs_background": "light"
     },
     "output_type": "display_data"
    }
   ],
   "source": [
    "datA['AREA_ln'] = np.log(datA['AREA'])\n",
    "datA['price_ln'] = np.log(datA['price'])\n",
    "plt.figure(figsize=(8,8))\n",
    "plt.scatter(datA.AREA_ln,datA.price_ln,marker='.')\n",
    "plt.xlabel('面积（平方米）')\n",
    "plt.ylabel('单位面积房价（取对数后）')\n",
    "# 图形为中间密两边疏的状态，这样的图无论是X分布还是Y分布都是正态分布，而且相关系数变高了"
   ]
  },
  {
   "cell_type": "code",
   "execution_count": 22,
   "metadata": {},
   "outputs": [
    {
     "data": {
      "text/html": [
       "<div>\n",
       "<style scoped>\n",
       "    .dataframe tbody tr th:only-of-type {\n",
       "        vertical-align: middle;\n",
       "    }\n",
       "\n",
       "    .dataframe tbody tr th {\n",
       "        vertical-align: top;\n",
       "    }\n",
       "\n",
       "    .dataframe thead th {\n",
       "        text-align: right;\n",
       "    }\n",
       "</style>\n",
       "<table border=\"1\" class=\"dataframe\">\n",
       "  <thead>\n",
       "    <tr style=\"text-align: right;\">\n",
       "      <th></th>\n",
       "      <th>AREA_ln</th>\n",
       "      <th>price_ln</th>\n",
       "    </tr>\n",
       "  </thead>\n",
       "  <tbody>\n",
       "    <tr>\n",
       "      <th>AREA_ln</th>\n",
       "      <td>1.00000</td>\n",
       "      <td>-0.09393</td>\n",
       "    </tr>\n",
       "    <tr>\n",
       "      <th>price_ln</th>\n",
       "      <td>-0.09393</td>\n",
       "      <td>1.00000</td>\n",
       "    </tr>\n",
       "  </tbody>\n",
       "</table>\n",
       "</div>"
      ],
      "text/plain": [
       "          AREA_ln  price_ln\n",
       "AREA_ln   1.00000  -0.09393\n",
       "price_ln -0.09393   1.00000"
      ]
     },
     "execution_count": 22,
     "metadata": {},
     "output_type": "execute_result"
    }
   ],
   "source": [
    "datA[['AREA_ln','price_ln']].corr(method='pearson')"
   ]
  },
  {
   "cell_type": "code",
   "execution_count": 23,
   "metadata": {},
   "outputs": [],
   "source": [
    "def stack2dim(raw, i, j, rotation = 0, location = 'upper left'):\n",
    "    '''\n",
    "    此函数是为了画两个维度标准化的堆积柱状图\n",
    "    要求是目标变量j是二分类的\n",
    "    raw为pandas的DataFrame数据框\n",
    "    i、j为两个分类变量的变量名称，要求带引号，比如\"school\"\n",
    "    rotation：水平标签旋转角度，默认水平方向，如标签过长，可设置一定角度，比如设置rotation = 40\n",
    "    location：分类标签的位置，如果被主体图形挡住，可更改为'upper left'\n",
    "    \n",
    "    '''\n",
    "    import math\n",
    "    data_raw = pd.crosstab(raw[i], raw[j])\n",
    "    data = data_raw.div(data_raw.sum(1), axis=0)  # 交叉表转换成比率，为得到标准化堆积柱状图\n",
    "    \n",
    "    # 计算x坐标，及bar宽度\n",
    "    createVar = locals()\n",
    "    x = [0] #每个bar的中心x轴坐标\n",
    "    width = [] #bar的宽度\n",
    "    k = 0\n",
    "    for n in range(len(data)):\n",
    "        # 根据频数计算每一列bar的宽度\n",
    "        createVar['width' + str(n)] = data_raw.sum(axis=1)[n] / sum(data_raw.sum(axis=1))\n",
    "        width.append(createVar['width' + str(n)])  \n",
    "        if n == 0:\n",
    "            continue\n",
    "        else:\n",
    "            k += createVar['width' + str(n - 1)] / 2 + createVar['width' + str(n)] / 2 + 0.05\n",
    "            x.append(k)  \n",
    "    \n",
    "    # 以下是通过频率交叉表矩阵生成一列对应堆积图每一块位置数据的数组，再把数组转化为矩阵\n",
    "    y_mat = []\n",
    "    n = 0\n",
    "    for p in range(data.shape[0]):\n",
    "        for q in range(data.shape[1]):\n",
    "            n += 1\n",
    "            y_mat.append(data.iloc[p, q])\n",
    "            if n == data.shape[0] * 2:\n",
    "                break\n",
    "            elif n % 2 == 1:\n",
    "                y_mat.extend([0] * (len(data) - 1))\n",
    "            elif n % 2 == 0:\n",
    "                y_mat.extend([0] * len(data))\n",
    "\n",
    "    y_mat = np.array(y_mat).reshape(len(data) * 2, len(data))\n",
    "    y_mat = pd.DataFrame(y_mat)  # bar图中的y变量矩阵，每一行是一个y变量\n",
    "    \n",
    "    # 通过x，y_mat中的每一行y，依次绘制每一块堆积图中的每一块图\n",
    "    createVar = locals()\n",
    "    for row in range(len(y_mat)):\n",
    "        createVar['a' + str(row)] = y_mat.iloc[row, :]\n",
    "        if row % 2 == 0:\n",
    "            if math.floor(row / 2) == 0:\n",
    "                label = data.columns.name + ': ' + str(data.columns[row])\n",
    "                plt.bar(x, createVar['a' + str(row)],\n",
    "                        width=width[math.floor(row / 2)], label='0', color='#5F9EA0')\n",
    "            else:\n",
    "                plt.bar(x, createVar['a' + str(row)],\n",
    "                        width=width[math.floor(row / 2)], color='#5F9EA0')\n",
    "        elif row % 2 == 1:\n",
    "            if math.floor(row / 2) == 0:\n",
    "                label = data.columns.name + ': ' + str(data.columns[row])\n",
    "                plt.bar(x, createVar['a' + str(row)], bottom=createVar['a' + str(row - 1)],\n",
    "                        width=width[math.floor(row / 2)], label='1', color='#8FBC8F')\n",
    "            else:\n",
    "                plt.bar(x, createVar['a' + str(row)], bottom=createVar['a' + str(row - 1)],\n",
    "                        width=width[math.floor(row / 2)], color='#8FBC8F')\n",
    "\n",
    "    plt.title(j + ' vs ' + i)\n",
    "    group_labels = [data.index.name + ': ' + str(name) for name in data.index]\n",
    "    plt.xticks(x, group_labels, rotation = rotation)\n",
    "    plt.ylabel(j)\n",
    "    plt.legend(shadow=True, loc=location)\n",
    "    plt.show()\n"
   ]
  },
  {
   "cell_type": "code",
   "execution_count": 24,
   "metadata": {},
   "outputs": [
    {
     "data": {
      "image/png": "[encoded data removed]",
      "text/plain": [
       "<Figure size 432x288 with 1 Axes>"
      ]
     },
     "metadata": {
      "needs_background": "light"
     },
     "output_type": "display_data"
    }
   ],
   "source": [
    "# 标准化堆积柱状图\n",
    "stack2dim(dat0, i=\"subway\", j=\"school\")"
   ]
  },
  {
   "cell_type": "code",
   "execution_count": 25,
   "metadata": {},
   "outputs": [
    {
     "data": {
      "text/plain": [
       "<AxesSubplot:title={'center':'price'}, xlabel='[school]'>"
      ]
     },
     "execution_count": 25,
     "metadata": {},
     "output_type": "execute_result"
    },
    {
     "data": {
      "image/png": "[encoded data removed]",
      "text/plain": [
       "<Figure size 432x288 with 1 Axes>"
      ]
     },
     "metadata": {
      "needs_background": "light"
     },
     "output_type": "display_data"
    },
    {
     "data": {
      "image/png": "[encoded data removed]",
      "text/plain": [
       "<Figure size 432x288 with 1 Axes>"
      ]
     },
     "metadata": {
      "needs_background": "light"
     },
     "output_type": "display_data"
    }
   ],
   "source": [
    "#箱线图\n",
    "dat2=dat0[['subway','price']]\n",
    "dat3=dat0[['school','price']]\n",
    "dat2.boxplot(by='subway',patch_artist=True)\n",
    "dat3.boxplot(by='school',patch_artist=True)"
   ]
  },
  {
   "cell_type": "code",
   "execution_count": null,
   "metadata": {},
   "outputs": [],
   "source": []
  },
  {
   "cell_type": "code",
   "execution_count": null,
   "metadata": {},
   "outputs": [],
   "source": []
  },
  {
   "cell_type": "code",
   "execution_count": null,
   "metadata": {},
   "outputs": [],
   "source": []
  },
  {
   "cell_type": "code",
   "execution_count": null,
   "metadata": {},
   "outputs": [],
   "source": []
  },
  {
   "cell_type": "markdown",
   "metadata": {},
   "source": [
    "## 假设检验"
   ]
  },
  {
   "cell_type": "code",
   "execution_count": null,
   "metadata": {},
   "outputs": [],
   "source": [
    "- 描述性统计是提出假设的前提条件，不要拿原始数据作检验，抽样进行检验\n",
    "\n",
    "阈值根据样本量设置的，\n",
    "    样本量n<100,显著度取值[5%,20%]\n",
    "    100<样本量n<500,显著度取值[1%,10%]\n",
    "    500<样本量n<3000,显著度取值[0.1%,5%]\n",
    "样本量特别大，p值可以非常小，但是当样本量足够大时p值就没有意义了，目前没有更好的解决方案"
   ]
  },
  {
   "cell_type": "code",
   "execution_count": null,
   "metadata": {},
   "outputs": [],
   "source": [
    "# 按区抽样，每个区抽400个样本\n",
    "# 因为是随机抽样，所以每次的P值是不一样的，但是结论是一致的。"
   ]
  },
  {
   "cell_type": "code",
   "execution_count": 26,
   "metadata": {},
   "outputs": [
    {
     "name": "stderr",
     "output_type": "stream",
     "text": [
      "<>:35: SyntaxWarning: \"is\" with a literal. Did you mean \"==\"?\n",
      "<>:47: SyntaxWarning: \"is\" with a literal. Did you mean \"==\"?\n",
      "<>:53: SyntaxWarning: \"is\" with a literal. Did you mean \"==\"?\n",
      "<>:62: SyntaxWarning: \"is\" with a literal. Did you mean \"==\"?\n",
      "<>:35: SyntaxWarning: \"is\" with a literal. Did you mean \"==\"?\n",
      "<>:47: SyntaxWarning: \"is\" with a literal. Did you mean \"==\"?\n",
      "<>:53: SyntaxWarning: \"is\" with a literal. Did you mean \"==\"?\n",
      "<>:62: SyntaxWarning: \"is\" with a literal. Did you mean \"==\"?\n",
      "<ipython-input-26-a7920ac9c4a3>:35: SyntaxWarning: \"is\" with a literal. Did you mean \"==\"?\n",
      "  if sampling is \"stratified\":\n",
      "<ipython-input-26-a7920ac9c4a3>:47: SyntaxWarning: \"is\" with a literal. Did you mean \"==\"?\n",
      "  if sampling is \"simple_random\":\n",
      "<ipython-input-26-a7920ac9c4a3>:53: SyntaxWarning: \"is\" with a literal. Did you mean \"==\"?\n",
      "  elif sampling is \"systematic\":\n",
      "<ipython-input-26-a7920ac9c4a3>:62: SyntaxWarning: \"is\" with a literal. Did you mean \"==\"?\n",
      "  elif sampling is \"stratified\":\n"
     ]
    }
   ],
   "source": [
    "def get_sample(df, sampling=\"simple_random\", k=1, stratified_col=None):\n",
    "    \"\"\"\n",
    "    对输入的 dataframe 进行抽样的函数\n",
    "\n",
    "    参数:\n",
    "        - df: 输入的数据框 pandas.dataframe 对象\n",
    "\n",
    "        - sampling:抽样方法 str\n",
    "            可选值有 [\"simple_random\", \"stratified\", \"systematic\"]\n",
    "            按顺序分别为: 简单随机抽样、分层抽样、系统抽样\n",
    "\n",
    "        - k: 抽样个数或抽样比例 int or float\n",
    "            (int, 则必须大于0; float, 则必须在区间(0,1)中)\n",
    "            如果 0 < k < 1 , 则 k 表示抽样对于总体的比例\n",
    "            如果 k >= 1 , 则 k 表示抽样的个数；当为分层抽样时，代表每层的样本量\n",
    "\n",
    "        - stratified_col: 需要分层的列名的列表 list\n",
    "            只有在分层抽样时才生效\n",
    "\n",
    "    返回值:\n",
    "        pandas.dataframe 对象, 抽样结果\n",
    "    \"\"\"\n",
    "    import random\n",
    "    import pandas as pd\n",
    "    from functools import reduce\n",
    "    import numpy as np\n",
    "    import math\n",
    "    \n",
    "    len_df = len(df)\n",
    "    if k <= 0:\n",
    "        raise AssertionError(\"k不能为负数\")\n",
    "    elif k >= 1:\n",
    "        assert isinstance(k, int), \"选择抽样个数时, k必须为正整数\"\n",
    "        sample_by_n=True\n",
    "        if sampling is \"stratified\":\n",
    "            alln=k*df.groupby(by=stratified_col)[stratified_col[0]].count().count() # 有问题的\n",
    "            #alln=k*df[stratified_col].value_counts().count() \n",
    "            if alln >= len_df:\n",
    "                raise AssertionError(\"请确认k乘以层数不能超过总样本量\")\n",
    "    else:\n",
    "        sample_by_n=False\n",
    "        if sampling in (\"simple_random\", \"systematic\"):\n",
    "            k = math.ceil(len_df * k)\n",
    "        \n",
    "    #print(k)\n",
    "\n",
    "    if sampling is \"simple_random\":\n",
    "        print(\"使用简单随机抽样\")\n",
    "        idx = random.sample(range(len_df), k)\n",
    "        res_df = df.iloc[idx,:].copy()\n",
    "        return res_df\n",
    "\n",
    "    elif sampling is \"systematic\":\n",
    "        print(\"使用系统抽样\")\n",
    "        step = len_df // k+1          #step=len_df//k-1\n",
    "        start = 0                  #start=0\n",
    "        idx = range(len_df)[start::step]  #idx=range(len_df+1)[start::step]\n",
    "        res_df = df.iloc[idx,:].copy()\n",
    "        #print(\"k=%d,step=%d,idx=%d\"%(k,step,len(idx)))\n",
    "        return res_df\n",
    "\n",
    "    elif sampling is \"stratified\":\n",
    "        assert stratified_col is not None, \"请传入包含需要分层的列名的列表\"\n",
    "        assert all(np.in1d(stratified_col, df.columns)), \"请检查输入的列名\"\n",
    "        \n",
    "        grouped = df.groupby(by=stratified_col)[stratified_col[0]].count()\n",
    "        if sample_by_n==True:\n",
    "            group_k = grouped.map(lambda x:k)\n",
    "        else:\n",
    "            group_k = grouped.map(lambda x: math.ceil(x * k))\n",
    "        \n",
    "        res_df = df.head(0)\n",
    "        for df_idx in group_k.index:\n",
    "            df1=df\n",
    "            if len(stratified_col)==1:\n",
    "                df1=df1[df1[stratified_col[0]]==df_idx]\n",
    "            else:\n",
    "                for i in range(len(df_idx)):\n",
    "                    df1=df1[df1[stratified_col[i]]==df_idx[i]]\n",
    "            idx = random.sample(range(len(df1)), group_k[df_idx])\n",
    "            group_df = df1.iloc[idx,:].copy()\n",
    "            res_df = res_df.append(group_df)\n",
    "        return res_df\n",
    "\n",
    "    else:\n",
    "        raise AssertionError(\"sampling is illegal\")\n"
   ]
  },
  {
   "cell_type": "code",
   "execution_count": 27,
   "metadata": {},
   "outputs": [
    {
     "data": {
      "text/html": [
       "<div>\n",
       "<style scoped>\n",
       "    .dataframe tbody tr th:only-of-type {\n",
       "        vertical-align: middle;\n",
       "    }\n",
       "\n",
       "    .dataframe tbody tr th {\n",
       "        vertical-align: top;\n",
       "    }\n",
       "\n",
       "    .dataframe thead th {\n",
       "        text-align: right;\n",
       "    }\n",
       "</style>\n",
       "<table border=\"1\" class=\"dataframe\">\n",
       "  <thead>\n",
       "    <tr style=\"text-align: right;\">\n",
       "      <th></th>\n",
       "      <th>dist</th>\n",
       "      <th>roomnum</th>\n",
       "      <th>halls</th>\n",
       "      <th>AREA</th>\n",
       "      <th>floor</th>\n",
       "      <th>subway</th>\n",
       "      <th>school</th>\n",
       "      <th>price</th>\n",
       "    </tr>\n",
       "  </thead>\n",
       "  <tbody>\n",
       "    <tr>\n",
       "      <th>1426</th>\n",
       "      <td>东城</td>\n",
       "      <td>1</td>\n",
       "      <td>1</td>\n",
       "      <td>50.86</td>\n",
       "      <td>low</td>\n",
       "      <td>1</td>\n",
       "      <td>1</td>\n",
       "      <td>7.3732</td>\n",
       "    </tr>\n",
       "    <tr>\n",
       "      <th>8932</th>\n",
       "      <td>东城</td>\n",
       "      <td>3</td>\n",
       "      <td>1</td>\n",
       "      <td>77.72</td>\n",
       "      <td>low</td>\n",
       "      <td>1</td>\n",
       "      <td>1</td>\n",
       "      <td>7.7201</td>\n",
       "    </tr>\n",
       "    <tr>\n",
       "      <th>9041</th>\n",
       "      <td>东城</td>\n",
       "      <td>1</td>\n",
       "      <td>1</td>\n",
       "      <td>49.64</td>\n",
       "      <td>high</td>\n",
       "      <td>1</td>\n",
       "      <td>1</td>\n",
       "      <td>7.6552</td>\n",
       "    </tr>\n",
       "    <tr>\n",
       "      <th>13325</th>\n",
       "      <td>东城</td>\n",
       "      <td>1</td>\n",
       "      <td>1</td>\n",
       "      <td>86.00</td>\n",
       "      <td>low</td>\n",
       "      <td>1</td>\n",
       "      <td>0</td>\n",
       "      <td>6.9768</td>\n",
       "    </tr>\n",
       "    <tr>\n",
       "      <th>11918</th>\n",
       "      <td>东城</td>\n",
       "      <td>1</td>\n",
       "      <td>1</td>\n",
       "      <td>46.80</td>\n",
       "      <td>low</td>\n",
       "      <td>1</td>\n",
       "      <td>0</td>\n",
       "      <td>4.1881</td>\n",
       "    </tr>\n",
       "    <tr>\n",
       "      <th>...</th>\n",
       "      <td>...</td>\n",
       "      <td>...</td>\n",
       "      <td>...</td>\n",
       "      <td>...</td>\n",
       "      <td>...</td>\n",
       "      <td>...</td>\n",
       "      <td>...</td>\n",
       "      <td>...</td>\n",
       "    </tr>\n",
       "    <tr>\n",
       "      <th>2198</th>\n",
       "      <td>西城</td>\n",
       "      <td>2</td>\n",
       "      <td>1</td>\n",
       "      <td>60.90</td>\n",
       "      <td>low</td>\n",
       "      <td>1</td>\n",
       "      <td>1</td>\n",
       "      <td>8.2923</td>\n",
       "    </tr>\n",
       "    <tr>\n",
       "      <th>8410</th>\n",
       "      <td>西城</td>\n",
       "      <td>3</td>\n",
       "      <td>1</td>\n",
       "      <td>62.08</td>\n",
       "      <td>high</td>\n",
       "      <td>0</td>\n",
       "      <td>1</td>\n",
       "      <td>7.7320</td>\n",
       "    </tr>\n",
       "    <tr>\n",
       "      <th>9528</th>\n",
       "      <td>西城</td>\n",
       "      <td>2</td>\n",
       "      <td>1</td>\n",
       "      <td>105.50</td>\n",
       "      <td>high</td>\n",
       "      <td>1</td>\n",
       "      <td>0</td>\n",
       "      <td>11.2607</td>\n",
       "    </tr>\n",
       "    <tr>\n",
       "      <th>11654</th>\n",
       "      <td>西城</td>\n",
       "      <td>2</td>\n",
       "      <td>1</td>\n",
       "      <td>56.30</td>\n",
       "      <td>high</td>\n",
       "      <td>0</td>\n",
       "      <td>1</td>\n",
       "      <td>10.8349</td>\n",
       "    </tr>\n",
       "    <tr>\n",
       "      <th>1184</th>\n",
       "      <td>西城</td>\n",
       "      <td>2</td>\n",
       "      <td>1</td>\n",
       "      <td>65.76</td>\n",
       "      <td>low</td>\n",
       "      <td>0</td>\n",
       "      <td>0</td>\n",
       "      <td>6.6150</td>\n",
       "    </tr>\n",
       "  </tbody>\n",
       "</table>\n",
       "<p>2400 rows × 8 columns</p>\n",
       "</div>"
      ],
      "text/plain": [
       "      dist  roomnum  halls    AREA floor  subway  school    price\n",
       "1426    东城        1      1   50.86   low       1       1   7.3732\n",
       "8932    东城        3      1   77.72   low       1       1   7.7201\n",
       "9041    东城        1      1   49.64  high       1       1   7.6552\n",
       "13325   东城        1      1   86.00   low       1       0   6.9768\n",
       "11918   东城        1      1   46.80   low       1       0   4.1881\n",
       "...    ...      ...    ...     ...   ...     ...     ...      ...\n",
       "2198    西城        2      1   60.90   low       1       1   8.2923\n",
       "8410    西城        3      1   62.08  high       0       1   7.7320\n",
       "9528    西城        2      1  105.50  high       1       0  11.2607\n",
       "11654   西城        2      1   56.30  high       0       1  10.8349\n",
       "1184    西城        2      1   65.76   low       0       0   6.6150\n",
       "\n",
       "[2400 rows x 8 columns]"
      ]
     },
     "execution_count": 27,
     "metadata": {},
     "output_type": "execute_result"
    }
   ],
   "source": [
    "# 分层抽样:多进行几次，每次结果不同  但是结论是一致的\n",
    "dat01=get_sample(dat0, sampling=\"stratified\", k=400, stratified_col=['dist'])\n",
    "dat01"
   ]
  },
  {
   "cell_type": "code",
   "execution_count": 28,
   "metadata": {},
   "outputs": [
    {
     "name": "stdout",
     "output_type": "stream",
     "text": [
      "dist的P值为：.4f\n",
      "roomnum的P值为：0.4926\n",
      "halls的P值为:0.7153\n",
      "floor的P值为:0.1063\n",
      "subway的P值为:0.0000\n",
      "school的P值为:0.0000\n"
     ]
    }
   ],
   "source": [
    "# 因为自变量都是分类变量，所以进行方差分析\n",
    "import statsmodels.api as sm\n",
    "from statsmodels.formula.api import ols\n",
    "print('dist的P值为：.4f'%sm.stats.anova_lm(ols('price~C(dist)',data=dat01).fit())._values[0][4])\n",
    "print('roomnum的P值为：%.4f'%sm.stats.anova_lm(ols('price~C(roomnum)',data=dat01).fit())._values[0][4])\n",
    "print(\"halls的P值为:%.4f\" %sm.stats.anova_lm(ols('price ~ C(halls)',data=dat01).fit())._values[0][4])#高于0.001->边际显著->暂时考虑\n",
    "print(\"floor的P值为:%.4f\" %sm.stats.anova_lm(ols('price ~ C(floor)',data=dat01).fit())._values[0][4])#高于0.001->边际显著->暂时考虑\n",
    "print(\"subway的P值为:%.4f\" %sm.stats.anova_lm(ols('price ~ C(subway)',data=dat01).fit())._values[0][4])\n",
    "print(\"school的P值为:%.4f\" %sm.stats.anova_lm(ols('price ~ C(school)',data=dat01).fit())._values[0][4])"
   ]
  },
  {
   "cell_type": "code",
   "execution_count": 29,
   "metadata": {},
   "outputs": [
    {
     "name": "stderr",
     "output_type": "stream",
     "text": [
      "<ipython-input-29-fe8c2b985f5c>:3: SettingWithCopyWarning: \n",
      "A value is trying to be set on a copy of a slice from a DataFrame\n",
      "\n",
      "See the caveats in the documentation: https://pandas.pydata.org/pandas-docs/stable/user_guide/indexing.html#returning-a-view-versus-a-copy\n",
      "  dat01.style_new[dat01.style_new>0]='有厅'\n",
      "<ipython-input-29-fe8c2b985f5c>:4: SettingWithCopyWarning: \n",
      "A value is trying to be set on a copy of a slice from a DataFrame\n",
      "\n",
      "See the caveats in the documentation: https://pandas.pydata.org/pandas-docs/stable/user_guide/indexing.html#returning-a-view-versus-a-copy\n",
      "  dat01.style_new[dat01.style_new==0]='无厅'\n"
     ]
    },
    {
     "data": {
      "text/html": [
       "<div>\n",
       "<style scoped>\n",
       "    .dataframe tbody tr th:only-of-type {\n",
       "        vertical-align: middle;\n",
       "    }\n",
       "\n",
       "    .dataframe tbody tr th {\n",
       "        vertical-align: top;\n",
       "    }\n",
       "\n",
       "    .dataframe thead th {\n",
       "        text-align: right;\n",
       "    }\n",
       "</style>\n",
       "<table border=\"1\" class=\"dataframe\">\n",
       "  <thead>\n",
       "    <tr style=\"text-align: right;\">\n",
       "      <th></th>\n",
       "      <th>dist</th>\n",
       "      <th>roomnum</th>\n",
       "      <th>halls</th>\n",
       "      <th>AREA</th>\n",
       "      <th>floor</th>\n",
       "      <th>subway</th>\n",
       "      <th>school</th>\n",
       "      <th>price</th>\n",
       "      <th>style_new</th>\n",
       "    </tr>\n",
       "  </thead>\n",
       "  <tbody>\n",
       "    <tr>\n",
       "      <th>1426</th>\n",
       "      <td>东城</td>\n",
       "      <td>1</td>\n",
       "      <td>1</td>\n",
       "      <td>50.86</td>\n",
       "      <td>low</td>\n",
       "      <td>1</td>\n",
       "      <td>1</td>\n",
       "      <td>7.3732</td>\n",
       "      <td>有厅</td>\n",
       "    </tr>\n",
       "    <tr>\n",
       "      <th>8932</th>\n",
       "      <td>东城</td>\n",
       "      <td>3</td>\n",
       "      <td>1</td>\n",
       "      <td>77.72</td>\n",
       "      <td>low</td>\n",
       "      <td>1</td>\n",
       "      <td>1</td>\n",
       "      <td>7.7201</td>\n",
       "      <td>有厅</td>\n",
       "    </tr>\n",
       "    <tr>\n",
       "      <th>9041</th>\n",
       "      <td>东城</td>\n",
       "      <td>1</td>\n",
       "      <td>1</td>\n",
       "      <td>49.64</td>\n",
       "      <td>high</td>\n",
       "      <td>1</td>\n",
       "      <td>1</td>\n",
       "      <td>7.6552</td>\n",
       "      <td>有厅</td>\n",
       "    </tr>\n",
       "    <tr>\n",
       "      <th>13325</th>\n",
       "      <td>东城</td>\n",
       "      <td>1</td>\n",
       "      <td>1</td>\n",
       "      <td>86.00</td>\n",
       "      <td>low</td>\n",
       "      <td>1</td>\n",
       "      <td>0</td>\n",
       "      <td>6.9768</td>\n",
       "      <td>有厅</td>\n",
       "    </tr>\n",
       "    <tr>\n",
       "      <th>11918</th>\n",
       "      <td>东城</td>\n",
       "      <td>1</td>\n",
       "      <td>1</td>\n",
       "      <td>46.80</td>\n",
       "      <td>low</td>\n",
       "      <td>1</td>\n",
       "      <td>0</td>\n",
       "      <td>4.1881</td>\n",
       "      <td>有厅</td>\n",
       "    </tr>\n",
       "  </tbody>\n",
       "</table>\n",
       "</div>"
      ],
      "text/plain": [
       "      dist  roomnum  halls   AREA floor  subway  school   price style_new\n",
       "1426    东城        1      1  50.86   low       1       1  7.3732        有厅\n",
       "8932    东城        3      1  77.72   low       1       1  7.7201        有厅\n",
       "9041    东城        1      1  49.64  high       1       1  7.6552        有厅\n",
       "13325   东城        1      1  86.00   low       1       0  6.9768        有厅\n",
       "11918   东城        1      1  46.80   low       1       0  4.1881        有厅"
      ]
     },
     "execution_count": 29,
     "metadata": {},
     "output_type": "execute_result"
    }
   ],
   "source": [
    "# 有的变量跳跃性比较大，对其进行编码，如厅的数量影响不大，变为有无厅（0-1变量）===》成为二分类变量\n",
    "dat01['style_new'] = dat01.halls\n",
    "dat01.style_new[dat01.style_new>0]='有厅'\n",
    "dat01.style_new[dat01.style_new==0]='无厅'\n",
    "dat01.head()"
   ]
  },
  {
   "cell_type": "code",
   "execution_count": 30,
   "metadata": {},
   "outputs": [
    {
     "data": {
      "text/html": [
       "<div>\n",
       "<style scoped>\n",
       "    .dataframe tbody tr th:only-of-type {\n",
       "        vertical-align: middle;\n",
       "    }\n",
       "\n",
       "    .dataframe tbody tr th {\n",
       "        vertical-align: top;\n",
       "    }\n",
       "\n",
       "    .dataframe thead th {\n",
       "        text-align: right;\n",
       "    }\n",
       "</style>\n",
       "<table border=\"1\" class=\"dataframe\">\n",
       "  <thead>\n",
       "    <tr style=\"text-align: right;\">\n",
       "      <th></th>\n",
       "      <th>dist_东城</th>\n",
       "      <th>dist_丰台</th>\n",
       "      <th>dist_朝阳</th>\n",
       "      <th>dist_海淀</th>\n",
       "      <th>dist_石景山</th>\n",
       "      <th>dist_西城</th>\n",
       "      <th>floor_high</th>\n",
       "      <th>floor_low</th>\n",
       "      <th>floor_middle</th>\n",
       "    </tr>\n",
       "  </thead>\n",
       "  <tbody>\n",
       "    <tr>\n",
       "      <th>1426</th>\n",
       "      <td>1</td>\n",
       "      <td>0</td>\n",
       "      <td>0</td>\n",
       "      <td>0</td>\n",
       "      <td>0</td>\n",
       "      <td>0</td>\n",
       "      <td>0</td>\n",
       "      <td>1</td>\n",
       "      <td>0</td>\n",
       "    </tr>\n",
       "    <tr>\n",
       "      <th>8932</th>\n",
       "      <td>1</td>\n",
       "      <td>0</td>\n",
       "      <td>0</td>\n",
       "      <td>0</td>\n",
       "      <td>0</td>\n",
       "      <td>0</td>\n",
       "      <td>0</td>\n",
       "      <td>1</td>\n",
       "      <td>0</td>\n",
       "    </tr>\n",
       "    <tr>\n",
       "      <th>9041</th>\n",
       "      <td>1</td>\n",
       "      <td>0</td>\n",
       "      <td>0</td>\n",
       "      <td>0</td>\n",
       "      <td>0</td>\n",
       "      <td>0</td>\n",
       "      <td>1</td>\n",
       "      <td>0</td>\n",
       "      <td>0</td>\n",
       "    </tr>\n",
       "    <tr>\n",
       "      <th>13325</th>\n",
       "      <td>1</td>\n",
       "      <td>0</td>\n",
       "      <td>0</td>\n",
       "      <td>0</td>\n",
       "      <td>0</td>\n",
       "      <td>0</td>\n",
       "      <td>0</td>\n",
       "      <td>1</td>\n",
       "      <td>0</td>\n",
       "    </tr>\n",
       "    <tr>\n",
       "      <th>11918</th>\n",
       "      <td>1</td>\n",
       "      <td>0</td>\n",
       "      <td>0</td>\n",
       "      <td>0</td>\n",
       "      <td>0</td>\n",
       "      <td>0</td>\n",
       "      <td>0</td>\n",
       "      <td>1</td>\n",
       "      <td>0</td>\n",
       "    </tr>\n",
       "  </tbody>\n",
       "</table>\n",
       "</div>"
      ],
      "text/plain": [
       "       dist_东城  dist_丰台  dist_朝阳  dist_海淀  dist_石景山  dist_西城  floor_high  \\\n",
       "1426         1        0        0        0         0        0           0   \n",
       "8932         1        0        0        0         0        0           0   \n",
       "9041         1        0        0        0         0        0           1   \n",
       "13325        1        0        0        0         0        0           0   \n",
       "11918        1        0        0        0         0        0           0   \n",
       "\n",
       "       floor_low  floor_middle  \n",
       "1426           1             0  \n",
       "8932           1             0  \n",
       "9041           0             0  \n",
       "13325          1             0  \n",
       "11918          1             0  "
      ]
     },
     "execution_count": 30,
     "metadata": {},
     "output_type": "execute_result"
    }
   ],
   "source": [
    "# 对于多分类变量：放入模型的时候做一个哑变量编码，并设置基准--完全可以在ols函数中使用C参数来处理虚拟变量\n",
    "datta = pd.get_dummies(dat01[['dist','floor']])\n",
    "datta.head()"
   ]
  },
  {
   "cell_type": "code",
   "execution_count": 31,
   "metadata": {},
   "outputs": [
    {
     "data": {
      "text/html": [
       "<div>\n",
       "<style scoped>\n",
       "    .dataframe tbody tr th:only-of-type {\n",
       "        vertical-align: middle;\n",
       "    }\n",
       "\n",
       "    .dataframe tbody tr th {\n",
       "        vertical-align: top;\n",
       "    }\n",
       "\n",
       "    .dataframe thead th {\n",
       "        text-align: right;\n",
       "    }\n",
       "</style>\n",
       "<table border=\"1\" class=\"dataframe\">\n",
       "  <thead>\n",
       "    <tr style=\"text-align: right;\">\n",
       "      <th></th>\n",
       "      <th>dist_东城</th>\n",
       "      <th>dist_丰台</th>\n",
       "      <th>dist_朝阳</th>\n",
       "      <th>dist_海淀</th>\n",
       "      <th>dist_西城</th>\n",
       "      <th>floor_low</th>\n",
       "      <th>floor_middle</th>\n",
       "    </tr>\n",
       "  </thead>\n",
       "  <tbody>\n",
       "    <tr>\n",
       "      <th>1426</th>\n",
       "      <td>1</td>\n",
       "      <td>0</td>\n",
       "      <td>0</td>\n",
       "      <td>0</td>\n",
       "      <td>0</td>\n",
       "      <td>1</td>\n",
       "      <td>0</td>\n",
       "    </tr>\n",
       "    <tr>\n",
       "      <th>8932</th>\n",
       "      <td>1</td>\n",
       "      <td>0</td>\n",
       "      <td>0</td>\n",
       "      <td>0</td>\n",
       "      <td>0</td>\n",
       "      <td>1</td>\n",
       "      <td>0</td>\n",
       "    </tr>\n",
       "    <tr>\n",
       "      <th>9041</th>\n",
       "      <td>1</td>\n",
       "      <td>0</td>\n",
       "      <td>0</td>\n",
       "      <td>0</td>\n",
       "      <td>0</td>\n",
       "      <td>0</td>\n",
       "      <td>0</td>\n",
       "    </tr>\n",
       "    <tr>\n",
       "      <th>13325</th>\n",
       "      <td>1</td>\n",
       "      <td>0</td>\n",
       "      <td>0</td>\n",
       "      <td>0</td>\n",
       "      <td>0</td>\n",
       "      <td>1</td>\n",
       "      <td>0</td>\n",
       "    </tr>\n",
       "    <tr>\n",
       "      <th>11918</th>\n",
       "      <td>1</td>\n",
       "      <td>0</td>\n",
       "      <td>0</td>\n",
       "      <td>0</td>\n",
       "      <td>0</td>\n",
       "      <td>1</td>\n",
       "      <td>0</td>\n",
       "    </tr>\n",
       "  </tbody>\n",
       "</table>\n",
       "</div>"
      ],
      "text/plain": [
       "       dist_东城  dist_丰台  dist_朝阳  dist_海淀  dist_西城  floor_low  floor_middle\n",
       "1426         1        0        0        0        0          1             0\n",
       "8932         1        0        0        0        0          1             0\n",
       "9041         1        0        0        0        0          0             0\n",
       "13325        1        0        0        0        0          1             0\n",
       "11918        1        0        0        0        0          1             0"
      ]
     },
     "execution_count": 31,
     "metadata": {},
     "output_type": "execute_result"
    }
   ],
   "source": [
    "#这两个是参照组-在线性回归中使用C函数也可以\n",
    "datta.drop(['dist_石景山','floor_high'],axis=1,inplace=True)\n",
    "datta.head()"
   ]
  },
  {
   "cell_type": "code",
   "execution_count": 32,
   "metadata": {},
   "outputs": [
    {
     "data": {
      "text/html": [
       "<div>\n",
       "<style scoped>\n",
       "    .dataframe tbody tr th:only-of-type {\n",
       "        vertical-align: middle;\n",
       "    }\n",
       "\n",
       "    .dataframe tbody tr th {\n",
       "        vertical-align: top;\n",
       "    }\n",
       "\n",
       "    .dataframe thead th {\n",
       "        text-align: right;\n",
       "    }\n",
       "</style>\n",
       "<table border=\"1\" class=\"dataframe\">\n",
       "  <thead>\n",
       "    <tr style=\"text-align: right;\">\n",
       "      <th></th>\n",
       "      <th>dist_东城</th>\n",
       "      <th>dist_丰台</th>\n",
       "      <th>dist_朝阳</th>\n",
       "      <th>dist_海淀</th>\n",
       "      <th>dist_西城</th>\n",
       "      <th>floor_low</th>\n",
       "      <th>floor_middle</th>\n",
       "      <th>school</th>\n",
       "      <th>subway</th>\n",
       "      <th>style_new</th>\n",
       "      <th>roomnum</th>\n",
       "      <th>AREA</th>\n",
       "      <th>price</th>\n",
       "    </tr>\n",
       "  </thead>\n",
       "  <tbody>\n",
       "    <tr>\n",
       "      <th>1426</th>\n",
       "      <td>1</td>\n",
       "      <td>0</td>\n",
       "      <td>0</td>\n",
       "      <td>0</td>\n",
       "      <td>0</td>\n",
       "      <td>1</td>\n",
       "      <td>0</td>\n",
       "      <td>1</td>\n",
       "      <td>1</td>\n",
       "      <td>有厅</td>\n",
       "      <td>1</td>\n",
       "      <td>50.86</td>\n",
       "      <td>7.3732</td>\n",
       "    </tr>\n",
       "    <tr>\n",
       "      <th>8932</th>\n",
       "      <td>1</td>\n",
       "      <td>0</td>\n",
       "      <td>0</td>\n",
       "      <td>0</td>\n",
       "      <td>0</td>\n",
       "      <td>1</td>\n",
       "      <td>0</td>\n",
       "      <td>1</td>\n",
       "      <td>1</td>\n",
       "      <td>有厅</td>\n",
       "      <td>3</td>\n",
       "      <td>77.72</td>\n",
       "      <td>7.7201</td>\n",
       "    </tr>\n",
       "    <tr>\n",
       "      <th>9041</th>\n",
       "      <td>1</td>\n",
       "      <td>0</td>\n",
       "      <td>0</td>\n",
       "      <td>0</td>\n",
       "      <td>0</td>\n",
       "      <td>0</td>\n",
       "      <td>0</td>\n",
       "      <td>1</td>\n",
       "      <td>1</td>\n",
       "      <td>有厅</td>\n",
       "      <td>1</td>\n",
       "      <td>49.64</td>\n",
       "      <td>7.6552</td>\n",
       "    </tr>\n",
       "    <tr>\n",
       "      <th>13325</th>\n",
       "      <td>1</td>\n",
       "      <td>0</td>\n",
       "      <td>0</td>\n",
       "      <td>0</td>\n",
       "      <td>0</td>\n",
       "      <td>1</td>\n",
       "      <td>0</td>\n",
       "      <td>0</td>\n",
       "      <td>1</td>\n",
       "      <td>有厅</td>\n",
       "      <td>1</td>\n",
       "      <td>86.00</td>\n",
       "      <td>6.9768</td>\n",
       "    </tr>\n",
       "    <tr>\n",
       "      <th>11918</th>\n",
       "      <td>1</td>\n",
       "      <td>0</td>\n",
       "      <td>0</td>\n",
       "      <td>0</td>\n",
       "      <td>0</td>\n",
       "      <td>1</td>\n",
       "      <td>0</td>\n",
       "      <td>0</td>\n",
       "      <td>1</td>\n",
       "      <td>有厅</td>\n",
       "      <td>1</td>\n",
       "      <td>46.80</td>\n",
       "      <td>4.1881</td>\n",
       "    </tr>\n",
       "  </tbody>\n",
       "</table>\n",
       "</div>"
      ],
      "text/plain": [
       "       dist_东城  dist_丰台  dist_朝阳  dist_海淀  dist_西城  floor_low  floor_middle  \\\n",
       "1426         1        0        0        0        0          1             0   \n",
       "8932         1        0        0        0        0          1             0   \n",
       "9041         1        0        0        0        0          0             0   \n",
       "13325        1        0        0        0        0          1             0   \n",
       "11918        1        0        0        0        0          1             0   \n",
       "\n",
       "       school  subway style_new  roomnum   AREA   price  \n",
       "1426        1       1        有厅        1  50.86  7.3732  \n",
       "8932        1       1        有厅        3  77.72  7.7201  \n",
       "9041        1       1        有厅        1  49.64  7.6552  \n",
       "13325       0       1        有厅        1  86.00  6.9768  \n",
       "11918       0       1        有厅        1  46.80  4.1881  "
      ]
     },
     "execution_count": 32,
     "metadata": {},
     "output_type": "execute_result"
    }
   ],
   "source": [
    "#生成的哑变量与其他所需变量合并成新的数据框\n",
    "dat1 = pd.concat([datta,dat01[['school','subway','style_new','roomnum','AREA','price']]],axis=1)\n",
    "dat1.head()"
   ]
  },
  {
   "cell_type": "markdown",
   "metadata": {},
   "source": [
    "# 线性回归模型"
   ]
  },
  {
   "cell_type": "code",
   "execution_count": 33,
   "metadata": {},
   "outputs": [
    {
     "data": {
      "text/html": [
       "<table class=\"simpletable\">\n",
       "<caption>OLS Regression Results</caption>\n",
       "<tr>\n",
       "  <th>Dep. Variable:</th>          <td>price</td>      <th>  R-squared:         </th> <td>   0.590</td>\n",
       "</tr>\n",
       "<tr>\n",
       "  <th>Model:</th>                   <td>OLS</td>       <th>  Adj. R-squared:    </th> <td>   0.589</td>\n",
       "</tr>\n",
       "<tr>\n",
       "  <th>Method:</th>             <td>Least Squares</td>  <th>  F-statistic:       </th> <td>   344.2</td>\n",
       "</tr>\n",
       "<tr>\n",
       "  <th>Date:</th>             <td>Wed, 03 Nov 2021</td> <th>  Prob (F-statistic):</th>  <td>  0.00</td> \n",
       "</tr>\n",
       "<tr>\n",
       "  <th>Time:</th>                 <td>17:01:19</td>     <th>  Log-Likelihood:    </th> <td> -4284.3</td>\n",
       "</tr>\n",
       "<tr>\n",
       "  <th>No. Observations:</th>      <td>  2400</td>      <th>  AIC:               </th> <td>   8591.</td>\n",
       "</tr>\n",
       "<tr>\n",
       "  <th>Df Residuals:</th>          <td>  2389</td>      <th>  BIC:               </th> <td>   8654.</td>\n",
       "</tr>\n",
       "<tr>\n",
       "  <th>Df Model:</th>              <td>    10</td>      <th>                     </th>     <td> </td>   \n",
       "</tr>\n",
       "<tr>\n",
       "  <th>Covariance Type:</th>      <td>nonrobust</td>    <th>                     </th>     <td> </td>   \n",
       "</tr>\n",
       "</table>\n",
       "<table class=\"simpletable\">\n",
       "<tr>\n",
       "        <td></td>          <th>coef</th>     <th>std err</th>      <th>t</th>      <th>P>|t|</th>  <th>[0.025</th>    <th>0.975]</th>  \n",
       "</tr>\n",
       "<tr>\n",
       "  <th>Intercept</th>    <td>    3.5637</td> <td>    0.112</td> <td>   31.800</td> <td> 0.000</td> <td>    3.344</td> <td>    3.784</td>\n",
       "</tr>\n",
       "<tr>\n",
       "  <th>dist_丰台</th>      <td>    0.1121</td> <td>    0.104</td> <td>    1.083</td> <td> 0.279</td> <td>   -0.091</td> <td>    0.315</td>\n",
       "</tr>\n",
       "<tr>\n",
       "  <th>dist_朝阳</th>      <td>    0.9058</td> <td>    0.108</td> <td>    8.402</td> <td> 0.000</td> <td>    0.694</td> <td>    1.117</td>\n",
       "</tr>\n",
       "<tr>\n",
       "  <th>dist_东城</th>      <td>    2.3271</td> <td>    0.110</td> <td>   21.080</td> <td> 0.000</td> <td>    2.111</td> <td>    2.544</td>\n",
       "</tr>\n",
       "<tr>\n",
       "  <th>dist_海淀</th>      <td>    2.1946</td> <td>    0.109</td> <td>   20.051</td> <td> 0.000</td> <td>    1.980</td> <td>    2.409</td>\n",
       "</tr>\n",
       "<tr>\n",
       "  <th>dist_西城</th>      <td>    3.7802</td> <td>    0.113</td> <td>   33.308</td> <td> 0.000</td> <td>    3.558</td> <td>    4.003</td>\n",
       "</tr>\n",
       "<tr>\n",
       "  <th>school</th>       <td>    1.1504</td> <td>    0.075</td> <td>   15.383</td> <td> 0.000</td> <td>    1.004</td> <td>    1.297</td>\n",
       "</tr>\n",
       "<tr>\n",
       "  <th>subway</th>       <td>    0.6145</td> <td>    0.081</td> <td>    7.563</td> <td> 0.000</td> <td>    0.455</td> <td>    0.774</td>\n",
       "</tr>\n",
       "<tr>\n",
       "  <th>floor_middle</th> <td>    0.1980</td> <td>    0.071</td> <td>    2.805</td> <td> 0.005</td> <td>    0.060</td> <td>    0.336</td>\n",
       "</tr>\n",
       "<tr>\n",
       "  <th>floor_low</th>    <td>    0.2128</td> <td>    0.073</td> <td>    2.916</td> <td> 0.004</td> <td>    0.070</td> <td>    0.356</td>\n",
       "</tr>\n",
       "<tr>\n",
       "  <th>AREA</th>         <td>   -0.0003</td> <td>    0.001</td> <td>   -0.450</td> <td> 0.653</td> <td>   -0.002</td> <td>    0.001</td>\n",
       "</tr>\n",
       "</table>\n",
       "<table class=\"simpletable\">\n",
       "<tr>\n",
       "  <th>Omnibus:</th>       <td>169.266</td> <th>  Durbin-Watson:     </th> <td>   1.990</td>\n",
       "</tr>\n",
       "<tr>\n",
       "  <th>Prob(Omnibus):</th> <td> 0.000</td>  <th>  Jarque-Bera (JB):  </th> <td> 274.378</td>\n",
       "</tr>\n",
       "<tr>\n",
       "  <th>Skew:</th>          <td> 0.542</td>  <th>  Prob(JB):          </th> <td>2.63e-60</td>\n",
       "</tr>\n",
       "<tr>\n",
       "  <th>Kurtosis:</th>      <td> 4.252</td>  <th>  Cond. No.          </th> <td>    691.</td>\n",
       "</tr>\n",
       "</table><br/><br/>Notes:<br/>[1] Standard Errors assume that the covariance matrix of the errors is correctly specified."
      ],
      "text/plain": [
       "<class 'statsmodels.iolib.summary.Summary'>\n",
       "\"\"\"\n",
       "                            OLS Regression Results                            \n",
       "==============================================================================\n",
       "Dep. Variable:                  price   R-squared:                       0.590\n",
       "Model:                            OLS   Adj. R-squared:                  0.589\n",
       "Method:                 Least Squares   F-statistic:                     344.2\n",
       "Date:                Wed, 03 Nov 2021   Prob (F-statistic):               0.00\n",
       "Time:                        17:01:19   Log-Likelihood:                -4284.3\n",
       "No. Observations:                2400   AIC:                             8591.\n",
       "Df Residuals:                    2389   BIC:                             8654.\n",
       "Df Model:                          10                                         \n",
       "Covariance Type:            nonrobust                                         \n",
       "================================================================================\n",
       "                   coef    std err          t      P>|t|      [0.025      0.975]\n",
       "--------------------------------------------------------------------------------\n",
       "Intercept        3.5637      0.112     31.800      0.000       3.344       3.784\n",
       "dist_丰台          0.1121      0.104      1.083      0.279      -0.091       0.315\n",
       "dist_朝阳          0.9058      0.108      8.402      0.000       0.694       1.117\n",
       "dist_东城          2.3271      0.110     21.080      0.000       2.111       2.544\n",
       "dist_海淀          2.1946      0.109     20.051      0.000       1.980       2.409\n",
       "dist_西城          3.7802      0.113     33.308      0.000       3.558       4.003\n",
       "school           1.1504      0.075     15.383      0.000       1.004       1.297\n",
       "subway           0.6145      0.081      7.563      0.000       0.455       0.774\n",
       "floor_middle     0.1980      0.071      2.805      0.005       0.060       0.336\n",
       "floor_low        0.2128      0.073      2.916      0.004       0.070       0.356\n",
       "AREA            -0.0003      0.001     -0.450      0.653      -0.002       0.001\n",
       "==============================================================================\n",
       "Omnibus:                      169.266   Durbin-Watson:                   1.990\n",
       "Prob(Omnibus):                  0.000   Jarque-Bera (JB):              274.378\n",
       "Skew:                           0.542   Prob(JB):                     2.63e-60\n",
       "Kurtosis:                       4.252   Cond. No.                         691.\n",
       "==============================================================================\n",
       "\n",
       "Notes:\n",
       "[1] Standard Errors assume that the covariance matrix of the errors is correctly specified.\n",
       "\"\"\""
      ]
     },
     "execution_count": 33,
     "metadata": {},
     "output_type": "execute_result"
    }
   ],
   "source": [
    "#OLS:回归不带截距项的（不常用），ols:是常用的\n",
    "from statsmodels.formula.api import ols\n",
    "lm1 = ols('price ~ dist_丰台+dist_朝阳+dist_东城+dist_海淀+dist_西城+school+subway+floor_middle+floor_low+AREA',\n",
    "         data=dat1).fit()\n",
    "'''\n",
    "ols的y必须是连续变量，x可以是连续的或者分类的，若x为分类变量，\n",
    "可以用C（）代替建立哑变量\n",
    "'''\n",
    "\n",
    "\n",
    "lm1_summary= lm1.summary()\n",
    "lm1_summary  #回归结果显示"
   ]
  },
  {
   "cell_type": "code",
   "execution_count": null,
   "metadata": {},
   "outputs": [],
   "source": []
  },
  {
   "cell_type": "code",
   "execution_count": 34,
   "metadata": {},
   "outputs": [
    {
     "data": {
      "text/html": [
       "<table class=\"simpletable\">\n",
       "<caption>OLS Regression Results</caption>\n",
       "<tr>\n",
       "  <th>Dep. Variable:</th>          <td>price</td>      <th>  R-squared:         </th> <td>   0.590</td>\n",
       "</tr>\n",
       "<tr>\n",
       "  <th>Model:</th>                   <td>OLS</td>       <th>  Adj. R-squared:    </th> <td>   0.589</td>\n",
       "</tr>\n",
       "<tr>\n",
       "  <th>Method:</th>             <td>Least Squares</td>  <th>  F-statistic:       </th> <td>   344.2</td>\n",
       "</tr>\n",
       "<tr>\n",
       "  <th>Date:</th>             <td>Wed, 03 Nov 2021</td> <th>  Prob (F-statistic):</th>  <td>  0.00</td> \n",
       "</tr>\n",
       "<tr>\n",
       "  <th>Time:</th>                 <td>17:01:24</td>     <th>  Log-Likelihood:    </th> <td> -4284.3</td>\n",
       "</tr>\n",
       "<tr>\n",
       "  <th>No. Observations:</th>      <td>  2400</td>      <th>  AIC:               </th> <td>   8591.</td>\n",
       "</tr>\n",
       "<tr>\n",
       "  <th>Df Residuals:</th>          <td>  2389</td>      <th>  BIC:               </th> <td>   8654.</td>\n",
       "</tr>\n",
       "<tr>\n",
       "  <th>Df Model:</th>              <td>    10</td>      <th>                     </th>     <td> </td>   \n",
       "</tr>\n",
       "<tr>\n",
       "  <th>Covariance Type:</th>      <td>nonrobust</td>    <th>                     </th>     <td> </td>   \n",
       "</tr>\n",
       "</table>\n",
       "<table class=\"simpletable\">\n",
       "<tr>\n",
       "           <td></td>             <th>coef</th>     <th>std err</th>      <th>t</th>      <th>P>|t|</th>  <th>[0.025</th>    <th>0.975]</th>  \n",
       "</tr>\n",
       "<tr>\n",
       "  <th>Intercept</th>          <td>    5.8908</td> <td>    0.134</td> <td>   43.821</td> <td> 0.000</td> <td>    5.627</td> <td>    6.154</td>\n",
       "</tr>\n",
       "<tr>\n",
       "  <th>C(dist)[T.丰台]</th>      <td>   -2.2150</td> <td>    0.107</td> <td>  -20.693</td> <td> 0.000</td> <td>   -2.425</td> <td>   -2.005</td>\n",
       "</tr>\n",
       "<tr>\n",
       "  <th>C(dist)[T.朝阳]</th>      <td>   -1.4213</td> <td>    0.105</td> <td>  -13.596</td> <td> 0.000</td> <td>   -1.626</td> <td>   -1.216</td>\n",
       "</tr>\n",
       "<tr>\n",
       "  <th>C(dist)[T.海淀]</th>      <td>   -0.1325</td> <td>    0.103</td> <td>   -1.285</td> <td> 0.199</td> <td>   -0.335</td> <td>    0.070</td>\n",
       "</tr>\n",
       "<tr>\n",
       "  <th>C(dist)[T.石景山]</th>     <td>   -2.3271</td> <td>    0.110</td> <td>  -21.080</td> <td> 0.000</td> <td>   -2.544</td> <td>   -2.111</td>\n",
       "</tr>\n",
       "<tr>\n",
       "  <th>C(dist)[T.西城]</th>      <td>    1.4531</td> <td>    0.103</td> <td>   14.057</td> <td> 0.000</td> <td>    1.250</td> <td>    1.656</td>\n",
       "</tr>\n",
       "<tr>\n",
       "  <th>C(floor)[T.low]</th>    <td>    0.2128</td> <td>    0.073</td> <td>    2.916</td> <td> 0.004</td> <td>    0.070</td> <td>    0.356</td>\n",
       "</tr>\n",
       "<tr>\n",
       "  <th>C(floor)[T.middle]</th> <td>    0.1980</td> <td>    0.071</td> <td>    2.805</td> <td> 0.005</td> <td>    0.060</td> <td>    0.336</td>\n",
       "</tr>\n",
       "<tr>\n",
       "  <th>school</th>             <td>    1.1504</td> <td>    0.075</td> <td>   15.383</td> <td> 0.000</td> <td>    1.004</td> <td>    1.297</td>\n",
       "</tr>\n",
       "<tr>\n",
       "  <th>subway</th>             <td>    0.6145</td> <td>    0.081</td> <td>    7.563</td> <td> 0.000</td> <td>    0.455</td> <td>    0.774</td>\n",
       "</tr>\n",
       "<tr>\n",
       "  <th>AREA</th>               <td>   -0.0003</td> <td>    0.001</td> <td>   -0.450</td> <td> 0.653</td> <td>   -0.002</td> <td>    0.001</td>\n",
       "</tr>\n",
       "</table>\n",
       "<table class=\"simpletable\">\n",
       "<tr>\n",
       "  <th>Omnibus:</th>       <td>169.266</td> <th>  Durbin-Watson:     </th> <td>   1.990</td>\n",
       "</tr>\n",
       "<tr>\n",
       "  <th>Prob(Omnibus):</th> <td> 0.000</td>  <th>  Jarque-Bera (JB):  </th> <td> 274.378</td>\n",
       "</tr>\n",
       "<tr>\n",
       "  <th>Skew:</th>          <td> 0.542</td>  <th>  Prob(JB):          </th> <td>2.63e-60</td>\n",
       "</tr>\n",
       "<tr>\n",
       "  <th>Kurtosis:</th>      <td> 4.252</td>  <th>  Cond. No.          </th> <td>    717.</td>\n",
       "</tr>\n",
       "</table><br/><br/>Notes:<br/>[1] Standard Errors assume that the covariance matrix of the errors is correctly specified."
      ],
      "text/plain": [
       "<class 'statsmodels.iolib.summary.Summary'>\n",
       "\"\"\"\n",
       "                            OLS Regression Results                            \n",
       "==============================================================================\n",
       "Dep. Variable:                  price   R-squared:                       0.590\n",
       "Model:                            OLS   Adj. R-squared:                  0.589\n",
       "Method:                 Least Squares   F-statistic:                     344.2\n",
       "Date:                Wed, 03 Nov 2021   Prob (F-statistic):               0.00\n",
       "Time:                        17:01:24   Log-Likelihood:                -4284.3\n",
       "No. Observations:                2400   AIC:                             8591.\n",
       "Df Residuals:                    2389   BIC:                             8654.\n",
       "Df Model:                          10                                         \n",
       "Covariance Type:            nonrobust                                         \n",
       "======================================================================================\n",
       "                         coef    std err          t      P>|t|      [0.025      0.975]\n",
       "--------------------------------------------------------------------------------------\n",
       "Intercept              5.8908      0.134     43.821      0.000       5.627       6.154\n",
       "C(dist)[T.丰台]         -2.2150      0.107    -20.693      0.000      -2.425      -2.005\n",
       "C(dist)[T.朝阳]         -1.4213      0.105    -13.596      0.000      -1.626      -1.216\n",
       "C(dist)[T.海淀]         -0.1325      0.103     -1.285      0.199      -0.335       0.070\n",
       "C(dist)[T.石景山]        -2.3271      0.110    -21.080      0.000      -2.544      -2.111\n",
       "C(dist)[T.西城]          1.4531      0.103     14.057      0.000       1.250       1.656\n",
       "C(floor)[T.low]        0.2128      0.073      2.916      0.004       0.070       0.356\n",
       "C(floor)[T.middle]     0.1980      0.071      2.805      0.005       0.060       0.336\n",
       "school                 1.1504      0.075     15.383      0.000       1.004       1.297\n",
       "subway                 0.6145      0.081      7.563      0.000       0.455       0.774\n",
       "AREA                  -0.0003      0.001     -0.450      0.653      -0.002       0.001\n",
       "==============================================================================\n",
       "Omnibus:                      169.266   Durbin-Watson:                   1.990\n",
       "Prob(Omnibus):                  0.000   Jarque-Bera (JB):              274.378\n",
       "Skew:                           0.542   Prob(JB):                     2.63e-60\n",
       "Kurtosis:                       4.252   Cond. No.                         717.\n",
       "==============================================================================\n",
       "\n",
       "Notes:\n",
       "[1] Standard Errors assume that the covariance matrix of the errors is correctly specified.\n",
       "\"\"\""
      ]
     },
     "execution_count": 34,
     "metadata": {},
     "output_type": "execute_result"
    }
   ],
   "source": [
    "lm1 = ols(\"price ~ C(dist)+school+subway+C(floor)+AREA\", data=dat01).fit()\n",
    "lm1_summary = lm1.summary()\n",
    "lm1_summary  #回归结果展示"
   ]
  },
  {
   "cell_type": "code",
   "execution_count": null,
   "metadata": {},
   "outputs": [],
   "source": [
    "· 由于之前做散点图时（连续变量分析时），要对Y取对数；\n",
    "· Y本身的分布的时候（因变量分析时），要对Y取对数"
   ]
  },
  {
   "cell_type": "code",
   "execution_count": null,
   "metadata": {},
   "outputs": [],
   "source": [
    "· 理论依据：根据模型做了个预测，看模型的残差。"
   ]
  },
  {
   "cell_type": "code",
   "execution_count": 35,
   "metadata": {},
   "outputs": [
    {
     "data": {
      "text/html": [
       "<div>\n",
       "<style scoped>\n",
       "    .dataframe tbody tr th:only-of-type {\n",
       "        vertical-align: middle;\n",
       "    }\n",
       "\n",
       "    .dataframe tbody tr th {\n",
       "        vertical-align: top;\n",
       "    }\n",
       "\n",
       "    .dataframe thead th {\n",
       "        text-align: right;\n",
       "    }\n",
       "</style>\n",
       "<table border=\"1\" class=\"dataframe\">\n",
       "  <thead>\n",
       "    <tr style=\"text-align: right;\">\n",
       "      <th></th>\n",
       "      <th>dist_东城</th>\n",
       "      <th>dist_丰台</th>\n",
       "      <th>dist_朝阳</th>\n",
       "      <th>dist_海淀</th>\n",
       "      <th>dist_西城</th>\n",
       "      <th>floor_low</th>\n",
       "      <th>floor_middle</th>\n",
       "      <th>school</th>\n",
       "      <th>subway</th>\n",
       "      <th>style_new</th>\n",
       "      <th>roomnum</th>\n",
       "      <th>AREA</th>\n",
       "      <th>price</th>\n",
       "    </tr>\n",
       "  </thead>\n",
       "  <tbody>\n",
       "    <tr>\n",
       "      <th>1426</th>\n",
       "      <td>1</td>\n",
       "      <td>0</td>\n",
       "      <td>0</td>\n",
       "      <td>0</td>\n",
       "      <td>0</td>\n",
       "      <td>1</td>\n",
       "      <td>0</td>\n",
       "      <td>1</td>\n",
       "      <td>1</td>\n",
       "      <td>有厅</td>\n",
       "      <td>1</td>\n",
       "      <td>50.86</td>\n",
       "      <td>7.3732</td>\n",
       "    </tr>\n",
       "    <tr>\n",
       "      <th>8932</th>\n",
       "      <td>1</td>\n",
       "      <td>0</td>\n",
       "      <td>0</td>\n",
       "      <td>0</td>\n",
       "      <td>0</td>\n",
       "      <td>1</td>\n",
       "      <td>0</td>\n",
       "      <td>1</td>\n",
       "      <td>1</td>\n",
       "      <td>有厅</td>\n",
       "      <td>3</td>\n",
       "      <td>77.72</td>\n",
       "      <td>7.7201</td>\n",
       "    </tr>\n",
       "    <tr>\n",
       "      <th>9041</th>\n",
       "      <td>1</td>\n",
       "      <td>0</td>\n",
       "      <td>0</td>\n",
       "      <td>0</td>\n",
       "      <td>0</td>\n",
       "      <td>0</td>\n",
       "      <td>0</td>\n",
       "      <td>1</td>\n",
       "      <td>1</td>\n",
       "      <td>有厅</td>\n",
       "      <td>1</td>\n",
       "      <td>49.64</td>\n",
       "      <td>7.6552</td>\n",
       "    </tr>\n",
       "    <tr>\n",
       "      <th>13325</th>\n",
       "      <td>1</td>\n",
       "      <td>0</td>\n",
       "      <td>0</td>\n",
       "      <td>0</td>\n",
       "      <td>0</td>\n",
       "      <td>1</td>\n",
       "      <td>0</td>\n",
       "      <td>0</td>\n",
       "      <td>1</td>\n",
       "      <td>有厅</td>\n",
       "      <td>1</td>\n",
       "      <td>86.00</td>\n",
       "      <td>6.9768</td>\n",
       "    </tr>\n",
       "    <tr>\n",
       "      <th>11918</th>\n",
       "      <td>1</td>\n",
       "      <td>0</td>\n",
       "      <td>0</td>\n",
       "      <td>0</td>\n",
       "      <td>0</td>\n",
       "      <td>1</td>\n",
       "      <td>0</td>\n",
       "      <td>0</td>\n",
       "      <td>1</td>\n",
       "      <td>有厅</td>\n",
       "      <td>1</td>\n",
       "      <td>46.80</td>\n",
       "      <td>4.1881</td>\n",
       "    </tr>\n",
       "    <tr>\n",
       "      <th>...</th>\n",
       "      <td>...</td>\n",
       "      <td>...</td>\n",
       "      <td>...</td>\n",
       "      <td>...</td>\n",
       "      <td>...</td>\n",
       "      <td>...</td>\n",
       "      <td>...</td>\n",
       "      <td>...</td>\n",
       "      <td>...</td>\n",
       "      <td>...</td>\n",
       "      <td>...</td>\n",
       "      <td>...</td>\n",
       "      <td>...</td>\n",
       "    </tr>\n",
       "    <tr>\n",
       "      <th>2198</th>\n",
       "      <td>0</td>\n",
       "      <td>0</td>\n",
       "      <td>0</td>\n",
       "      <td>0</td>\n",
       "      <td>1</td>\n",
       "      <td>1</td>\n",
       "      <td>0</td>\n",
       "      <td>1</td>\n",
       "      <td>1</td>\n",
       "      <td>有厅</td>\n",
       "      <td>2</td>\n",
       "      <td>60.90</td>\n",
       "      <td>8.2923</td>\n",
       "    </tr>\n",
       "    <tr>\n",
       "      <th>8410</th>\n",
       "      <td>0</td>\n",
       "      <td>0</td>\n",
       "      <td>0</td>\n",
       "      <td>0</td>\n",
       "      <td>1</td>\n",
       "      <td>0</td>\n",
       "      <td>0</td>\n",
       "      <td>1</td>\n",
       "      <td>0</td>\n",
       "      <td>有厅</td>\n",
       "      <td>3</td>\n",
       "      <td>62.08</td>\n",
       "      <td>7.7320</td>\n",
       "    </tr>\n",
       "    <tr>\n",
       "      <th>9528</th>\n",
       "      <td>0</td>\n",
       "      <td>0</td>\n",
       "      <td>0</td>\n",
       "      <td>0</td>\n",
       "      <td>1</td>\n",
       "      <td>0</td>\n",
       "      <td>0</td>\n",
       "      <td>0</td>\n",
       "      <td>1</td>\n",
       "      <td>有厅</td>\n",
       "      <td>2</td>\n",
       "      <td>105.50</td>\n",
       "      <td>11.2607</td>\n",
       "    </tr>\n",
       "    <tr>\n",
       "      <th>11654</th>\n",
       "      <td>0</td>\n",
       "      <td>0</td>\n",
       "      <td>0</td>\n",
       "      <td>0</td>\n",
       "      <td>1</td>\n",
       "      <td>0</td>\n",
       "      <td>0</td>\n",
       "      <td>1</td>\n",
       "      <td>0</td>\n",
       "      <td>有厅</td>\n",
       "      <td>2</td>\n",
       "      <td>56.30</td>\n",
       "      <td>10.8349</td>\n",
       "    </tr>\n",
       "    <tr>\n",
       "      <th>1184</th>\n",
       "      <td>0</td>\n",
       "      <td>0</td>\n",
       "      <td>0</td>\n",
       "      <td>0</td>\n",
       "      <td>1</td>\n",
       "      <td>1</td>\n",
       "      <td>0</td>\n",
       "      <td>0</td>\n",
       "      <td>0</td>\n",
       "      <td>有厅</td>\n",
       "      <td>2</td>\n",
       "      <td>65.76</td>\n",
       "      <td>6.6150</td>\n",
       "    </tr>\n",
       "  </tbody>\n",
       "</table>\n",
       "<p>2400 rows × 13 columns</p>\n",
       "</div>"
      ],
      "text/plain": [
       "       dist_东城  dist_丰台  dist_朝阳  dist_海淀  dist_西城  floor_low  floor_middle  \\\n",
       "1426         1        0        0        0        0          1             0   \n",
       "8932         1        0        0        0        0          1             0   \n",
       "9041         1        0        0        0        0          0             0   \n",
       "13325        1        0        0        0        0          1             0   \n",
       "11918        1        0        0        0        0          1             0   \n",
       "...        ...      ...      ...      ...      ...        ...           ...   \n",
       "2198         0        0        0        0        1          1             0   \n",
       "8410         0        0        0        0        1          0             0   \n",
       "9528         0        0        0        0        1          0             0   \n",
       "11654        0        0        0        0        1          0             0   \n",
       "1184         0        0        0        0        1          1             0   \n",
       "\n",
       "       school  subway style_new  roomnum    AREA    price  \n",
       "1426        1       1        有厅        1   50.86   7.3732  \n",
       "8932        1       1        有厅        3   77.72   7.7201  \n",
       "9041        1       1        有厅        1   49.64   7.6552  \n",
       "13325       0       1        有厅        1   86.00   6.9768  \n",
       "11918       0       1        有厅        1   46.80   4.1881  \n",
       "...       ...     ...       ...      ...     ...      ...  \n",
       "2198        1       1        有厅        2   60.90   8.2923  \n",
       "8410        1       0        有厅        3   62.08   7.7320  \n",
       "9528        0       1        有厅        2  105.50  11.2607  \n",
       "11654       1       0        有厅        2   56.30  10.8349  \n",
       "1184        0       0        有厅        2   65.76   6.6150  \n",
       "\n",
       "[2400 rows x 13 columns]"
      ]
     },
     "execution_count": 35,
     "metadata": {},
     "output_type": "execute_result"
    }
   ],
   "source": [
    "dat1"
   ]
  },
  {
   "cell_type": "code",
   "execution_count": 36,
   "metadata": {},
   "outputs": [
    {
     "data": {
      "text/html": [
       "<div>\n",
       "<style scoped>\n",
       "    .dataframe tbody tr th:only-of-type {\n",
       "        vertical-align: middle;\n",
       "    }\n",
       "\n",
       "    .dataframe tbody tr th {\n",
       "        vertical-align: top;\n",
       "    }\n",
       "\n",
       "    .dataframe thead th {\n",
       "        text-align: right;\n",
       "    }\n",
       "</style>\n",
       "<table border=\"1\" class=\"dataframe\">\n",
       "  <thead>\n",
       "    <tr style=\"text-align: right;\">\n",
       "      <th></th>\n",
       "      <th>dist</th>\n",
       "      <th>roomnum</th>\n",
       "      <th>halls</th>\n",
       "      <th>AREA</th>\n",
       "      <th>floor</th>\n",
       "      <th>subway</th>\n",
       "      <th>school</th>\n",
       "      <th>price</th>\n",
       "      <th>style_new</th>\n",
       "    </tr>\n",
       "  </thead>\n",
       "  <tbody>\n",
       "    <tr>\n",
       "      <th>1426</th>\n",
       "      <td>东城</td>\n",
       "      <td>1</td>\n",
       "      <td>1</td>\n",
       "      <td>50.86</td>\n",
       "      <td>low</td>\n",
       "      <td>1</td>\n",
       "      <td>1</td>\n",
       "      <td>7.3732</td>\n",
       "      <td>有厅</td>\n",
       "    </tr>\n",
       "    <tr>\n",
       "      <th>8932</th>\n",
       "      <td>东城</td>\n",
       "      <td>3</td>\n",
       "      <td>1</td>\n",
       "      <td>77.72</td>\n",
       "      <td>low</td>\n",
       "      <td>1</td>\n",
       "      <td>1</td>\n",
       "      <td>7.7201</td>\n",
       "      <td>有厅</td>\n",
       "    </tr>\n",
       "    <tr>\n",
       "      <th>9041</th>\n",
       "      <td>东城</td>\n",
       "      <td>1</td>\n",
       "      <td>1</td>\n",
       "      <td>49.64</td>\n",
       "      <td>high</td>\n",
       "      <td>1</td>\n",
       "      <td>1</td>\n",
       "      <td>7.6552</td>\n",
       "      <td>有厅</td>\n",
       "    </tr>\n",
       "    <tr>\n",
       "      <th>13325</th>\n",
       "      <td>东城</td>\n",
       "      <td>1</td>\n",
       "      <td>1</td>\n",
       "      <td>86.00</td>\n",
       "      <td>low</td>\n",
       "      <td>1</td>\n",
       "      <td>0</td>\n",
       "      <td>6.9768</td>\n",
       "      <td>有厅</td>\n",
       "    </tr>\n",
       "    <tr>\n",
       "      <th>11918</th>\n",
       "      <td>东城</td>\n",
       "      <td>1</td>\n",
       "      <td>1</td>\n",
       "      <td>46.80</td>\n",
       "      <td>low</td>\n",
       "      <td>1</td>\n",
       "      <td>0</td>\n",
       "      <td>4.1881</td>\n",
       "      <td>有厅</td>\n",
       "    </tr>\n",
       "    <tr>\n",
       "      <th>...</th>\n",
       "      <td>...</td>\n",
       "      <td>...</td>\n",
       "      <td>...</td>\n",
       "      <td>...</td>\n",
       "      <td>...</td>\n",
       "      <td>...</td>\n",
       "      <td>...</td>\n",
       "      <td>...</td>\n",
       "      <td>...</td>\n",
       "    </tr>\n",
       "    <tr>\n",
       "      <th>2198</th>\n",
       "      <td>西城</td>\n",
       "      <td>2</td>\n",
       "      <td>1</td>\n",
       "      <td>60.90</td>\n",
       "      <td>low</td>\n",
       "      <td>1</td>\n",
       "      <td>1</td>\n",
       "      <td>8.2923</td>\n",
       "      <td>有厅</td>\n",
       "    </tr>\n",
       "    <tr>\n",
       "      <th>8410</th>\n",
       "      <td>西城</td>\n",
       "      <td>3</td>\n",
       "      <td>1</td>\n",
       "      <td>62.08</td>\n",
       "      <td>high</td>\n",
       "      <td>0</td>\n",
       "      <td>1</td>\n",
       "      <td>7.7320</td>\n",
       "      <td>有厅</td>\n",
       "    </tr>\n",
       "    <tr>\n",
       "      <th>9528</th>\n",
       "      <td>西城</td>\n",
       "      <td>2</td>\n",
       "      <td>1</td>\n",
       "      <td>105.50</td>\n",
       "      <td>high</td>\n",
       "      <td>1</td>\n",
       "      <td>0</td>\n",
       "      <td>11.2607</td>\n",
       "      <td>有厅</td>\n",
       "    </tr>\n",
       "    <tr>\n",
       "      <th>11654</th>\n",
       "      <td>西城</td>\n",
       "      <td>2</td>\n",
       "      <td>1</td>\n",
       "      <td>56.30</td>\n",
       "      <td>high</td>\n",
       "      <td>0</td>\n",
       "      <td>1</td>\n",
       "      <td>10.8349</td>\n",
       "      <td>有厅</td>\n",
       "    </tr>\n",
       "    <tr>\n",
       "      <th>1184</th>\n",
       "      <td>西城</td>\n",
       "      <td>2</td>\n",
       "      <td>1</td>\n",
       "      <td>65.76</td>\n",
       "      <td>low</td>\n",
       "      <td>0</td>\n",
       "      <td>0</td>\n",
       "      <td>6.6150</td>\n",
       "      <td>有厅</td>\n",
       "    </tr>\n",
       "  </tbody>\n",
       "</table>\n",
       "<p>2400 rows × 9 columns</p>\n",
       "</div>"
      ],
      "text/plain": [
       "      dist  roomnum  halls    AREA floor  subway  school    price style_new\n",
       "1426    东城        1      1   50.86   low       1       1   7.3732        有厅\n",
       "8932    东城        3      1   77.72   low       1       1   7.7201        有厅\n",
       "9041    东城        1      1   49.64  high       1       1   7.6552        有厅\n",
       "13325   东城        1      1   86.00   low       1       0   6.9768        有厅\n",
       "11918   东城        1      1   46.80   low       1       0   4.1881        有厅\n",
       "...    ...      ...    ...     ...   ...     ...     ...      ...       ...\n",
       "2198    西城        2      1   60.90   low       1       1   8.2923        有厅\n",
       "8410    西城        3      1   62.08  high       0       1   7.7320        有厅\n",
       "9528    西城        2      1  105.50  high       1       0  11.2607        有厅\n",
       "11654   西城        2      1   56.30  high       0       1  10.8349        有厅\n",
       "1184    西城        2      1   65.76   low       0       0   6.6150        有厅\n",
       "\n",
       "[2400 rows x 9 columns]"
      ]
     },
     "execution_count": 36,
     "metadata": {},
     "output_type": "execute_result"
    }
   ],
   "source": [
    "dat01"
   ]
  },
  {
   "cell_type": "code",
   "execution_count": 37,
   "metadata": {
    "scrolled": true
   },
   "outputs": [
    {
     "data": {
      "text/plain": [
       "'\\n异方差：随着预测值的增加，残差在增加\\n\\n该图为异方差，应对Y取对数\\n'"
      ]
     },
     "execution_count": 37,
     "metadata": {},
     "output_type": "execute_result"
    },
    {
     "data": {
      "image/png": "[encoded data removed]",
      "text/plain": [
       "<Figure size 432x288 with 1 Axes>"
      ]
     },
     "metadata": {
      "needs_background": "light"
     },
     "output_type": "display_data"
    }
   ],
   "source": [
    "dat1['pred1'] = lm1.predict(dat01) # 对模型取预测\n",
    "dat1['resid1'] = lm1.resid        # 取残差\n",
    "dat1.plot('pred1','resid1',kind='scatter')\n",
    "#pred1（预测值）为x，resid1(残差)为y，做散点图。\n",
    "'''\n",
    "异方差：随着预测值的增加，残差在增加\n",
    "\n",
    "该图为异方差，应对Y取对数\n",
    "'''"
   ]
  },
  {
   "cell_type": "code",
   "execution_count": null,
   "metadata": {},
   "outputs": [],
   "source": [
    "· 取对数 重新放入模型"
   ]
  },
  {
   "cell_type": "code",
   "execution_count": 41,
   "metadata": {},
   "outputs": [],
   "source": [
    "dat1['price_ln'] = np.log(dat1['price'])# y值取对数\n",
    "dat1['AREA_ln'] = np.log(dat1['AREA'])  # x取对数"
   ]
  },
  {
   "cell_type": "code",
   "execution_count": 45,
   "metadata": {
    "scrolled": true
   },
   "outputs": [
    {
     "data": {
      "text/html": [
       "<table class=\"simpletable\">\n",
       "<caption>OLS Regression Results</caption>\n",
       "<tr>\n",
       "  <th>Dep. Variable:</th>        <td>price_ln</td>     <th>  R-squared:         </th> <td>   0.604</td>\n",
       "</tr>\n",
       "<tr>\n",
       "  <th>Model:</th>                   <td>OLS</td>       <th>  Adj. R-squared:    </th> <td>   0.602</td>\n",
       "</tr>\n",
       "<tr>\n",
       "  <th>Method:</th>             <td>Least Squares</td>  <th>  F-statistic:       </th> <td>   363.6</td>\n",
       "</tr>\n",
       "<tr>\n",
       "  <th>Date:</th>             <td>Wed, 03 Nov 2021</td> <th>  Prob (F-statistic):</th>  <td>  0.00</td> \n",
       "</tr>\n",
       "<tr>\n",
       "  <th>Time:</th>                 <td>19:35:05</td>     <th>  Log-Likelihood:    </th> <td>  105.70</td>\n",
       "</tr>\n",
       "<tr>\n",
       "  <th>No. Observations:</th>      <td>  2400</td>      <th>  AIC:               </th> <td>  -189.4</td>\n",
       "</tr>\n",
       "<tr>\n",
       "  <th>Df Residuals:</th>          <td>  2389</td>      <th>  BIC:               </th> <td>  -125.8</td>\n",
       "</tr>\n",
       "<tr>\n",
       "  <th>Df Model:</th>              <td>    10</td>      <th>                     </th>     <td> </td>   \n",
       "</tr>\n",
       "<tr>\n",
       "  <th>Covariance Type:</th>      <td>nonrobust</td>    <th>                     </th>     <td> </td>   \n",
       "</tr>\n",
       "</table>\n",
       "<table class=\"simpletable\">\n",
       "<tr>\n",
       "        <td></td>          <th>coef</th>     <th>std err</th>      <th>t</th>      <th>P>|t|</th>  <th>[0.025</th>    <th>0.975]</th>  \n",
       "</tr>\n",
       "<tr>\n",
       "  <th>Intercept</th>    <td>    1.3167</td> <td>    0.053</td> <td>   25.028</td> <td> 0.000</td> <td>    1.214</td> <td>    1.420</td>\n",
       "</tr>\n",
       "<tr>\n",
       "  <th>dist_丰台</th>      <td>    0.0446</td> <td>    0.017</td> <td>    2.682</td> <td> 0.007</td> <td>    0.012</td> <td>    0.077</td>\n",
       "</tr>\n",
       "<tr>\n",
       "  <th>dist_朝阳</th>      <td>    0.2113</td> <td>    0.017</td> <td>   12.216</td> <td> 0.000</td> <td>    0.177</td> <td>    0.245</td>\n",
       "</tr>\n",
       "<tr>\n",
       "  <th>dist_东城</th>      <td>    0.4420</td> <td>    0.018</td> <td>   24.980</td> <td> 0.000</td> <td>    0.407</td> <td>    0.477</td>\n",
       "</tr>\n",
       "<tr>\n",
       "  <th>dist_海淀</th>      <td>    0.4344</td> <td>    0.018</td> <td>   24.729</td> <td> 0.000</td> <td>    0.400</td> <td>    0.469</td>\n",
       "</tr>\n",
       "<tr>\n",
       "  <th>dist_西城</th>      <td>    0.6332</td> <td>    0.018</td> <td>   34.769</td> <td> 0.000</td> <td>    0.597</td> <td>    0.669</td>\n",
       "</tr>\n",
       "<tr>\n",
       "  <th>school</th>       <td>    0.1640</td> <td>    0.012</td> <td>   13.659</td> <td> 0.000</td> <td>    0.140</td> <td>    0.188</td>\n",
       "</tr>\n",
       "<tr>\n",
       "  <th>subway</th>       <td>    0.1125</td> <td>    0.013</td> <td>    8.624</td> <td> 0.000</td> <td>    0.087</td> <td>    0.138</td>\n",
       "</tr>\n",
       "<tr>\n",
       "  <th>floor_middle</th> <td>    0.0376</td> <td>    0.011</td> <td>    3.322</td> <td> 0.001</td> <td>    0.015</td> <td>    0.060</td>\n",
       "</tr>\n",
       "<tr>\n",
       "  <th>floor_low</th>    <td>    0.0382</td> <td>    0.012</td> <td>    3.262</td> <td> 0.001</td> <td>    0.015</td> <td>    0.061</td>\n",
       "</tr>\n",
       "<tr>\n",
       "  <th>AREA_ln</th>      <td>   -0.0093</td> <td>    0.012</td> <td>   -0.804</td> <td> 0.422</td> <td>   -0.032</td> <td>    0.013</td>\n",
       "</tr>\n",
       "</table>\n",
       "<table class=\"simpletable\">\n",
       "<tr>\n",
       "  <th>Omnibus:</th>       <td>11.094</td> <th>  Durbin-Watson:     </th> <td>   1.951</td>\n",
       "</tr>\n",
       "<tr>\n",
       "  <th>Prob(Omnibus):</th> <td> 0.004</td> <th>  Jarque-Bera (JB):  </th> <td>  14.449</td>\n",
       "</tr>\n",
       "<tr>\n",
       "  <th>Skew:</th>          <td>-0.036</td> <th>  Prob(JB):          </th> <td>0.000729</td>\n",
       "</tr>\n",
       "<tr>\n",
       "  <th>Kurtosis:</th>      <td> 3.373</td> <th>  Cond. No.          </th> <td>    53.2</td>\n",
       "</tr>\n",
       "</table><br/><br/>Notes:<br/>[1] Standard Errors assume that the covariance matrix of the errors is correctly specified."
      ],
      "text/plain": [
       "<class 'statsmodels.iolib.summary.Summary'>\n",
       "\"\"\"\n",
       "                            OLS Regression Results                            \n",
       "==============================================================================\n",
       "Dep. Variable:               price_ln   R-squared:                       0.604\n",
       "Model:                            OLS   Adj. R-squared:                  0.602\n",
       "Method:                 Least Squares   F-statistic:                     363.6\n",
       "Date:                Wed, 03 Nov 2021   Prob (F-statistic):               0.00\n",
       "Time:                        19:35:05   Log-Likelihood:                 105.70\n",
       "No. Observations:                2400   AIC:                            -189.4\n",
       "Df Residuals:                    2389   BIC:                            -125.8\n",
       "Df Model:                          10                                         \n",
       "Covariance Type:            nonrobust                                         \n",
       "================================================================================\n",
       "                   coef    std err          t      P>|t|      [0.025      0.975]\n",
       "--------------------------------------------------------------------------------\n",
       "Intercept        1.3167      0.053     25.028      0.000       1.214       1.420\n",
       "dist_丰台          0.0446      0.017      2.682      0.007       0.012       0.077\n",
       "dist_朝阳          0.2113      0.017     12.216      0.000       0.177       0.245\n",
       "dist_东城          0.4420      0.018     24.980      0.000       0.407       0.477\n",
       "dist_海淀          0.4344      0.018     24.729      0.000       0.400       0.469\n",
       "dist_西城          0.6332      0.018     34.769      0.000       0.597       0.669\n",
       "school           0.1640      0.012     13.659      0.000       0.140       0.188\n",
       "subway           0.1125      0.013      8.624      0.000       0.087       0.138\n",
       "floor_middle     0.0376      0.011      3.322      0.001       0.015       0.060\n",
       "floor_low        0.0382      0.012      3.262      0.001       0.015       0.061\n",
       "AREA_ln         -0.0093      0.012     -0.804      0.422      -0.032       0.013\n",
       "==============================================================================\n",
       "Omnibus:                       11.094   Durbin-Watson:                   1.951\n",
       "Prob(Omnibus):                  0.004   Jarque-Bera (JB):               14.449\n",
       "Skew:                          -0.036   Prob(JB):                     0.000729\n",
       "Kurtosis:                       3.373   Cond. No.                         53.2\n",
       "==============================================================================\n",
       "\n",
       "Notes:\n",
       "[1] Standard Errors assume that the covariance matrix of the errors is correctly specified.\n",
       "\"\"\""
      ]
     },
     "execution_count": 45,
     "metadata": {},
     "output_type": "execute_result"
    }
   ],
   "source": [
    "lm2 = ols(\"price_ln ~ dist_丰台+dist_朝阳+dist_东城+dist_海淀+dist_西城+school+subway+floor_middle+floor_low+AREA_ln\", data=dat1).fit()\n",
    "lm2_summary = lm2.summary()\n",
    "lm2_summary  #回归结果展示"
   ]
  },
  {
   "cell_type": "markdown",
   "metadata": {},
   "source": [
    "· 变量没有变，只是取对数，R^2增加\n",
    "· 调整之后，模型每个变量都显著了\n",
    "· 因为Y取对数，所以按百分比解释，即丰台山的房价比石景山的房价贵4%，学区房比非学区房贵16%\n",
    "· 房屋的面积每增加一个百分点，房屋的价格会下降0.93个百分点。"
   ]
  },
  {
   "cell_type": "markdown",
   "metadata": {},
   "source": [
    "# 有交互项的影响\n",
    " - x1、x2作为交互项的形式（x1*x2）放入模型，\n",
    " - 在不同的地方影响的斜率不同，考虑交互项\n",
    " - "
   ]
  },
  {
   "cell_type": "code",
   "execution_count": null,
   "metadata": {},
   "outputs": [],
   "source": [
    "## 描述性统计 ：看学区房的价格"
   ]
  },
  {
   "cell_type": "code",
   "execution_count": 47,
   "metadata": {},
   "outputs": [
    {
     "name": "stdout",
     "output_type": "stream",
     "text": [
      "石景山非学区房\t 4.04 万元/平方米\t 石景山学区房\t 3.31 万元/平方米\n",
      "-------------------------------------------------------------------------\n",
      "丰台非学区房\t 4.28 万元/平方米\t 丰台学区房\t 4.94 万元/平方米\n",
      "朝阳非学区房\t 5.24 万元/平方米\t 朝阳学区房\t 5.75 万元/平方米\n",
      "海淀非学区房\t 6.19 万元/平方米\t 海淀学区房\t 7.66 万元/平方米\n",
      "西城非学区房\t 7.8 万元/平方米\t 西城学区房\t 9.29 万元/平方米\n",
      "东城非学区房\t 6.55 万元/平方米\t 东城学区房\t 7.77 万元/平方米\n"
     ]
    }
   ],
   "source": [
    "schools =['丰台','朝阳','海淀','西城','东城']\n",
    "print('石景山非学区房\\t',round(dat0[(dat0['dist']=='石景山')&(dat0['school']==0)]['price'].mean(),2),'万元/平方米\\t',\n",
    "     '石景山学区房\\t',round(dat0[(dat0['dist']=='石景山')&(dat0['school']==1)]['price'].mean(),2),'万元/平方米')\n",
    "print('-------------------------------------------------------------------------')\n",
    "for i in schools:\n",
    "    print(i+'非学区房\\t',round(dat1[(dat1['dist_'+i]==1)&(dat1['school']==0)]['price'].mean(),2),'万元/平方米\\t',i+'学区房\\t',round(dat1[(dat1['dist_'+i]==1)&(dat1['school']==1)]['price'].mean(),2),'万元/平方米')"
   ]
  },
  {
   "cell_type": "code",
   "execution_count": 49,
   "metadata": {},
   "outputs": [
    {
     "data": {
      "text/html": [
       "<div>\n",
       "<style scoped>\n",
       "    .dataframe tbody tr th:only-of-type {\n",
       "        vertical-align: middle;\n",
       "    }\n",
       "\n",
       "    .dataframe tbody tr th {\n",
       "        vertical-align: top;\n",
       "    }\n",
       "\n",
       "    .dataframe thead th {\n",
       "        text-align: right;\n",
       "    }\n",
       "</style>\n",
       "<table border=\"1\" class=\"dataframe\">\n",
       "  <thead>\n",
       "    <tr style=\"text-align: right;\">\n",
       "      <th></th>\n",
       "      <th>dist</th>\n",
       "      <th>Noschool</th>\n",
       "      <th>school</th>\n",
       "    </tr>\n",
       "  </thead>\n",
       "  <tbody>\n",
       "    <tr>\n",
       "      <th>0</th>\n",
       "      <td>石景山</td>\n",
       "      <td>4.035388</td>\n",
       "      <td>3.310733</td>\n",
       "    </tr>\n",
       "    <tr>\n",
       "      <th>1</th>\n",
       "      <td>丰台</td>\n",
       "      <td>4.229100</td>\n",
       "      <td>4.887162</td>\n",
       "    </tr>\n",
       "    <tr>\n",
       "      <th>2</th>\n",
       "      <td>朝阳</td>\n",
       "      <td>5.158851</td>\n",
       "      <td>5.740341</td>\n",
       "    </tr>\n",
       "    <tr>\n",
       "      <th>3</th>\n",
       "      <td>东城</td>\n",
       "      <td>6.627689</td>\n",
       "      <td>7.851490</td>\n",
       "    </tr>\n",
       "    <tr>\n",
       "      <th>4</th>\n",
       "      <td>海淀</td>\n",
       "      <td>6.138580</td>\n",
       "      <td>7.691126</td>\n",
       "    </tr>\n",
       "    <tr>\n",
       "      <th>5</th>\n",
       "      <td>西城</td>\n",
       "      <td>7.698937</td>\n",
       "      <td>9.246887</td>\n",
       "    </tr>\n",
       "  </tbody>\n",
       "</table>\n",
       "</div>"
      ],
      "text/plain": [
       "  dist  Noschool    school\n",
       "0  石景山  4.035388  3.310733\n",
       "1   丰台  4.229100  4.887162\n",
       "2   朝阳  5.158851  5.740341\n",
       "3   东城  6.627689  7.851490\n",
       "4   海淀  6.138580  7.691126\n",
       "5   西城  7.698937  9.246887"
      ]
     },
     "execution_count": 49,
     "metadata": {},
     "output_type": "execute_result"
    }
   ],
   "source": [
    "###构造图形揭示不同城区是否学区房的价格问题\n",
    "df=pd.DataFrame()\n",
    "dist=['石景山','丰台','朝阳','东城','海淀','西城']\n",
    "Noschool=[]\n",
    "school=[]\n",
    "for i in dist:\n",
    "    Noschool.append(dat0[(dat0['dist']==i)&(dat0['school']==0)]['price'].mean())\n",
    "    school.append(dat0[(dat0['dist']==i)&(dat0['school']==1)]['price'].mean())\n",
    "\n",
    "df['dist']=pd.Series(dist)\n",
    "df['Noschool']=pd.Series(Noschool)\n",
    "df['school']=pd.Series(school)\n",
    "df"
   ]
  },
  {
   "cell_type": "code",
   "execution_count": 53,
   "metadata": {},
   "outputs": [
    {
     "data": {
      "image/png": "[encoded data removed]",
      "text/plain": [
       "<Figure size 720x432 with 1 Axes>"
      ]
     },
     "metadata": {
      "needs_background": "light"
     },
     "output_type": "display_data"
    }
   ],
   "source": [
    "#描述性统计\n",
    "df1 = df['Noschool'].T.values\n",
    "df2 = df['school'].T.values\n",
    "plt.figure(figsize=(10,6))\n",
    "x1 = range(0,len(df))\n",
    "x2=[i+0.3 for i in x1]\n",
    "plt.bar(x1,df1,color='b',width=0.3,alpha=0.6,label='非学区房')\n",
    "plt.bar(x2,df2,color='r',width=0.3,alpha=0.6,label='学区房')\n",
    "plt.xlabel('城区')\n",
    "plt.ylabel('单位面积价格')\n",
    "plt.legend(loc='upper left')\n",
    "plt.xticks(range(0,6),dist)\n",
    "plt.show()"
   ]
  },
  {
   "cell_type": "code",
   "execution_count": 59,
   "metadata": {},
   "outputs": [],
   "source": [
    "#最好是看分类：盒须图\n"
   ]
  },
  {
   "cell_type": "code",
   "execution_count": 54,
   "metadata": {
    "collapsed": true
   },
   "outputs": [
    {
     "data": {
      "image/png": "[encoded data removed]",
      "text/plain": [
       "<Figure size 432x288 with 1 Axes>"
      ]
     },
     "metadata": {
      "needs_background": "light"
     },
     "output_type": "display_data"
    },
    {
     "data": {
      "image/png": "[encoded data removed]",
      "text/plain": [
       "<Figure size 432x288 with 1 Axes>"
      ]
     },
     "metadata": {
      "needs_background": "light"
     },
     "output_type": "display_data"
    },
    {
     "data": {
      "image/png": "[encoded data removed]",
      "text/plain": [
       "<Figure size 432x288 with 1 Axes>"
      ]
     },
     "metadata": {
      "needs_background": "light"
     },
     "output_type": "display_data"
    },
    {
     "data": {
      "image/png": "[encoded data removed]",
      "text/plain": [
       "<Figure size 432x288 with 1 Axes>"
      ]
     },
     "metadata": {
      "needs_background": "light"
     },
     "output_type": "display_data"
    },
    {
     "data": {
      "image/png": "[encoded data removed]",
      "text/plain": [
       "<Figure size 432x288 with 1 Axes>"
      ]
     },
     "metadata": {
      "needs_background": "light"
     },
     "output_type": "display_data"
    },
    {
     "data": {
      "image/png": "[encoded data removed]",
      "text/plain": [
       "<Figure size 432x288 with 1 Axes>"
      ]
     },
     "metadata": {
      "needs_background": "light"
     },
     "output_type": "display_data"
    }
   ],
   "source": [
    "###分城区的学区房分组箱线图\n",
    "school=['石景山','丰台','朝阳','东城','海淀','西城']\n",
    "for i in school:\n",
    "    dat0[dat0.dist==i][['school','price']].boxplot(by='school',patch_artist=True)\n",
    "    plt.xlabel(i+'学区房')"
   ]
  },
  {
   "cell_type": "code",
   "execution_count": null,
   "metadata": {},
   "outputs": [],
   "source": [
    "- 每个区的有无学区房的影响\n",
    "- 盒须图：看两个图中的均值的差值是否一样\n",
    "- 或者直接放入模型，看p值是否显著。重要的交互项之间需要考虑，按城区分、是否学区房、是否临近地铁这三项本身的P值是显著的，可以考虑交互项。"
   ]
  },
  {
   "cell_type": "code",
   "execution_count": 68,
   "metadata": {},
   "outputs": [
    {
     "data": {
      "text/html": [
       "<table class=\"simpletable\">\n",
       "<caption>OLS Regression Results</caption>\n",
       "<tr>\n",
       "  <th>Dep. Variable:</th>        <td>price_ln</td>     <th>  R-squared:         </th> <td>   0.610</td>\n",
       "</tr>\n",
       "<tr>\n",
       "  <th>Model:</th>                   <td>OLS</td>       <th>  Adj. R-squared:    </th> <td>   0.607</td>\n",
       "</tr>\n",
       "<tr>\n",
       "  <th>Method:</th>             <td>Least Squares</td>  <th>  F-statistic:       </th> <td>   248.4</td>\n",
       "</tr>\n",
       "<tr>\n",
       "  <th>Date:</th>             <td>Wed, 03 Nov 2021</td> <th>  Prob (F-statistic):</th>  <td>  0.00</td> \n",
       "</tr>\n",
       "<tr>\n",
       "  <th>Time:</th>                 <td>21:12:27</td>     <th>  Log-Likelihood:    </th> <td>  125.06</td>\n",
       "</tr>\n",
       "<tr>\n",
       "  <th>No. Observations:</th>      <td>  2400</td>      <th>  AIC:               </th> <td>  -218.1</td>\n",
       "</tr>\n",
       "<tr>\n",
       "  <th>Df Residuals:</th>          <td>  2384</td>      <th>  BIC:               </th> <td>  -125.6</td>\n",
       "</tr>\n",
       "<tr>\n",
       "  <th>Df Model:</th>              <td>    15</td>      <th>                     </th>     <td> </td>   \n",
       "</tr>\n",
       "<tr>\n",
       "  <th>Covariance Type:</th>      <td>nonrobust</td>    <th>                     </th>     <td> </td>   \n",
       "</tr>\n",
       "</table>\n",
       "<table class=\"simpletable\">\n",
       "<tr>\n",
       "         <td></td>           <th>coef</th>     <th>std err</th>      <th>t</th>      <th>P>|t|</th>  <th>[0.025</th>    <th>0.975]</th>  \n",
       "</tr>\n",
       "<tr>\n",
       "  <th>Intercept</th>      <td>    1.3277</td> <td>    0.052</td> <td>   25.359</td> <td> 0.000</td> <td>    1.225</td> <td>    1.430</td>\n",
       "</tr>\n",
       "<tr>\n",
       "  <th>dist_丰台</th>        <td>    0.0425</td> <td>    0.017</td> <td>    2.543</td> <td> 0.011</td> <td>    0.010</td> <td>    0.075</td>\n",
       "</tr>\n",
       "<tr>\n",
       "  <th>dist_朝阳</th>        <td>    0.2261</td> <td>    0.018</td> <td>   12.585</td> <td> 0.000</td> <td>    0.191</td> <td>    0.261</td>\n",
       "</tr>\n",
       "<tr>\n",
       "  <th>dist_东城</th>        <td>    0.4244</td> <td>    0.020</td> <td>   21.619</td> <td> 0.000</td> <td>    0.386</td> <td>    0.463</td>\n",
       "</tr>\n",
       "<tr>\n",
       "  <th>dist_海淀</th>        <td>    0.4111</td> <td>    0.020</td> <td>   20.678</td> <td> 0.000</td> <td>    0.372</td> <td>    0.450</td>\n",
       "</tr>\n",
       "<tr>\n",
       "  <th>dist_西城</th>        <td>    0.6168</td> <td>    0.022</td> <td>   27.995</td> <td> 0.000</td> <td>    0.574</td> <td>    0.660</td>\n",
       "</tr>\n",
       "<tr>\n",
       "  <th>school</th>         <td>   -0.3738</td> <td>    0.116</td> <td>   -3.218</td> <td> 0.001</td> <td>   -0.602</td> <td>   -0.146</td>\n",
       "</tr>\n",
       "<tr>\n",
       "  <th>dist_丰台:school</th> <td>    0.4801</td> <td>    0.130</td> <td>    3.681</td> <td> 0.000</td> <td>    0.224</td> <td>    0.736</td>\n",
       "</tr>\n",
       "<tr>\n",
       "  <th>dist_朝阳:school</th> <td>    0.4414</td> <td>    0.120</td> <td>    3.685</td> <td> 0.000</td> <td>    0.207</td> <td>    0.676</td>\n",
       "</tr>\n",
       "<tr>\n",
       "  <th>dist_东城:school</th> <td>    0.5699</td> <td>    0.119</td> <td>    4.809</td> <td> 0.000</td> <td>    0.338</td> <td>    0.802</td>\n",
       "</tr>\n",
       "<tr>\n",
       "  <th>dist_海淀:school</th> <td>    0.5773</td> <td>    0.119</td> <td>    4.870</td> <td> 0.000</td> <td>    0.345</td> <td>    0.810</td>\n",
       "</tr>\n",
       "<tr>\n",
       "  <th>dist_西城:school</th> <td>    0.5584</td> <td>    0.118</td> <td>    4.713</td> <td> 0.000</td> <td>    0.326</td> <td>    0.791</td>\n",
       "</tr>\n",
       "<tr>\n",
       "  <th>subway</th>         <td>    0.1075</td> <td>    0.013</td> <td>    8.256</td> <td> 0.000</td> <td>    0.082</td> <td>    0.133</td>\n",
       "</tr>\n",
       "<tr>\n",
       "  <th>floor_middle</th>   <td>    0.0408</td> <td>    0.011</td> <td>    3.616</td> <td> 0.000</td> <td>    0.019</td> <td>    0.063</td>\n",
       "</tr>\n",
       "<tr>\n",
       "  <th>floor_low</th>      <td>    0.0404</td> <td>    0.012</td> <td>    3.464</td> <td> 0.001</td> <td>    0.018</td> <td>    0.063</td>\n",
       "</tr>\n",
       "<tr>\n",
       "  <th>AREA_ln</th>        <td>   -0.0103</td> <td>    0.011</td> <td>   -0.895</td> <td> 0.371</td> <td>   -0.033</td> <td>    0.012</td>\n",
       "</tr>\n",
       "</table>\n",
       "<table class=\"simpletable\">\n",
       "<tr>\n",
       "  <th>Omnibus:</th>       <td> 8.029</td> <th>  Durbin-Watson:     </th> <td>   1.956</td>\n",
       "</tr>\n",
       "<tr>\n",
       "  <th>Prob(Omnibus):</th> <td> 0.018</td> <th>  Jarque-Bera (JB):  </th> <td>   9.934</td>\n",
       "</tr>\n",
       "<tr>\n",
       "  <th>Skew:</th>          <td> 0.023</td> <th>  Prob(JB):          </th> <td> 0.00696</td>\n",
       "</tr>\n",
       "<tr>\n",
       "  <th>Kurtosis:</th>      <td> 3.312</td> <th>  Cond. No.          </th> <td>    285.</td>\n",
       "</tr>\n",
       "</table><br/><br/>Notes:<br/>[1] Standard Errors assume that the covariance matrix of the errors is correctly specified."
      ],
      "text/plain": [
       "<class 'statsmodels.iolib.summary.Summary'>\n",
       "\"\"\"\n",
       "                            OLS Regression Results                            \n",
       "==============================================================================\n",
       "Dep. Variable:               price_ln   R-squared:                       0.610\n",
       "Model:                            OLS   Adj. R-squared:                  0.607\n",
       "Method:                 Least Squares   F-statistic:                     248.4\n",
       "Date:                Wed, 03 Nov 2021   Prob (F-statistic):               0.00\n",
       "Time:                        21:12:27   Log-Likelihood:                 125.06\n",
       "No. Observations:                2400   AIC:                            -218.1\n",
       "Df Residuals:                    2384   BIC:                            -125.6\n",
       "Df Model:                          15                                         \n",
       "Covariance Type:            nonrobust                                         \n",
       "==================================================================================\n",
       "                     coef    std err          t      P>|t|      [0.025      0.975]\n",
       "----------------------------------------------------------------------------------\n",
       "Intercept          1.3277      0.052     25.359      0.000       1.225       1.430\n",
       "dist_丰台            0.0425      0.017      2.543      0.011       0.010       0.075\n",
       "dist_朝阳            0.2261      0.018     12.585      0.000       0.191       0.261\n",
       "dist_东城            0.4244      0.020     21.619      0.000       0.386       0.463\n",
       "dist_海淀            0.4111      0.020     20.678      0.000       0.372       0.450\n",
       "dist_西城            0.6168      0.022     27.995      0.000       0.574       0.660\n",
       "school            -0.3738      0.116     -3.218      0.001      -0.602      -0.146\n",
       "dist_丰台:school     0.4801      0.130      3.681      0.000       0.224       0.736\n",
       "dist_朝阳:school     0.4414      0.120      3.685      0.000       0.207       0.676\n",
       "dist_东城:school     0.5699      0.119      4.809      0.000       0.338       0.802\n",
       "dist_海淀:school     0.5773      0.119      4.870      0.000       0.345       0.810\n",
       "dist_西城:school     0.5584      0.118      4.713      0.000       0.326       0.791\n",
       "subway             0.1075      0.013      8.256      0.000       0.082       0.133\n",
       "floor_middle       0.0408      0.011      3.616      0.000       0.019       0.063\n",
       "floor_low          0.0404      0.012      3.464      0.001       0.018       0.063\n",
       "AREA_ln           -0.0103      0.011     -0.895      0.371      -0.033       0.012\n",
       "==============================================================================\n",
       "Omnibus:                        8.029   Durbin-Watson:                   1.956\n",
       "Prob(Omnibus):                  0.018   Jarque-Bera (JB):                9.934\n",
       "Skew:                           0.023   Prob(JB):                      0.00696\n",
       "Kurtosis:                       3.312   Cond. No.                         285.\n",
       "==============================================================================\n",
       "\n",
       "Notes:\n",
       "[1] Standard Errors assume that the covariance matrix of the errors is correctly specified.\n",
       "\"\"\""
      ]
     },
     "execution_count": 68,
     "metadata": {},
     "output_type": "execute_result"
    }
   ],
   "source": [
    "###有交互项的对数线性模型，城区和学区之间的交互作用\n",
    "lm3 = ols(\"price_ln ~ (dist_丰台+dist_朝阳+dist_东城+dist_海淀+dist_西城)*school+subway+floor_middle+floor_low+AREA_ln\", data=dat1).fit()\n",
    "lm3_summary = lm3.summary()\n",
    "lm3_summary  #回归结果展示"
   ]
  },
  {
   "cell_type": "code",
   "execution_count": null,
   "metadata": {},
   "outputs": [],
   "source": [
    "·上述图中，学区房是负数，是因为以石景山为基点。\n",
    "丰台区的学区房相对于非学区房是涨了48%"
   ]
  },
  {
   "cell_type": "markdown",
   "metadata": {},
   "source": [
    "# 案例"
   ]
  },
  {
   "cell_type": "code",
   "execution_count": 69,
   "metadata": {},
   "outputs": [],
   "source": [
    "# 预测房价\n",
    "# 自变量对房价的影响\n",
    "# 自变量：城区、地铁、两居、面积AREA"
   ]
  },
  {
   "cell_type": "code",
   "execution_count": null,
   "metadata": {},
   "outputs": [],
   "source": [
    "建立以东城区为基准的观测"
   ]
  },
  {
   "cell_type": "code",
   "execution_count": null,
   "metadata": {},
   "outputs": [],
   "source": []
  },
  {
   "cell_type": "code",
   "execution_count": null,
   "metadata": {},
   "outputs": [],
   "source": []
  },
  {
   "cell_type": "code",
   "execution_count": null,
   "metadata": {},
   "outputs": [],
   "source": []
  },
  {
   "cell_type": "code",
   "execution_count": null,
   "metadata": {},
   "outputs": [],
   "source": []
  },
  {
   "cell_type": "code",
   "execution_count": null,
   "metadata": {},
   "outputs": [],
   "source": []
  },
  {
   "cell_type": "code",
   "execution_count": null,
   "metadata": {},
   "outputs": [],
   "source": []
  },
  {
   "cell_type": "code",
   "execution_count": null,
   "metadata": {},
   "outputs": [],
   "source": []
  },
  {
   "cell_type": "code",
   "execution_count": null,
   "metadata": {},
   "outputs": [],
   "source": []
  },
  {
   "cell_type": "code",
   "execution_count": null,
   "metadata": {},
   "outputs": [],
   "source": []
  },
  {
   "cell_type": "code",
   "execution_count": null,
   "metadata": {},
   "outputs": [],
   "source": []
  },
  {
   "cell_type": "code",
   "execution_count": null,
   "metadata": {},
   "outputs": [],
   "source": []
  },
  {
   "cell_type": "code",
   "execution_count": null,
   "metadata": {},
   "outputs": [],
   "source": []
  },
  {
   "cell_type": "code",
   "execution_count": null,
   "metadata": {},
   "outputs": [],
   "source": []
  },
  {
   "cell_type": "code",
   "execution_count": null,
   "metadata": {},
   "outputs": [],
   "source": []
  },
  {
   "cell_type": "code",
   "execution_count": null,
   "metadata": {},
   "outputs": [],
   "source": []
  },
  {
   "cell_type": "code",
   "execution_count": null,
   "metadata": {},
   "outputs": [],
   "source": []
  },
  {
   "cell_type": "code",
   "execution_count": null,
   "metadata": {},
   "outputs": [],
   "source": []
  },
  {
   "cell_type": "code",
   "execution_count": null,
   "metadata": {},
   "outputs": [],
   "source": []
  },
  {
   "cell_type": "code",
   "execution_count": null,
   "metadata": {},
   "outputs": [],
   "source": []
  },
  {
   "cell_type": "code",
   "execution_count": null,
   "metadata": {},
   "outputs": [],
   "source": []
  },
  {
   "cell_type": "code",
   "execution_count": null,
   "metadata": {},
   "outputs": [],
   "source": []
  },
  {
   "cell_type": "code",
   "execution_count": null,
   "metadata": {},
   "outputs": [],
   "source": []
  },
  {
   "cell_type": "code",
   "execution_count": null,
   "metadata": {},
   "outputs": [],
   "source": []
  },
  {
   "cell_type": "code",
   "execution_count": null,
   "metadata": {},
   "outputs": [],
   "source": []
  },
  {
   "cell_type": "code",
   "execution_count": null,
   "metadata": {},
   "outputs": [],
   "source": []
  },
  {
   "cell_type": "code",
   "execution_count": null,
   "metadata": {},
   "outputs": [],
   "source": []
  },
  {
   "cell_type": "code",
   "execution_count": null,
   "metadata": {},
   "outputs": [],
   "source": []
  },
  {
   "cell_type": "code",
   "execution_count": null,
   "metadata": {},
   "outputs": [],
   "source": []
  },
  {
   "cell_type": "code",
   "execution_count": null,
   "metadata": {},
   "outputs": [],
   "source": []
  },
  {
   "cell_type": "code",
   "execution_count": null,
   "metadata": {},
   "outputs": [],
   "source": []
  },
  {
   "cell_type": "code",
   "execution_count": null,
   "metadata": {},
   "outputs": [],
   "source": [
    "# 第二步：对于一个右偏的函数，考虑要取对数（也不一定要取对数，要看模型的表现而定）"
   ]
  }
 ],
 "metadata": {
  "kernelspec": {
   "display_name": "Python 3",
   "language": "python",
   "name": "python3"
  },
  "language_info": {
   "codemirror_mode": {
    "name": "ipython",
    "version": 3
   },
   "file_extension": ".py",
   "mimetype": "text/x-python",
   "name": "python",
   "nbconvert_exporter": "python",
   "pygments_lexer": "ipython3",
   "version": "3.8.5"
  }
 },
 "nbformat": 4,
 "nbformat_minor": 4
}
