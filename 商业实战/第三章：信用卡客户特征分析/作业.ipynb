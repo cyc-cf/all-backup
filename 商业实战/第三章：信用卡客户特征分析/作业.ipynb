{
 "cells": [
  {
   "cell_type": "code",
   "execution_count": 28,
   "metadata": {},
   "outputs": [
    {
     "data": {
      "text/html": [
       "<div>\n",
       "<style scoped>\n",
       "    .dataframe tbody tr th:only-of-type {\n",
       "        vertical-align: middle;\n",
       "    }\n",
       "\n",
       "    .dataframe tbody tr th {\n",
       "        vertical-align: top;\n",
       "    }\n",
       "\n",
       "    .dataframe thead th {\n",
       "        text-align: right;\n",
       "    }\n",
       "</style>\n",
       "<table border=\"1\" class=\"dataframe\">\n",
       "  <thead>\n",
       "    <tr style=\"text-align: right;\">\n",
       "      <th></th>\n",
       "      <th>EngSize</th>\n",
       "      <th>Age</th>\n",
       "      <th>Gender</th>\n",
       "      <th>Marital</th>\n",
       "      <th>exp</th>\n",
       "      <th>Owner</th>\n",
       "      <th>vAge</th>\n",
       "      <th>Garage</th>\n",
       "      <th>AntiTFD</th>\n",
       "      <th>import</th>\n",
       "      <th>Loss</th>\n",
       "    </tr>\n",
       "  </thead>\n",
       "  <tbody>\n",
       "    <tr>\n",
       "      <th>0</th>\n",
       "      <td>2.0</td>\n",
       "      <td>56</td>\n",
       "      <td>男</td>\n",
       "      <td>已婚</td>\n",
       "      <td>20</td>\n",
       "      <td>公司</td>\n",
       "      <td>10</td>\n",
       "      <td>有</td>\n",
       "      <td>有防盗装置</td>\n",
       "      <td>进口</td>\n",
       "      <td>0.0</td>\n",
       "    </tr>\n",
       "    <tr>\n",
       "      <th>1</th>\n",
       "      <td>1.8</td>\n",
       "      <td>41</td>\n",
       "      <td>男</td>\n",
       "      <td>已婚</td>\n",
       "      <td>20</td>\n",
       "      <td>公司</td>\n",
       "      <td>9</td>\n",
       "      <td>有</td>\n",
       "      <td>无防盗装置</td>\n",
       "      <td>国产</td>\n",
       "      <td>0.0</td>\n",
       "    </tr>\n",
       "    <tr>\n",
       "      <th>2</th>\n",
       "      <td>2.0</td>\n",
       "      <td>44</td>\n",
       "      <td>男</td>\n",
       "      <td>未婚</td>\n",
       "      <td>20</td>\n",
       "      <td>公司</td>\n",
       "      <td>8</td>\n",
       "      <td>有</td>\n",
       "      <td>有防盗装置</td>\n",
       "      <td>国产</td>\n",
       "      <td>0.0</td>\n",
       "    </tr>\n",
       "    <tr>\n",
       "      <th>3</th>\n",
       "      <td>1.6</td>\n",
       "      <td>56</td>\n",
       "      <td>男</td>\n",
       "      <td>已婚</td>\n",
       "      <td>20</td>\n",
       "      <td>公司</td>\n",
       "      <td>7</td>\n",
       "      <td>有</td>\n",
       "      <td>有防盗装置</td>\n",
       "      <td>国产</td>\n",
       "      <td>0.0</td>\n",
       "    </tr>\n",
       "    <tr>\n",
       "      <th>4</th>\n",
       "      <td>1.8</td>\n",
       "      <td>45</td>\n",
       "      <td>男</td>\n",
       "      <td>已婚</td>\n",
       "      <td>20</td>\n",
       "      <td>公司</td>\n",
       "      <td>7</td>\n",
       "      <td>无</td>\n",
       "      <td>无防盗装置</td>\n",
       "      <td>国产</td>\n",
       "      <td>0.0</td>\n",
       "    </tr>\n",
       "    <tr>\n",
       "      <th>...</th>\n",
       "      <td>...</td>\n",
       "      <td>...</td>\n",
       "      <td>...</td>\n",
       "      <td>...</td>\n",
       "      <td>...</td>\n",
       "      <td>...</td>\n",
       "      <td>...</td>\n",
       "      <td>...</td>\n",
       "      <td>...</td>\n",
       "      <td>...</td>\n",
       "      <td>...</td>\n",
       "    </tr>\n",
       "    <tr>\n",
       "      <th>4228</th>\n",
       "      <td>1.8</td>\n",
       "      <td>22</td>\n",
       "      <td>女</td>\n",
       "      <td>未婚</td>\n",
       "      <td>0</td>\n",
       "      <td>私人</td>\n",
       "      <td>1</td>\n",
       "      <td>有</td>\n",
       "      <td>有防盗装置</td>\n",
       "      <td>国产</td>\n",
       "      <td>976.0</td>\n",
       "    </tr>\n",
       "    <tr>\n",
       "      <th>4229</th>\n",
       "      <td>2.5</td>\n",
       "      <td>22</td>\n",
       "      <td>男</td>\n",
       "      <td>未婚</td>\n",
       "      <td>0</td>\n",
       "      <td>私人</td>\n",
       "      <td>1</td>\n",
       "      <td>有</td>\n",
       "      <td>无防盗装置</td>\n",
       "      <td>进口</td>\n",
       "      <td>855.6</td>\n",
       "    </tr>\n",
       "    <tr>\n",
       "      <th>4230</th>\n",
       "      <td>1.8</td>\n",
       "      <td>21</td>\n",
       "      <td>男</td>\n",
       "      <td>未婚</td>\n",
       "      <td>0</td>\n",
       "      <td>私人</td>\n",
       "      <td>1</td>\n",
       "      <td>有</td>\n",
       "      <td>无防盗装置</td>\n",
       "      <td>国产</td>\n",
       "      <td>0.0</td>\n",
       "    </tr>\n",
       "    <tr>\n",
       "      <th>4231</th>\n",
       "      <td>1.8</td>\n",
       "      <td>21</td>\n",
       "      <td>女</td>\n",
       "      <td>未婚</td>\n",
       "      <td>0</td>\n",
       "      <td>私人</td>\n",
       "      <td>1</td>\n",
       "      <td>有</td>\n",
       "      <td>无防盗装置</td>\n",
       "      <td>进口</td>\n",
       "      <td>3328.0</td>\n",
       "    </tr>\n",
       "    <tr>\n",
       "      <th>4232</th>\n",
       "      <td>2.4</td>\n",
       "      <td>21</td>\n",
       "      <td>女</td>\n",
       "      <td>未婚</td>\n",
       "      <td>0</td>\n",
       "      <td>私人</td>\n",
       "      <td>1</td>\n",
       "      <td>有</td>\n",
       "      <td>无防盗装置</td>\n",
       "      <td>进口</td>\n",
       "      <td>1564.0</td>\n",
       "    </tr>\n",
       "  </tbody>\n",
       "</table>\n",
       "<p>4233 rows × 11 columns</p>\n",
       "</div>"
      ],
      "text/plain": [
       "      EngSize  Age Gender Marital  exp Owner  vAge Garage AntiTFD import  \\\n",
       "0         2.0   56      男      已婚   20    公司    10      有   有防盗装置     进口   \n",
       "1         1.8   41      男      已婚   20    公司     9      有   无防盗装置     国产   \n",
       "2         2.0   44      男      未婚   20    公司     8      有   有防盗装置     国产   \n",
       "3         1.6   56      男      已婚   20    公司     7      有   有防盗装置     国产   \n",
       "4         1.8   45      男      已婚   20    公司     7      无   无防盗装置     国产   \n",
       "...       ...  ...    ...     ...  ...   ...   ...    ...     ...    ...   \n",
       "4228      1.8   22      女      未婚    0    私人     1      有   有防盗装置     国产   \n",
       "4229      2.5   22      男      未婚    0    私人     1      有   无防盗装置     进口   \n",
       "4230      1.8   21      男      未婚    0    私人     1      有   无防盗装置     国产   \n",
       "4231      1.8   21      女      未婚    0    私人     1      有   无防盗装置     进口   \n",
       "4232      2.4   21      女      未婚    0    私人     1      有   无防盗装置     进口   \n",
       "\n",
       "        Loss  \n",
       "0        0.0  \n",
       "1        0.0  \n",
       "2        0.0  \n",
       "3        0.0  \n",
       "4        0.0  \n",
       "...      ...  \n",
       "4228   976.0  \n",
       "4229   855.6  \n",
       "4230     0.0  \n",
       "4231  3328.0  \n",
       "4232  1564.0  \n",
       "\n",
       "[4233 rows x 11 columns]"
      ]
     },
     "execution_count": 28,
     "metadata": {},
     "output_type": "execute_result"
    }
   ],
   "source": [
    "import pandas as pd\n",
    "import matplotlib.pyplot as plt\n",
    "import seaborn as sns\n",
    "import numpy as np\n",
    "data = pd.read_csv(r'E:\\Ajiao\\LiXian\\资料\\技术实详解与商业实战\\280_Ben_八大直播八大案例配套课件\\第三章\\提交-第三讲：信用卡客户特征分析-产品客户画像初步\\提交-第三讲：信用卡客户特征分析-产品客户画像初步\\作业-信用卡客户画像\\HW4\\auto_ins.csv',encoding='gbk')\n",
    "data"
   ]
  },
  {
   "cell_type": "code",
   "execution_count": 30,
   "metadata": {},
   "outputs": [
    {
     "data": {
      "text/html": [
       "<div>\n",
       "<style scoped>\n",
       "    .dataframe tbody tr th:only-of-type {\n",
       "        vertical-align: middle;\n",
       "    }\n",
       "\n",
       "    .dataframe tbody tr th {\n",
       "        vertical-align: top;\n",
       "    }\n",
       "\n",
       "    .dataframe thead th {\n",
       "        text-align: right;\n",
       "    }\n",
       "</style>\n",
       "<table border=\"1\" class=\"dataframe\">\n",
       "  <thead>\n",
       "    <tr style=\"text-align: right;\">\n",
       "      <th></th>\n",
       "      <th>EngSize</th>\n",
       "      <th>Age</th>\n",
       "      <th>Gender</th>\n",
       "      <th>Marital</th>\n",
       "      <th>exp</th>\n",
       "      <th>Owner</th>\n",
       "      <th>vAge</th>\n",
       "      <th>Garage</th>\n",
       "      <th>AntiTFD</th>\n",
       "      <th>import</th>\n",
       "      <th>Loss</th>\n",
       "      <th>loss_flag</th>\n",
       "    </tr>\n",
       "  </thead>\n",
       "  <tbody>\n",
       "    <tr>\n",
       "      <th>0</th>\n",
       "      <td>2.0</td>\n",
       "      <td>56</td>\n",
       "      <td>男</td>\n",
       "      <td>已婚</td>\n",
       "      <td>20</td>\n",
       "      <td>公司</td>\n",
       "      <td>10</td>\n",
       "      <td>有</td>\n",
       "      <td>有防盗装置</td>\n",
       "      <td>进口</td>\n",
       "      <td>0.0</td>\n",
       "      <td>0</td>\n",
       "    </tr>\n",
       "    <tr>\n",
       "      <th>1</th>\n",
       "      <td>1.8</td>\n",
       "      <td>41</td>\n",
       "      <td>男</td>\n",
       "      <td>已婚</td>\n",
       "      <td>20</td>\n",
       "      <td>公司</td>\n",
       "      <td>9</td>\n",
       "      <td>有</td>\n",
       "      <td>无防盗装置</td>\n",
       "      <td>国产</td>\n",
       "      <td>0.0</td>\n",
       "      <td>0</td>\n",
       "    </tr>\n",
       "    <tr>\n",
       "      <th>2</th>\n",
       "      <td>2.0</td>\n",
       "      <td>44</td>\n",
       "      <td>男</td>\n",
       "      <td>未婚</td>\n",
       "      <td>20</td>\n",
       "      <td>公司</td>\n",
       "      <td>8</td>\n",
       "      <td>有</td>\n",
       "      <td>有防盗装置</td>\n",
       "      <td>国产</td>\n",
       "      <td>0.0</td>\n",
       "      <td>0</td>\n",
       "    </tr>\n",
       "    <tr>\n",
       "      <th>3</th>\n",
       "      <td>1.6</td>\n",
       "      <td>56</td>\n",
       "      <td>男</td>\n",
       "      <td>已婚</td>\n",
       "      <td>20</td>\n",
       "      <td>公司</td>\n",
       "      <td>7</td>\n",
       "      <td>有</td>\n",
       "      <td>有防盗装置</td>\n",
       "      <td>国产</td>\n",
       "      <td>0.0</td>\n",
       "      <td>0</td>\n",
       "    </tr>\n",
       "    <tr>\n",
       "      <th>4</th>\n",
       "      <td>1.8</td>\n",
       "      <td>45</td>\n",
       "      <td>男</td>\n",
       "      <td>已婚</td>\n",
       "      <td>20</td>\n",
       "      <td>公司</td>\n",
       "      <td>7</td>\n",
       "      <td>无</td>\n",
       "      <td>无防盗装置</td>\n",
       "      <td>国产</td>\n",
       "      <td>0.0</td>\n",
       "      <td>0</td>\n",
       "    </tr>\n",
       "    <tr>\n",
       "      <th>...</th>\n",
       "      <td>...</td>\n",
       "      <td>...</td>\n",
       "      <td>...</td>\n",
       "      <td>...</td>\n",
       "      <td>...</td>\n",
       "      <td>...</td>\n",
       "      <td>...</td>\n",
       "      <td>...</td>\n",
       "      <td>...</td>\n",
       "      <td>...</td>\n",
       "      <td>...</td>\n",
       "      <td>...</td>\n",
       "    </tr>\n",
       "    <tr>\n",
       "      <th>4228</th>\n",
       "      <td>1.8</td>\n",
       "      <td>22</td>\n",
       "      <td>女</td>\n",
       "      <td>未婚</td>\n",
       "      <td>0</td>\n",
       "      <td>私人</td>\n",
       "      <td>1</td>\n",
       "      <td>有</td>\n",
       "      <td>有防盗装置</td>\n",
       "      <td>国产</td>\n",
       "      <td>976.0</td>\n",
       "      <td>1</td>\n",
       "    </tr>\n",
       "    <tr>\n",
       "      <th>4229</th>\n",
       "      <td>2.5</td>\n",
       "      <td>22</td>\n",
       "      <td>男</td>\n",
       "      <td>未婚</td>\n",
       "      <td>0</td>\n",
       "      <td>私人</td>\n",
       "      <td>1</td>\n",
       "      <td>有</td>\n",
       "      <td>无防盗装置</td>\n",
       "      <td>进口</td>\n",
       "      <td>855.6</td>\n",
       "      <td>1</td>\n",
       "    </tr>\n",
       "    <tr>\n",
       "      <th>4230</th>\n",
       "      <td>1.8</td>\n",
       "      <td>21</td>\n",
       "      <td>男</td>\n",
       "      <td>未婚</td>\n",
       "      <td>0</td>\n",
       "      <td>私人</td>\n",
       "      <td>1</td>\n",
       "      <td>有</td>\n",
       "      <td>无防盗装置</td>\n",
       "      <td>国产</td>\n",
       "      <td>0.0</td>\n",
       "      <td>0</td>\n",
       "    </tr>\n",
       "    <tr>\n",
       "      <th>4231</th>\n",
       "      <td>1.8</td>\n",
       "      <td>21</td>\n",
       "      <td>女</td>\n",
       "      <td>未婚</td>\n",
       "      <td>0</td>\n",
       "      <td>私人</td>\n",
       "      <td>1</td>\n",
       "      <td>有</td>\n",
       "      <td>无防盗装置</td>\n",
       "      <td>进口</td>\n",
       "      <td>3328.0</td>\n",
       "      <td>1</td>\n",
       "    </tr>\n",
       "    <tr>\n",
       "      <th>4232</th>\n",
       "      <td>2.4</td>\n",
       "      <td>21</td>\n",
       "      <td>女</td>\n",
       "      <td>未婚</td>\n",
       "      <td>0</td>\n",
       "      <td>私人</td>\n",
       "      <td>1</td>\n",
       "      <td>有</td>\n",
       "      <td>无防盗装置</td>\n",
       "      <td>进口</td>\n",
       "      <td>1564.0</td>\n",
       "      <td>1</td>\n",
       "    </tr>\n",
       "  </tbody>\n",
       "</table>\n",
       "<p>4233 rows × 12 columns</p>\n",
       "</div>"
      ],
      "text/plain": [
       "      EngSize  Age Gender Marital  exp Owner  vAge Garage AntiTFD import  \\\n",
       "0         2.0   56      男      已婚   20    公司    10      有   有防盗装置     进口   \n",
       "1         1.8   41      男      已婚   20    公司     9      有   无防盗装置     国产   \n",
       "2         2.0   44      男      未婚   20    公司     8      有   有防盗装置     国产   \n",
       "3         1.6   56      男      已婚   20    公司     7      有   有防盗装置     国产   \n",
       "4         1.8   45      男      已婚   20    公司     7      无   无防盗装置     国产   \n",
       "...       ...  ...    ...     ...  ...   ...   ...    ...     ...    ...   \n",
       "4228      1.8   22      女      未婚    0    私人     1      有   有防盗装置     国产   \n",
       "4229      2.5   22      男      未婚    0    私人     1      有   无防盗装置     进口   \n",
       "4230      1.8   21      男      未婚    0    私人     1      有   无防盗装置     国产   \n",
       "4231      1.8   21      女      未婚    0    私人     1      有   无防盗装置     进口   \n",
       "4232      2.4   21      女      未婚    0    私人     1      有   无防盗装置     进口   \n",
       "\n",
       "        Loss  loss_flag  \n",
       "0        0.0          0  \n",
       "1        0.0          0  \n",
       "2        0.0          0  \n",
       "3        0.0          0  \n",
       "4        0.0          0  \n",
       "...      ...        ...  \n",
       "4228   976.0          1  \n",
       "4229   855.6          1  \n",
       "4230     0.0          0  \n",
       "4231  3328.0          1  \n",
       "4232  1564.0          1  \n",
       "\n",
       "[4233 rows x 12 columns]"
      ]
     },
     "execution_count": 30,
     "metadata": {},
     "output_type": "execute_result"
    }
   ],
   "source": [
    "data['loss_flag']=data.Loss.map(lambda x:1 if x>0 else 0)\n",
    "data"
   ]
  },
  {
   "cell_type": "code",
   "execution_count": 31,
   "metadata": {},
   "outputs": [
    {
     "data": {
      "text/plain": [
       "0    3028\n",
       "1    1205\n",
       "Name: loss_flag, dtype: int64"
      ]
     },
     "execution_count": 31,
     "metadata": {},
     "output_type": "execute_result"
    }
   ],
   "source": [
    "# 进行描述性统计：一个分类变量用直方图（频次和百分比）\n",
    "data.loss_flag.value_counts()# 频次"
   ]
  },
  {
   "cell_type": "code",
   "execution_count": 32,
   "metadata": {},
   "outputs": [
    {
     "data": {
      "text/plain": [
       "0    0.715332\n",
       "1    0.284668\n",
       "Name: loss_flag, dtype: float64"
      ]
     },
     "execution_count": 32,
     "metadata": {},
     "output_type": "execute_result"
    }
   ],
   "source": [
    "data.loss_flag.value_counts().div(len(data))#百分比"
   ]
  },
  {
   "cell_type": "code",
   "execution_count": 33,
   "metadata": {},
   "outputs": [
    {
     "data": {
      "text/plain": [
       "<AxesSubplot:>"
      ]
     },
     "execution_count": 33,
     "metadata": {},
     "output_type": "execute_result"
    },
    {
     "data": {
      "image/png": "[encoded data removed]",
      "text/plain": [
       "<Figure size 432x288 with 1 Axes>"
      ]
     },
     "metadata": {
      "needs_background": "light"
     },
     "output_type": "display_data"
    }
   ],
   "source": [
    "# 柱形图\n",
    "data.loss_flag.value_counts().plot(kind='bar')"
   ]
  },
  {
   "cell_type": "code",
   "execution_count": 34,
   "metadata": {},
   "outputs": [],
   "source": [
    "# 出险loss 年龄age(连续) 驾龄exp（等级） 性别gender（名义） 婚姻marital（名义）"
   ]
  },
  {
   "cell_type": "code",
   "execution_count": 35,
   "metadata": {},
   "outputs": [],
   "source": [
    "# 分类盒须图：分类+连续\n",
    "# 堆叠柱形图：两分类"
   ]
  },
  {
   "cell_type": "code",
   "execution_count": 38,
   "metadata": {},
   "outputs": [
    {
     "data": {
      "text/plain": [
       "<AxesSubplot:xlabel='loss_flag', ylabel='exp'>"
      ]
     },
     "execution_count": 38,
     "metadata": {},
     "output_type": "execute_result"
    },
    {
     "data": {
      "image/png": "[encoded data removed]",
      "text/plain": [
       "<Figure size 432x288 with 2 Axes>"
      ]
     },
     "metadata": {
      "needs_background": "light"
     },
     "output_type": "display_data"
    }
   ],
   "source": [
    "fig = plt.figure()\n",
    "ax1 = fig.add_subplot(1,2,1)\n",
    "ax2 = fig.add_subplot(1,2,2)\n",
    "sns.boxplot(x='loss_flag',y='Age',data = data,ax=ax1)\n",
    "sns.boxplot(x='loss_flag',y='exp',data = data,ax=ax2)"
   ]
  },
  {
   "cell_type": "code",
   "execution_count": 40,
   "metadata": {},
   "outputs": [
    {
     "data": {
      "image/png": "[encoded data removed]",
      "text/plain": [
       "<Figure size 432x288 with 1 Axes>"
      ]
     },
     "metadata": {
      "needs_background": "light"
     },
     "output_type": "display_data"
    }
   ],
   "source": [
    "from stack2dim import *\n",
    "stack2dim(data,'Gender','loss_flag')"
   ]
  },
  {
   "cell_type": "code",
   "execution_count": 41,
   "metadata": {},
   "outputs": [
    {
     "data": {
      "image/png": "[encoded data removed]",
      "text/plain": [
       "<Figure size 432x288 with 1 Axes>"
      ]
     },
     "metadata": {
      "needs_background": "light"
     },
     "output_type": "display_data"
    }
   ],
   "source": [
    "stack2dim(data,'Marital','loss_flag')"
   ]
  },
  {
   "cell_type": "markdown",
   "metadata": {},
   "source": [
    "# 作业二"
   ]
  },
  {
   "cell_type": "code",
   "execution_count": 47,
   "metadata": {},
   "outputs": [],
   "source": [
    "import os\n",
    "import pandas as pd\n",
    "import sqlite3\n",
    "os.chdir(r'E:\\Ajiao\\LiXian\\资料\\技术实详解与商业实战\\280_Ben_八大直播八大案例配套课件\\第三章\\提交-第三讲：信用卡客户特征分析-产品客户画像初步\\提交-第三讲：信用卡客户特征分析-产品客户画像初步\\作业-信用卡客户画像\\HW5')\n",
    "\n",
    "card = pd.read_csv(r'card.csv',encoding='gbk')\n",
    "disp = pd.read_csv(r'disp.csv',encoding='gbk')\n",
    "clients  = pd.read_csv(r'clients.csv',encoding='gbk')\n",
    "\n",
    "con = sqlite3.connect(':memory:')#数据库连接\n",
    "\n",
    "card.to_sql('card',con)\n",
    "disp.to_sql('disp',con)\n",
    "clients.to_sql('clients',con)\n",
    "\n",
    "car_sql = '''\n",
    "select a.*,c.sex,c.birth_date,c.district_id \n",
    "    from card as a\n",
    "    left join disp as b on a.disp_id = b.disp_id\n",
    "    left join clients as c on b.client_id = c.client_id\n",
    "    where b.type = '所有者'\n",
    "'''\n",
    "card_t = pd.read_sql(car_sql,con)"
   ]
  },
  {
   "cell_type": "code",
   "execution_count": 48,
   "metadata": {},
   "outputs": [
    {
     "data": {
      "text/html": [
       "<div>\n",
       "<style scoped>\n",
       "    .dataframe tbody tr th:only-of-type {\n",
       "        vertical-align: middle;\n",
       "    }\n",
       "\n",
       "    .dataframe tbody tr th {\n",
       "        vertical-align: top;\n",
       "    }\n",
       "\n",
       "    .dataframe thead th {\n",
       "        text-align: right;\n",
       "    }\n",
       "</style>\n",
       "<table border=\"1\" class=\"dataframe\">\n",
       "  <thead>\n",
       "    <tr style=\"text-align: right;\">\n",
       "      <th></th>\n",
       "      <th>index</th>\n",
       "      <th>card_id</th>\n",
       "      <th>disp_id</th>\n",
       "      <th>issued</th>\n",
       "      <th>type</th>\n",
       "      <th>sex</th>\n",
       "      <th>birth_date</th>\n",
       "      <th>district_id</th>\n",
       "    </tr>\n",
       "  </thead>\n",
       "  <tbody>\n",
       "    <tr>\n",
       "      <th>0</th>\n",
       "      <td>777</td>\n",
       "      <td>1</td>\n",
       "      <td>9</td>\n",
       "      <td>1998-10-16</td>\n",
       "      <td>金卡</td>\n",
       "      <td>男</td>\n",
       "      <td>1935-10-16</td>\n",
       "      <td>60</td>\n",
       "    </tr>\n",
       "    <tr>\n",
       "      <th>1</th>\n",
       "      <td>508</td>\n",
       "      <td>2</td>\n",
       "      <td>19</td>\n",
       "      <td>1998-03-13</td>\n",
       "      <td>普通卡</td>\n",
       "      <td>男</td>\n",
       "      <td>1942-12-28</td>\n",
       "      <td>47</td>\n",
       "    </tr>\n",
       "    <tr>\n",
       "      <th>2</th>\n",
       "      <td>64</td>\n",
       "      <td>3</td>\n",
       "      <td>41</td>\n",
       "      <td>1995-09-03</td>\n",
       "      <td>金卡</td>\n",
       "      <td>男</td>\n",
       "      <td>1968-08-27</td>\n",
       "      <td>22</td>\n",
       "    </tr>\n",
       "    <tr>\n",
       "      <th>3</th>\n",
       "      <td>840</td>\n",
       "      <td>4</td>\n",
       "      <td>42</td>\n",
       "      <td>1998-11-26</td>\n",
       "      <td>普通卡</td>\n",
       "      <td>男</td>\n",
       "      <td>1935-08-17</td>\n",
       "      <td>68</td>\n",
       "    </tr>\n",
       "    <tr>\n",
       "      <th>4</th>\n",
       "      <td>40</td>\n",
       "      <td>5</td>\n",
       "      <td>51</td>\n",
       "      <td>1995-04-24</td>\n",
       "      <td>青年卡</td>\n",
       "      <td>女</td>\n",
       "      <td>1979-12-02</td>\n",
       "      <td>36</td>\n",
       "    </tr>\n",
       "    <tr>\n",
       "      <th>...</th>\n",
       "      <td>...</td>\n",
       "      <td>...</td>\n",
       "      <td>...</td>\n",
       "      <td>...</td>\n",
       "      <td>...</td>\n",
       "      <td>...</td>\n",
       "      <td>...</td>\n",
       "      <td>...</td>\n",
       "    </tr>\n",
       "    <tr>\n",
       "      <th>887</th>\n",
       "      <td>501</td>\n",
       "      <td>1230</td>\n",
       "      <td>13312</td>\n",
       "      <td>1998-03-08</td>\n",
       "      <td>普通卡</td>\n",
       "      <td>男</td>\n",
       "      <td>1970-07-26</td>\n",
       "      <td>16</td>\n",
       "    </tr>\n",
       "    <tr>\n",
       "      <th>888</th>\n",
       "      <td>129</td>\n",
       "      <td>1233</td>\n",
       "      <td>13382</td>\n",
       "      <td>1996-07-06</td>\n",
       "      <td>普通卡</td>\n",
       "      <td>男</td>\n",
       "      <td>1963-05-16</td>\n",
       "      <td>70</td>\n",
       "    </tr>\n",
       "    <tr>\n",
       "      <th>889</th>\n",
       "      <td>409</td>\n",
       "      <td>1234</td>\n",
       "      <td>13386</td>\n",
       "      <td>1997-11-28</td>\n",
       "      <td>普通卡</td>\n",
       "      <td>女</td>\n",
       "      <td>1976-01-20</td>\n",
       "      <td>1</td>\n",
       "    </tr>\n",
       "    <tr>\n",
       "      <th>890</th>\n",
       "      <td>471</td>\n",
       "      <td>1239</td>\n",
       "      <td>13442</td>\n",
       "      <td>1998-02-02</td>\n",
       "      <td>青年卡</td>\n",
       "      <td>女</td>\n",
       "      <td>1980-11-13</td>\n",
       "      <td>12</td>\n",
       "    </tr>\n",
       "    <tr>\n",
       "      <th>891</th>\n",
       "      <td>48</td>\n",
       "      <td>1247</td>\n",
       "      <td>13660</td>\n",
       "      <td>1995-06-13</td>\n",
       "      <td>普通卡</td>\n",
       "      <td>男</td>\n",
       "      <td>1968-04-13</td>\n",
       "      <td>61</td>\n",
       "    </tr>\n",
       "  </tbody>\n",
       "</table>\n",
       "<p>892 rows × 8 columns</p>\n",
       "</div>"
      ],
      "text/plain": [
       "     index  card_id  disp_id      issued type sex  birth_date  district_id\n",
       "0      777        1        9  1998-10-16   金卡   男  1935-10-16           60\n",
       "1      508        2       19  1998-03-13  普通卡   男  1942-12-28           47\n",
       "2       64        3       41  1995-09-03   金卡   男  1968-08-27           22\n",
       "3      840        4       42  1998-11-26  普通卡   男  1935-08-17           68\n",
       "4       40        5       51  1995-04-24  青年卡   女  1979-12-02           36\n",
       "..     ...      ...      ...         ...  ...  ..         ...          ...\n",
       "887    501     1230    13312  1998-03-08  普通卡   男  1970-07-26           16\n",
       "888    129     1233    13382  1996-07-06  普通卡   男  1963-05-16           70\n",
       "889    409     1234    13386  1997-11-28  普通卡   女  1976-01-20            1\n",
       "890    471     1239    13442  1998-02-02  青年卡   女  1980-11-13           12\n",
       "891     48     1247    13660  1995-06-13  普通卡   男  1968-04-13           61\n",
       "\n",
       "[892 rows x 8 columns]"
      ]
     },
     "execution_count": 48,
     "metadata": {},
     "output_type": "execute_result"
    }
   ],
   "source": [
    "card_t"
   ]
  },
  {
   "cell_type": "code",
   "execution_count": null,
   "metadata": {},
   "outputs": [],
   "source": [
    "# 标准堆叠柱形图  type sex（两个分类变量）"
   ]
  },
  {
   "cell_type": "code",
   "execution_count": 51,
   "metadata": {
    "collapsed": true
   },
   "outputs": [
    {
     "data": {
      "image/png": "[encoded data removed]",
      "text/plain": [
       "<Figure size 432x288 with 1 Axes>"
      ]
     },
     "metadata": {
      "needs_background": "light"
     },
     "output_type": "display_data"
    }
   ],
   "source": [
    "from stack2dim import *\n",
    "stack2dim(card_t,'type','sex')"
   ]
  },
  {
   "cell_type": "code",
   "execution_count": 82,
   "metadata": {
    "collapsed": true
   },
   "outputs": [
    {
     "data": {
      "text/html": [
       "<div>\n",
       "<style scoped>\n",
       "    .dataframe tbody tr th:only-of-type {\n",
       "        vertical-align: middle;\n",
       "    }\n",
       "\n",
       "    .dataframe tbody tr th {\n",
       "        vertical-align: top;\n",
       "    }\n",
       "\n",
       "    .dataframe thead th {\n",
       "        text-align: right;\n",
       "    }\n",
       "</style>\n",
       "<table border=\"1\" class=\"dataframe\">\n",
       "  <thead>\n",
       "    <tr style=\"text-align: right;\">\n",
       "      <th>sex</th>\n",
       "      <th>女</th>\n",
       "      <th>男</th>\n",
       "    </tr>\n",
       "    <tr>\n",
       "      <th>type</th>\n",
       "      <th></th>\n",
       "      <th></th>\n",
       "    </tr>\n",
       "  </thead>\n",
       "  <tbody>\n",
       "    <tr>\n",
       "      <th>普通卡</th>\n",
       "      <td>317</td>\n",
       "      <td>342</td>\n",
       "    </tr>\n",
       "    <tr>\n",
       "      <th>金卡</th>\n",
       "      <td>35</td>\n",
       "      <td>53</td>\n",
       "    </tr>\n",
       "    <tr>\n",
       "      <th>青年卡</th>\n",
       "      <td>71</td>\n",
       "      <td>74</td>\n",
       "    </tr>\n",
       "  </tbody>\n",
       "</table>\n",
       "</div>"
      ],
      "text/plain": [
       "sex     女    男\n",
       "type          \n",
       "普通卡   317  342\n",
       "金卡     35   53\n",
       "青年卡    71   74"
      ]
     },
     "execution_count": 82,
     "metadata": {},
     "output_type": "execute_result"
    }
   ],
   "source": [
    "data = pd.crosstab(card_t.type,card_t.sex)\n",
    "data"
   ]
  },
  {
   "cell_type": "code",
   "execution_count": 76,
   "metadata": {},
   "outputs": [],
   "source": [
    "data['sum'] = data.sum(1)"
   ]
  },
  {
   "cell_type": "code",
   "execution_count": 77,
   "metadata": {
    "collapsed": true
   },
   "outputs": [
    {
     "data": {
      "text/html": [
       "<div>\n",
       "<style scoped>\n",
       "    .dataframe tbody tr th:only-of-type {\n",
       "        vertical-align: middle;\n",
       "    }\n",
       "\n",
       "    .dataframe tbody tr th {\n",
       "        vertical-align: top;\n",
       "    }\n",
       "\n",
       "    .dataframe thead th {\n",
       "        text-align: right;\n",
       "    }\n",
       "</style>\n",
       "<table border=\"1\" class=\"dataframe\">\n",
       "  <thead>\n",
       "    <tr style=\"text-align: right;\">\n",
       "      <th>sex</th>\n",
       "      <th>女</th>\n",
       "      <th>男</th>\n",
       "      <th>sum</th>\n",
       "    </tr>\n",
       "    <tr>\n",
       "      <th>type</th>\n",
       "      <th></th>\n",
       "      <th></th>\n",
       "      <th></th>\n",
       "    </tr>\n",
       "  </thead>\n",
       "  <tbody>\n",
       "    <tr>\n",
       "      <th>普通卡</th>\n",
       "      <td>0.481032</td>\n",
       "      <td>0.518968</td>\n",
       "      <td>1.0</td>\n",
       "    </tr>\n",
       "    <tr>\n",
       "      <th>金卡</th>\n",
       "      <td>0.397727</td>\n",
       "      <td>0.602273</td>\n",
       "      <td>1.0</td>\n",
       "    </tr>\n",
       "    <tr>\n",
       "      <th>青年卡</th>\n",
       "      <td>0.489655</td>\n",
       "      <td>0.510345</td>\n",
       "      <td>1.0</td>\n",
       "    </tr>\n",
       "  </tbody>\n",
       "</table>\n",
       "</div>"
      ],
      "text/plain": [
       "sex          女         男  sum\n",
       "type                         \n",
       "普通卡   0.481032  0.518968  1.0\n",
       "金卡    0.397727  0.602273  1.0\n",
       "青年卡   0.489655  0.510345  1.0"
      ]
     },
     "execution_count": 77,
     "metadata": {},
     "output_type": "execute_result"
    }
   ],
   "source": [
    "data_1 = data.div(data['sum'],axis = 0)\n",
    "data_1"
   ]
  },
  {
   "cell_type": "code",
   "execution_count": 79,
   "metadata": {
    "collapsed": true
   },
   "outputs": [
    {
     "data": {
      "text/plain": [
       "<AxesSubplot:xlabel='type'>"
      ]
     },
     "execution_count": 79,
     "metadata": {},
     "output_type": "execute_result"
    },
    {
     "data": {
      "image/png": "[encoded data removed]",
      "text/plain": [
       "<Figure size 432x288 with 1 Axes>"
      ]
     },
     "metadata": {
      "needs_background": "light"
     },
     "output_type": "display_data"
    }
   ],
   "source": [
    "data_1.plot(kind='bar',stacked=True)"
   ]
  },
  {
   "cell_type": "code",
   "execution_count": 83,
   "metadata": {
    "collapsed": true
   },
   "outputs": [
    {
     "data": {
      "text/plain": [
       "<AxesSubplot:xlabel='type'>"
      ]
     },
     "execution_count": 83,
     "metadata": {},
     "output_type": "execute_result"
    },
    {
     "data": {
      "image/png": "[encoded data removed]",
      "text/plain": [
       "<Figure size 432x288 with 1 Axes>"
      ]
     },
     "metadata": {
      "needs_background": "light"
     },
     "output_type": "display_data"
    }
   ],
   "source": [
    "data.div(data.sum(1),axis=0).plot(kind='bar',stacked=True)"
   ]
  },
  {
   "cell_type": "code",
   "execution_count": null,
   "metadata": {},
   "outputs": [],
   "source": [
    "2、连续、名义===盒须图（groupby）"
   ]
  },
  {
   "cell_type": "code",
   "execution_count": 86,
   "metadata": {},
   "outputs": [],
   "source": [
    "from datetime import *\n",
    "import time"
   ]
  },
  {
   "cell_type": "code",
   "execution_count": 93,
   "metadata": {},
   "outputs": [
    {
     "data": {
      "text/html": [
       "<div>\n",
       "<style scoped>\n",
       "    .dataframe tbody tr th:only-of-type {\n",
       "        vertical-align: middle;\n",
       "    }\n",
       "\n",
       "    .dataframe tbody tr th {\n",
       "        vertical-align: top;\n",
       "    }\n",
       "\n",
       "    .dataframe thead th {\n",
       "        text-align: right;\n",
       "    }\n",
       "</style>\n",
       "<table border=\"1\" class=\"dataframe\">\n",
       "  <thead>\n",
       "    <tr style=\"text-align: right;\">\n",
       "      <th></th>\n",
       "      <th>index</th>\n",
       "      <th>card_id</th>\n",
       "      <th>disp_id</th>\n",
       "      <th>issued</th>\n",
       "      <th>type</th>\n",
       "      <th>sex</th>\n",
       "      <th>birth_date</th>\n",
       "      <th>district_id</th>\n",
       "      <th>age</th>\n",
       "    </tr>\n",
       "  </thead>\n",
       "  <tbody>\n",
       "    <tr>\n",
       "      <th>0</th>\n",
       "      <td>777</td>\n",
       "      <td>1</td>\n",
       "      <td>9</td>\n",
       "      <td>1998-10-16</td>\n",
       "      <td>金卡</td>\n",
       "      <td>男</td>\n",
       "      <td>1935-10-16</td>\n",
       "      <td>60</td>\n",
       "      <td>63.043836</td>\n",
       "    </tr>\n",
       "    <tr>\n",
       "      <th>1</th>\n",
       "      <td>508</td>\n",
       "      <td>2</td>\n",
       "      <td>19</td>\n",
       "      <td>1998-03-13</td>\n",
       "      <td>普通卡</td>\n",
       "      <td>男</td>\n",
       "      <td>1942-12-28</td>\n",
       "      <td>47</td>\n",
       "      <td>55.243836</td>\n",
       "    </tr>\n",
       "    <tr>\n",
       "      <th>2</th>\n",
       "      <td>64</td>\n",
       "      <td>3</td>\n",
       "      <td>41</td>\n",
       "      <td>1995-09-03</td>\n",
       "      <td>金卡</td>\n",
       "      <td>男</td>\n",
       "      <td>1968-08-27</td>\n",
       "      <td>22</td>\n",
       "      <td>27.035616</td>\n",
       "    </tr>\n",
       "    <tr>\n",
       "      <th>3</th>\n",
       "      <td>840</td>\n",
       "      <td>4</td>\n",
       "      <td>42</td>\n",
       "      <td>1998-11-26</td>\n",
       "      <td>普通卡</td>\n",
       "      <td>男</td>\n",
       "      <td>1935-08-17</td>\n",
       "      <td>68</td>\n",
       "      <td>63.320548</td>\n",
       "    </tr>\n",
       "    <tr>\n",
       "      <th>4</th>\n",
       "      <td>40</td>\n",
       "      <td>5</td>\n",
       "      <td>51</td>\n",
       "      <td>1995-04-24</td>\n",
       "      <td>青年卡</td>\n",
       "      <td>女</td>\n",
       "      <td>1979-12-02</td>\n",
       "      <td>36</td>\n",
       "      <td>15.402740</td>\n",
       "    </tr>\n",
       "    <tr>\n",
       "      <th>...</th>\n",
       "      <td>...</td>\n",
       "      <td>...</td>\n",
       "      <td>...</td>\n",
       "      <td>...</td>\n",
       "      <td>...</td>\n",
       "      <td>...</td>\n",
       "      <td>...</td>\n",
       "      <td>...</td>\n",
       "      <td>...</td>\n",
       "    </tr>\n",
       "    <tr>\n",
       "      <th>887</th>\n",
       "      <td>501</td>\n",
       "      <td>1230</td>\n",
       "      <td>13312</td>\n",
       "      <td>1998-03-08</td>\n",
       "      <td>普通卡</td>\n",
       "      <td>男</td>\n",
       "      <td>1970-07-26</td>\n",
       "      <td>16</td>\n",
       "      <td>27.635616</td>\n",
       "    </tr>\n",
       "    <tr>\n",
       "      <th>888</th>\n",
       "      <td>129</td>\n",
       "      <td>1233</td>\n",
       "      <td>13382</td>\n",
       "      <td>1996-07-06</td>\n",
       "      <td>普通卡</td>\n",
       "      <td>男</td>\n",
       "      <td>1963-05-16</td>\n",
       "      <td>70</td>\n",
       "      <td>33.164384</td>\n",
       "    </tr>\n",
       "    <tr>\n",
       "      <th>889</th>\n",
       "      <td>409</td>\n",
       "      <td>1234</td>\n",
       "      <td>13386</td>\n",
       "      <td>1997-11-28</td>\n",
       "      <td>普通卡</td>\n",
       "      <td>女</td>\n",
       "      <td>1976-01-20</td>\n",
       "      <td>1</td>\n",
       "      <td>21.871233</td>\n",
       "    </tr>\n",
       "    <tr>\n",
       "      <th>890</th>\n",
       "      <td>471</td>\n",
       "      <td>1239</td>\n",
       "      <td>13442</td>\n",
       "      <td>1998-02-02</td>\n",
       "      <td>青年卡</td>\n",
       "      <td>女</td>\n",
       "      <td>1980-11-13</td>\n",
       "      <td>12</td>\n",
       "      <td>17.232877</td>\n",
       "    </tr>\n",
       "    <tr>\n",
       "      <th>891</th>\n",
       "      <td>48</td>\n",
       "      <td>1247</td>\n",
       "      <td>13660</td>\n",
       "      <td>1995-06-13</td>\n",
       "      <td>普通卡</td>\n",
       "      <td>男</td>\n",
       "      <td>1968-04-13</td>\n",
       "      <td>61</td>\n",
       "      <td>27.183562</td>\n",
       "    </tr>\n",
       "  </tbody>\n",
       "</table>\n",
       "<p>892 rows × 9 columns</p>\n",
       "</div>"
      ],
      "text/plain": [
       "     index  card_id  disp_id      issued type sex  birth_date  district_id  \\\n",
       "0      777        1        9  1998-10-16   金卡   男  1935-10-16           60   \n",
       "1      508        2       19  1998-03-13  普通卡   男  1942-12-28           47   \n",
       "2       64        3       41  1995-09-03   金卡   男  1968-08-27           22   \n",
       "3      840        4       42  1998-11-26  普通卡   男  1935-08-17           68   \n",
       "4       40        5       51  1995-04-24  青年卡   女  1979-12-02           36   \n",
       "..     ...      ...      ...         ...  ...  ..         ...          ...   \n",
       "887    501     1230    13312  1998-03-08  普通卡   男  1970-07-26           16   \n",
       "888    129     1233    13382  1996-07-06  普通卡   男  1963-05-16           70   \n",
       "889    409     1234    13386  1997-11-28  普通卡   女  1976-01-20            1   \n",
       "890    471     1239    13442  1998-02-02  青年卡   女  1980-11-13           12   \n",
       "891     48     1247    13660  1995-06-13  普通卡   男  1968-04-13           61   \n",
       "\n",
       "           age  \n",
       "0    63.043836  \n",
       "1    55.243836  \n",
       "2    27.035616  \n",
       "3    63.320548  \n",
       "4    15.402740  \n",
       "..         ...  \n",
       "887  27.635616  \n",
       "888  33.164384  \n",
       "889  21.871233  \n",
       "890  17.232877  \n",
       "891  27.183562  \n",
       "\n",
       "[892 rows x 9 columns]"
      ]
     },
     "execution_count": 93,
     "metadata": {},
     "output_type": "execute_result"
    }
   ],
   "source": [
    "card_t['age']=pd.to_datetime(card_t['issued']) - pd.to_datetime(card_t['birth_date'])\n",
    "card_t['age'] = card_t['age'].map(lambda x:x.days/365)\n",
    "card_t"
   ]
  },
  {
   "cell_type": "code",
   "execution_count": 94,
   "metadata": {},
   "outputs": [
    {
     "data": {
      "text/plain": [
       "<pandas.core.groupby.generic.SeriesGroupBy object at 0x00000190F5FCC220>"
      ]
     },
     "execution_count": 94,
     "metadata": {},
     "output_type": "execute_result"
    }
   ],
   "source": [
    "card_t.groupby(['type'])['age']."
   ]
  },
  {
   "cell_type": "code",
   "execution_count": 97,
   "metadata": {},
   "outputs": [
    {
     "data": {
      "text/plain": [
       "<AxesSubplot:xlabel='type', ylabel='age'>"
      ]
     },
     "execution_count": 97,
     "metadata": {},
     "output_type": "execute_result"
    },
    {
     "data": {
      "image/png": "[encoded data removed]",
      "text/plain": [
       "<Figure size 432x288 with 1 Axes>"
      ]
     },
     "metadata": {
      "needs_background": "light"
     },
     "output_type": "display_data"
    }
   ],
   "source": [
    "sns.boxplot(x='type',y='age',data=card_t)"
   ]
  },
  {
   "cell_type": "code",
   "execution_count": null,
   "metadata": {},
   "outputs": [],
   "source": [
    "3、"
   ]
  },
  {
   "cell_type": "code",
   "execution_count": null,
   "metadata": {},
   "outputs": [],
   "source": []
  },
  {
   "cell_type": "code",
   "execution_count": null,
   "metadata": {},
   "outputs": [],
   "source": []
  },
  {
   "cell_type": "code",
   "execution_count": null,
   "metadata": {},
   "outputs": [],
   "source": []
  },
  {
   "cell_type": "code",
   "execution_count": null,
   "metadata": {},
   "outputs": [],
   "source": []
  },
  {
   "cell_type": "code",
   "execution_count": null,
   "metadata": {},
   "outputs": [],
   "source": []
  },
  {
   "cell_type": "code",
   "execution_count": null,
   "metadata": {},
   "outputs": [],
   "source": []
  },
  {
   "cell_type": "code",
   "execution_count": null,
   "metadata": {},
   "outputs": [],
   "source": []
  },
  {
   "cell_type": "code",
   "execution_count": null,
   "metadata": {},
   "outputs": [],
   "source": []
  },
  {
   "cell_type": "code",
   "execution_count": null,
   "metadata": {},
   "outputs": [],
   "source": []
  },
  {
   "cell_type": "code",
   "execution_count": null,
   "metadata": {},
   "outputs": [],
   "source": []
  },
  {
   "cell_type": "code",
   "execution_count": null,
   "metadata": {},
   "outputs": [],
   "source": []
  },
  {
   "cell_type": "code",
   "execution_count": null,
   "metadata": {},
   "outputs": [],
   "source": []
  },
  {
   "cell_type": "code",
   "execution_count": null,
   "metadata": {},
   "outputs": [],
   "source": []
  },
  {
   "cell_type": "code",
   "execution_count": null,
   "metadata": {},
   "outputs": [],
   "source": []
  },
  {
   "cell_type": "code",
   "execution_count": null,
   "metadata": {},
   "outputs": [],
   "source": []
  },
  {
   "cell_type": "code",
   "execution_count": null,
   "metadata": {},
   "outputs": [],
   "source": []
  },
  {
   "cell_type": "code",
   "execution_count": null,
   "metadata": {},
   "outputs": [],
   "source": []
  },
  {
   "cell_type": "code",
   "execution_count": null,
   "metadata": {},
   "outputs": [],
   "source": []
  },
  {
   "cell_type": "code",
   "execution_count": null,
   "metadata": {},
   "outputs": [],
   "source": []
  },
  {
   "cell_type": "code",
   "execution_count": null,
   "metadata": {},
   "outputs": [],
   "source": []
  },
  {
   "cell_type": "code",
   "execution_count": null,
   "metadata": {},
   "outputs": [],
   "source": []
  },
  {
   "cell_type": "code",
   "execution_count": null,
   "metadata": {},
   "outputs": [],
   "source": []
  },
  {
   "cell_type": "code",
   "execution_count": null,
   "metadata": {},
   "outputs": [],
   "source": []
  },
  {
   "cell_type": "code",
   "execution_count": null,
   "metadata": {},
   "outputs": [],
   "source": []
  },
  {
   "cell_type": "code",
   "execution_count": null,
   "metadata": {},
   "outputs": [],
   "source": []
  },
  {
   "cell_type": "code",
   "execution_count": null,
   "metadata": {},
   "outputs": [],
   "source": []
  },
  {
   "cell_type": "code",
   "execution_count": null,
   "metadata": {},
   "outputs": [],
   "source": []
  },
  {
   "cell_type": "code",
   "execution_count": null,
   "metadata": {},
   "outputs": [],
   "source": []
  },
  {
   "cell_type": "code",
   "execution_count": null,
   "metadata": {},
   "outputs": [],
   "source": []
  }
 ],
 "metadata": {
  "kernelspec": {
   "display_name": "Python 3",
   "language": "python",
   "name": "python3"
  },
  "language_info": {
   "codemirror_mode": {
    "name": "ipython",
    "version": 3
   },
   "file_extension": ".py",
   "mimetype": "text/x-python",
   "name": "python",
   "nbconvert_exporter": "python",
   "pygments_lexer": "ipython3",
   "version": "3.8.5"
  }
 },
 "nbformat": 4,
 "nbformat_minor": 4
}
