{
 "cells": [
  {
   "cell_type": "code",
   "execution_count": null,
   "metadata": {},
   "outputs": [],
   "source": [
    "名义变量、等级变量统称为分类变量，又称为维度指标：时间、年度\n",
    "连续变量为度量指标：利润、收入、利润率"
   ]
  },
  {
   "cell_type": "code",
   "execution_count": null,
   "metadata": {},
   "outputs": [],
   "source": [
    " 汇总表\n",
    "        地区（分类变量）\n",
    "\n",
    "产品（分类变量）  收入（连续变量）  "
   ]
  },
  {
   "cell_type": "code",
   "execution_count": null,
   "metadata": {},
   "outputs": [],
   "source": [
    "            频次\n",
    "分类变量：\n",
    "            百分比\n",
    "sns.district.value_counts()  "
   ]
  },
  {
   "cell_type": "code",
   "execution_count": 3,
   "metadata": {},
   "outputs": [],
   "source": [
    "import pandas as pd\n",
    "import numpy as np\n",
    "import matplotlib.pyplot as plt\n",
    "import seaborn as sns\n",
    "import os\n",
    "import matplotlib\n",
    "#% 创建分割"
   ]
  },
  {
   "cell_type": "code",
   "execution_count": 4,
   "metadata": {},
   "outputs": [
    {
     "data": {
      "text/html": [
       "<div>\n",
       "<style scoped>\n",
       "    .dataframe tbody tr th:only-of-type {\n",
       "        vertical-align: middle;\n",
       "    }\n",
       "\n",
       "    .dataframe tbody tr th {\n",
       "        vertical-align: top;\n",
       "    }\n",
       "\n",
       "    .dataframe thead th {\n",
       "        text-align: right;\n",
       "    }\n",
       "</style>\n",
       "<table border=\"1\" class=\"dataframe\">\n",
       "  <thead>\n",
       "    <tr style=\"text-align: right;\">\n",
       "      <th></th>\n",
       "      <th>dist</th>\n",
       "      <th>roomnum</th>\n",
       "      <th>halls</th>\n",
       "      <th>AREA</th>\n",
       "      <th>floor</th>\n",
       "      <th>subway</th>\n",
       "      <th>school</th>\n",
       "      <th>price</th>\n",
       "    </tr>\n",
       "  </thead>\n",
       "  <tbody>\n",
       "    <tr>\n",
       "      <th>0</th>\n",
       "      <td>chaoyang</td>\n",
       "      <td>1</td>\n",
       "      <td>0</td>\n",
       "      <td>46.06</td>\n",
       "      <td>middle</td>\n",
       "      <td>1</td>\n",
       "      <td>0</td>\n",
       "      <td>48850</td>\n",
       "    </tr>\n",
       "    <tr>\n",
       "      <th>1</th>\n",
       "      <td>chaoyang</td>\n",
       "      <td>1</td>\n",
       "      <td>1</td>\n",
       "      <td>59.09</td>\n",
       "      <td>middle</td>\n",
       "      <td>1</td>\n",
       "      <td>0</td>\n",
       "      <td>46540</td>\n",
       "    </tr>\n",
       "    <tr>\n",
       "      <th>2</th>\n",
       "      <td>haidian</td>\n",
       "      <td>5</td>\n",
       "      <td>2</td>\n",
       "      <td>278.95</td>\n",
       "      <td>high</td>\n",
       "      <td>1</td>\n",
       "      <td>1</td>\n",
       "      <td>71662</td>\n",
       "    </tr>\n",
       "    <tr>\n",
       "      <th>3</th>\n",
       "      <td>haidian</td>\n",
       "      <td>3</td>\n",
       "      <td>2</td>\n",
       "      <td>207.00</td>\n",
       "      <td>high</td>\n",
       "      <td>1</td>\n",
       "      <td>1</td>\n",
       "      <td>57972</td>\n",
       "    </tr>\n",
       "    <tr>\n",
       "      <th>4</th>\n",
       "      <td>fengtai</td>\n",
       "      <td>2</td>\n",
       "      <td>1</td>\n",
       "      <td>53.32</td>\n",
       "      <td>low</td>\n",
       "      <td>1</td>\n",
       "      <td>1</td>\n",
       "      <td>71268</td>\n",
       "    </tr>\n",
       "    <tr>\n",
       "      <th>...</th>\n",
       "      <td>...</td>\n",
       "      <td>...</td>\n",
       "      <td>...</td>\n",
       "      <td>...</td>\n",
       "      <td>...</td>\n",
       "      <td>...</td>\n",
       "      <td>...</td>\n",
       "      <td>...</td>\n",
       "    </tr>\n",
       "    <tr>\n",
       "      <th>16205</th>\n",
       "      <td>chaoyang</td>\n",
       "      <td>3</td>\n",
       "      <td>1</td>\n",
       "      <td>76.33</td>\n",
       "      <td>middle</td>\n",
       "      <td>1</td>\n",
       "      <td>0</td>\n",
       "      <td>52405</td>\n",
       "    </tr>\n",
       "    <tr>\n",
       "      <th>16206</th>\n",
       "      <td>chaoyang</td>\n",
       "      <td>3</td>\n",
       "      <td>1</td>\n",
       "      <td>76.42</td>\n",
       "      <td>middle</td>\n",
       "      <td>1</td>\n",
       "      <td>0</td>\n",
       "      <td>52343</td>\n",
       "    </tr>\n",
       "    <tr>\n",
       "      <th>16207</th>\n",
       "      <td>chaoyang</td>\n",
       "      <td>2</td>\n",
       "      <td>1</td>\n",
       "      <td>61.79</td>\n",
       "      <td>high</td>\n",
       "      <td>1</td>\n",
       "      <td>0</td>\n",
       "      <td>50170</td>\n",
       "    </tr>\n",
       "    <tr>\n",
       "      <th>16208</th>\n",
       "      <td>chaoyang</td>\n",
       "      <td>1</td>\n",
       "      <td>1</td>\n",
       "      <td>42.89</td>\n",
       "      <td>high</td>\n",
       "      <td>1</td>\n",
       "      <td>0</td>\n",
       "      <td>52693</td>\n",
       "    </tr>\n",
       "    <tr>\n",
       "      <th>16209</th>\n",
       "      <td>fengtai</td>\n",
       "      <td>2</td>\n",
       "      <td>1</td>\n",
       "      <td>89.90</td>\n",
       "      <td>middle</td>\n",
       "      <td>1</td>\n",
       "      <td>0</td>\n",
       "      <td>46719</td>\n",
       "    </tr>\n",
       "  </tbody>\n",
       "</table>\n",
       "<p>16210 rows × 8 columns</p>\n",
       "</div>"
      ],
      "text/plain": [
       "           dist  roomnum  halls    AREA   floor  subway  school  price\n",
       "0      chaoyang        1      0   46.06  middle       1       0  48850\n",
       "1      chaoyang        1      1   59.09  middle       1       0  46540\n",
       "2       haidian        5      2  278.95    high       1       1  71662\n",
       "3       haidian        3      2  207.00    high       1       1  57972\n",
       "4       fengtai        2      1   53.32     low       1       1  71268\n",
       "...         ...      ...    ...     ...     ...     ...     ...    ...\n",
       "16205  chaoyang        3      1   76.33  middle       1       0  52405\n",
       "16206  chaoyang        3      1   76.42  middle       1       0  52343\n",
       "16207  chaoyang        2      1   61.79    high       1       0  50170\n",
       "16208  chaoyang        1      1   42.89    high       1       0  52693\n",
       "16209   fengtai        2      1   89.90  middle       1       0  46719\n",
       "\n",
       "[16210 rows x 8 columns]"
      ]
     },
     "execution_count": 4,
     "metadata": {},
     "output_type": "execute_result"
    }
   ],
   "source": [
    "os.chdir(r'E:\\Ajiao\\LiXian\\资料\\技术实详解与商业实战\\280_Ben_八大直播八大案例配套课件\\第三章\\提交-第三讲：信用卡客户特征分析-产品客户画像初步\\提交-第三讲：信用卡客户特征分析-产品客户画像初步\\数据与脚本\\4describe')\n",
    "snd  = pd.read_csv('SndHsPr.csv')\n",
    "snd"
   ]
  },
  {
   "cell_type": "code",
   "execution_count": 3,
   "metadata": {},
   "outputs": [
    {
     "data": {
      "text/plain": [
       "dist        object\n",
       "roomnum      int64\n",
       "halls        int64\n",
       "AREA       float64\n",
       "floor       object\n",
       "subway       int64\n",
       "school       int64\n",
       "price        int64\n",
       "dtype: object"
      ]
     },
     "execution_count": 3,
     "metadata": {},
     "output_type": "execute_result"
    }
   ],
   "source": [
    "snd.dtypes"
   ]
  },
  {
   "cell_type": "code",
   "execution_count": 5,
   "metadata": {},
   "outputs": [
    {
     "data": {
      "text/html": [
       "<div>\n",
       "<style scoped>\n",
       "    .dataframe tbody tr th:only-of-type {\n",
       "        vertical-align: middle;\n",
       "    }\n",
       "\n",
       "    .dataframe tbody tr th {\n",
       "        vertical-align: top;\n",
       "    }\n",
       "\n",
       "    .dataframe thead th {\n",
       "        text-align: right;\n",
       "    }\n",
       "</style>\n",
       "<table border=\"1\" class=\"dataframe\">\n",
       "  <thead>\n",
       "    <tr style=\"text-align: right;\">\n",
       "      <th></th>\n",
       "      <th>dist</th>\n",
       "      <th>roomnum</th>\n",
       "      <th>halls</th>\n",
       "      <th>AREA</th>\n",
       "      <th>floor</th>\n",
       "      <th>subway</th>\n",
       "      <th>school</th>\n",
       "      <th>price</th>\n",
       "      <th>district</th>\n",
       "    </tr>\n",
       "  </thead>\n",
       "  <tbody>\n",
       "    <tr>\n",
       "      <th>0</th>\n",
       "      <td>chaoyang</td>\n",
       "      <td>1</td>\n",
       "      <td>0</td>\n",
       "      <td>46.06</td>\n",
       "      <td>middle</td>\n",
       "      <td>1</td>\n",
       "      <td>0</td>\n",
       "      <td>48850</td>\n",
       "      <td>朝阳区</td>\n",
       "    </tr>\n",
       "    <tr>\n",
       "      <th>1</th>\n",
       "      <td>chaoyang</td>\n",
       "      <td>1</td>\n",
       "      <td>1</td>\n",
       "      <td>59.09</td>\n",
       "      <td>middle</td>\n",
       "      <td>1</td>\n",
       "      <td>0</td>\n",
       "      <td>46540</td>\n",
       "      <td>朝阳区</td>\n",
       "    </tr>\n",
       "    <tr>\n",
       "      <th>2</th>\n",
       "      <td>haidian</td>\n",
       "      <td>5</td>\n",
       "      <td>2</td>\n",
       "      <td>278.95</td>\n",
       "      <td>high</td>\n",
       "      <td>1</td>\n",
       "      <td>1</td>\n",
       "      <td>71662</td>\n",
       "      <td>海淀区</td>\n",
       "    </tr>\n",
       "    <tr>\n",
       "      <th>3</th>\n",
       "      <td>haidian</td>\n",
       "      <td>3</td>\n",
       "      <td>2</td>\n",
       "      <td>207.00</td>\n",
       "      <td>high</td>\n",
       "      <td>1</td>\n",
       "      <td>1</td>\n",
       "      <td>57972</td>\n",
       "      <td>海淀区</td>\n",
       "    </tr>\n",
       "    <tr>\n",
       "      <th>4</th>\n",
       "      <td>fengtai</td>\n",
       "      <td>2</td>\n",
       "      <td>1</td>\n",
       "      <td>53.32</td>\n",
       "      <td>low</td>\n",
       "      <td>1</td>\n",
       "      <td>1</td>\n",
       "      <td>71268</td>\n",
       "      <td>丰台区</td>\n",
       "    </tr>\n",
       "  </tbody>\n",
       "</table>\n",
       "</div>"
      ],
      "text/plain": [
       "       dist  roomnum  halls    AREA   floor  subway  school  price district\n",
       "0  chaoyang        1      0   46.06  middle       1       0  48850      朝阳区\n",
       "1  chaoyang        1      1   59.09  middle       1       0  46540      朝阳区\n",
       "2   haidian        5      2  278.95    high       1       1  71662      海淀区\n",
       "3   haidian        3      2  207.00    high       1       1  57972      海淀区\n",
       "4   fengtai        2      1   53.32     low       1       1  71268      丰台区"
      ]
     },
     "execution_count": 5,
     "metadata": {},
     "output_type": "execute_result"
    }
   ],
   "source": [
    "district = {'fengtai':'丰台区','haidian':'海淀区','chaoyang':'朝阳区','dongcheng':'东城区','xicheng':'西城区','shijingshan':'石景山区'}\n",
    "snd['district'] = snd.dist.map(district)#取元素\n",
    "snd.head()"
   ]
  },
  {
   "cell_type": "code",
   "execution_count": null,
   "metadata": {},
   "outputs": [],
   "source": [
    "下面是一个分类变量"
   ]
  },
  {
   "cell_type": "code",
   "execution_count": 6,
   "metadata": {},
   "outputs": [
    {
     "data": {
      "text/plain": [
       "丰台区     2947\n",
       "海淀区     2919\n",
       "朝阳区     2864\n",
       "东城区     2783\n",
       "西城区     2750\n",
       "石景山区    1947\n",
       "Name: district, dtype: int64"
      ]
     },
     "execution_count": 6,
     "metadata": {},
     "output_type": "execute_result"
    }
   ],
   "source": [
    "#snd.district向量\n",
    "snd.district.value_counts()# 返回的是series"
   ]
  },
  {
   "cell_type": "code",
   "execution_count": 8,
   "metadata": {},
   "outputs": [
    {
     "data": {
      "text/plain": [
       "<AxesSubplot:>"
      ]
     },
     "execution_count": 8,
     "metadata": {},
     "output_type": "execute_result"
    },
    {
     "data": {
      "image/png": "[encoded data removed]",
      "text/plain": [
       "<Figure size 432x288 with 1 Axes>"
      ]
     },
     "metadata": {
      "needs_background": "light"
     },
     "output_type": "display_data"
    }
   ],
   "source": [
    "from pylab import mpl\n",
    "mpl.rcParams['font.sans-serif'] = ['Simhei']# 之人默认字体\n",
    "mpl.rcParams['axes.unicode_minus'] = False # 解决保存图像是负号‘-’显示为方块的问题\n",
    "snd.district.value_counts().plot(kind='bar')"
   ]
  },
  {
   "cell_type": "code",
   "execution_count": 5,
   "metadata": {},
   "outputs": [
    {
     "data": {
      "text/plain": [
       "<AxesSubplot:ylabel='district'>"
      ]
     },
     "execution_count": 5,
     "metadata": {},
     "output_type": "execute_result"
    },
    {
     "data": {
      "image/png": "[encoded data removed]",
      "text/plain": [
       "<Figure size 432x288 with 1 Axes>"
      ]
     },
     "metadata": {},
     "output_type": "display_data"
    }
   ],
   "source": [
    "from pylab import mpl\n",
    "mpl.rcParams['font.sans-serif'] = ['Simhei']# 之人默认字体\n",
    "mpl.rcParams['axes.unicode_minus'] = False # 解决保存图像是负号‘-’显示为方块的问题\n",
    "snd.district.value_counts().plot(kind='pie')"
   ]
  },
  {
   "cell_type": "code",
   "execution_count": null,
   "metadata": {},
   "outputs": [],
   "source": [
    "下面是一个连续变量"
   ]
  },
  {
   "cell_type": "code",
   "execution_count": 9,
   "metadata": {},
   "outputs": [
    {
     "data": {
      "text/plain": [
       "61151.810919185686"
      ]
     },
     "execution_count": 9,
     "metadata": {},
     "output_type": "execute_result"
    }
   ],
   "source": [
    "snd.price.mean()#均值"
   ]
  },
  {
   "cell_type": "code",
   "execution_count": 10,
   "metadata": {},
   "outputs": [
    {
     "data": {
      "text/plain": [
       "57473.0"
      ]
     },
     "execution_count": 10,
     "metadata": {},
     "output_type": "execute_result"
    }
   ],
   "source": [
    "snd.price.median()# 中位数，<均值，所以是右偏函数"
   ]
  },
  {
   "cell_type": "code",
   "execution_count": 11,
   "metadata": {},
   "outputs": [
    {
     "data": {
      "text/plain": [
       "22293.35814732866"
      ]
     },
     "execution_count": 11,
     "metadata": {},
     "output_type": "execute_result"
    }
   ],
   "source": [
    "snd.price.std()# 标准差：比较离散程度的时候有用，一个标准差没有用"
   ]
  },
  {
   "cell_type": "code",
   "execution_count": 12,
   "metadata": {},
   "outputs": [
    {
     "data": {
      "text/plain": [
       "0.6794935869486859"
      ]
     },
     "execution_count": 12,
     "metadata": {},
     "output_type": "execute_result"
    }
   ],
   "source": [
    "snd.price.skew()#判断是否有篇，>1 表示严重右偏"
   ]
  },
  {
   "cell_type": "code",
   "execution_count": 13,
   "metadata": {},
   "outputs": [
    {
     "data": {
      "text/plain": [
       "<AxesSubplot:>"
      ]
     },
     "execution_count": 13,
     "metadata": {},
     "output_type": "execute_result"
    },
    {
     "data": {
      "image/png": "[encoded data removed]",
      "text/plain": [
       "<Figure size 432x288 with 1 Axes>"
      ]
     },
     "metadata": {
      "needs_background": "light"
     },
     "output_type": "display_data"
    }
   ],
   "source": [
    "snd.price.hist(bins=40)# 分40组"
   ]
  },
  {
   "cell_type": "code",
   "execution_count": 14,
   "metadata": {},
   "outputs": [
    {
     "data": {
      "text/plain": [
       "mean      6.115181e+04\n",
       "median    5.747300e+04\n",
       "sum       9.912709e+08\n",
       "std       2.229336e+04\n",
       "skew      6.794936e-01\n",
       "Name: price, dtype: float64"
      ]
     },
     "execution_count": 14,
     "metadata": {},
     "output_type": "execute_result"
    }
   ],
   "source": [
    "snd.price.agg(['mean','median','sum','std','skew'])# 出多个统计量"
   ]
  },
  {
   "cell_type": "code",
   "execution_count": null,
   "metadata": {},
   "outputs": [],
   "source": [
    "#取分位点的\n",
    "snd.price.quantile([0.01,0.5,0.99])"
   ]
  },
  {
   "cell_type": "code",
   "execution_count": null,
   "metadata": {},
   "outputs": [],
   "source": [
    "两个变量级的关系：分类变量"
   ]
  },
  {
   "cell_type": "code",
   "execution_count": 8,
   "metadata": {},
   "outputs": [
    {
     "data": {
      "text/html": [
       "<div>\n",
       "<style scoped>\n",
       "    .dataframe tbody tr th:only-of-type {\n",
       "        vertical-align: middle;\n",
       "    }\n",
       "\n",
       "    .dataframe tbody tr th {\n",
       "        vertical-align: top;\n",
       "    }\n",
       "\n",
       "    .dataframe thead th {\n",
       "        text-align: right;\n",
       "    }\n",
       "</style>\n",
       "<table border=\"1\" class=\"dataframe\">\n",
       "  <thead>\n",
       "    <tr style=\"text-align: right;\">\n",
       "      <th>school</th>\n",
       "      <th>0</th>\n",
       "      <th>1</th>\n",
       "    </tr>\n",
       "    <tr>\n",
       "      <th>district</th>\n",
       "      <th></th>\n",
       "      <th></th>\n",
       "    </tr>\n",
       "  </thead>\n",
       "  <tbody>\n",
       "    <tr>\n",
       "      <th>东城区</th>\n",
       "      <td>1508</td>\n",
       "      <td>1275</td>\n",
       "    </tr>\n",
       "    <tr>\n",
       "      <th>丰台区</th>\n",
       "      <td>2853</td>\n",
       "      <td>94</td>\n",
       "    </tr>\n",
       "    <tr>\n",
       "      <th>朝阳区</th>\n",
       "      <td>2267</td>\n",
       "      <td>597</td>\n",
       "    </tr>\n",
       "    <tr>\n",
       "      <th>海淀区</th>\n",
       "      <td>1533</td>\n",
       "      <td>1386</td>\n",
       "    </tr>\n",
       "    <tr>\n",
       "      <th>石景山区</th>\n",
       "      <td>1929</td>\n",
       "      <td>18</td>\n",
       "    </tr>\n",
       "    <tr>\n",
       "      <th>西城区</th>\n",
       "      <td>1207</td>\n",
       "      <td>1543</td>\n",
       "    </tr>\n",
       "  </tbody>\n",
       "</table>\n",
       "</div>"
      ],
      "text/plain": [
       "school       0     1\n",
       "district            \n",
       "东城区       1508  1275\n",
       "丰台区       2853    94\n",
       "朝阳区       2267   597\n",
       "海淀区       1533  1386\n",
       "石景山区      1929    18\n",
       "西城区       1207  1543"
      ]
     },
     "execution_count": 8,
     "metadata": {},
     "output_type": "execute_result"
    }
   ],
   "source": [
    "#dataframe形式，生成数据框\n",
    "\n",
    "sub_sch = pd.crosstab(snd.district,snd.school)\n",
    "sub_sch   # 频次表"
   ]
  },
  {
   "cell_type": "code",
   "execution_count": 9,
   "metadata": {},
   "outputs": [
    {
     "data": {
      "text/plain": [
       "<AxesSubplot:xlabel='district'>"
      ]
     },
     "execution_count": 9,
     "metadata": {},
     "output_type": "execute_result"
    },
    {
     "data": {
      "image/png": "[encoded data removed]",
      "text/plain": [
       "<Figure size 432x288 with 1 Axes>"
      ]
     },
     "metadata": {
      "needs_background": "light"
     },
     "output_type": "display_data"
    }
   ],
   "source": [
    "sub_sch.plot(kind='bar')\n",
    "# 纵轴分类，分类柱形图"
   ]
  },
  {
   "cell_type": "code",
   "execution_count": 10,
   "metadata": {},
   "outputs": [
    {
     "data": {
      "text/plain": [
       "<AxesSubplot:xlabel='district'>"
      ]
     },
     "execution_count": 10,
     "metadata": {},
     "output_type": "execute_result"
    },
    {
     "data": {
      "image/png": "[encoded data removed]",
      "text/plain": [
       "<Figure size 432x288 with 1 Axes>"
      ]
     },
     "metadata": {
      "needs_background": "light"
     },
     "output_type": "display_data"
    }
   ],
   "source": [
    "# 堆叠柱形图\n",
    "sub_sch.plot(kind='bar',stacked=True)"
   ]
  },
  {
   "cell_type": "code",
   "execution_count": null,
   "metadata": {},
   "outputs": [],
   "source": [
    "资源分配：一个分类变量在另一个分类变量对应分布的均匀情况，看资源有没有倾向性的分配情况，更多的是做标准化的堆叠柱形图，"
   ]
  },
  {
   "cell_type": "code",
   "execution_count": null,
   "metadata": {},
   "outputs": [],
   "source": [
    "标准化堆叠柱形图：对比占比情况"
   ]
  },
  {
   "cell_type": "code",
   "execution_count": null,
   "metadata": {},
   "outputs": [],
   "source": [
    "sub_sch "
   ]
  },
  {
   "cell_type": "code",
   "execution_count": 11,
   "metadata": {},
   "outputs": [],
   "source": [
    "sub_sch[\"sum1\"]=sub_sch.sum(1)# 先行后列，1是汇总出一个列，0是汇总出了一个行"
   ]
  },
  {
   "cell_type": "code",
   "execution_count": 12,
   "metadata": {},
   "outputs": [
    {
     "data": {
      "text/html": [
       "<div>\n",
       "<style scoped>\n",
       "    .dataframe tbody tr th:only-of-type {\n",
       "        vertical-align: middle;\n",
       "    }\n",
       "\n",
       "    .dataframe tbody tr th {\n",
       "        vertical-align: top;\n",
       "    }\n",
       "\n",
       "    .dataframe thead th {\n",
       "        text-align: right;\n",
       "    }\n",
       "</style>\n",
       "<table border=\"1\" class=\"dataframe\">\n",
       "  <thead>\n",
       "    <tr style=\"text-align: right;\">\n",
       "      <th>school</th>\n",
       "      <th>0</th>\n",
       "      <th>1</th>\n",
       "      <th>sum1</th>\n",
       "    </tr>\n",
       "    <tr>\n",
       "      <th>district</th>\n",
       "      <th></th>\n",
       "      <th></th>\n",
       "      <th></th>\n",
       "    </tr>\n",
       "  </thead>\n",
       "  <tbody>\n",
       "    <tr>\n",
       "      <th>东城区</th>\n",
       "      <td>1508</td>\n",
       "      <td>1275</td>\n",
       "      <td>2783</td>\n",
       "    </tr>\n",
       "    <tr>\n",
       "      <th>丰台区</th>\n",
       "      <td>2853</td>\n",
       "      <td>94</td>\n",
       "      <td>2947</td>\n",
       "    </tr>\n",
       "    <tr>\n",
       "      <th>朝阳区</th>\n",
       "      <td>2267</td>\n",
       "      <td>597</td>\n",
       "      <td>2864</td>\n",
       "    </tr>\n",
       "    <tr>\n",
       "      <th>海淀区</th>\n",
       "      <td>1533</td>\n",
       "      <td>1386</td>\n",
       "      <td>2919</td>\n",
       "    </tr>\n",
       "    <tr>\n",
       "      <th>石景山区</th>\n",
       "      <td>1929</td>\n",
       "      <td>18</td>\n",
       "      <td>1947</td>\n",
       "    </tr>\n",
       "  </tbody>\n",
       "</table>\n",
       "</div>"
      ],
      "text/plain": [
       "school       0     1  sum1\n",
       "district                  \n",
       "东城区       1508  1275  2783\n",
       "丰台区       2853    94  2947\n",
       "朝阳区       2267   597  2864\n",
       "海淀区       1533  1386  2919\n",
       "石景山区      1929    18  1947"
      ]
     },
     "execution_count": 12,
     "metadata": {},
     "output_type": "execute_result"
    }
   ],
   "source": [
    "sub_sch.head()"
   ]
  },
  {
   "cell_type": "code",
   "execution_count": 13,
   "metadata": {},
   "outputs": [],
   "source": [
    "#按行求 百分比\n",
    "sub_sch = sub_sch.div(sub_sch.sum1,axis = 0)# 除法 得到百分比，按行"
   ]
  },
  {
   "cell_type": "code",
   "execution_count": 14,
   "metadata": {
    "scrolled": true
   },
   "outputs": [
    {
     "data": {
      "text/html": [
       "<div>\n",
       "<style scoped>\n",
       "    .dataframe tbody tr th:only-of-type {\n",
       "        vertical-align: middle;\n",
       "    }\n",
       "\n",
       "    .dataframe tbody tr th {\n",
       "        vertical-align: top;\n",
       "    }\n",
       "\n",
       "    .dataframe thead th {\n",
       "        text-align: right;\n",
       "    }\n",
       "</style>\n",
       "<table border=\"1\" class=\"dataframe\">\n",
       "  <thead>\n",
       "    <tr style=\"text-align: right;\">\n",
       "      <th>school</th>\n",
       "      <th>0</th>\n",
       "      <th>1</th>\n",
       "      <th>sum1</th>\n",
       "    </tr>\n",
       "    <tr>\n",
       "      <th>district</th>\n",
       "      <th></th>\n",
       "      <th></th>\n",
       "      <th></th>\n",
       "    </tr>\n",
       "  </thead>\n",
       "  <tbody>\n",
       "    <tr>\n",
       "      <th>东城区</th>\n",
       "      <td>0.541861</td>\n",
       "      <td>0.458139</td>\n",
       "      <td>1.0</td>\n",
       "    </tr>\n",
       "    <tr>\n",
       "      <th>丰台区</th>\n",
       "      <td>0.968103</td>\n",
       "      <td>0.031897</td>\n",
       "      <td>1.0</td>\n",
       "    </tr>\n",
       "    <tr>\n",
       "      <th>朝阳区</th>\n",
       "      <td>0.791550</td>\n",
       "      <td>0.208450</td>\n",
       "      <td>1.0</td>\n",
       "    </tr>\n",
       "    <tr>\n",
       "      <th>海淀区</th>\n",
       "      <td>0.525180</td>\n",
       "      <td>0.474820</td>\n",
       "      <td>1.0</td>\n",
       "    </tr>\n",
       "    <tr>\n",
       "      <th>石景山区</th>\n",
       "      <td>0.990755</td>\n",
       "      <td>0.009245</td>\n",
       "      <td>1.0</td>\n",
       "    </tr>\n",
       "    <tr>\n",
       "      <th>西城区</th>\n",
       "      <td>0.438909</td>\n",
       "      <td>0.561091</td>\n",
       "      <td>1.0</td>\n",
       "    </tr>\n",
       "  </tbody>\n",
       "</table>\n",
       "</div>"
      ],
      "text/plain": [
       "school           0         1  sum1\n",
       "district                          \n",
       "东城区       0.541861  0.458139   1.0\n",
       "丰台区       0.968103  0.031897   1.0\n",
       "朝阳区       0.791550  0.208450   1.0\n",
       "海淀区       0.525180  0.474820   1.0\n",
       "石景山区      0.990755  0.009245   1.0\n",
       "西城区       0.438909  0.561091   1.0"
      ]
     },
     "execution_count": 14,
     "metadata": {},
     "output_type": "execute_result"
    }
   ],
   "source": [
    "sub_sch"
   ]
  },
  {
   "cell_type": "code",
   "execution_count": null,
   "metadata": {},
   "outputs": [],
   "source": [
    "堆叠柱形图可以看出样本量，不能看占比\n",
    "标准化堆叠柱形图：两个分类变量有没有关系，不同区与教育资源是否倾斜"
   ]
  },
  {
   "cell_type": "code",
   "execution_count": null,
   "metadata": {},
   "outputs": [],
   "source": [
    "标准化堆叠柱形图可以看出占比情况，但不能看出样本量的大小\n",
    "所以用主子的胖瘦来看样本量"
   ]
  },
  {
   "cell_type": "code",
   "execution_count": 15,
   "metadata": {},
   "outputs": [
    {
     "data": {
      "image/png": "[encoded data removed]",
      "text/plain": [
       "<Figure size 432x288 with 1 Axes>"
      ]
     },
     "metadata": {
      "needs_background": "light"
     },
     "output_type": "display_data"
    }
   ],
   "source": [
    "from stack2dim import *\n",
    "stack2dim(snd,i='district',j='school')"
   ]
  },
  {
   "cell_type": "code",
   "execution_count": 16,
   "metadata": {},
   "outputs": [
    {
     "name": "stdout",
     "output_type": "stream",
     "text": [
      "Help on function stack2dim in module stack2dim:\n",
      "\n",
      "stack2dim(raw, i, j, rotation=0, location='upper right')\n",
      "    此函数是为了画两个维度标准化的堆积柱状图\n",
      "    raw为pandas的DataFrame数据框\n",
      "    i、j为两个分类变量的变量名称，要求带引号，比如\"school\"\n",
      "    rotation：水平标签旋转角度，默认水平方向，如标签过长，可设置一定角度，比如设置rotation = 40\n",
      "    location：分类标签的位置，如果被主体图形挡住，可更改为'upper left'\n",
      "\n"
     ]
    }
   ],
   "source": [
    "help(stack2dim)"
   ]
  },
  {
   "cell_type": "code",
   "execution_count": 15,
   "metadata": {},
   "outputs": [],
   "source": [
    "from pyecharts.charts import Map"
   ]
  },
  {
   "cell_type": "code",
   "execution_count": null,
   "metadata": {},
   "outputs": [],
   "source": []
  },
  {
   "cell_type": "code",
   "execution_count": null,
   "metadata": {},
   "outputs": [],
   "source": [
    "pip install echarts-countries-pypkg\n",
    "pip install echarts-china-provinces-pypkg#省级地图\n",
    "pip install echarts-china-cities-pypkg#市级地图"
   ]
  },
  {
   "cell_type": "code",
   "execution_count": null,
   "metadata": {},
   "outputs": [],
   "source": []
  },
  {
   "cell_type": "code",
   "execution_count": 21,
   "metadata": {},
   "outputs": [],
   "source": [
    "import pyecharts"
   ]
  },
  {
   "cell_type": "code",
   "execution_count": 22,
   "metadata": {
    "collapsed": true
   },
   "outputs": [
    {
     "name": "stdout",
     "output_type": "stream",
     "text": [
      "Collecting echarts-countries-pypkg\n",
      "  Using cached echarts-countries-pypkg-0.1.6.tar.gz (2.0 MB)\n",
      "Collecting lml>=0.0.2\n",
      "  Using cached lml-0.1.0-py2.py3-none-any.whl (10 kB)\n",
      "Collecting pyecharts-jupyter-installer==0.0.3\n",
      "  Using cached pyecharts_jupyter_installer-0.0.3-py2.py3-none-any.whl (4.7 kB)\n",
      "Building wheels for collected packages: echarts-countries-pypkg\n",
      "  Building wheel for echarts-countries-pypkg (setup.py): started\n",
      "  Building wheel for echarts-countries-pypkg (setup.py): finished with status 'done'\n",
      "  Created wheel for echarts-countries-pypkg: filename=echarts_countries_pypkg-0.1.6-py3-none-any.whl size=2118072 sha256=72154e18ed4a74087391681041ebc45fb5288474991e3275cbbd1c9119ec5681\n",
      "  Stored in directory: c:\\users\\cyc\\appdata\\local\\pip\\cache\\wheels\\99\\7c\\22\\66d77317d653d3ee765f360aa9ad771e7995796dd528c5ad40\n",
      "Successfully built echarts-countries-pypkg\n",
      "Installing collected packages: lml, pyecharts-jupyter-installer, echarts-countries-pypkg\n",
      "Successfully installed echarts-countries-pypkg-0.1.6 lml-0.1.0 pyecharts-jupyter-installer-0.0.3\n"
     ]
    }
   ],
   "source": [
    "!pip install echarts-countries-pypkg  #安装全球地图"
   ]
  },
  {
   "cell_type": "code",
   "execution_count": 26,
   "metadata": {
    "collapsed": true
   },
   "outputs": [
    {
     "name": "stdout",
     "output_type": "stream",
     "text": [
      "Collecting echarts-china-provinces-pypkg\n",
      "  Downloading echarts-china-provinces-pypkg-0.0.3.tar.gz (748 kB)\n",
      "Requirement already satisfied: lml>=0.0.2 in d:\\anaconda\\lib\\site-packages (from echarts-china-provinces-pypkg) (0.1.0)\n",
      "Requirement already satisfied: pyecharts-jupyter-installer==0.0.3 in d:\\anaconda\\lib\\site-packages (from echarts-china-provinces-pypkg) (0.0.3)\n",
      "Building wheels for collected packages: echarts-china-provinces-pypkg\n",
      "  Building wheel for echarts-china-provinces-pypkg (setup.py): started\n",
      "  Building wheel for echarts-china-provinces-pypkg (setup.py): finished with status 'done'\n",
      "  Created wheel for echarts-china-provinces-pypkg: filename=echarts_china_provinces_pypkg-0.0.3-py3-none-any.whl size=760432 sha256=f0593bf74cdb32d4cf84c38d8e3ef27387b95c33df0a5ff3091a7b667518f3ec\n",
      "  Stored in directory: c:\\users\\cyc\\appdata\\local\\pip\\cache\\wheels\\1e\\88\\d6\\b929142b770bf95e832f952f4baa2e363e7fd71c29d800d7ba\n",
      "Successfully built echarts-china-provinces-pypkg\n",
      "Installing collected packages: echarts-china-provinces-pypkg\n",
      "Successfully installed echarts-china-provinces-pypkg-0.0.3\n"
     ]
    }
   ],
   "source": [
    "!pip install echarts-china-provinces-pypkg   "
   ]
  },
  {
   "cell_type": "code",
   "execution_count": 30,
   "metadata": {},
   "outputs": [
    {
     "name": "stdout",
     "output_type": "stream",
     "text": [
      "Requirement already satisfied: echarts-china-cities-pypkg in d:\\anaconda\\lib\\site-packages (0.0.9)\n",
      "Requirement already satisfied: lml>=0.0.2 in d:\\anaconda\\lib\\site-packages (from echarts-china-cities-pypkg) (0.1.0)\n",
      "Requirement already satisfied: pyecharts-jupyter-installer==0.0.3 in d:\\anaconda\\lib\\site-packages (from echarts-china-cities-pypkg) (0.0.3)\n"
     ]
    }
   ],
   "source": [
    "!pip install echarts-china-cities-pypkg"
   ]
  },
  {
   "cell_type": "code",
   "execution_count": 61,
   "metadata": {},
   "outputs": [
    {
     "data": {
      "text/plain": [
       "<zip at 0x1be1ea92840>"
      ]
     },
     "execution_count": 61,
     "metadata": {},
     "output_type": "execute_result"
    }
   ],
   "source": [
    "snd_price = zip(snd.price.groupby(snd.district).mean().index,\n",
    "                  snd.price.groupby(snd.district).mean().values)\n",
    "snd_price"
   ]
  },
  {
   "cell_type": "code",
   "execution_count": 62,
   "metadata": {},
   "outputs": [
    {
     "data": {
      "text/plain": [
       "[['东城区', 71883.59504132232],\n",
       " ['丰台区', 42500.90430946725],\n",
       " ['朝阳区', 52800.62465083799],\n",
       " ['海淀区', 68757.6022610483],\n",
       " ['石景山区', 40286.889573703134],\n",
       " ['西城区', 85674.77854545455]]"
      ]
     },
     "execution_count": 62,
     "metadata": {},
     "output_type": "execute_result"
    }
   ],
   "source": [
    "ss = [list(z) for z in snd_price]\n",
    "ss"
   ]
  },
  {
   "cell_type": "code",
   "execution_count": 64,
   "metadata": {},
   "outputs": [],
   "source": [
    "from pyecharts import options as opts\n",
    "from pyecharts.charts import Map\n",
    "from pyecharts.faker import Faker\n",
    "\n",
    "c = (\n",
    "    Map()\n",
    "    .add(\"商家A\", [list(z) for z in zip(Faker.provinces, Faker.values())], \"china\")\n",
    "    .set_global_opts(title_opts=opts.TitleOpts(title=\"Map-基本示例\"))\n",
    "    .render(\"map_base.html\")\n",
    ")\n"
   ]
  },
  {
   "cell_type": "code",
   "execution_count": 65,
   "metadata": {},
   "outputs": [
    {
     "data": {
      "text/plain": [
       "[['广东', 34],\n",
       " ['北京', 101],\n",
       " ['上海', 53],\n",
       " ['江西', 40],\n",
       " ['湖南', 75],\n",
       " ['浙江', 43],\n",
       " ['江苏', 46]]"
      ]
     },
     "execution_count": 65,
     "metadata": {},
     "output_type": "execute_result"
    }
   ],
   "source": [
    "[list(z) for z in zip(Faker.provinces, Faker.values())]"
   ]
  },
  {
   "cell_type": "code",
   "execution_count": 72,
   "metadata": {},
   "outputs": [],
   "source": [
    "\n",
    "min_ = snd.price.groupby(snd.dist).mean().min()\n",
    "max_ = snd.price.groupby(snd.dist).mean().max()\n",
    "from pyecharts import options as opts\n",
    "from pyecharts.charts import Map\n",
    "c = (\n",
    "    Map()\n",
    "    .add(\"\", ss, \"china\")\n",
    "    .set_global_opts(title_opts=opts.TitleOpts(title=\"Map-基本示例\"))\n",
    "    .render(\"E:\\map_base.html\")\n",
    ")\n"
   ]
  },
  {
   "cell_type": "code",
   "execution_count": 71,
   "metadata": {},
   "outputs": [],
   "source": [
    "from pyecharts import options as opts\n",
    "from pyecharts.charts import Map\n",
    "c = (\n",
    "    Map()\n",
    "    .add(\"\", ss, \"china\")\n",
    "    .set_global_opts(title_opts=opts.TitleOpts(title=\"北京收入\"))\n",
    "    visual_range=[min_, max_]\n",
    "    .render(\"E:\\map_base.html\")\n",
    ")"
   ]
  },
  {
   "cell_type": "code",
   "execution_count": null,
   "metadata": {},
   "outputs": [],
   "source": []
  },
  {
   "cell_type": "code",
   "execution_count": null,
   "metadata": {},
   "outputs": [],
   "source": [
    "data = pd.read_excel('GDP.xlsx')\n",
    "province = list(data[\"province\"])\n",
    "gdp = list(data[\"2019_gdp\"])\n",
    "list = [list(z) for z in zip(province,gdp)]\n"
   ]
  },
  {
   "cell_type": "code",
   "execution_count": null,
   "metadata": {},
   "outputs": [],
   "source": [
    "c = (\n",
    "    Map(init_opts=opts.InitOpts(width=\"1000px\", height=\"600px\"))  #初始化地图大小\n",
    "    .set_global_opts(\n",
    "        title_opts=opts.TitleOpts(title=\"北京房价  单位:亿元\"),  #配置标题\n",
    "        visualmap_opts=opts.VisualMapOpts(\n",
    "            type_ = \"scatter\"   #散点类型\n",
    "        )\n",
    "    )\n",
    "    .add(\"GDP\",list,maptype=\"北京\")  #将list传入，地图类型为中国地图\n",
    "    .render(\"Map1.html\")\n",
    ")\n"
   ]
  },
  {
   "cell_type": "code",
   "execution_count": null,
   "metadata": {},
   "outputs": [],
   "source": []
  },
  {
   "cell_type": "code",
   "execution_count": null,
   "metadata": {},
   "outputs": [],
   "source": [
    "分类变量+一个连续变量：按照分类变量分组对连续变量进行统计量"
   ]
  },
  {
   "cell_type": "code",
   "execution_count": null,
   "metadata": {},
   "outputs": [],
   "source": [
    "# 区的房价有无差异"
   ]
  },
  {
   "cell_type": "code",
   "execution_count": 49,
   "metadata": {
    "scrolled": true
   },
   "outputs": [
    {
     "data": {
      "text/plain": [
       "<AxesSubplot:xlabel='district'>"
      ]
     },
     "execution_count": 49,
     "metadata": {},
     "output_type": "execute_result"
    },
    {
     "data": {
      "image/png": "[encoded data removed]",
      "text/plain": [
       "<Figure size 432x288 with 1 Axes>"
      ]
     },
     "metadata": {
      "needs_background": "light"
     },
     "output_type": "display_data"
    }
   ],
   "source": [
    "#柱形图\n",
    "snd.price.groupby(snd.district).mean().plot(kind='bar')"
   ]
  },
  {
   "cell_type": "code",
   "execution_count": 51,
   "metadata": {},
   "outputs": [
    {
     "data": {
      "text/plain": [
       "<AxesSubplot:ylabel='district'>"
      ]
     },
     "execution_count": 51,
     "metadata": {},
     "output_type": "execute_result"
    },
    {
     "data": {
      "image/png": "[encoded data removed]",
      "text/plain": [
       "<Figure size 432x288 with 1 Axes>"
      ]
     },
     "metadata": {
      "needs_background": "light"
     },
     "output_type": "display_data"
    }
   ],
   "source": [
    "# 条形图\n",
    "snd.price.groupby(snd.district).mean().sort_values(ascending=True).plot(kind='barh')"
   ]
  },
  {
   "cell_type": "code",
   "execution_count": 28,
   "metadata": {},
   "outputs": [
    {
     "data": {
      "text/plain": [
       "district\n",
       "东城区     71883.595041\n",
       "丰台区     42500.904309\n",
       "朝阳区     52800.624651\n",
       "海淀区     68757.602261\n",
       "石景山区    40286.889574\n",
       "西城区     85674.778545\n",
       "Name: price, dtype: float64"
      ]
     },
     "execution_count": 28,
     "metadata": {},
     "output_type": "execute_result"
    }
   ],
   "source": [
    "snd.price.groupby(snd.district).mean()"
   ]
  },
  {
   "cell_type": "code",
   "execution_count": 52,
   "metadata": {},
   "outputs": [
    {
     "data": {
      "text/plain": [
       "<AxesSubplot:xlabel='district', ylabel='price'>"
      ]
     },
     "execution_count": 52,
     "metadata": {},
     "output_type": "execute_result"
    },
    {
     "data": {
      "image/png": "[encoded data removed]",
      "text/plain": [
       "<Figure size 432x288 with 1 Axes>"
      ]
     },
     "metadata": {
      "needs_background": "light"
     },
     "output_type": "display_data"
    }
   ],
   "source": [
    "# 分类盒须图:可以比较不同分类水平上的变化情况\n",
    "sns.boxplot(x = 'district', y = 'price', data = snd)"
   ]
  },
  {
   "cell_type": "code",
   "execution_count": null,
   "metadata": {},
   "outputs": [],
   "source": [
    "汇总表：两个分类变量和一个连续变量统计量"
   ]
  },
  {
   "cell_type": "code",
   "execution_count": 53,
   "metadata": {},
   "outputs": [
    {
     "data": {
      "text/html": [
       "<div>\n",
       "<style scoped>\n",
       "    .dataframe tbody tr th:only-of-type {\n",
       "        vertical-align: middle;\n",
       "    }\n",
       "\n",
       "    .dataframe tbody tr th {\n",
       "        vertical-align: top;\n",
       "    }\n",
       "\n",
       "    .dataframe thead th {\n",
       "        text-align: right;\n",
       "    }\n",
       "</style>\n",
       "<table border=\"1\" class=\"dataframe\">\n",
       "  <thead>\n",
       "    <tr style=\"text-align: right;\">\n",
       "      <th>school</th>\n",
       "      <th>0</th>\n",
       "      <th>1</th>\n",
       "    </tr>\n",
       "    <tr>\n",
       "      <th>district</th>\n",
       "      <th></th>\n",
       "      <th></th>\n",
       "    </tr>\n",
       "  </thead>\n",
       "  <tbody>\n",
       "    <tr>\n",
       "      <th>东城区</th>\n",
       "      <td>66276.887931</td>\n",
       "      <td>78514.900392</td>\n",
       "    </tr>\n",
       "    <tr>\n",
       "      <th>丰台区</th>\n",
       "      <td>42291.003505</td>\n",
       "      <td>48871.617021</td>\n",
       "    </tr>\n",
       "    <tr>\n",
       "      <th>朝阳区</th>\n",
       "      <td>51588.511689</td>\n",
       "      <td>57403.405360</td>\n",
       "    </tr>\n",
       "    <tr>\n",
       "      <th>海淀区</th>\n",
       "      <td>61385.803653</td>\n",
       "      <td>76911.258297</td>\n",
       "    </tr>\n",
       "    <tr>\n",
       "      <th>石景山区</th>\n",
       "      <td>40353.883878</td>\n",
       "      <td>33107.333333</td>\n",
       "    </tr>\n",
       "    <tr>\n",
       "      <th>西城区</th>\n",
       "      <td>76989.369511</td>\n",
       "      <td>92468.873623</td>\n",
       "    </tr>\n",
       "  </tbody>\n",
       "</table>\n",
       "</div>"
      ],
      "text/plain": [
       "school               0             1\n",
       "district                            \n",
       "东城区       66276.887931  78514.900392\n",
       "丰台区       42291.003505  48871.617021\n",
       "朝阳区       51588.511689  57403.405360\n",
       "海淀区       61385.803653  76911.258297\n",
       "石景山区      40353.883878  33107.333333\n",
       "西城区       76989.369511  92468.873623"
      ]
     },
     "execution_count": 53,
     "metadata": {},
     "output_type": "execute_result"
    }
   ],
   "source": [
    "snd.pivot_table(values='price', index='district', columns='school', aggfunc=np.mean)\n"
   ]
  },
  {
   "cell_type": "code",
   "execution_count": 54,
   "metadata": {},
   "outputs": [
    {
     "data": {
      "text/plain": [
       "<AxesSubplot:xlabel='district'>"
      ]
     },
     "execution_count": 54,
     "metadata": {},
     "output_type": "execute_result"
    },
    {
     "data": {
      "image/png": "[encoded data removed]",
      "text/plain": [
       "<Figure size 432x288 with 1 Axes>"
      ]
     },
     "metadata": {
      "needs_background": "light"
     },
     "output_type": "display_data"
    }
   ],
   "source": [
    "\n",
    "snd.pivot_table(values='price', index='district', columns='school', aggfunc=np.mean).plot(kind = 'bar')"
   ]
  },
  {
   "cell_type": "code",
   "execution_count": null,
   "metadata": {},
   "outputs": [],
   "source": []
  },
  {
   "cell_type": "code",
   "execution_count": null,
   "metadata": {},
   "outputs": [],
   "source": [
    "以上为描述变量的总结"
   ]
  },
  {
   "cell_type": "code",
   "execution_count": null,
   "metadata": {},
   "outputs": [],
   "source": [
    "两个连续变量的关系、双轴图mapplot、"
   ]
  },
  {
   "cell_type": "code",
   "execution_count": 29,
   "metadata": {
    "scrolled": true
   },
   "outputs": [
    {
     "data": {
      "text/html": [
       "<div>\n",
       "<style scoped>\n",
       "    .dataframe tbody tr th:only-of-type {\n",
       "        vertical-align: middle;\n",
       "    }\n",
       "\n",
       "    .dataframe tbody tr th {\n",
       "        vertical-align: top;\n",
       "    }\n",
       "\n",
       "    .dataframe thead th {\n",
       "        text-align: right;\n",
       "    }\n",
       "</style>\n",
       "<table border=\"1\" class=\"dataframe\">\n",
       "  <thead>\n",
       "    <tr style=\"text-align: right;\">\n",
       "      <th></th>\n",
       "      <th>year</th>\n",
       "      <th>GDP</th>\n",
       "      <th>GDPCR</th>\n",
       "    </tr>\n",
       "  </thead>\n",
       "  <tbody>\n",
       "    <tr>\n",
       "      <th>0</th>\n",
       "      <td>2000</td>\n",
       "      <td>100280.1</td>\n",
       "      <td>8.5</td>\n",
       "    </tr>\n",
       "    <tr>\n",
       "      <th>1</th>\n",
       "      <td>2001</td>\n",
       "      <td>110863.1</td>\n",
       "      <td>8.3</td>\n",
       "    </tr>\n",
       "    <tr>\n",
       "      <th>2</th>\n",
       "      <td>2002</td>\n",
       "      <td>121717.4</td>\n",
       "      <td>9.1</td>\n",
       "    </tr>\n",
       "    <tr>\n",
       "      <th>3</th>\n",
       "      <td>2003</td>\n",
       "      <td>137422.0</td>\n",
       "      <td>10.0</td>\n",
       "    </tr>\n",
       "    <tr>\n",
       "      <th>4</th>\n",
       "      <td>2004</td>\n",
       "      <td>161840.2</td>\n",
       "      <td>10.1</td>\n",
       "    </tr>\n",
       "    <tr>\n",
       "      <th>5</th>\n",
       "      <td>2005</td>\n",
       "      <td>187318.9</td>\n",
       "      <td>11.4</td>\n",
       "    </tr>\n",
       "    <tr>\n",
       "      <th>6</th>\n",
       "      <td>2006</td>\n",
       "      <td>219438.5</td>\n",
       "      <td>12.7</td>\n",
       "    </tr>\n",
       "    <tr>\n",
       "      <th>7</th>\n",
       "      <td>2007</td>\n",
       "      <td>270232.3</td>\n",
       "      <td>14.2</td>\n",
       "    </tr>\n",
       "    <tr>\n",
       "      <th>8</th>\n",
       "      <td>2008</td>\n",
       "      <td>319515.5</td>\n",
       "      <td>9.7</td>\n",
       "    </tr>\n",
       "    <tr>\n",
       "      <th>9</th>\n",
       "      <td>2009</td>\n",
       "      <td>349081.4</td>\n",
       "      <td>9.4</td>\n",
       "    </tr>\n",
       "    <tr>\n",
       "      <th>10</th>\n",
       "      <td>2010</td>\n",
       "      <td>413030.3</td>\n",
       "      <td>10.6</td>\n",
       "    </tr>\n",
       "    <tr>\n",
       "      <th>11</th>\n",
       "      <td>2011</td>\n",
       "      <td>489300.6</td>\n",
       "      <td>9.5</td>\n",
       "    </tr>\n",
       "    <tr>\n",
       "      <th>12</th>\n",
       "      <td>2012</td>\n",
       "      <td>540367.4</td>\n",
       "      <td>7.9</td>\n",
       "    </tr>\n",
       "    <tr>\n",
       "      <th>13</th>\n",
       "      <td>2013</td>\n",
       "      <td>595244.4</td>\n",
       "      <td>7.8</td>\n",
       "    </tr>\n",
       "    <tr>\n",
       "      <th>14</th>\n",
       "      <td>2014</td>\n",
       "      <td>643974.0</td>\n",
       "      <td>7.3</td>\n",
       "    </tr>\n",
       "    <tr>\n",
       "      <th>15</th>\n",
       "      <td>2015</td>\n",
       "      <td>689052.1</td>\n",
       "      <td>6.9</td>\n",
       "    </tr>\n",
       "    <tr>\n",
       "      <th>16</th>\n",
       "      <td>2016</td>\n",
       "      <td>743585.5</td>\n",
       "      <td>6.7</td>\n",
       "    </tr>\n",
       "    <tr>\n",
       "      <th>17</th>\n",
       "      <td>2017</td>\n",
       "      <td>827121.7</td>\n",
       "      <td>6.9</td>\n",
       "    </tr>\n",
       "  </tbody>\n",
       "</table>\n",
       "</div>"
      ],
      "text/plain": [
       "    year       GDP  GDPCR\n",
       "0   2000  100280.1    8.5\n",
       "1   2001  110863.1    8.3\n",
       "2   2002  121717.4    9.1\n",
       "3   2003  137422.0   10.0\n",
       "4   2004  161840.2   10.1\n",
       "5   2005  187318.9   11.4\n",
       "6   2006  219438.5   12.7\n",
       "7   2007  270232.3   14.2\n",
       "8   2008  319515.5    9.7\n",
       "9   2009  349081.4    9.4\n",
       "10  2010  413030.3   10.6\n",
       "11  2011  489300.6    9.5\n",
       "12  2012  540367.4    7.9\n",
       "13  2013  595244.4    7.8\n",
       "14  2014  643974.0    7.3\n",
       "15  2015  689052.1    6.9\n",
       "16  2016  743585.5    6.7\n",
       "17  2017  827121.7    6.9"
      ]
     },
     "execution_count": 29,
     "metadata": {},
     "output_type": "execute_result"
    }
   ],
   "source": [
    "gdp = pd.read_csv(r'E:\\Ajiao\\LiXian\\资料\\技术实详解与商业实战\\280_Ben_八大直播八大案例配套课件\\第三章\\提交-第三讲：信用卡客户特征分析-产品客户画像初步\\提交-第三讲：信用卡客户特征分析-产品客户画像初步\\数据与脚本\\4describe\\gdp_gdpcr.csv',encoding='gbk')\n",
    "gdp"
   ]
  },
  {
   "cell_type": "code",
   "execution_count": 33,
   "metadata": {},
   "outputs": [
    {
     "data": {
      "text/plain": [
       "<Figure size 432x288 with 0 Axes>"
      ]
     },
     "metadata": {},
     "output_type": "display_data"
    }
   ],
   "source": [
    "x = list(gdp.year)\n",
    "GDP = list(gdp.GDP)\n",
    "GDPCR = list(gdp.GDPCR)\n",
    "fig = plt.figure()"
   ]
  },
  {
   "cell_type": "code",
   "execution_count": 32,
   "metadata": {},
   "outputs": [
    {
     "name": "stderr",
     "output_type": "stream",
     "text": [
      "<ipython-input-32-547b27c3d00a>:2: MatplotlibDeprecationWarning: Adding an axes using the same arguments as a previous axes currently reuses the earlier instance.  In a future version, a new instance will always be created and returned.  Meanwhile, this warning can be suppressed, and the future behavior ensured, by passing a unique label to each axes instance.\n",
      "  ax1 = fig.add_subplot(111)\n"
     ]
    },
    {
     "data": {
      "text/plain": [
       "Text(0.5, 0, 'Year')"
      ]
     },
     "execution_count": 32,
     "metadata": {},
     "output_type": "execute_result"
    }
   ],
   "source": [
    "# 主轴：柱形图\n",
    "ax1 = fig.add_subplot(111)\n",
    "ax1.bar(x,GDP)\n",
    "ax1.set_ylabel('GDP')\n",
    "ax1.set_title(\"GDP of China(2000-2017)\")\n",
    "ax1.set_xlim(2000,2017)\n",
    "#副轴：\n",
    "ax2 = ax1.twinx()\n",
    "ax2.plot(x,GDPCR,'r')\n",
    "ax2.set_ylabel('Increase Ratio')\n",
    "ax2.set_xlabel('Year')"
   ]
  },
  {
   "cell_type": "code",
   "execution_count": null,
   "metadata": {},
   "outputs": [],
   "source": [
    "# 散点图"
   ]
  },
  {
   "cell_type": "code",
   "execution_count": null,
   "metadata": {},
   "outputs": [],
   "source": [
    "# 逻辑回归图woe"
   ]
  },
  {
   "cell_type": "code",
   "execution_count": null,
   "metadata": {},
   "outputs": [],
   "source": [
    "#"
   ]
  },
  {
   "cell_type": "code",
   "execution_count": 34,
   "metadata": {},
   "outputs": [
    {
     "data": {
      "text/plain": [
       "Text(0.5, 0, 'Year')"
      ]
     },
     "execution_count": 34,
     "metadata": {},
     "output_type": "execute_result"
    },
    {
     "data": {
      "image/png": "[encoded data removed]",
      "text/plain": [
       "<Figure size 432x288 with 2 Axes>"
      ]
     },
     "metadata": {
      "needs_background": "light"
     },
     "output_type": "display_data"
    }
   ],
   "source": [
    "gdp = pd.read_csv('gdp_gdpcr.csv',encoding = 'gbk')\n",
    "gdp.head()\n",
    "# In[45]:\n",
    "\n",
    "x = list(gdp.year)\n",
    "GDP = list(gdp.GDP)\n",
    "GDPCR = list(gdp.GDPCR)\n",
    "fig = plt.figure()\n",
    "\n",
    "ax1 = fig.add_subplot(111)\n",
    "ax1.bar(x,GDP)\n",
    "ax1.set_ylabel('GDP')\n",
    "ax1.set_title(\"GDP of China(2000-2017)\")\n",
    "ax1.set_xlim(2000,2017)\n",
    "\n",
    "ax2 = ax1.twinx()\n",
    "ax2.plot(x,GDPCR,'r')\n",
    "ax2.set_ylabel('Increase Ratio')\n",
    "ax2.set_xlabel('Year')"
   ]
  },
  {
   "cell_type": "code",
   "execution_count": null,
   "metadata": {},
   "outputs": [],
   "source": []
  },
  {
   "cell_type": "code",
   "execution_count": null,
   "metadata": {},
   "outputs": [],
   "source": []
  },
  {
   "cell_type": "code",
   "execution_count": null,
   "metadata": {},
   "outputs": [],
   "source": []
  },
  {
   "cell_type": "code",
   "execution_count": null,
   "metadata": {},
   "outputs": [],
   "source": []
  },
  {
   "cell_type": "code",
   "execution_count": null,
   "metadata": {},
   "outputs": [],
   "source": []
  },
  {
   "cell_type": "code",
   "execution_count": null,
   "metadata": {},
   "outputs": [],
   "source": []
  },
  {
   "cell_type": "code",
   "execution_count": null,
   "metadata": {},
   "outputs": [],
   "source": []
  },
  {
   "cell_type": "code",
   "execution_count": null,
   "metadata": {},
   "outputs": [],
   "source": []
  },
  {
   "cell_type": "code",
   "execution_count": null,
   "metadata": {},
   "outputs": [],
   "source": []
  },
  {
   "cell_type": "code",
   "execution_count": null,
   "metadata": {},
   "outputs": [],
   "source": []
  }
 ],
 "metadata": {
  "kernelspec": {
   "display_name": "Python 3",
   "language": "python",
   "name": "python3"
  },
  "language_info": {
   "codemirror_mode": {
    "name": "ipython",
    "version": 3
   },
   "file_extension": ".py",
   "mimetype": "text/x-python",
   "name": "python",
   "nbconvert_exporter": "python",
   "pygments_lexer": "ipython3",
   "version": "3.8.5"
  }
 },
 "nbformat": 4,
 "nbformat_minor": 4
}
