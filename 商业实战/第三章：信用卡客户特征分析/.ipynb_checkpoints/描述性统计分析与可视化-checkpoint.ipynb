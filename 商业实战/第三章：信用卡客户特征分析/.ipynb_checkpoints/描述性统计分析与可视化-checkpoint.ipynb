{
 "cells": [
  {
   "cell_type": "code",
   "execution_count": null,
   "metadata": {},
   "outputs": [],
   "source": [
    "从统计方面来看，数据分为三种类型：名义、等级、连续\n",
    "    - 名义变量：性别、民族等，没有顺序之分，名义变量不一定是字符类型\n",
    "    - 等级变量：可是字符也可是数值型，插值没有意义。\n",
    "    - 连续变量：只能是数值型，连续变量的插值是有意义的。"
   ]
  },
  {
   "cell_type": "code",
   "execution_count": null,
   "metadata": {},
   "outputs": [],
   "source": [
    "连续变量可以当作等级变量用，等级变量也可以当成连续变量\n",
    "连续变量会产生很多噪音，分组换为等级变量可以更稳健。"
   ]
  },
  {
   "cell_type": "code",
   "execution_count": null,
   "metadata": {},
   "outputs": [],
   "source": [
    "名义变量在统计学中只有两个统计量（从数据得到的数据）：\n",
    "    - 频次\n",
    "    - 百分比\n",
    "可视化：统计量通过图形表现出来"
   ]
  },
  {
   "cell_type": "code",
   "execution_count": null,
   "metadata": {},
   "outputs": [],
   "source": [
    "连续变量的统计量：\n",
    "    - 集中趋势（位置）：均值（数据对称时用均值，参数主要指的是均值）、中位数（更多的是指非参数）、众数（最不易被带偏的数据，只有数据最干净的时候才有代表性）\n",
    "            - 数据先调成对称形式，选用均值来度量。\n",
    "    - 离散程度（分散程度）：标准差、极差、四分位差\n",
    "    \n",
    "例：北京和上海收入分布情况\n",
    "    步骤一：先看是否右偏，选用统计量\n",
    "    步骤二：看标准差（离散程度）"
   ]
  },
  {
   "cell_type": "code",
   "execution_count": null,
   "metadata": {},
   "outputs": [],
   "source": [
    "数据自由度就是数据个数"
   ]
  },
  {
   "cell_type": "code",
   "execution_count": null,
   "metadata": {},
   "outputs": [],
   "source": [
    "分布：\n",
    "- 正态分布：如身高\n",
    "- 泊松分布：如网页点击量、队伍长度\n",
    "- 伽马分布：如灾难对我们造成的经济损失\n",
    "- 对数正态分布：右偏最严重的函数，若进行描述性统计，则数据不进行改变，选用中位数即可；\n",
    "                若进行建模、进行预测，对原始数据取对数，成为对视正态分布；如收入、利润\n",
    "\n",
    "右偏严重的当作对数正态分布用，诱骗不严重的当作正态分布用。\n",
    "做描述性统计分析时，左偏或右偏的函数都选用中位数代表中心水平；正态（对称）的函数用均值作为中心水平。\n",
    "做建模的时候，右偏的函数取对数"
   ]
  },
  {
   "cell_type": "code",
   "execution_count": null,
   "metadata": {},
   "outputs": [],
   "source": [
    "数据的离散程度：方差、标准差、极差、四分位差（IQR=四分之三分位数-四分之一分位数）【盒须图】、\n",
    "    "
   ]
  },
  {
   "cell_type": "code",
   "execution_count": null,
   "metadata": {},
   "outputs": [],
   "source": [
    "六个公式：均值、方差、标准差\n",
    "正态分布 一倍标准差下：为65%\n",
    "    二倍标准差下：98%\n",
    "    三倍标准差下99%"
   ]
  },
  {
   "cell_type": "code",
   "execution_count": null,
   "metadata": {},
   "outputs": [],
   "source": [
    "看图形式否右偏：\n",
    "    直方图：连续变量分成N分，\n",
    "    柱形图；每个取值之间不连续"
   ]
  },
  {
   "cell_type": "code",
   "execution_count": null,
   "metadata": {},
   "outputs": [],
   "source": []
  },
  {
   "cell_type": "code",
   "execution_count": null,
   "metadata": {},
   "outputs": [],
   "source": []
  },
  {
   "cell_type": "code",
   "execution_count": null,
   "metadata": {},
   "outputs": [],
   "source": []
  },
  {
   "cell_type": "code",
   "execution_count": null,
   "metadata": {},
   "outputs": [],
   "source": []
  },
  {
   "cell_type": "code",
   "execution_count": null,
   "metadata": {},
   "outputs": [],
   "source": []
  },
  {
   "cell_type": "code",
   "execution_count": null,
   "metadata": {},
   "outputs": [],
   "source": []
  },
  {
   "cell_type": "code",
   "execution_count": null,
   "metadata": {},
   "outputs": [],
   "source": []
  },
  {
   "cell_type": "code",
   "execution_count": null,
   "metadata": {},
   "outputs": [],
   "source": []
  },
  {
   "cell_type": "code",
   "execution_count": null,
   "metadata": {},
   "outputs": [],
   "source": []
  },
  {
   "cell_type": "code",
   "execution_count": null,
   "metadata": {},
   "outputs": [],
   "source": []
  },
  {
   "cell_type": "code",
   "execution_count": null,
   "metadata": {},
   "outputs": [],
   "source": []
  },
  {
   "cell_type": "code",
   "execution_count": null,
   "metadata": {},
   "outputs": [],
   "source": []
  },
  {
   "cell_type": "code",
   "execution_count": null,
   "metadata": {},
   "outputs": [],
   "source": []
  },
  {
   "cell_type": "code",
   "execution_count": null,
   "metadata": {},
   "outputs": [],
   "source": []
  },
  {
   "cell_type": "code",
   "execution_count": null,
   "metadata": {},
   "outputs": [],
   "source": []
  },
  {
   "cell_type": "code",
   "execution_count": null,
   "metadata": {},
   "outputs": [],
   "source": []
  }
 ],
 "metadata": {
  "kernelspec": {
   "display_name": "Python 3",
   "language": "python",
   "name": "python3"
  },
  "language_info": {
   "codemirror_mode": {
    "name": "ipython",
    "version": 3
   },
   "file_extension": ".py",
   "mimetype": "text/x-python",
   "name": "python",
   "nbconvert_exporter": "python",
   "pygments_lexer": "ipython3",
   "version": "3.8.5"
  }
 },
 "nbformat": 4,
 "nbformat_minor": 4
}
