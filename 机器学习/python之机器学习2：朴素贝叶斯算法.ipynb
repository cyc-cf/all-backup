{
 "cells": [
  {
   "cell_type": "code",
   "execution_count": 80,
   "metadata": {},
   "outputs": [],
   "source": [
    "# 1 创建数据集\n",
    "def loadDataSet():\n",
    "    dataSet=[['my', 'dog', 'has', 'flea', 'problems', 'help', 'please'],\n",
    "        ['maybe', 'not', 'take', 'him', 'to', 'dog', 'park', 'stupid'],\n",
    "        ['my', 'dalmation', 'is', 'so', 'cute', 'I', 'love', 'him'],\n",
    "        ['stop', 'posting', 'stupid', 'worthless', 'garbage'],\n",
    "        ['mr', 'licks', 'ate', 'my', 'steak', 'how', 'to', 'stop',\n",
    "        'him'],\n",
    "        ['quit', 'buying', 'worthless', 'dog', 'food', 'stupid']] #切分好的词条\n",
    "\n",
    "    classVec = [0,1,0,1,0,1] #类别标签向量，1代表侮辱性词汇，0代表非侮辱性词汇\n",
    "    return dataSet,classVec"
   ]
  },
  {
   "cell_type": "code",
   "execution_count": 81,
   "metadata": {},
   "outputs": [
    {
     "data": {
      "text/plain": [
       "([['my', 'dog', 'has', 'flea', 'problems', 'help', 'please'],\n",
       "  ['maybe', 'not', 'take', 'him', 'to', 'dog', 'park', 'stupid'],\n",
       "  ['my', 'dalmation', 'is', 'so', 'cute', 'I', 'love', 'him'],\n",
       "  ['stop', 'posting', 'stupid', 'worthless', 'garbage'],\n",
       "  ['mr', 'licks', 'ate', 'my', 'steak', 'how', 'to', 'stop', 'him'],\n",
       "  ['quit', 'buying', 'worthless', 'dog', 'food', 'stupid']],\n",
       " [0, 1, 0, 1, 0, 1])"
      ]
     },
     "execution_count": 81,
     "metadata": {},
     "output_type": "execute_result"
    }
   ],
   "source": [
    "dataSet,classVec=loadDataSet()\n",
    "dataSet,classVec# 数据和分类标签"
   ]
  },
  {
   "cell_type": "code",
   "execution_count": 82,
   "metadata": {},
   "outputs": [],
   "source": [
    "# 2 构建词汇表：将切分的样本词条整理成不重复的词汇表\n",
    "def createVocabList(dataSet):\n",
    "    vocabSet = set()                         #创建一个空的集合\n",
    "    for doc in dataSet:                      #遍历dataSet中的每一条言论\n",
    "        vocabSet = vocabSet | set(doc)       #取并集\n",
    "        vocabList = list(vocabSet)\n",
    "    return vocabList"
   ]
  },
  {
   "cell_type": "code",
   "execution_count": 83,
   "metadata": {},
   "outputs": [
    {
     "name": "stdout",
     "output_type": "stream",
     "text": [
      "['cute', 'buying', 'not', 'flea', 'dalmation', 'to', 'stupid', 'love', 'has', 'garbage', 'licks', 'take', 'please', 'park', 'problems', 'ate', 'mr', 'so', 'food', 'dog', 'worthless', 'quit', 'him', 'maybe', 'I', 'how', 'steak', 'my', 'stop', 'posting', 'help', 'is']\n"
     ]
    }
   ],
   "source": [
    "vocabList = createVocabList(dataSet)\n",
    "print(vocabList)     #返回列表"
   ]
  },
  {
   "cell_type": "code",
   "execution_count": 84,
   "metadata": {},
   "outputs": [],
   "source": [
    "# 3 获得训练集向量\n",
    "# 3.1 生成词向量：词条向量化，根据词汇表将切分好的词条向量化，向量的每个元素为1或0\n",
    "'''\n",
    "参数：\n",
    "    vocabList：词汇表\n",
    "    inputSet：切分好的词条列表中的一条\n",
    "返回：\n",
    "    returnVec：文档向量,词集模型\n",
    "'''\n",
    "def setOfWords2Vec(vocabList, inputSet):\n",
    "    returnVec = [0] * len(vocabList)      # 创建一个其中所含元素都为0的向量\n",
    "    for word in inputSet:                 # 遍历每个词条\n",
    "        if word in vocabList:             # 如果词条存在于词汇表中，则变为1\n",
    "            returnVec[vocabList.index(word)] = 1\n",
    "        else:\n",
    "            print(f\" {word} is not in my Vocabulary!\" )\n",
    "    return returnVec "
   ]
  },
  {
   "cell_type": "code",
   "execution_count": 85,
   "metadata": {},
   "outputs": [],
   "source": [
    "# 3.2生成训练集向量列表：词条向量列表\n",
    "'''\n",
    "参数说明：\n",
    "    dataSet：切分好的样本词条\n",
    "返回：\n",
    "    trainMat：所有的词条向量组成的列表\n",
    "'''\n",
    "def get_trainMat(dataSet):\n",
    "    trainMat = []                                     #初始化向量列表\n",
    "    vocabList = createVocabList(dataSet)              #生成词汇表\n",
    "    for inputSet in dataSet:                          #遍历样本词条中的每一条样本\n",
    "        returnVec=setOfWords2Vec(vocabList, inputSet) #将当前词条向量化\n",
    "        trainMat.append(returnVec)                    #追加到向量列表中\n",
    "    return trainMat"
   ]
  },
  {
   "cell_type": "code",
   "execution_count": 86,
   "metadata": {},
   "outputs": [
    {
     "name": "stdout",
     "output_type": "stream",
     "text": [
      "[[0, 0, 0, 1, 0, 0, 0, 0, 1, 0, 0, 0, 1, 0, 1, 0, 0, 0, 0, 1, 0, 0, 0, 0, 0, 0, 0, 1, 0, 0, 1, 0], [0, 0, 1, 0, 0, 1, 1, 0, 0, 0, 0, 1, 0, 1, 0, 0, 0, 0, 0, 1, 0, 0, 1, 1, 0, 0, 0, 0, 0, 0, 0, 0], [1, 0, 0, 0, 1, 0, 0, 1, 0, 0, 0, 0, 0, 0, 0, 0, 0, 1, 0, 0, 0, 0, 1, 0, 1, 0, 0, 1, 0, 0, 0, 1], [0, 0, 0, 0, 0, 0, 1, 0, 0, 1, 0, 0, 0, 0, 0, 0, 0, 0, 0, 0, 1, 0, 0, 0, 0, 0, 0, 0, 1, 1, 0, 0], [0, 0, 0, 0, 0, 1, 0, 0, 0, 0, 1, 0, 0, 0, 0, 1, 1, 0, 0, 0, 0, 0, 1, 0, 0, 1, 1, 1, 1, 0, 0, 0], [0, 1, 0, 0, 0, 0, 1, 0, 0, 0, 0, 0, 0, 0, 0, 0, 0, 0, 1, 1, 1, 1, 0, 0, 0, 0, 0, 0, 0, 0, 0, 0]]\n"
     ]
    }
   ],
   "source": [
    "trainMat = get_trainMat(dataSet)\n",
    "print(trainMat)"
   ]
  },
  {
   "cell_type": "code",
   "execution_count": 87,
   "metadata": {},
   "outputs": [],
   "source": [
    "# 4 朴素贝叶斯分类器训练函数\n",
    "'''\n",
    "参数:\n",
    "    trainMat: 训练文档矩阵\n",
    "    classVec: 训练类别标签向量（分类好的标签）\n",
    "返回：\n",
    "    p0V: 非侮辱类的条件概率数组\n",
    "    p1V: 侮辱类的条件概率数组\n",
    "    pAb: 文档属于侮辱类的概率\n",
    "'''\n",
    "import numpy as np \n",
    "def trainNB(trainMat,classVec):\n",
    "    n = len(trainMat)                     #计算训练的文档数目\n",
    "    m = len(trainMat[0])                  #计算每篇文档的词条数\n",
    "    pAb = sum(classVec)/n                 #文档属于侮辱类的概率\n",
    "    p0Num = np.ones(m)                    #词条出现数初始化为1，避免后续计算分类概率的时候出现0，影响判断\n",
    "    p1Num = np.ones(m)                    #词条出现数初始化为1，避免后续计算分类概率的时候出现0，影响判断\n",
    "    p0Denom = 2                           #分母初始化为2，避免后续计算分类概率的时候出现0，影响判断\n",
    "    p1Denom = 2                           #分母初始化为2，避免后续计算分类概率的时候出现0，影响判断\n",
    "    for i in range(n):                    #遍历每一个文档\n",
    "        if classVec[i] == 1:              #统计属于侮辱类的条件概率所需的数据\n",
    "            p1Num += trainMat[i]\n",
    "            p1Denom += sum(trainMat[i])\n",
    "        else:                             #统计属于非侮辱类的条件概率所需的数据\n",
    "            p0Num += trainMat[i]\n",
    "            p0Denom += sum(trainMat[i])\n",
    "    p1V = np.log(p1Num/p1Denom)\n",
    "    p0V = np.log(p0Num/p0Denom)\n",
    "    return p0V,p1V,pAb                    #返回属于非侮辱类,侮辱类和文档属于侮辱类的概率"
   ]
  },
  {
   "cell_type": "code",
   "execution_count": 88,
   "metadata": {},
   "outputs": [
    {
     "data": {
      "text/plain": [
       "(array([-2.56494936, -3.25809654, -3.25809654, -2.56494936, -2.56494936,\n",
       "        -2.56494936, -3.25809654, -2.56494936, -2.56494936, -3.25809654,\n",
       "        -2.56494936, -3.25809654, -2.56494936, -3.25809654, -2.56494936,\n",
       "        -2.56494936, -2.56494936, -2.56494936, -3.25809654, -2.56494936,\n",
       "        -3.25809654, -3.25809654, -2.15948425, -3.25809654, -2.56494936,\n",
       "        -2.56494936, -2.56494936, -1.87180218, -2.56494936, -3.25809654,\n",
       "        -2.56494936, -2.56494936]),\n",
       " array([-3.04452244, -2.35137526, -2.35137526, -3.04452244, -3.04452244,\n",
       "        -2.35137526, -1.65822808, -3.04452244, -3.04452244, -2.35137526,\n",
       "        -3.04452244, -2.35137526, -3.04452244, -2.35137526, -3.04452244,\n",
       "        -3.04452244, -3.04452244, -3.04452244, -2.35137526, -1.94591015,\n",
       "        -1.94591015, -2.35137526, -2.35137526, -2.35137526, -3.04452244,\n",
       "        -3.04452244, -3.04452244, -3.04452244, -2.35137526, -2.35137526,\n",
       "        -3.04452244, -3.04452244]),\n",
       " 0.5)"
      ]
     },
     "execution_count": 88,
     "metadata": {},
     "output_type": "execute_result"
    }
   ],
   "source": [
    "p0V,p1V,pAb = trainNB(trainMat,classVec)\n",
    "p0V,p1V,pAb"
   ]
  },
  {
   "cell_type": "code",
   "execution_count": 89,
   "metadata": {},
   "outputs": [],
   "source": [
    "# 5 测试朴素贝叶斯分类器\n",
    "'''\n",
    "参数说明：\n",
    "    vec2Classify：待分类的词条数组\n",
    "    p0V：非侮辱类的条件概率数组\n",
    "    p1V：侮辱类的条件概率数组\n",
    "    pAb：文档属于侮辱类的概率\n",
    "返回：\n",
    "    0：属于非侮辱类\n",
    "    1：属于侮辱类\n",
    "'''\n",
    "from functools import reduce \n",
    "def classifyNB(vec2Classify, p0V, p1V, pAb):\n",
    "    p1 = sum(vec2Classify * p1V) + np.log(pAb)    #对应元素相乘\n",
    "    p0 = sum(vec2Classify * p0V) + np.log(1- pAb) #对应元素相乘\n",
    "    print('p0:',p0)\n",
    "    print('p1:',p1)\n",
    "    if p1 > p0:\n",
    "        return 1\n",
    "    else:\n",
    "        return 0"
   ]
  },
  {
   "cell_type": "code",
   "execution_count": 90,
   "metadata": {},
   "outputs": [],
   "source": [
    "# 测试样本 \n",
    "def testingNB(testVec):\n",
    "    dataSet,classVec = loadDataSet()             #创建实验数据\n",
    "    vocabList = createVocabList(dataSet)         #创建词汇表\n",
    "    trainMat = get_trainMat(dataSet)             #生成词条向量列表\n",
    "    p0V,p1V,pAb = trainNB(trainMat,classVec)     #训练朴素贝叶斯分类器，得到分类结果\n",
    "    thisone = setOfWords2Vec(vocabList, testVec) #生成词向量\n",
    "    if classifyNB(thisone,p0V,p1V,pAb) == 1:     #判断分类结果\n",
    "        print(testVec,'属于侮辱类')              #执行分类并打印分类结果\n",
    "    else:\n",
    "        print(testVec,'属于非侮辱类')"
   ]
  },
  {
   "cell_type": "code",
   "execution_count": 91,
   "metadata": {},
   "outputs": [
    {
     "name": "stdout",
     "output_type": "stream",
     "text": [
      "p0: -7.694848072384611\n",
      "p1: -9.826714493730215\n",
      "['love', 'my', 'dalmation'] 属于非侮辱类\n"
     ]
    }
   ],
   "source": [
    "#测试样本1\n",
    "testVec1 = ['love','my', 'dalmation']\n",
    "testingNB(testVec1)"
   ]
  },
  {
   "cell_type": "code",
   "execution_count": 92,
   "metadata": {},
   "outputs": [
    {
     "name": "stdout",
     "output_type": "stream",
     "text": [
      "p0: -7.20934025660291\n",
      "p1: -4.702750514326955\n",
      "['stupid', 'garbage'] 属于侮辱类\n"
     ]
    }
   ],
   "source": [
    "#测试样本2\n",
    "testVec2 = ['stupid', 'garbage']\n",
    "testingNB(testVec2)"
   ]
  },
  {
   "cell_type": "code",
   "execution_count": null,
   "metadata": {},
   "outputs": [],
   "source": []
  },
  {
   "cell_type": "code",
   "execution_count": null,
   "metadata": {},
   "outputs": [],
   "source": []
  },
  {
   "cell_type": "code",
   "execution_count": null,
   "metadata": {},
   "outputs": [],
   "source": []
  },
  {
   "cell_type": "code",
   "execution_count": null,
   "metadata": {},
   "outputs": [],
   "source": []
  },
  {
   "cell_type": "code",
   "execution_count": null,
   "metadata": {},
   "outputs": [],
   "source": []
  }
 ],
 "metadata": {
  "kernelspec": {
   "display_name": "Python 3",
   "language": "python",
   "name": "python3"
  },
  "language_info": {
   "codemirror_mode": {
    "name": "ipython",
    "version": 3
   },
   "file_extension": ".py",
   "mimetype": "text/x-python",
   "name": "python",
   "nbconvert_exporter": "python",
   "pygments_lexer": "ipython3",
   "version": "3.8.5"
  }
 },
 "nbformat": 4,
 "nbformat_minor": 4
}
