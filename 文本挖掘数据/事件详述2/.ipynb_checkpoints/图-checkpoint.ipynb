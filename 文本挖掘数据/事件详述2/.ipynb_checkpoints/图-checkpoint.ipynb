{
 "cells": [
  {
   "cell_type": "code",
   "execution_count": null,
   "metadata": {},
   "outputs": [],
   "source": [
    "横坐标 支持度\n",
    "纵坐标 置信度\n",
    "七个车间  七个图标"
   ]
  },
  {
   "cell_type": "code",
   "execution_count": 1,
   "metadata": {},
   "outputs": [],
   "source": [
    "import pandas as pd\n",
    "import matplotlib.pyplot as plt\n",
    "import numpy as np\n",
    "%matplotlib inline"
   ]
  },
  {
   "cell_type": "code",
   "execution_count": 2,
   "metadata": {
    "scrolled": true
   },
   "outputs": [
    {
     "data": {
      "text/html": [
       "<div>\n",
       "<style scoped>\n",
       "    .dataframe tbody tr th:only-of-type {\n",
       "        vertical-align: middle;\n",
       "    }\n",
       "\n",
       "    .dataframe tbody tr th {\n",
       "        vertical-align: top;\n",
       "    }\n",
       "\n",
       "    .dataframe thead th {\n",
       "        text-align: right;\n",
       "    }\n",
       "</style>\n",
       "<table border=\"1\" class=\"dataframe\">\n",
       "  <thead>\n",
       "    <tr style=\"text-align: right;\">\n",
       "      <th></th>\n",
       "      <th>Unnamed: 0</th>\n",
       "      <th>Source</th>\n",
       "      <th>Target</th>\n",
       "      <th>support_data</th>\n",
       "      <th>conf</th>\n",
       "    </tr>\n",
       "  </thead>\n",
       "  <tbody>\n",
       "    <tr>\n",
       "      <th>0</th>\n",
       "      <td>0</td>\n",
       "      <td>失稳</td>\n",
       "      <td>机电车间</td>\n",
       "      <td>0.01107</td>\n",
       "      <td>0.117647</td>\n",
       "    </tr>\n",
       "    <tr>\n",
       "      <th>1</th>\n",
       "      <td>1</td>\n",
       "      <td>机电车间</td>\n",
       "      <td>割伤</td>\n",
       "      <td>0.02214</td>\n",
       "      <td>0.131868</td>\n",
       "    </tr>\n",
       "    <tr>\n",
       "      <th>2</th>\n",
       "      <td>2</td>\n",
       "      <td>割伤</td>\n",
       "      <td>机电车间</td>\n",
       "      <td>0.02214</td>\n",
       "      <td>0.122449</td>\n",
       "    </tr>\n",
       "    <tr>\n",
       "      <th>3</th>\n",
       "      <td>3</td>\n",
       "      <td>服务车间</td>\n",
       "      <td>机电车间</td>\n",
       "      <td>0.01845</td>\n",
       "      <td>0.136986</td>\n",
       "    </tr>\n",
       "    <tr>\n",
       "      <th>4</th>\n",
       "      <td>4</td>\n",
       "      <td>服务车间</td>\n",
       "      <td>机电车间</td>\n",
       "      <td>0.01845</td>\n",
       "      <td>0.136986</td>\n",
       "    </tr>\n",
       "    <tr>\n",
       "      <th>...</th>\n",
       "      <td>...</td>\n",
       "      <td>...</td>\n",
       "      <td>...</td>\n",
       "      <td>...</td>\n",
       "      <td>...</td>\n",
       "    </tr>\n",
       "    <tr>\n",
       "      <th>178</th>\n",
       "      <td>178</td>\n",
       "      <td>('船体车间', '砸伤')</td>\n",
       "      <td>滑落</td>\n",
       "      <td>0.01476</td>\n",
       "      <td>0.222222</td>\n",
       "    </tr>\n",
       "    <tr>\n",
       "      <th>179</th>\n",
       "      <td>179</td>\n",
       "      <td>砸伤</td>\n",
       "      <td>('船体车间', '滑落')</td>\n",
       "      <td>0.01476</td>\n",
       "      <td>0.129032</td>\n",
       "    </tr>\n",
       "    <tr>\n",
       "      <th>180</th>\n",
       "      <td>180</td>\n",
       "      <td>('船体车间', '脱落')</td>\n",
       "      <td>割伤</td>\n",
       "      <td>0.01476</td>\n",
       "      <td>0.210526</td>\n",
       "    </tr>\n",
       "    <tr>\n",
       "      <th>181</th>\n",
       "      <td>181</td>\n",
       "      <td>('割伤', '船体车间')</td>\n",
       "      <td>脱落</td>\n",
       "      <td>0.01476</td>\n",
       "      <td>0.117647</td>\n",
       "    </tr>\n",
       "    <tr>\n",
       "      <th>182</th>\n",
       "      <td>182</td>\n",
       "      <td>('割伤', '脱落')</td>\n",
       "      <td>船体车间</td>\n",
       "      <td>0.01476</td>\n",
       "      <td>0.800000</td>\n",
       "    </tr>\n",
       "  </tbody>\n",
       "</table>\n",
       "<p>183 rows × 5 columns</p>\n",
       "</div>"
      ],
      "text/plain": [
       "     Unnamed: 0          Source          Target  support_data      conf\n",
       "0             0              失稳            机电车间       0.01107  0.117647\n",
       "1             1            机电车间              割伤       0.02214  0.131868\n",
       "2             2              割伤            机电车间       0.02214  0.122449\n",
       "3             3            服务车间            机电车间       0.01845  0.136986\n",
       "4             4            服务车间            机电车间       0.01845  0.136986\n",
       "..          ...             ...             ...           ...       ...\n",
       "178         178  ('船体车间', '砸伤')              滑落       0.01476  0.222222\n",
       "179         179              砸伤  ('船体车间', '滑落')       0.01476  0.129032\n",
       "180         180  ('船体车间', '脱落')              割伤       0.01476  0.210526\n",
       "181         181  ('割伤', '船体车间')              脱落       0.01476  0.117647\n",
       "182         182    ('割伤', '脱落')            船体车间       0.01476  0.800000\n",
       "\n",
       "[183 rows x 5 columns]"
      ]
     },
     "execution_count": 2,
     "metadata": {},
     "output_type": "execute_result"
    }
   ],
   "source": [
    "data = pd.read_csv(r'E:\\基于文本挖掘的船舶建造事故致因分析\\Relate.csv',encoding='utf_8_sig')\n",
    "data"
   ]
  },
  {
   "cell_type": "code",
   "execution_count": null,
   "metadata": {},
   "outputs": [],
   "source": []
  },
  {
   "cell_type": "code",
   "execution_count": null,
   "metadata": {},
   "outputs": [],
   "source": [
    "from pyecharts import Radar\n",
    "import os\n",
    "plt.rcParams['font.sans-serif'] = 'SimHei'\n",
    "plt.rcParams['axes.unicode_minus'] = False\n",
    "# 使用ggplot的绘图风格，这个类似于美化了，可以通过plt.style.available查看可选值，你会发现其它的风格真的丑。。。\n",
    "plt.style.use('ggplot')\n",
    "#构造数据\n",
    "values = data['']\n",
    "\n",
    "angles = np.linspace(0,2*np.pi,len(values),endpoint=False)\n",
    "#拼接数据首尾，使图形中线条封闭\n",
    "values = np.concatenate(values,[values[0]])\n",
    "angles = np.concatenate(angles,[angles[0]])\n",
    "\n",
    "#绘图\n",
    "fig = plt.figure()\n",
    "# 绘制折线图\n",
    "ax = fig.add_subplot(111,polar=True)\n",
    "# 填充颜色\n",
    "ax.fill(angles,values,alpha=0.25)\n",
    "# 设置图标上的角度划分刻度，为每个数据点处添加标签\n",
    "ax.set_thetagrids(angles * 180/np.pi,feature)\n",
    "#设置雷达图的范围\n",
    "ax.set_ylim(0,5)\n",
    "#添加标题\n",
    "plt.title('船体车间事故致因项')\n",
    "ax.grid(True)\n",
    "plt.show()"
   ]
  },
  {
   "cell_type": "code",
   "execution_count": null,
   "metadata": {},
   "outputs": [],
   "source": []
  },
  {
   "cell_type": "code",
   "execution_count": null,
   "metadata": {},
   "outputs": [],
   "source": []
  },
  {
   "cell_type": "code",
   "execution_count": null,
   "metadata": {},
   "outputs": [],
   "source": [
    "plt.figure(figsize=(10,6),\n",
    "          dpi=80,\n",
    "          facecolor='w',\n",
    "          edgecolor='k')\n",
    "colors = ['red','blue','green','grey','orange','brown','pink']\n",
    "# labels=['船体车间','涂装车间', '机电车间', '服务车间', '起运车间', '船台工区', '舾装车间']\n",
    "\n",
    "\n",
    "x = data.support_data\n",
    "y = data.conf\n",
    "# for index in range(len(colors)):\n",
    "plt.scatter(x,y,alpha=0.5,cmap='brg')\n",
    "plt.xlabel('Support_data')\n",
    "plt.ylabel('Conf')\n",
    "plt.title('Scatter')\n",
    "# plt.legend(labels)"
   ]
  },
  {
   "cell_type": "code",
   "execution_count": null,
   "metadata": {},
   "outputs": [],
   "source": []
  },
  {
   "cell_type": "code",
   "execution_count": 16,
   "metadata": {},
   "outputs": [],
   "source": [
    "from pyecharts import options as opts\n",
    "from pyecharts.charts import Scatter\n",
    "from pyecharts.commons.utils import JsCode\n",
    "from pyecharts.faker import Faker\n",
    "\n",
    "c =(\n",
    "    Scatter()\n",
    "    .add_xaxis(Faker.choose())\n",
    "    .add_yaxis(\n",
    "                 'Lab A',\n",
    "                [list(z) for z in zip(Faker.values(),Faker.choose())],\n",
    "                label_opts=opts.LabelOpts(\n",
    "                                    formatter = JsCode(\n",
    "                                                        \"function(params){return params.value[1] +':'+ params.value[2];}\")\n",
    "                ),\n",
    "    )\n",
    "    .set_global_opts(\n",
    "            title_opts = opts.TitleOpts(title=\"Scatter-Scatter_multi_dimension\"),\n",
    "            tooltip_opts=opts.TooltipOpts(\n",
    "                            formatter=JsCode(\n",
    "                                                \"function(params){return params.name + ':'+ params.value[2];}\")\n",
    "            ),\n",
    "            visualmap_opts=opts.VisualMapOpts(\n",
    "                            type_='color',max_=150,min_=20,dimension=1),\n",
    "    )\n",
    "    .render(\"E:\\scatter_multi_dimension.html\"))"
   ]
  },
  {
   "cell_type": "code",
   "execution_count": null,
   "metadata": {},
   "outputs": [],
   "source": []
  },
  {
   "cell_type": "code",
   "execution_count": null,
   "metadata": {},
   "outputs": [],
   "source": []
  },
  {
   "cell_type": "code",
   "execution_count": null,
   "metadata": {},
   "outputs": [],
   "source": []
  },
  {
   "cell_type": "code",
   "execution_count": null,
   "metadata": {},
   "outputs": [],
   "source": []
  },
  {
   "cell_type": "code",
   "execution_count": null,
   "metadata": {},
   "outputs": [],
   "source": []
  },
  {
   "cell_type": "code",
   "execution_count": null,
   "metadata": {},
   "outputs": [],
   "source": []
  },
  {
   "cell_type": "code",
   "execution_count": null,
   "metadata": {},
   "outputs": [],
   "source": []
  },
  {
   "cell_type": "code",
   "execution_count": null,
   "metadata": {},
   "outputs": [],
   "source": []
  },
  {
   "cell_type": "code",
   "execution_count": null,
   "metadata": {},
   "outputs": [],
   "source": []
  },
  {
   "cell_type": "code",
   "execution_count": null,
   "metadata": {},
   "outputs": [],
   "source": []
  },
  {
   "cell_type": "code",
   "execution_count": null,
   "metadata": {},
   "outputs": [],
   "source": []
  },
  {
   "cell_type": "code",
   "execution_count": null,
   "metadata": {},
   "outputs": [],
   "source": []
  },
  {
   "cell_type": "code",
   "execution_count": null,
   "metadata": {},
   "outputs": [],
   "source": []
  },
  {
   "cell_type": "code",
   "execution_count": null,
   "metadata": {},
   "outputs": [],
   "source": []
  },
  {
   "cell_type": "code",
   "execution_count": null,
   "metadata": {},
   "outputs": [],
   "source": []
  }
 ],
 "metadata": {
  "kernelspec": {
   "display_name": "Python 3",
   "language": "python",
   "name": "python3"
  },
  "language_info": {
   "codemirror_mode": {
    "name": "ipython",
    "version": 3
   },
   "file_extension": ".py",
   "mimetype": "text/x-python",
   "name": "python",
   "nbconvert_exporter": "python",
   "pygments_lexer": "ipython3",
   "version": "3.8.5"
  }
 },
 "nbformat": 4,
 "nbformat_minor": 4
}
